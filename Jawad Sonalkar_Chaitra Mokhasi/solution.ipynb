{
 "cells": [
  {
   "cell_type": "code",
   "execution_count": 1,
   "id": "2d8a1f00-c046-4c3f-8f5d-122d9ca8468f",
   "metadata": {},
   "outputs": [],
   "source": [
    "import numpy as np\n",
    "import pandas as pd\n",
    "import matplotlib.pyplot as plt\n",
    "import seaborn as sns\n",
    "\n",
    "from sklearn.preprocessing import StandardScaler\n",
    "from sklearn.model_selection import train_test_split\n",
    "from sklearn.decomposition import PCA\n",
    "from imblearn.over_sampling import SMOTE\n",
    "\n",
    "from sklearn.linear_model import LogisticRegression\n",
    "from sklearn.tree import DecisionTreeClassifier\n",
    "from sklearn.model_selection import GridSearchCV\n",
    "from sklearn.ensemble import RandomForestClassifier\n",
    "import xgboost as xgb\n",
    "import sklearn.metrics as metrics\n",
    "\n",
    "import warnings\n",
    "warnings.filterwarnings(\"ignore\")"
   ]
  },
  {
   "cell_type": "code",
   "execution_count": 2,
   "id": "f0b2cadc-beb7-4676-94e5-1168f142b95a",
   "metadata": {},
   "outputs": [],
   "source": [
    "plt.style.use(\"ggplot\")"
   ]
  },
  {
   "cell_type": "markdown",
   "id": "8701c7f0-093b-448b-9dd7-8a9d8a751470",
   "metadata": {},
   "source": [
    "### 1. Data understanding and cleaning"
   ]
  },
  {
   "cell_type": "code",
   "execution_count": 3,
   "id": "a60fb69b-c8e3-4554-ad14-43f6a4d4ba9a",
   "metadata": {},
   "outputs": [],
   "source": [
    "data = pd.read_csv(\"train (1).csv\")"
   ]
  },
  {
   "cell_type": "code",
   "execution_count": 4,
   "id": "d19cfa13-95c4-4d8a-b8cd-6046d1fbddda",
   "metadata": {},
   "outputs": [
    {
     "name": "stdout",
     "output_type": "stream",
     "text": [
      "<class 'pandas.core.frame.DataFrame'>\n",
      "RangeIndex: 69999 entries, 0 to 69998\n",
      "Columns: 172 entries, id to churn_probability\n",
      "dtypes: float64(135), int64(28), object(9)\n",
      "memory usage: 91.9+ MB\n"
     ]
    }
   ],
   "source": [
    "data.info()"
   ]
  },
  {
   "cell_type": "code",
   "execution_count": 5,
   "id": "37fab067-25c0-4179-a804-adddd465a550",
   "metadata": {},
   "outputs": [
    {
     "data": {
      "text/html": [
       "<div>\n",
       "<style scoped>\n",
       "    .dataframe tbody tr th:only-of-type {\n",
       "        vertical-align: middle;\n",
       "    }\n",
       "\n",
       "    .dataframe tbody tr th {\n",
       "        vertical-align: top;\n",
       "    }\n",
       "\n",
       "    .dataframe thead th {\n",
       "        text-align: right;\n",
       "    }\n",
       "</style>\n",
       "<table border=\"1\" class=\"dataframe\">\n",
       "  <thead>\n",
       "    <tr style=\"text-align: right;\">\n",
       "      <th></th>\n",
       "      <th>id</th>\n",
       "      <th>circle_id</th>\n",
       "      <th>loc_og_t2o_mou</th>\n",
       "      <th>std_og_t2o_mou</th>\n",
       "      <th>loc_ic_t2o_mou</th>\n",
       "      <th>last_date_of_month_6</th>\n",
       "      <th>last_date_of_month_7</th>\n",
       "      <th>last_date_of_month_8</th>\n",
       "      <th>arpu_6</th>\n",
       "      <th>arpu_7</th>\n",
       "      <th>...</th>\n",
       "      <th>sachet_3g_7</th>\n",
       "      <th>sachet_3g_8</th>\n",
       "      <th>fb_user_6</th>\n",
       "      <th>fb_user_7</th>\n",
       "      <th>fb_user_8</th>\n",
       "      <th>aon</th>\n",
       "      <th>aug_vbc_3g</th>\n",
       "      <th>jul_vbc_3g</th>\n",
       "      <th>jun_vbc_3g</th>\n",
       "      <th>churn_probability</th>\n",
       "    </tr>\n",
       "  </thead>\n",
       "  <tbody>\n",
       "    <tr>\n",
       "      <th>0</th>\n",
       "      <td>0</td>\n",
       "      <td>109</td>\n",
       "      <td>0.0</td>\n",
       "      <td>0.0</td>\n",
       "      <td>0.0</td>\n",
       "      <td>6/30/2014</td>\n",
       "      <td>7/31/2014</td>\n",
       "      <td>8/31/2014</td>\n",
       "      <td>31.277</td>\n",
       "      <td>87.009</td>\n",
       "      <td>...</td>\n",
       "      <td>0</td>\n",
       "      <td>0</td>\n",
       "      <td>NaN</td>\n",
       "      <td>NaN</td>\n",
       "      <td>NaN</td>\n",
       "      <td>1958</td>\n",
       "      <td>0.0</td>\n",
       "      <td>0.0</td>\n",
       "      <td>0.0</td>\n",
       "      <td>0</td>\n",
       "    </tr>\n",
       "    <tr>\n",
       "      <th>1</th>\n",
       "      <td>1</td>\n",
       "      <td>109</td>\n",
       "      <td>0.0</td>\n",
       "      <td>0.0</td>\n",
       "      <td>0.0</td>\n",
       "      <td>6/30/2014</td>\n",
       "      <td>7/31/2014</td>\n",
       "      <td>8/31/2014</td>\n",
       "      <td>0.000</td>\n",
       "      <td>122.787</td>\n",
       "      <td>...</td>\n",
       "      <td>0</td>\n",
       "      <td>0</td>\n",
       "      <td>NaN</td>\n",
       "      <td>1.0</td>\n",
       "      <td>NaN</td>\n",
       "      <td>710</td>\n",
       "      <td>0.0</td>\n",
       "      <td>0.0</td>\n",
       "      <td>0.0</td>\n",
       "      <td>0</td>\n",
       "    </tr>\n",
       "    <tr>\n",
       "      <th>2</th>\n",
       "      <td>2</td>\n",
       "      <td>109</td>\n",
       "      <td>0.0</td>\n",
       "      <td>0.0</td>\n",
       "      <td>0.0</td>\n",
       "      <td>6/30/2014</td>\n",
       "      <td>7/31/2014</td>\n",
       "      <td>8/31/2014</td>\n",
       "      <td>60.806</td>\n",
       "      <td>103.176</td>\n",
       "      <td>...</td>\n",
       "      <td>0</td>\n",
       "      <td>0</td>\n",
       "      <td>NaN</td>\n",
       "      <td>NaN</td>\n",
       "      <td>NaN</td>\n",
       "      <td>882</td>\n",
       "      <td>0.0</td>\n",
       "      <td>0.0</td>\n",
       "      <td>0.0</td>\n",
       "      <td>0</td>\n",
       "    </tr>\n",
       "    <tr>\n",
       "      <th>3</th>\n",
       "      <td>3</td>\n",
       "      <td>109</td>\n",
       "      <td>0.0</td>\n",
       "      <td>0.0</td>\n",
       "      <td>0.0</td>\n",
       "      <td>6/30/2014</td>\n",
       "      <td>7/31/2014</td>\n",
       "      <td>8/31/2014</td>\n",
       "      <td>156.362</td>\n",
       "      <td>205.260</td>\n",
       "      <td>...</td>\n",
       "      <td>0</td>\n",
       "      <td>0</td>\n",
       "      <td>NaN</td>\n",
       "      <td>NaN</td>\n",
       "      <td>NaN</td>\n",
       "      <td>982</td>\n",
       "      <td>0.0</td>\n",
       "      <td>0.0</td>\n",
       "      <td>0.0</td>\n",
       "      <td>0</td>\n",
       "    </tr>\n",
       "    <tr>\n",
       "      <th>4</th>\n",
       "      <td>4</td>\n",
       "      <td>109</td>\n",
       "      <td>0.0</td>\n",
       "      <td>0.0</td>\n",
       "      <td>0.0</td>\n",
       "      <td>6/30/2014</td>\n",
       "      <td>7/31/2014</td>\n",
       "      <td>8/31/2014</td>\n",
       "      <td>240.708</td>\n",
       "      <td>128.191</td>\n",
       "      <td>...</td>\n",
       "      <td>1</td>\n",
       "      <td>0</td>\n",
       "      <td>1.0</td>\n",
       "      <td>1.0</td>\n",
       "      <td>1.0</td>\n",
       "      <td>647</td>\n",
       "      <td>0.0</td>\n",
       "      <td>0.0</td>\n",
       "      <td>0.0</td>\n",
       "      <td>0</td>\n",
       "    </tr>\n",
       "  </tbody>\n",
       "</table>\n",
       "<p>5 rows × 172 columns</p>\n",
       "</div>"
      ],
      "text/plain": [
       "   id  circle_id  loc_og_t2o_mou  std_og_t2o_mou  loc_ic_t2o_mou  \\\n",
       "0   0        109             0.0             0.0             0.0   \n",
       "1   1        109             0.0             0.0             0.0   \n",
       "2   2        109             0.0             0.0             0.0   \n",
       "3   3        109             0.0             0.0             0.0   \n",
       "4   4        109             0.0             0.0             0.0   \n",
       "\n",
       "  last_date_of_month_6 last_date_of_month_7 last_date_of_month_8   arpu_6  \\\n",
       "0            6/30/2014            7/31/2014            8/31/2014   31.277   \n",
       "1            6/30/2014            7/31/2014            8/31/2014    0.000   \n",
       "2            6/30/2014            7/31/2014            8/31/2014   60.806   \n",
       "3            6/30/2014            7/31/2014            8/31/2014  156.362   \n",
       "4            6/30/2014            7/31/2014            8/31/2014  240.708   \n",
       "\n",
       "    arpu_7  ...  sachet_3g_7  sachet_3g_8  fb_user_6  fb_user_7  fb_user_8  \\\n",
       "0   87.009  ...            0            0        NaN        NaN        NaN   \n",
       "1  122.787  ...            0            0        NaN        1.0        NaN   \n",
       "2  103.176  ...            0            0        NaN        NaN        NaN   \n",
       "3  205.260  ...            0            0        NaN        NaN        NaN   \n",
       "4  128.191  ...            1            0        1.0        1.0        1.0   \n",
       "\n",
       "    aon  aug_vbc_3g  jul_vbc_3g  jun_vbc_3g  churn_probability  \n",
       "0  1958         0.0         0.0         0.0                  0  \n",
       "1   710         0.0         0.0         0.0                  0  \n",
       "2   882         0.0         0.0         0.0                  0  \n",
       "3   982         0.0         0.0         0.0                  0  \n",
       "4   647         0.0         0.0         0.0                  0  \n",
       "\n",
       "[5 rows x 172 columns]"
      ]
     },
     "execution_count": 5,
     "metadata": {},
     "output_type": "execute_result"
    }
   ],
   "source": [
    "data.head()"
   ]
  },
  {
   "cell_type": "markdown",
   "id": "05bc27a8-6c7d-4aaf-959c-1197d683b7fd",
   "metadata": {},
   "source": [
    "#### Checking for null values"
   ]
  },
  {
   "cell_type": "code",
   "execution_count": 6,
   "id": "27c75bc3-ccf1-43d0-89d5-a230d1c59498",
   "metadata": {
    "tags": []
   },
   "outputs": [
    {
     "data": {
      "text/plain": [
       "arpu_3g_6                   74.902499\n",
       "count_rech_2g_6             74.902499\n",
       "night_pck_user_6            74.902499\n",
       "arpu_2g_6                   74.902499\n",
       "date_of_last_rech_data_6    74.902499\n",
       "                              ...    \n",
       "last_day_rch_amt_8           0.000000\n",
       "vol_2g_mb_6                  0.000000\n",
       "vol_2g_mb_7                  0.000000\n",
       "vol_2g_mb_8                  0.000000\n",
       "churn_probability            0.000000\n",
       "Length: 172, dtype: float64"
      ]
     },
     "execution_count": 6,
     "metadata": {},
     "output_type": "execute_result"
    }
   ],
   "source": [
    "(data.isna().sum() * 100 / len(data)).sort_values(ascending = False)"
   ]
  },
  {
   "cell_type": "markdown",
   "id": "a176b2b7-ed9b-4ee8-b78b-b3178ef7609b",
   "metadata": {},
   "source": [
    "Let's drop all the features having more than 70% of null values"
   ]
  },
  {
   "cell_type": "code",
   "execution_count": 7,
   "id": "7292c259-a3a3-416e-adf4-690974036adc",
   "metadata": {},
   "outputs": [],
   "source": [
    "data.dropna(thresh=len(data.index) * 0.7, axis=1, inplace=True)"
   ]
  },
  {
   "cell_type": "code",
   "execution_count": 8,
   "id": "cd3f3db8-5e1a-4f88-adf3-4cae45a76d62",
   "metadata": {},
   "outputs": [
    {
     "data": {
      "text/plain": [
       "(69999, 142)"
      ]
     },
     "execution_count": 8,
     "metadata": {},
     "output_type": "execute_result"
    }
   ],
   "source": [
    "data.shape"
   ]
  },
  {
   "cell_type": "markdown",
   "id": "6f058e2c-b14a-43c0-a1c8-d6f86614c051",
   "metadata": {
    "tags": []
   },
   "source": [
    "#### Dropping redundant feature"
   ]
  },
  {
   "cell_type": "markdown",
   "id": "7e458062-167b-4371-b6a6-0c34082c2205",
   "metadata": {},
   "source": [
    "##### Low variance feature"
   ]
  },
  {
   "cell_type": "code",
   "execution_count": 9,
   "id": "e6925419-5414-451a-96d0-539cb9bb0c4d",
   "metadata": {},
   "outputs": [
    {
     "data": {
      "text/plain": [
       "['circle_id',\n",
       " 'loc_og_t2o_mou',\n",
       " 'std_og_t2o_mou',\n",
       " 'loc_ic_t2o_mou',\n",
       " 'last_date_of_month_6',\n",
       " 'last_date_of_month_7',\n",
       " 'last_date_of_month_8',\n",
       " 'std_og_t2c_mou_6',\n",
       " 'std_og_t2c_mou_7',\n",
       " 'og_others_7',\n",
       " 'std_ic_t2o_mou_6',\n",
       " 'std_ic_t2o_mou_7',\n",
       " 'sachet_3g_6',\n",
       " 'sachet_3g_7',\n",
       " 'sachet_3g_8']"
      ]
     },
     "execution_count": 9,
     "metadata": {},
     "output_type": "execute_result"
    }
   ],
   "source": [
    "redundant_cols = []\n",
    "for col in data.columns:\n",
    "    counts = data[col].value_counts()\n",
    "    count_max = counts.iloc[0]\n",
    "    if count_max / len(data) * 100 > 95:\n",
    "        redundant_cols.append(col)\n",
    "redundant_cols"
   ]
  },
  {
   "cell_type": "code",
   "execution_count": 10,
   "id": "9f3a632b-b6fa-435e-98be-9afcaf102925",
   "metadata": {},
   "outputs": [
    {
     "data": {
      "text/plain": [
       "0.0    69297\n",
       "Name: loc_og_t2o_mou, dtype: int64"
      ]
     },
     "execution_count": 10,
     "metadata": {},
     "output_type": "execute_result"
    }
   ],
   "source": [
    "data.loc_og_t2o_mou.value_counts()"
   ]
  },
  {
   "cell_type": "code",
   "execution_count": 11,
   "id": "1bdaeb53-184a-40b7-81e5-91c9c855d001",
   "metadata": {},
   "outputs": [
    {
     "data": {
      "text/plain": [
       "109    69999\n",
       "Name: circle_id, dtype: int64"
      ]
     },
     "execution_count": 11,
     "metadata": {},
     "output_type": "execute_result"
    }
   ],
   "source": [
    "data.circle_id.value_counts()"
   ]
  },
  {
   "cell_type": "markdown",
   "id": "0b1072bd-1c49-4388-835f-662fd43aaba5",
   "metadata": {},
   "source": [
    "These values have very low variance and it does not contain any information, so lets drop these features"
   ]
  },
  {
   "cell_type": "code",
   "execution_count": 12,
   "id": "ef5d5f03-27e0-48fd-ae1e-74f50e7a8dcc",
   "metadata": {},
   "outputs": [],
   "source": [
    "data.drop(redundant_cols, axis=1, inplace=True)"
   ]
  },
  {
   "cell_type": "markdown",
   "id": "406a79f3-c1aa-48e8-b484-d992898b7470",
   "metadata": {},
   "source": [
    "##### Dropping id"
   ]
  },
  {
   "cell_type": "code",
   "execution_count": 13,
   "id": "206d2158-2fc4-4070-8f38-31499d3a54bc",
   "metadata": {},
   "outputs": [],
   "source": [
    "data.drop(\"id\", axis=1, inplace=True)"
   ]
  },
  {
   "cell_type": "code",
   "execution_count": 14,
   "id": "d5737e32-b137-4331-b4f0-2093ce68dacf",
   "metadata": {},
   "outputs": [
    {
     "name": "stdout",
     "output_type": "stream",
     "text": [
      "<class 'pandas.core.frame.DataFrame'>\n",
      "RangeIndex: 69999 entries, 0 to 69998\n",
      "Columns: 126 entries, arpu_6 to churn_probability\n",
      "dtypes: float64(100), int64(23), object(3)\n",
      "memory usage: 67.3+ MB\n"
     ]
    }
   ],
   "source": [
    "data.info()"
   ]
  },
  {
   "cell_type": "markdown",
   "id": "c8cdee76-bccc-4bf9-aa63-8400457102c7",
   "metadata": {},
   "source": [
    "#### Data transformation"
   ]
  },
  {
   "cell_type": "markdown",
   "id": "892ef15e-3036-481d-8e08-e3c8592279cf",
   "metadata": {
    "tags": []
   },
   "source": [
    "##### Lets have a look at the object types"
   ]
  },
  {
   "cell_type": "code",
   "execution_count": 15,
   "id": "356e5621-a504-49fe-b002-3bfeb5f20942",
   "metadata": {},
   "outputs": [
    {
     "data": {
      "text/plain": [
       "Index(['date_of_last_rech_6', 'date_of_last_rech_7', 'date_of_last_rech_8'], dtype='object')"
      ]
     },
     "execution_count": 15,
     "metadata": {},
     "output_type": "execute_result"
    }
   ],
   "source": [
    "data.select_dtypes('object').columns"
   ]
  },
  {
   "cell_type": "markdown",
   "id": "c7de6659-c10a-4256-8d4f-60f7f72a0040",
   "metadata": {},
   "source": [
    "These are all datetime fields."
   ]
  },
  {
   "cell_type": "code",
   "execution_count": 16,
   "id": "495f7381-ee6c-44ec-ad86-6a906d0f1483",
   "metadata": {},
   "outputs": [
    {
     "data": {
      "text/plain": [
       "2014.0    68898\n",
       "Name: date_of_last_rech_6, dtype: int64"
      ]
     },
     "execution_count": 16,
     "metadata": {},
     "output_type": "execute_result"
    }
   ],
   "source": [
    "pd.to_datetime(data['date_of_last_rech_6'], infer_datetime_format=True).dt.year.value_counts()"
   ]
  },
  {
   "cell_type": "code",
   "execution_count": 17,
   "id": "02f86c64-5e8b-46ae-97d0-71a177281a44",
   "metadata": {},
   "outputs": [
    {
     "data": {
      "text/plain": [
       "6.0    68898\n",
       "Name: date_of_last_rech_6, dtype: int64"
      ]
     },
     "execution_count": 17,
     "metadata": {},
     "output_type": "execute_result"
    }
   ],
   "source": [
    "pd.to_datetime(data['date_of_last_rech_6'], infer_datetime_format=True).dt.month.value_counts()"
   ]
  },
  {
   "cell_type": "markdown",
   "id": "bf40acec-6bd1-45a0-84c4-419e8b33b21d",
   "metadata": {},
   "source": [
    "For each of these fields month and year are the same, so we can remove them and just keep the day"
   ]
  },
  {
   "cell_type": "code",
   "execution_count": 18,
   "id": "fded8c94-c8c2-4e1f-b07c-a40559ed32d9",
   "metadata": {},
   "outputs": [],
   "source": [
    "data['date_of_last_rech_6'] = pd.to_datetime(data['date_of_last_rech_6'], infer_datetime_format=True).dt.day"
   ]
  },
  {
   "cell_type": "code",
   "execution_count": 19,
   "id": "f39b0b18-e8d2-4e9a-b34e-c6342c49fbcd",
   "metadata": {},
   "outputs": [],
   "source": [
    "data['date_of_last_rech_7'] = pd.to_datetime(data['date_of_last_rech_7'], infer_datetime_format=True).dt.day"
   ]
  },
  {
   "cell_type": "code",
   "execution_count": 20,
   "id": "98d52afa-dc15-41bb-bb45-a99a63735e6e",
   "metadata": {},
   "outputs": [],
   "source": [
    "data['date_of_last_rech_8'] = pd.to_datetime(data['date_of_last_rech_8'], infer_datetime_format=True).dt.day"
   ]
  },
  {
   "cell_type": "code",
   "execution_count": 21,
   "id": "993f2c90-b69c-46a0-93b9-648dda954d4f",
   "metadata": {},
   "outputs": [
    {
     "name": "stdout",
     "output_type": "stream",
     "text": [
      "<class 'pandas.core.frame.DataFrame'>\n",
      "RangeIndex: 69999 entries, 0 to 69998\n",
      "Columns: 126 entries, arpu_6 to churn_probability\n",
      "dtypes: float64(103), int64(23)\n",
      "memory usage: 67.3 MB\n"
     ]
    }
   ],
   "source": [
    "data.info()"
   ]
  },
  {
   "cell_type": "markdown",
   "id": "8188f731-11ae-4d96-bbed-a466c25b4f1a",
   "metadata": {},
   "source": [
    "##### Lets no replace all null values with median"
   ]
  },
  {
   "cell_type": "code",
   "execution_count": 22,
   "id": "d20d8910-51b2-4fc9-8c0a-73e1d2d4304c",
   "metadata": {},
   "outputs": [
    {
     "data": {
      "text/plain": [
       "std_ic_t2t_mou_8     5.290076\n",
       "loc_ic_t2t_mou_8     5.290076\n",
       "loc_og_mou_8         5.290076\n",
       "loc_ic_t2m_mou_8     5.290076\n",
       "loc_og_t2c_mou_8     5.290076\n",
       "                       ...   \n",
       "total_rech_amt_8     0.000000\n",
       "max_rech_amt_6       0.000000\n",
       "max_rech_amt_7       0.000000\n",
       "max_rech_amt_8       0.000000\n",
       "churn_probability    0.000000\n",
       "Length: 126, dtype: float64"
      ]
     },
     "execution_count": 22,
     "metadata": {},
     "output_type": "execute_result"
    }
   ],
   "source": [
    "(data.isna().sum() * 100 / len(data)).sort_values(ascending = False)"
   ]
  },
  {
   "cell_type": "code",
   "execution_count": 23,
   "id": "c2078654-eff7-4dc0-a18f-1f99cb689edc",
   "metadata": {},
   "outputs": [],
   "source": [
    "data.fillna(data.median(), inplace=True)"
   ]
  },
  {
   "cell_type": "code",
   "execution_count": 24,
   "id": "f8675c8b-c5d3-4113-b1de-10b3e5c01c49",
   "metadata": {},
   "outputs": [
    {
     "data": {
      "text/plain": [
       "arpu_6               0.0\n",
       "total_ic_mou_6       0.0\n",
       "total_rech_num_7     0.0\n",
       "total_rech_num_6     0.0\n",
       "ic_others_8          0.0\n",
       "                    ... \n",
       "std_og_t2f_mou_7     0.0\n",
       "std_og_t2f_mou_6     0.0\n",
       "std_og_t2m_mou_8     0.0\n",
       "std_og_t2m_mou_7     0.0\n",
       "churn_probability    0.0\n",
       "Length: 126, dtype: float64"
      ]
     },
     "execution_count": 24,
     "metadata": {},
     "output_type": "execute_result"
    }
   ],
   "source": [
    "(data.isna().sum() * 100 / len(data)).sort_values(ascending = False)"
   ]
  },
  {
   "cell_type": "markdown",
   "id": "cbefa7d8-2fcf-4954-b57f-52cc655d2b5f",
   "metadata": {},
   "source": [
    "#### Feature engineering"
   ]
  },
  {
   "cell_type": "markdown",
   "id": "b0c80967-4f12-47fd-a13b-f3c4b5a8de92",
   "metadata": {},
   "source": [
    "##### Adding column of average revenue per user for all three months"
   ]
  },
  {
   "cell_type": "code",
   "execution_count": 25,
   "id": "6e739acd-66b0-43a4-9cda-31acece0742e",
   "metadata": {},
   "outputs": [],
   "source": [
    "data[\"arpu\"] = (data[\"arpu_6\"] + data[\"arpu_7\"] + data[\"arpu_8\"] ) / 3"
   ]
  },
  {
   "cell_type": "code",
   "execution_count": 26,
   "id": "e89f02dd-42db-4022-b37e-3f07a027b3ab",
   "metadata": {},
   "outputs": [
    {
     "data": {
      "text/plain": [
       "count    69999.000000\n",
       "mean       280.059701\n",
       "std        310.243414\n",
       "min         13.426667\n",
       "50%        199.662667\n",
       "90%        584.719133\n",
       "95%        773.942000\n",
       "97%        920.071487\n",
       "98%       1050.861547\n",
       "max      32140.182000\n",
       "Name: arpu, dtype: float64"
      ]
     },
     "execution_count": 26,
     "metadata": {},
     "output_type": "execute_result"
    }
   ],
   "source": [
    "data[\"arpu\"].describe([0.9, 0.95, 0.97, 0.98])"
   ]
  },
  {
   "cell_type": "markdown",
   "id": "859e205d-bc48-4d6f-bbd9-db35e9b70c69",
   "metadata": {},
   "source": [
    "We can see that there are some really high value customers"
   ]
  },
  {
   "cell_type": "markdown",
   "id": "a7eb8131-6fdf-481f-b326-759a5298e91c",
   "metadata": {},
   "source": [
    "##### Adding column of total recharge done by customer for all three months"
   ]
  },
  {
   "cell_type": "code",
   "execution_count": 27,
   "id": "2dc2d5bc-575f-4cd1-8a9b-31eddd070aed",
   "metadata": {},
   "outputs": [],
   "source": [
    "data[\"total_rech_amt\"] = data[\"total_rech_amt_6\"] + data[\"total_rech_amt_7\"] + data[\"total_rech_amt_8\"]"
   ]
  },
  {
   "cell_type": "code",
   "execution_count": 28,
   "id": "75b5ec55-7eb5-481c-b179-86ae6f1e55d8",
   "metadata": {},
   "outputs": [
    {
     "data": {
      "text/plain": [
       "count     69999.000000\n",
       "mean        974.362505\n",
       "std        1106.099526\n",
       "min           0.000000\n",
       "50%         692.000000\n",
       "90%        2052.000000\n",
       "95%        2724.100000\n",
       "97%        3238.000000\n",
       "98%        3708.040000\n",
       "max      120845.000000\n",
       "Name: total_rech_amt, dtype: float64"
      ]
     },
     "execution_count": 28,
     "metadata": {},
     "output_type": "execute_result"
    }
   ],
   "source": [
    "data[\"total_rech_amt\"].describe([0.9, 0.95, 0.97, 0.98])"
   ]
  },
  {
   "cell_type": "markdown",
   "id": "bb41166f-cc0b-4089-ab22-5cbe4cb5666a",
   "metadata": {},
   "source": [
    "##### Adding total data usags"
   ]
  },
  {
   "cell_type": "code",
   "execution_count": 29,
   "id": "b5c59c4d-0dae-406f-8048-fd31c59e5a74",
   "metadata": {},
   "outputs": [],
   "source": [
    "data[\"total_vol_2g_3g\"] = data[\"vol_2g_mb_6\"] + data[\"vol_2g_mb_7\"] + data[\"vol_2g_mb_8\"] + data[\"vol_3g_mb_6\"] + data[\"vol_3g_mb_7\"] + data[\"vol_3g_mb_8\"]"
   ]
  },
  {
   "cell_type": "markdown",
   "id": "d303df08-e2bd-48fd-a44a-82a57f9e21ea",
   "metadata": {},
   "source": [
    "##### Adding total min of usage"
   ]
  },
  {
   "cell_type": "code",
   "execution_count": 30,
   "id": "4f0c902e-22fe-4a96-837a-5076c4910afc",
   "metadata": {},
   "outputs": [],
   "source": [
    "data[\"total_mou\"] = data[\"onnet_mou_6\"] + data[\"onnet_mou_7\"] + data[\"onnet_mou_8\"] + data[\"offnet_mou_6\"] + data[\"offnet_mou_7\"] + data[\"offnet_mou_8\"]"
   ]
  },
  {
   "cell_type": "markdown",
   "id": "26a1379e-3d65-4faa-b134-400342fcbdbc",
   "metadata": {},
   "source": [
    "##### Create High Value Customer data frame based on above two columns"
   ]
  },
  {
   "cell_type": "code",
   "execution_count": 31,
   "id": "9147a5ff-2d16-436d-9f6f-255410ce34d4",
   "metadata": {},
   "outputs": [],
   "source": [
    "data = data[ \n",
    "    (  data[\"arpu\"] < data[\"arpu\"].quantile(0.99) ) | \n",
    "    ( data[\"total_rech_amt\"] < data[\"total_rech_amt\"].quantile(0.99) ) ]"
   ]
  },
  {
   "cell_type": "code",
   "execution_count": 32,
   "id": "bbefea04-0ed7-43f8-92b9-8d09d42982da",
   "metadata": {},
   "outputs": [
    {
     "data": {
      "text/plain": [
       "(69363, 130)"
      ]
     },
     "execution_count": 32,
     "metadata": {},
     "output_type": "execute_result"
    }
   ],
   "source": [
    "data.shape"
   ]
  },
  {
   "cell_type": "markdown",
   "id": "f59fd9e1-5f14-476f-8e7f-d5096c3a3f2c",
   "metadata": {},
   "source": [
    "### 2. EDA"
   ]
  },
  {
   "cell_type": "code",
   "execution_count": 33,
   "id": "bd02bbe2-ec4b-4091-b18a-333bd3e360f3",
   "metadata": {},
   "outputs": [
    {
     "name": "stdout",
     "output_type": "stream",
     "text": [
      "<class 'pandas.core.frame.DataFrame'>\n",
      "Int64Index: 69363 entries, 0 to 69998\n",
      "Columns: 130 entries, arpu_6 to total_mou\n",
      "dtypes: float64(106), int64(24)\n",
      "memory usage: 69.3 MB\n"
     ]
    }
   ],
   "source": [
    "data.info()"
   ]
  },
  {
   "cell_type": "markdown",
   "id": "ff1a56d9-0869-4183-a49f-8e97cce9aff0",
   "metadata": {},
   "source": [
    "##### Target variable distribution"
   ]
  },
  {
   "cell_type": "code",
   "execution_count": 34,
   "id": "eb7288a3-408b-4b59-9fe4-1aae9c91f903",
   "metadata": {},
   "outputs": [
    {
     "data": {
      "text/plain": [
       "0    62271\n",
       "1     7092\n",
       "Name: churn_probability, dtype: int64"
      ]
     },
     "execution_count": 34,
     "metadata": {},
     "output_type": "execute_result"
    }
   ],
   "source": [
    "data.churn_probability.value_counts()"
   ]
  },
  {
   "cell_type": "code",
   "execution_count": 35,
   "id": "60b433ed-0d27-44a1-bc81-c6b33313daa1",
   "metadata": {},
   "outputs": [
    {
     "data": {
      "image/png": "[encoded data removed]",
      "text/plain": [
       "<Figure size 432x288 with 1 Axes>"
      ]
     },
     "metadata": {},
     "output_type": "display_data"
    }
   ],
   "source": [
    "sns.barplot(data=data[\"churn_probability\"].value_counts(normalize=True).reset_index(),\n",
    "            x=\"index\", y=\"churn_probability\")\n",
    "plt.xlabel(\"Churn probability\")\n",
    "plt.ylabel(\"Proportion\")\n",
    "plt.show()"
   ]
  },
  {
   "cell_type": "markdown",
   "id": "b846a46f-f234-454c-bf00-06d66ce51eb2",
   "metadata": {},
   "source": [
    "The distribution of churn and not churn is clearly not equally distributed"
   ]
  },
  {
   "cell_type": "markdown",
   "id": "6d24e607-6cfd-4ed4-a51d-ae34fff0df35",
   "metadata": {},
   "source": [
    "##### Relationship of target variable and total_rech_amt"
   ]
  },
  {
   "cell_type": "code",
   "execution_count": 36,
   "id": "6092bd64-06b8-4578-aa21-3d7e4c209a53",
   "metadata": {},
   "outputs": [
    {
     "data": {
      "text/plain": [
       "<AxesSubplot:xlabel='churn_probability', ylabel='total_rech_amt'>"
      ]
     },
     "execution_count": 36,
     "metadata": {},
     "output_type": "execute_result"
    },
    {
     "data": {
      "image/png": "[encoded data removed]",
      "text/plain": [
       "<Figure size 432x288 with 1 Axes>"
      ]
     },
     "metadata": {},
     "output_type": "display_data"
    }
   ],
   "source": [
    "sns.boxplot(data=data, x=\"churn_probability\", y=\"total_rech_amt\")"
   ]
  },
  {
   "cell_type": "code",
   "execution_count": 37,
   "id": "3565a6f7-6c18-4308-abe0-67dc1bcd9b16",
   "metadata": {},
   "outputs": [
    {
     "data": {
      "image/png": "[encoded data removed]",
      "text/plain": [
       "<Figure size 432x288 with 1 Axes>"
      ]
     },
     "metadata": {},
     "output_type": "display_data"
    }
   ],
   "source": [
    "labels = ['June', 'July', 'August']\n",
    "x = np.arange(len(labels))  # the label locations\n",
    "width = 0.40  # the width of the bars\n",
    "\n",
    "churn_df = data[data[\"churn_probability\"] == 1]\n",
    "non_churn_df = data[data[\"churn_probability\"] == 0]\n",
    "\n",
    "churn_1 = [ (churn_df[\"total_rech_amt_6\"]).median(),\n",
    "           (churn_df[\"total_rech_amt_7\"]).median(),\n",
    "           (churn_df[\"total_rech_amt_8\"]).median()]\n",
    "\n",
    "churn_2 = [ (non_churn_df[\"total_rech_amt_6\"]).median(),\n",
    "           (non_churn_df[\"total_rech_amt_7\"]).median(),\n",
    "           (non_churn_df[\"total_rech_amt_8\"]).median()]\n",
    "\n",
    "fig, ax = plt.subplots()\n",
    "rects1 = ax.bar(x - width/2, churn_1, width, label='Churn')\n",
    "rects2 = ax.bar(x + width/2, churn_2, width, label='Not Churn')\n",
    "\n",
    "# Add some text for labels, title and custom x-axis tick labels, etc.\n",
    "ax.set_ylabel('Average Revenue')\n",
    "ax.set_title('Months vs Average Revenue')\n",
    "ax.legend()\n",
    "plt.xticks(x, labels)\n",
    "\n",
    "# ax.bar_label(rects1, padding=3)\n",
    "# ax.bar_label(rects2, padding=3)\n",
    "\n",
    "fig.tight_layout()\n",
    "\n",
    "plt.show()"
   ]
  },
  {
   "cell_type": "markdown",
   "id": "c55fc3fd-779f-4297-aee6-63938d2a0bb5",
   "metadata": {},
   "source": [
    "We can see from here that if customer is recharging less consecutively from june to july to august he/she is more likely to churn"
   ]
  },
  {
   "cell_type": "markdown",
   "id": "de9e32b5-7018-4ad9-a287-fa6f441d217f",
   "metadata": {},
   "source": [
    "##### Relationship of target variable and arpu"
   ]
  },
  {
   "cell_type": "code",
   "execution_count": 38,
   "id": "db25b2a4-5cc3-4e0b-b766-3ab3251e4b94",
   "metadata": {},
   "outputs": [
    {
     "data": {
      "text/plain": [
       "<AxesSubplot:xlabel='churn_probability', ylabel='arpu'>"
      ]
     },
     "execution_count": 38,
     "metadata": {},
     "output_type": "execute_result"
    },
    {
     "data": {
      "image/png": "[encoded data removed]",
      "text/plain": [
       "<Figure size 432x288 with 1 Axes>"
      ]
     },
     "metadata": {},
     "output_type": "display_data"
    }
   ],
   "source": [
    "sns.boxplot(data=data, x=\"churn_probability\", y=\"arpu\")"
   ]
  },
  {
   "cell_type": "code",
   "execution_count": 39,
   "id": "fd6a99b2-ffbf-47d3-8230-f5b28c3d6e23",
   "metadata": {},
   "outputs": [
    {
     "data": {
      "image/png": "[encoded data removed]",
      "text/plain": [
       "<Figure size 432x288 with 1 Axes>"
      ]
     },
     "metadata": {},
     "output_type": "display_data"
    }
   ],
   "source": [
    "labels = ['June', 'July', 'August']\n",
    "x = np.arange(len(labels))  # the label locations\n",
    "width = 0.40  # the width of the bars\n",
    "\n",
    "churn_df = data[data[\"churn_probability\"] == 1]\n",
    "non_churn_df = data[data[\"churn_probability\"] == 0]\n",
    "\n",
    "churn_1 = [ (churn_df[\"arpu_6\"]).median(),\n",
    "           (churn_df[\"arpu_7\"]).median(),\n",
    "           (churn_df[\"arpu_8\"]).median()]\n",
    "\n",
    "churn_2 = [ (non_churn_df[\"arpu_6\"]).median(),\n",
    "           (non_churn_df[\"arpu_7\"]).median(),\n",
    "           (non_churn_df[\"arpu_8\"]).median()]\n",
    "\n",
    "fig, ax = plt.subplots()\n",
    "rects1 = ax.bar(x - width/2, churn_1, width, label='Churn')\n",
    "rects2 = ax.bar(x + width/2, churn_2, width, label='Not Churn')\n",
    "\n",
    "# Add some text for labels, title and custom x-axis tick labels, etc.\n",
    "ax.set_ylabel('Average Revenue')\n",
    "ax.set_title('Months vs Average Revenue')\n",
    "ax.legend()\n",
    "plt.xticks(x, labels)\n",
    "\n",
    "# ax.bar_label(rects1, padding=3)\n",
    "# ax.bar_label(rects2, padding=3)\n",
    "\n",
    "fig.tight_layout()\n",
    "\n",
    "plt.show()"
   ]
  },
  {
   "cell_type": "markdown",
   "id": "e506c4b6-5858-4abf-b02c-6550c317f660",
   "metadata": {},
   "source": [
    "Similarly if the revenue of the customer is descreasing month over month, she/he is likely to churn"
   ]
  },
  {
   "cell_type": "markdown",
   "id": "0be72247-3345-4f56-bf30-df307ff1f47a",
   "metadata": {},
   "source": [
    "##### Target variable with data volume consumed"
   ]
  },
  {
   "cell_type": "code",
   "execution_count": 40,
   "id": "14f5f017-88bc-4491-9da2-c4af863b22a0",
   "metadata": {},
   "outputs": [
    {
     "data": {
      "text/plain": [
       "<AxesSubplot:xlabel='churn_probability', ylabel='total_vol_2g_3g'>"
      ]
     },
     "execution_count": 40,
     "metadata": {},
     "output_type": "execute_result"
    },
    {
     "data": {
      "image/png": "[encoded data removed]",
      "text/plain": [
       "<Figure size 576x432 with 1 Axes>"
      ]
     },
     "metadata": {},
     "output_type": "display_data"
    }
   ],
   "source": [
    "plt.figure(figsize=(8, 6))\n",
    "sns.boxplot(data=data, x=\"churn_probability\", y=\"total_vol_2g_3g\")"
   ]
  },
  {
   "cell_type": "code",
   "execution_count": 41,
   "id": "7c826525-aadb-4d67-810f-5de3a8d5018f",
   "metadata": {},
   "outputs": [
    {
     "data": {
      "image/png": "[encoded data removed]",
      "text/plain": [
       "<Figure size 432x288 with 1 Axes>"
      ]
     },
     "metadata": {},
     "output_type": "display_data"
    }
   ],
   "source": [
    "labels = ['June', 'July', 'August']\n",
    "x = np.arange(len(labels))  # the label locations\n",
    "width = 0.40  # the width of the bars\n",
    "\n",
    "churn_df = data[data[\"churn_probability\"] == 1]\n",
    "non_churn_df = data[data[\"churn_probability\"] == 0]\n",
    "\n",
    "churn_1 = [ (churn_df[\"vol_3g_mb_6\"] + churn_df[\"vol_2g_mb_6\"]).mean(),\n",
    "           (churn_df[\"vol_3g_mb_7\"] + churn_df[\"vol_2g_mb_7\"]).mean(),\n",
    "           (churn_df[\"vol_3g_mb_8\"] + churn_df[\"vol_2g_mb_8\"]).mean()]\n",
    "\n",
    "churn_2 = [ (non_churn_df[\"vol_3g_mb_6\"] + non_churn_df[\"vol_2g_mb_6\"]).mean(),\n",
    "           (non_churn_df[\"vol_3g_mb_7\"] + non_churn_df[\"vol_2g_mb_7\"]).mean(),\n",
    "           (non_churn_df[\"vol_3g_mb_8\"] + non_churn_df[\"vol_2g_mb_8\"]).mean()]\n",
    "\n",
    "fig, ax = plt.subplots()\n",
    "rects1 = ax.bar(x - width/2, churn_1, width, label='Churn')\n",
    "rects2 = ax.bar(x + width/2, churn_2, width, label='Not Churn')\n",
    "\n",
    "# Add some text for labels, title and custom x-axis tick labels, etc.\n",
    "ax.set_ylabel('Mean MOU')\n",
    "ax.set_title('Months vs Data Volume Consumed')\n",
    "ax.legend()\n",
    "plt.xticks(x, labels)\n",
    "\n",
    "# ax.bar_label(rects1, padding=3)\n",
    "# ax.bar_label(rects2, padding=3)\n",
    "\n",
    "fig.tight_layout()\n",
    "\n",
    "plt.show()"
   ]
  },
  {
   "cell_type": "markdown",
   "id": "98c9c370-545e-4940-b8e5-b205f955b3a1",
   "metadata": {},
   "source": [
    "Trend is low data consumption customers are likely to churn"
   ]
  },
  {
   "cell_type": "markdown",
   "id": "80978be4-9b4a-4799-82da-46a0b69a3274",
   "metadata": {},
   "source": [
    "##### Churn vs last recharge"
   ]
  },
  {
   "cell_type": "code",
   "execution_count": 42,
   "id": "3da7b623-b48e-4459-bfd8-efa6d5bef5ed",
   "metadata": {},
   "outputs": [
    {
     "data": {
      "text/plain": [
       "<AxesSubplot:xlabel='churn_probability', ylabel='date_of_last_rech_8'>"
      ]
     },
     "execution_count": 42,
     "metadata": {},
     "output_type": "execute_result"
    },
    {
     "data": {
      "image/png": "[encoded data removed]",
      "text/plain": [
       "<Figure size 432x288 with 1 Axes>"
      ]
     },
     "metadata": {},
     "output_type": "display_data"
    }
   ],
   "source": [
    "sns.boxplot(data=data, x=\"churn_probability\", y=\"date_of_last_rech_8\")"
   ]
  },
  {
   "cell_type": "markdown",
   "id": "e1e25153-2ceb-4e79-805a-c74302a22480",
   "metadata": {},
   "source": [
    "Not a significance difference, but if a customer has not recharged lately, then she/he is likely to churn"
   ]
  },
  {
   "cell_type": "markdown",
   "id": "6f67fe15-781e-444f-b188-0b299c91f6fa",
   "metadata": {},
   "source": [
    "##### Target and age on network"
   ]
  },
  {
   "cell_type": "code",
   "execution_count": 43,
   "id": "f91f1397-d08d-42aa-911f-3f3c17ace00a",
   "metadata": {},
   "outputs": [
    {
     "data": {
      "text/plain": [
       "<AxesSubplot:xlabel='churn_probability', ylabel='aon'>"
      ]
     },
     "execution_count": 43,
     "metadata": {},
     "output_type": "execute_result"
    },
    {
     "data": {
      "image/png": "[encoded data removed]",
      "text/plain": [
       "<Figure size 432x288 with 1 Axes>"
      ]
     },
     "metadata": {},
     "output_type": "display_data"
    }
   ],
   "source": [
    "sns.boxplot(data=data, x=\"churn_probability\", y=\"aon\")"
   ]
  },
  {
   "cell_type": "markdown",
   "id": "e3b8f2b6-9df8-428b-9fac-b2d7d624ac95",
   "metadata": {},
   "source": [
    "Here we can see if user age on the network is more, he/she is less likely to churn"
   ]
  },
  {
   "cell_type": "markdown",
   "id": "c51586b0-706f-47ca-8950-b963239fc26b",
   "metadata": {},
   "source": [
    "##### Churn vs min usages"
   ]
  },
  {
   "cell_type": "code",
   "execution_count": 44,
   "id": "4c78a488-01bb-40f1-94a3-682bb5ef0ef7",
   "metadata": {},
   "outputs": [
    {
     "data": {
      "text/plain": [
       "<AxesSubplot:xlabel='churn_probability', ylabel='total_mou'>"
      ]
     },
     "execution_count": 44,
     "metadata": {},
     "output_type": "execute_result"
    },
    {
     "data": {
      "image/png": "[encoded data removed]",
      "text/plain": [
       "<Figure size 432x288 with 1 Axes>"
      ]
     },
     "metadata": {},
     "output_type": "display_data"
    }
   ],
   "source": [
    "sns.boxplot(data=data, x=\"churn_probability\", y=\"total_mou\")"
   ]
  },
  {
   "cell_type": "markdown",
   "id": "8aa10de4-bedc-4122-b565-e3550733b223",
   "metadata": {},
   "source": [
    "We can see much difference, let see in details month wise"
   ]
  },
  {
   "cell_type": "code",
   "execution_count": 45,
   "id": "475b11ad-af36-4490-886c-25509d115a17",
   "metadata": {},
   "outputs": [
    {
     "data": {
      "image/png": "[encoded data removed]",
      "text/plain": [
       "<Figure size 432x288 with 1 Axes>"
      ]
     },
     "metadata": {},
     "output_type": "display_data"
    }
   ],
   "source": [
    "labels = ['June', 'July', 'August']\n",
    "x = np.arange(len(labels))  # the label locations\n",
    "width = 0.40  # the width of the bars\n",
    "\n",
    "churn_df = data[data[\"churn_probability\"] == 1]\n",
    "non_churn_df = data[data[\"churn_probability\"] == 0]\n",
    "\n",
    "churn_1 = [ (churn_df[\"onnet_mou_6\"] + churn_df[\"offnet_mou_6\"]).median(),\n",
    "           (churn_df[\"onnet_mou_7\"] + churn_df[\"offnet_mou_7\"]).median(),\n",
    "           (churn_df[\"onnet_mou_8\"] + churn_df[\"offnet_mou_8\"]).median()]\n",
    "\n",
    "churn_2 = [ (non_churn_df[\"onnet_mou_6\"] + non_churn_df[\"offnet_mou_6\"]).median(),\n",
    "           (non_churn_df[\"onnet_mou_7\"] + non_churn_df[\"offnet_mou_7\"]).median(),\n",
    "           (non_churn_df[\"onnet_mou_8\"] + non_churn_df[\"offnet_mou_8\"]).median()]\n",
    "\n",
    "fig, ax = plt.subplots()\n",
    "rects1 = ax.bar(x - width/2, churn_1, width, label='Churn')\n",
    "rects2 = ax.bar(x + width/2, churn_2, width, label='Not Churn')\n",
    "\n",
    "# Add some text for labels, title and custom x-axis tick labels, etc.\n",
    "ax.set_ylabel('Total Median MOU')\n",
    "ax.set_title('Months vs Total MOU')\n",
    "ax.legend()\n",
    "plt.xticks(x, labels)\n",
    "\n",
    "# ax.bar_label(rects1, padding=3)\n",
    "# ax.bar_label(rects2, padding=3)\n",
    "\n",
    "fig.tight_layout()\n",
    "\n",
    "plt.show()"
   ]
  },
  {
   "cell_type": "markdown",
   "id": "cce04de7-77e1-494e-959f-cc4301b126ec",
   "metadata": {},
   "source": [
    "Here we can see that if usage is declining the customer is likely to churn"
   ]
  },
  {
   "cell_type": "markdown",
   "id": "724aa8f3-f591-4840-b043-a5fb9b16a886",
   "metadata": {},
   "source": [
    "**Performing EDA gave us following insights**\n",
    "- If customer is recharging less month on month he/she is likely to churn\n",
    "- If customer's revenue is decreasing month on month he/she is likely to churn\n",
    "- Customer consuming less internet data is likely to churn\n",
    "- If is a customer has not done recharge lately, he/she might end up churning\n",
    "- Customer who is using the network for long enough is not likely to churn\n",
    "- If total voice call usage is declining month over month customer will likely churn"
   ]
  },
  {
   "cell_type": "markdown",
   "id": "8ad91952-4627-416f-a582-9a74f9cfa9de",
   "metadata": {},
   "source": [
    "## 3. Data preparation"
   ]
  },
  {
   "cell_type": "markdown",
   "id": "e030efe2-a496-4eb8-b625-0c7ed72c4810",
   "metadata": {},
   "source": [
    "##### Checking for correlation"
   ]
  },
  {
   "cell_type": "code",
   "execution_count": 46,
   "id": "51f7c6be-0509-4a11-a60c-49e688b17952",
   "metadata": {},
   "outputs": [
    {
     "data": {
      "text/plain": [
       "total_ic_mou_8    loc_ic_t2m_mou_7    0.602712\n",
       "std_og_t2m_mou_8  offnet_mou_7        0.605349\n",
       "total_vol_2g_3g   jul_vbc_3g          0.605787\n",
       "std_ic_mou_6      std_ic_t2m_mou_7    0.606345\n",
       "monthly_3g_8      vol_3g_mb_8         0.607377\n",
       "                                        ...   \n",
       "total_mou         total_og_mou_7      0.920315\n",
       "total_rech_amt_6  arpu_6              0.927123\n",
       "total_rech_amt_7  arpu_7              0.928217\n",
       "total_rech_amt_8  arpu_8              0.932994\n",
       "total_rech_amt    arpu                0.979842\n",
       "Length: 229, dtype: float64"
      ]
     },
     "execution_count": 46,
     "metadata": {},
     "output_type": "execute_result"
    }
   ],
   "source": [
    "cor = data.corr()\n",
    "cor.loc[:,:] = np.tril(cor, k=-1)\n",
    "cor = cor.stack()\n",
    "cor[(cor > 0.60) | (cor < -0.60)].sort_values()"
   ]
  },
  {
   "cell_type": "markdown",
   "id": "522d15f7-53d5-4e58-9f22-70ffb4d0c7fd",
   "metadata": {},
   "source": [
    "There are quiet a few number of correlated features but we'll not remove those, as we'll go ahead and do PCA"
   ]
  },
  {
   "cell_type": "code",
   "execution_count": 47,
   "id": "81dd5bff-27df-4b28-bfa4-b5be9e00ce92",
   "metadata": {},
   "outputs": [
    {
     "name": "stdout",
     "output_type": "stream",
     "text": [
      "<class 'pandas.core.frame.DataFrame'>\n",
      "Int64Index: 69363 entries, 0 to 69998\n",
      "Columns: 130 entries, arpu_6 to total_mou\n",
      "dtypes: float64(106), int64(24)\n",
      "memory usage: 71.3 MB\n"
     ]
    }
   ],
   "source": [
    "data.info()"
   ]
  },
  {
   "cell_type": "markdown",
   "id": "f6a03059-68c0-49bb-a8e9-e47a562908aa",
   "metadata": {},
   "source": [
    "#### Splitting and scaling the data"
   ]
  },
  {
   "cell_type": "code",
   "execution_count": 48,
   "id": "17cb3686-10fa-487d-8a10-4105781405fe",
   "metadata": {},
   "outputs": [],
   "source": [
    "y = data.pop(\"churn_probability\")\n",
    "X = data"
   ]
  },
  {
   "cell_type": "code",
   "execution_count": 49,
   "id": "cb028516-174e-4506-89d0-03b07eb688aa",
   "metadata": {},
   "outputs": [],
   "source": [
    "sm = SMOTE(random_state=100)\n",
    "X, y = sm.fit_resample(X, y)"
   ]
  },
  {
   "cell_type": "code",
   "execution_count": 50,
   "id": "cf3a540a-6f6f-446a-b32b-71206e9366d0",
   "metadata": {},
   "outputs": [],
   "source": [
    "X_train, X_test, y_train, y_test = train_test_split(X, y, test_size=0.3, train_size=0.7, \n",
    "                                                    random_state=1)"
   ]
  },
  {
   "cell_type": "code",
   "execution_count": 51,
   "id": "c19dff12-6d6c-4e41-a15e-bbf95a806a03",
   "metadata": {},
   "outputs": [],
   "source": [
    "scaler = StandardScaler()"
   ]
  },
  {
   "cell_type": "code",
   "execution_count": 52,
   "id": "79ba7883-697c-49a4-b504-adc504d4566f",
   "metadata": {},
   "outputs": [],
   "source": [
    "X_train = scaler.fit_transform(X_train)"
   ]
  },
  {
   "cell_type": "code",
   "execution_count": 53,
   "id": "32ef5d44-4fab-4ca8-ad3c-c1d121f1f7f4",
   "metadata": {},
   "outputs": [
    {
     "data": {
      "text/html": [
       "<div>\n",
       "<style scoped>\n",
       "    .dataframe tbody tr th:only-of-type {\n",
       "        vertical-align: middle;\n",
       "    }\n",
       "\n",
       "    .dataframe tbody tr th {\n",
       "        vertical-align: top;\n",
       "    }\n",
       "\n",
       "    .dataframe thead th {\n",
       "        text-align: right;\n",
       "    }\n",
       "</style>\n",
       "<table border=\"1\" class=\"dataframe\">\n",
       "  <thead>\n",
       "    <tr style=\"text-align: right;\">\n",
       "      <th></th>\n",
       "      <th>0</th>\n",
       "      <th>1</th>\n",
       "      <th>2</th>\n",
       "      <th>3</th>\n",
       "      <th>4</th>\n",
       "      <th>5</th>\n",
       "      <th>6</th>\n",
       "      <th>7</th>\n",
       "      <th>8</th>\n",
       "      <th>9</th>\n",
       "      <th>...</th>\n",
       "      <th>119</th>\n",
       "      <th>120</th>\n",
       "      <th>121</th>\n",
       "      <th>122</th>\n",
       "      <th>123</th>\n",
       "      <th>124</th>\n",
       "      <th>125</th>\n",
       "      <th>126</th>\n",
       "      <th>127</th>\n",
       "      <th>128</th>\n",
       "    </tr>\n",
       "  </thead>\n",
       "  <tbody>\n",
       "    <tr>\n",
       "      <th>0</th>\n",
       "      <td>-0.055644</td>\n",
       "      <td>-0.062304</td>\n",
       "      <td>-0.020227</td>\n",
       "      <td>-0.369595</td>\n",
       "      <td>-0.377434</td>\n",
       "      <td>-0.357581</td>\n",
       "      <td>-0.313915</td>\n",
       "      <td>-0.419387</td>\n",
       "      <td>-0.479897</td>\n",
       "      <td>-0.101425</td>\n",
       "      <td>...</td>\n",
       "      <td>3.322007</td>\n",
       "      <td>3.496675</td>\n",
       "      <td>0.206947</td>\n",
       "      <td>-0.083066</td>\n",
       "      <td>0.453487</td>\n",
       "      <td>-0.219859</td>\n",
       "      <td>-0.057828</td>\n",
       "      <td>0.143042</td>\n",
       "      <td>0.926582</td>\n",
       "      <td>-0.589567</td>\n",
       "    </tr>\n",
       "    <tr>\n",
       "      <th>1</th>\n",
       "      <td>-0.277561</td>\n",
       "      <td>-0.835319</td>\n",
       "      <td>-0.786455</td>\n",
       "      <td>0.761022</td>\n",
       "      <td>-0.427423</td>\n",
       "      <td>-0.403896</td>\n",
       "      <td>-0.411897</td>\n",
       "      <td>-0.594353</td>\n",
       "      <td>-0.601685</td>\n",
       "      <td>-0.168874</td>\n",
       "      <td>...</td>\n",
       "      <td>-0.177464</td>\n",
       "      <td>-0.172651</td>\n",
       "      <td>-0.837117</td>\n",
       "      <td>-0.208839</td>\n",
       "      <td>-0.218079</td>\n",
       "      <td>-0.219859</td>\n",
       "      <td>-0.767266</td>\n",
       "      <td>-0.745295</td>\n",
       "      <td>-0.326169</td>\n",
       "      <td>-0.390001</td>\n",
       "    </tr>\n",
       "    <tr>\n",
       "      <th>2</th>\n",
       "      <td>-0.553088</td>\n",
       "      <td>-0.076844</td>\n",
       "      <td>-0.521636</td>\n",
       "      <td>0.030361</td>\n",
       "      <td>0.391223</td>\n",
       "      <td>-0.242137</td>\n",
       "      <td>-0.610605</td>\n",
       "      <td>-0.361707</td>\n",
       "      <td>-0.544367</td>\n",
       "      <td>-0.175238</td>\n",
       "      <td>...</td>\n",
       "      <td>-0.177464</td>\n",
       "      <td>-0.172651</td>\n",
       "      <td>-0.928301</td>\n",
       "      <td>-0.208839</td>\n",
       "      <td>-0.218079</td>\n",
       "      <td>-0.219859</td>\n",
       "      <td>-0.476142</td>\n",
       "      <td>-0.590743</td>\n",
       "      <td>-0.303253</td>\n",
       "      <td>-0.333646</td>\n",
       "    </tr>\n",
       "    <tr>\n",
       "      <th>3</th>\n",
       "      <td>2.197696</td>\n",
       "      <td>-0.162489</td>\n",
       "      <td>-0.785959</td>\n",
       "      <td>-0.443543</td>\n",
       "      <td>-0.424808</td>\n",
       "      <td>-0.331749</td>\n",
       "      <td>-0.444458</td>\n",
       "      <td>-0.541236</td>\n",
       "      <td>-0.393608</td>\n",
       "      <td>-0.105502</td>\n",
       "      <td>...</td>\n",
       "      <td>-0.177464</td>\n",
       "      <td>-0.172651</td>\n",
       "      <td>-0.824579</td>\n",
       "      <td>-0.208839</td>\n",
       "      <td>-0.218079</td>\n",
       "      <td>-0.219859</td>\n",
       "      <td>0.599429</td>\n",
       "      <td>0.589227</td>\n",
       "      <td>-0.326169</td>\n",
       "      <td>-0.668467</td>\n",
       "    </tr>\n",
       "    <tr>\n",
       "      <th>4</th>\n",
       "      <td>0.360007</td>\n",
       "      <td>0.796203</td>\n",
       "      <td>-0.326072</td>\n",
       "      <td>2.073711</td>\n",
       "      <td>0.857117</td>\n",
       "      <td>3.022694</td>\n",
       "      <td>-0.369395</td>\n",
       "      <td>-0.317962</td>\n",
       "      <td>-0.438017</td>\n",
       "      <td>-0.175238</td>\n",
       "      <td>...</td>\n",
       "      <td>-0.177464</td>\n",
       "      <td>-0.172651</td>\n",
       "      <td>-0.456421</td>\n",
       "      <td>-0.208839</td>\n",
       "      <td>-0.218079</td>\n",
       "      <td>-0.219859</td>\n",
       "      <td>0.359124</td>\n",
       "      <td>0.440050</td>\n",
       "      <td>-0.326169</td>\n",
       "      <td>1.179221</td>\n",
       "    </tr>\n",
       "  </tbody>\n",
       "</table>\n",
       "<p>5 rows × 129 columns</p>\n",
       "</div>"
      ],
      "text/plain": [
       "        0         1         2         3         4         5         6    \\\n",
       "0 -0.055644 -0.062304 -0.020227 -0.369595 -0.377434 -0.357581 -0.313915   \n",
       "1 -0.277561 -0.835319 -0.786455  0.761022 -0.427423 -0.403896 -0.411897   \n",
       "2 -0.553088 -0.076844 -0.521636  0.030361  0.391223 -0.242137 -0.610605   \n",
       "3  2.197696 -0.162489 -0.785959 -0.443543 -0.424808 -0.331749 -0.444458   \n",
       "4  0.360007  0.796203 -0.326072  2.073711  0.857117  3.022694 -0.369395   \n",
       "\n",
       "        7         8         9    ...       119       120       121       122  \\\n",
       "0 -0.419387 -0.479897 -0.101425  ...  3.322007  3.496675  0.206947 -0.083066   \n",
       "1 -0.594353 -0.601685 -0.168874  ... -0.177464 -0.172651 -0.837117 -0.208839   \n",
       "2 -0.361707 -0.544367 -0.175238  ... -0.177464 -0.172651 -0.928301 -0.208839   \n",
       "3 -0.541236 -0.393608 -0.105502  ... -0.177464 -0.172651 -0.824579 -0.208839   \n",
       "4 -0.317962 -0.438017 -0.175238  ... -0.177464 -0.172651 -0.456421 -0.208839   \n",
       "\n",
       "        123       124       125       126       127       128  \n",
       "0  0.453487 -0.219859 -0.057828  0.143042  0.926582 -0.589567  \n",
       "1 -0.218079 -0.219859 -0.767266 -0.745295 -0.326169 -0.390001  \n",
       "2 -0.218079 -0.219859 -0.476142 -0.590743 -0.303253 -0.333646  \n",
       "3 -0.218079 -0.219859  0.599429  0.589227 -0.326169 -0.668467  \n",
       "4 -0.218079 -0.219859  0.359124  0.440050 -0.326169  1.179221  \n",
       "\n",
       "[5 rows x 129 columns]"
      ]
     },
     "execution_count": 53,
     "metadata": {},
     "output_type": "execute_result"
    }
   ],
   "source": [
    "pd.DataFrame(X_train).head()"
   ]
  },
  {
   "cell_type": "code",
   "execution_count": 54,
   "id": "e1d19cdc-d47b-4c0a-9d54-9f155d82fdff",
   "metadata": {},
   "outputs": [],
   "source": [
    "X_test = scaler.transform(X_test)"
   ]
  },
  {
   "cell_type": "code",
   "execution_count": 55,
   "id": "f62e20c1-3c84-4a5b-a7c6-2c6b71ddcfeb",
   "metadata": {},
   "outputs": [
    {
     "data": {
      "text/html": [
       "<div>\n",
       "<style scoped>\n",
       "    .dataframe tbody tr th:only-of-type {\n",
       "        vertical-align: middle;\n",
       "    }\n",
       "\n",
       "    .dataframe tbody tr th {\n",
       "        vertical-align: top;\n",
       "    }\n",
       "\n",
       "    .dataframe thead th {\n",
       "        text-align: right;\n",
       "    }\n",
       "</style>\n",
       "<table border=\"1\" class=\"dataframe\">\n",
       "  <thead>\n",
       "    <tr style=\"text-align: right;\">\n",
       "      <th></th>\n",
       "      <th>0</th>\n",
       "      <th>1</th>\n",
       "      <th>2</th>\n",
       "      <th>3</th>\n",
       "      <th>4</th>\n",
       "      <th>5</th>\n",
       "      <th>6</th>\n",
       "      <th>7</th>\n",
       "      <th>8</th>\n",
       "      <th>9</th>\n",
       "      <th>...</th>\n",
       "      <th>119</th>\n",
       "      <th>120</th>\n",
       "      <th>121</th>\n",
       "      <th>122</th>\n",
       "      <th>123</th>\n",
       "      <th>124</th>\n",
       "      <th>125</th>\n",
       "      <th>126</th>\n",
       "      <th>127</th>\n",
       "      <th>128</th>\n",
       "    </tr>\n",
       "  </thead>\n",
       "  <tbody>\n",
       "    <tr>\n",
       "      <th>0</th>\n",
       "      <td>-0.234668</td>\n",
       "      <td>-0.241678</td>\n",
       "      <td>0.230278</td>\n",
       "      <td>-0.257276</td>\n",
       "      <td>-0.289315</td>\n",
       "      <td>0.085586</td>\n",
       "      <td>-0.058249</td>\n",
       "      <td>-0.037397</td>\n",
       "      <td>0.075182</td>\n",
       "      <td>-0.175238</td>\n",
       "      <td>...</td>\n",
       "      <td>-0.177464</td>\n",
       "      <td>-0.172651</td>\n",
       "      <td>0.563707</td>\n",
       "      <td>-0.208839</td>\n",
       "      <td>-0.218079</td>\n",
       "      <td>-0.219859</td>\n",
       "      <td>-0.113708</td>\n",
       "      <td>0.067782</td>\n",
       "      <td>-0.326169</td>\n",
       "      <td>-0.140981</td>\n",
       "    </tr>\n",
       "    <tr>\n",
       "      <th>1</th>\n",
       "      <td>0.101635</td>\n",
       "      <td>0.035570</td>\n",
       "      <td>0.135435</td>\n",
       "      <td>-0.395896</td>\n",
       "      <td>-0.357804</td>\n",
       "      <td>-0.379722</td>\n",
       "      <td>-0.256046</td>\n",
       "      <td>-0.260233</td>\n",
       "      <td>-0.452508</td>\n",
       "      <td>-0.175238</td>\n",
       "      <td>...</td>\n",
       "      <td>-0.177464</td>\n",
       "      <td>-0.172651</td>\n",
       "      <td>1.965671</td>\n",
       "      <td>0.463268</td>\n",
       "      <td>-0.218079</td>\n",
       "      <td>-0.219859</td>\n",
       "      <td>0.111522</td>\n",
       "      <td>-0.155310</td>\n",
       "      <td>1.592294</td>\n",
       "      <td>-0.531624</td>\n",
       "    </tr>\n",
       "    <tr>\n",
       "      <th>2</th>\n",
       "      <td>1.454226</td>\n",
       "      <td>1.462443</td>\n",
       "      <td>1.456517</td>\n",
       "      <td>-0.459173</td>\n",
       "      <td>-0.422809</td>\n",
       "      <td>-0.389625</td>\n",
       "      <td>-0.634620</td>\n",
       "      <td>-0.541321</td>\n",
       "      <td>-0.523788</td>\n",
       "      <td>-0.175238</td>\n",
       "      <td>...</td>\n",
       "      <td>-0.177464</td>\n",
       "      <td>-0.172651</td>\n",
       "      <td>-0.426786</td>\n",
       "      <td>4.638885</td>\n",
       "      <td>3.072906</td>\n",
       "      <td>1.405836</td>\n",
       "      <td>1.800745</td>\n",
       "      <td>1.728879</td>\n",
       "      <td>6.119456</td>\n",
       "      <td>-0.768361</td>\n",
       "    </tr>\n",
       "    <tr>\n",
       "      <th>3</th>\n",
       "      <td>-0.283257</td>\n",
       "      <td>-0.914072</td>\n",
       "      <td>-0.786455</td>\n",
       "      <td>-0.255850</td>\n",
       "      <td>-0.314776</td>\n",
       "      <td>-0.265082</td>\n",
       "      <td>-0.211639</td>\n",
       "      <td>-0.279053</td>\n",
       "      <td>-0.217895</td>\n",
       "      <td>-0.073389</td>\n",
       "      <td>...</td>\n",
       "      <td>-0.177464</td>\n",
       "      <td>-0.172651</td>\n",
       "      <td>-0.894107</td>\n",
       "      <td>-0.208839</td>\n",
       "      <td>-0.218079</td>\n",
       "      <td>-0.219859</td>\n",
       "      <td>-0.802024</td>\n",
       "      <td>-0.803084</td>\n",
       "      <td>-0.326169</td>\n",
       "      <td>-0.395891</td>\n",
       "    </tr>\n",
       "    <tr>\n",
       "      <th>4</th>\n",
       "      <td>-0.940239</td>\n",
       "      <td>0.170437</td>\n",
       "      <td>-0.786455</td>\n",
       "      <td>-0.456666</td>\n",
       "      <td>-0.318479</td>\n",
       "      <td>-0.265082</td>\n",
       "      <td>-0.597675</td>\n",
       "      <td>0.369690</td>\n",
       "      <td>-0.217895</td>\n",
       "      <td>-0.175238</td>\n",
       "      <td>...</td>\n",
       "      <td>-0.177464</td>\n",
       "      <td>-0.172651</td>\n",
       "      <td>-0.866752</td>\n",
       "      <td>-0.208839</td>\n",
       "      <td>-0.218079</td>\n",
       "      <td>-0.219859</td>\n",
       "      <td>-0.647516</td>\n",
       "      <td>-0.639125</td>\n",
       "      <td>-0.326169</td>\n",
       "      <td>-0.392490</td>\n",
       "    </tr>\n",
       "  </tbody>\n",
       "</table>\n",
       "<p>5 rows × 129 columns</p>\n",
       "</div>"
      ],
      "text/plain": [
       "        0         1         2         3         4         5         6    \\\n",
       "0 -0.234668 -0.241678  0.230278 -0.257276 -0.289315  0.085586 -0.058249   \n",
       "1  0.101635  0.035570  0.135435 -0.395896 -0.357804 -0.379722 -0.256046   \n",
       "2  1.454226  1.462443  1.456517 -0.459173 -0.422809 -0.389625 -0.634620   \n",
       "3 -0.283257 -0.914072 -0.786455 -0.255850 -0.314776 -0.265082 -0.211639   \n",
       "4 -0.940239  0.170437 -0.786455 -0.456666 -0.318479 -0.265082 -0.597675   \n",
       "\n",
       "        7         8         9    ...       119       120       121       122  \\\n",
       "0 -0.037397  0.075182 -0.175238  ... -0.177464 -0.172651  0.563707 -0.208839   \n",
       "1 -0.260233 -0.452508 -0.175238  ... -0.177464 -0.172651  1.965671  0.463268   \n",
       "2 -0.541321 -0.523788 -0.175238  ... -0.177464 -0.172651 -0.426786  4.638885   \n",
       "3 -0.279053 -0.217895 -0.073389  ... -0.177464 -0.172651 -0.894107 -0.208839   \n",
       "4  0.369690 -0.217895 -0.175238  ... -0.177464 -0.172651 -0.866752 -0.208839   \n",
       "\n",
       "        123       124       125       126       127       128  \n",
       "0 -0.218079 -0.219859 -0.113708  0.067782 -0.326169 -0.140981  \n",
       "1 -0.218079 -0.219859  0.111522 -0.155310  1.592294 -0.531624  \n",
       "2  3.072906  1.405836  1.800745  1.728879  6.119456 -0.768361  \n",
       "3 -0.218079 -0.219859 -0.802024 -0.803084 -0.326169 -0.395891  \n",
       "4 -0.218079 -0.219859 -0.647516 -0.639125 -0.326169 -0.392490  \n",
       "\n",
       "[5 rows x 129 columns]"
      ]
     },
     "execution_count": 55,
     "metadata": {},
     "output_type": "execute_result"
    }
   ],
   "source": [
    "pd.DataFrame(X_test).head()"
   ]
  },
  {
   "cell_type": "markdown",
   "id": "3bb62370-94e9-4d12-b16b-702ee2fd3cb8",
   "metadata": {},
   "source": [
    "#### PCA"
   ]
  },
  {
   "cell_type": "code",
   "execution_count": 56,
   "id": "3fae6248-5b88-40a1-b3b5-78c93842ea00",
   "metadata": {},
   "outputs": [],
   "source": [
    "pca = PCA(random_state=100)\n",
    "X_train_pca = pca.fit_transform(X_train)"
   ]
  },
  {
   "cell_type": "code",
   "execution_count": 57,
   "id": "2158f15a-869f-465e-89c2-4a2055e8afc6",
   "metadata": {},
   "outputs": [
    {
     "data": {
      "text/html": [
       "<div>\n",
       "<style scoped>\n",
       "    .dataframe tbody tr th:only-of-type {\n",
       "        vertical-align: middle;\n",
       "    }\n",
       "\n",
       "    .dataframe tbody tr th {\n",
       "        vertical-align: top;\n",
       "    }\n",
       "\n",
       "    .dataframe thead th {\n",
       "        text-align: right;\n",
       "    }\n",
       "</style>\n",
       "<table border=\"1\" class=\"dataframe\">\n",
       "  <thead>\n",
       "    <tr style=\"text-align: right;\">\n",
       "      <th></th>\n",
       "      <th>PCA1</th>\n",
       "      <th>PCA2</th>\n",
       "      <th>PCA3</th>\n",
       "      <th>PCA4</th>\n",
       "      <th>PCA5</th>\n",
       "      <th>PCA6</th>\n",
       "      <th>PCA7</th>\n",
       "      <th>PCA8</th>\n",
       "      <th>PCA9</th>\n",
       "      <th>PCA10</th>\n",
       "      <th>...</th>\n",
       "      <th>PCA120</th>\n",
       "      <th>PCA121</th>\n",
       "      <th>PCA122</th>\n",
       "      <th>PCA123</th>\n",
       "      <th>PCA124</th>\n",
       "      <th>PCA125</th>\n",
       "      <th>PCA126</th>\n",
       "      <th>PCA127</th>\n",
       "      <th>PCA128</th>\n",
       "      <th>PCA129</th>\n",
       "    </tr>\n",
       "  </thead>\n",
       "  <tbody>\n",
       "    <tr>\n",
       "      <th>0</th>\n",
       "      <td>-0.397363</td>\n",
       "      <td>2.496242</td>\n",
       "      <td>2.712979</td>\n",
       "      <td>0.258817</td>\n",
       "      <td>-0.938712</td>\n",
       "      <td>-0.515479</td>\n",
       "      <td>0.792979</td>\n",
       "      <td>-2.016650</td>\n",
       "      <td>0.706625</td>\n",
       "      <td>-1.047896</td>\n",
       "      <td>...</td>\n",
       "      <td>9.430521e-06</td>\n",
       "      <td>2.065796e-05</td>\n",
       "      <td>0.000009</td>\n",
       "      <td>0.000014</td>\n",
       "      <td>-0.000003</td>\n",
       "      <td>7.515649e-14</td>\n",
       "      <td>2.344515e-14</td>\n",
       "      <td>-1.704336e-14</td>\n",
       "      <td>2.533872e-16</td>\n",
       "      <td>6.335569e-16</td>\n",
       "    </tr>\n",
       "    <tr>\n",
       "      <th>1</th>\n",
       "      <td>-3.424818</td>\n",
       "      <td>-1.512741</td>\n",
       "      <td>-0.413360</td>\n",
       "      <td>-0.356134</td>\n",
       "      <td>-1.008738</td>\n",
       "      <td>0.188036</td>\n",
       "      <td>0.671400</td>\n",
       "      <td>-0.242772</td>\n",
       "      <td>-0.177690</td>\n",
       "      <td>0.020032</td>\n",
       "      <td>...</td>\n",
       "      <td>-2.589166e-07</td>\n",
       "      <td>6.165737e-06</td>\n",
       "      <td>0.000001</td>\n",
       "      <td>0.000002</td>\n",
       "      <td>-0.000008</td>\n",
       "      <td>-2.955513e-14</td>\n",
       "      <td>2.490249e-14</td>\n",
       "      <td>-1.045477e-14</td>\n",
       "      <td>2.347208e-16</td>\n",
       "      <td>6.986543e-16</td>\n",
       "    </tr>\n",
       "    <tr>\n",
       "      <th>2</th>\n",
       "      <td>-2.396361</td>\n",
       "      <td>-1.128777</td>\n",
       "      <td>-0.343452</td>\n",
       "      <td>0.067815</td>\n",
       "      <td>0.339770</td>\n",
       "      <td>0.369729</td>\n",
       "      <td>0.854762</td>\n",
       "      <td>-0.217882</td>\n",
       "      <td>-0.101239</td>\n",
       "      <td>0.026260</td>\n",
       "      <td>...</td>\n",
       "      <td>-7.821691e-06</td>\n",
       "      <td>1.432905e-05</td>\n",
       "      <td>0.000014</td>\n",
       "      <td>0.000001</td>\n",
       "      <td>0.000004</td>\n",
       "      <td>-3.742427e-14</td>\n",
       "      <td>2.326427e-14</td>\n",
       "      <td>-1.481116e-14</td>\n",
       "      <td>7.578936e-16</td>\n",
       "      <td>1.161230e-15</td>\n",
       "    </tr>\n",
       "    <tr>\n",
       "      <th>3</th>\n",
       "      <td>-1.809300</td>\n",
       "      <td>-0.797285</td>\n",
       "      <td>0.581279</td>\n",
       "      <td>-0.584472</td>\n",
       "      <td>-2.306440</td>\n",
       "      <td>-1.024760</td>\n",
       "      <td>-0.116879</td>\n",
       "      <td>0.375808</td>\n",
       "      <td>0.124479</td>\n",
       "      <td>1.053918</td>\n",
       "      <td>...</td>\n",
       "      <td>2.398440e-06</td>\n",
       "      <td>6.969956e-07</td>\n",
       "      <td>-0.000003</td>\n",
       "      <td>-0.000003</td>\n",
       "      <td>0.000002</td>\n",
       "      <td>2.094893e-15</td>\n",
       "      <td>3.346717e-15</td>\n",
       "      <td>-6.073313e-15</td>\n",
       "      <td>3.517144e-17</td>\n",
       "      <td>-1.964139e-16</td>\n",
       "    </tr>\n",
       "    <tr>\n",
       "      <th>4</th>\n",
       "      <td>6.579275</td>\n",
       "      <td>4.629696</td>\n",
       "      <td>-4.274510</td>\n",
       "      <td>-4.103750</td>\n",
       "      <td>0.639210</td>\n",
       "      <td>2.084942</td>\n",
       "      <td>5.845237</td>\n",
       "      <td>1.736635</td>\n",
       "      <td>-0.645405</td>\n",
       "      <td>-3.426030</td>\n",
       "      <td>...</td>\n",
       "      <td>-4.253620e-05</td>\n",
       "      <td>1.631036e-05</td>\n",
       "      <td>-0.000020</td>\n",
       "      <td>-0.000002</td>\n",
       "      <td>0.000005</td>\n",
       "      <td>-5.093524e-15</td>\n",
       "      <td>8.459218e-15</td>\n",
       "      <td>5.138672e-15</td>\n",
       "      <td>3.324866e-16</td>\n",
       "      <td>1.299920e-16</td>\n",
       "    </tr>\n",
       "  </tbody>\n",
       "</table>\n",
       "<p>5 rows × 129 columns</p>\n",
       "</div>"
      ],
      "text/plain": [
       "       PCA1      PCA2      PCA3      PCA4      PCA5      PCA6      PCA7  \\\n",
       "0 -0.397363  2.496242  2.712979  0.258817 -0.938712 -0.515479  0.792979   \n",
       "1 -3.424818 -1.512741 -0.413360 -0.356134 -1.008738  0.188036  0.671400   \n",
       "2 -2.396361 -1.128777 -0.343452  0.067815  0.339770  0.369729  0.854762   \n",
       "3 -1.809300 -0.797285  0.581279 -0.584472 -2.306440 -1.024760 -0.116879   \n",
       "4  6.579275  4.629696 -4.274510 -4.103750  0.639210  2.084942  5.845237   \n",
       "\n",
       "       PCA8      PCA9     PCA10  ...        PCA120        PCA121    PCA122  \\\n",
       "0 -2.016650  0.706625 -1.047896  ...  9.430521e-06  2.065796e-05  0.000009   \n",
       "1 -0.242772 -0.177690  0.020032  ... -2.589166e-07  6.165737e-06  0.000001   \n",
       "2 -0.217882 -0.101239  0.026260  ... -7.821691e-06  1.432905e-05  0.000014   \n",
       "3  0.375808  0.124479  1.053918  ...  2.398440e-06  6.969956e-07 -0.000003   \n",
       "4  1.736635 -0.645405 -3.426030  ... -4.253620e-05  1.631036e-05 -0.000020   \n",
       "\n",
       "     PCA123    PCA124        PCA125        PCA126        PCA127        PCA128  \\\n",
       "0  0.000014 -0.000003  7.515649e-14  2.344515e-14 -1.704336e-14  2.533872e-16   \n",
       "1  0.000002 -0.000008 -2.955513e-14  2.490249e-14 -1.045477e-14  2.347208e-16   \n",
       "2  0.000001  0.000004 -3.742427e-14  2.326427e-14 -1.481116e-14  7.578936e-16   \n",
       "3 -0.000003  0.000002  2.094893e-15  3.346717e-15 -6.073313e-15  3.517144e-17   \n",
       "4 -0.000002  0.000005 -5.093524e-15  8.459218e-15  5.138672e-15  3.324866e-16   \n",
       "\n",
       "         PCA129  \n",
       "0  6.335569e-16  \n",
       "1  6.986543e-16  \n",
       "2  1.161230e-15  \n",
       "3 -1.964139e-16  \n",
       "4  1.299920e-16  \n",
       "\n",
       "[5 rows x 129 columns]"
      ]
     },
     "execution_count": 57,
     "metadata": {},
     "output_type": "execute_result"
    }
   ],
   "source": [
    "columns = [f\"PCA{i}\" for i in range(1, len(X_train_pca[0]) + 1)]\n",
    "X_train_pca = pd.DataFrame(X_train_pca, columns=columns)\n",
    "X_train_pca.head()"
   ]
  },
  {
   "cell_type": "code",
   "execution_count": 58,
   "id": "e8e44a1c-c636-4757-a121-e995e5ff7924",
   "metadata": {},
   "outputs": [
    {
     "data": {
      "image/png": "[encoded data removed]",
      "text/plain": [
       "<Figure size 864x576 with 1 Axes>"
      ]
     },
     "metadata": {},
     "output_type": "display_data"
    }
   ],
   "source": [
    "fig = plt.figure(figsize = (12,8))\n",
    "plt.plot(np.cumsum(pca.explained_variance_ratio_))\n",
    "plt.vlines(x=68, ymax=1, ymin=0, colors=\"r\", linestyles=\"--\")\n",
    "plt.hlines(y=0.95, xmax=140, xmin=0, colors=\"g\", linestyles=\"--\")\n",
    "plt.xlabel('number of components')\n",
    "plt.ylabel('cumulative explained variance')\n",
    "plt.show()"
   ]
  },
  {
   "cell_type": "markdown",
   "id": "b1b74f88-2b15-4c48-951b-862b0d5f99b3",
   "metadata": {},
   "source": [
    "We can see that 68 components are able to explain more than 95% of the variance. So lets select the number of components as 68 and create a new dataset"
   ]
  },
  {
   "cell_type": "code",
   "execution_count": 59,
   "id": "f80fb030-8a22-46a8-bd6b-e2ef8cbaaf70",
   "metadata": {},
   "outputs": [],
   "source": [
    "pca = PCA(0.95, random_state=100)\n",
    "X_train_pca = pca.fit_transform(X_train)"
   ]
  },
  {
   "cell_type": "code",
   "execution_count": 60,
   "id": "1f609372-9d16-415c-bbe1-74481ec2ed04",
   "metadata": {},
   "outputs": [
    {
     "data": {
      "text/html": [
       "<div>\n",
       "<style scoped>\n",
       "    .dataframe tbody tr th:only-of-type {\n",
       "        vertical-align: middle;\n",
       "    }\n",
       "\n",
       "    .dataframe tbody tr th {\n",
       "        vertical-align: top;\n",
       "    }\n",
       "\n",
       "    .dataframe thead th {\n",
       "        text-align: right;\n",
       "    }\n",
       "</style>\n",
       "<table border=\"1\" class=\"dataframe\">\n",
       "  <thead>\n",
       "    <tr style=\"text-align: right;\">\n",
       "      <th></th>\n",
       "      <th>PCA1</th>\n",
       "      <th>PCA2</th>\n",
       "      <th>PCA3</th>\n",
       "      <th>PCA4</th>\n",
       "      <th>PCA5</th>\n",
       "      <th>PCA6</th>\n",
       "      <th>PCA7</th>\n",
       "      <th>PCA8</th>\n",
       "      <th>PCA9</th>\n",
       "      <th>PCA10</th>\n",
       "      <th>...</th>\n",
       "      <th>PCA60</th>\n",
       "      <th>PCA61</th>\n",
       "      <th>PCA62</th>\n",
       "      <th>PCA63</th>\n",
       "      <th>PCA64</th>\n",
       "      <th>PCA65</th>\n",
       "      <th>PCA66</th>\n",
       "      <th>PCA67</th>\n",
       "      <th>PCA68</th>\n",
       "      <th>PCA69</th>\n",
       "    </tr>\n",
       "  </thead>\n",
       "  <tbody>\n",
       "    <tr>\n",
       "      <th>0</th>\n",
       "      <td>-0.397363</td>\n",
       "      <td>2.496242</td>\n",
       "      <td>2.712979</td>\n",
       "      <td>0.258817</td>\n",
       "      <td>-0.938712</td>\n",
       "      <td>-0.515479</td>\n",
       "      <td>0.792979</td>\n",
       "      <td>-2.016650</td>\n",
       "      <td>0.706625</td>\n",
       "      <td>-1.047896</td>\n",
       "      <td>...</td>\n",
       "      <td>-0.164806</td>\n",
       "      <td>0.428687</td>\n",
       "      <td>0.145679</td>\n",
       "      <td>0.031858</td>\n",
       "      <td>-0.742494</td>\n",
       "      <td>1.616227</td>\n",
       "      <td>0.157504</td>\n",
       "      <td>-0.129887</td>\n",
       "      <td>-0.020768</td>\n",
       "      <td>-0.166225</td>\n",
       "    </tr>\n",
       "    <tr>\n",
       "      <th>1</th>\n",
       "      <td>-3.424818</td>\n",
       "      <td>-1.512741</td>\n",
       "      <td>-0.413360</td>\n",
       "      <td>-0.356134</td>\n",
       "      <td>-1.008738</td>\n",
       "      <td>0.188036</td>\n",
       "      <td>0.671400</td>\n",
       "      <td>-0.242772</td>\n",
       "      <td>-0.177690</td>\n",
       "      <td>0.020032</td>\n",
       "      <td>...</td>\n",
       "      <td>-0.048502</td>\n",
       "      <td>-0.024646</td>\n",
       "      <td>-0.048980</td>\n",
       "      <td>-0.124340</td>\n",
       "      <td>0.241612</td>\n",
       "      <td>-0.113357</td>\n",
       "      <td>0.187565</td>\n",
       "      <td>-0.385885</td>\n",
       "      <td>-0.080192</td>\n",
       "      <td>-0.052710</td>\n",
       "    </tr>\n",
       "    <tr>\n",
       "      <th>2</th>\n",
       "      <td>-2.396361</td>\n",
       "      <td>-1.128777</td>\n",
       "      <td>-0.343452</td>\n",
       "      <td>0.067815</td>\n",
       "      <td>0.339770</td>\n",
       "      <td>0.369729</td>\n",
       "      <td>0.854762</td>\n",
       "      <td>-0.217882</td>\n",
       "      <td>-0.101239</td>\n",
       "      <td>0.026260</td>\n",
       "      <td>...</td>\n",
       "      <td>0.011196</td>\n",
       "      <td>0.231026</td>\n",
       "      <td>-0.355654</td>\n",
       "      <td>0.293280</td>\n",
       "      <td>0.209410</td>\n",
       "      <td>-0.022865</td>\n",
       "      <td>-0.085147</td>\n",
       "      <td>0.386886</td>\n",
       "      <td>0.208810</td>\n",
       "      <td>-0.091381</td>\n",
       "    </tr>\n",
       "    <tr>\n",
       "      <th>3</th>\n",
       "      <td>-1.809300</td>\n",
       "      <td>-0.797285</td>\n",
       "      <td>0.581279</td>\n",
       "      <td>-0.584472</td>\n",
       "      <td>-2.306440</td>\n",
       "      <td>-1.024760</td>\n",
       "      <td>-0.116879</td>\n",
       "      <td>0.375808</td>\n",
       "      <td>0.124479</td>\n",
       "      <td>1.053918</td>\n",
       "      <td>...</td>\n",
       "      <td>0.297838</td>\n",
       "      <td>1.076386</td>\n",
       "      <td>-1.893761</td>\n",
       "      <td>-0.342657</td>\n",
       "      <td>-0.624390</td>\n",
       "      <td>0.060618</td>\n",
       "      <td>0.341169</td>\n",
       "      <td>0.144697</td>\n",
       "      <td>-0.033546</td>\n",
       "      <td>0.180264</td>\n",
       "    </tr>\n",
       "    <tr>\n",
       "      <th>4</th>\n",
       "      <td>6.579275</td>\n",
       "      <td>4.629696</td>\n",
       "      <td>-4.274510</td>\n",
       "      <td>-4.103750</td>\n",
       "      <td>0.639210</td>\n",
       "      <td>2.084942</td>\n",
       "      <td>5.845237</td>\n",
       "      <td>1.736635</td>\n",
       "      <td>-0.645405</td>\n",
       "      <td>-3.426030</td>\n",
       "      <td>...</td>\n",
       "      <td>-0.498985</td>\n",
       "      <td>0.422176</td>\n",
       "      <td>0.380123</td>\n",
       "      <td>0.640284</td>\n",
       "      <td>-0.075587</td>\n",
       "      <td>0.039544</td>\n",
       "      <td>1.118713</td>\n",
       "      <td>-1.497566</td>\n",
       "      <td>-0.624439</td>\n",
       "      <td>-0.070999</td>\n",
       "    </tr>\n",
       "  </tbody>\n",
       "</table>\n",
       "<p>5 rows × 69 columns</p>\n",
       "</div>"
      ],
      "text/plain": [
       "       PCA1      PCA2      PCA3      PCA4      PCA5      PCA6      PCA7  \\\n",
       "0 -0.397363  2.496242  2.712979  0.258817 -0.938712 -0.515479  0.792979   \n",
       "1 -3.424818 -1.512741 -0.413360 -0.356134 -1.008738  0.188036  0.671400   \n",
       "2 -2.396361 -1.128777 -0.343452  0.067815  0.339770  0.369729  0.854762   \n",
       "3 -1.809300 -0.797285  0.581279 -0.584472 -2.306440 -1.024760 -0.116879   \n",
       "4  6.579275  4.629696 -4.274510 -4.103750  0.639210  2.084942  5.845237   \n",
       "\n",
       "       PCA8      PCA9     PCA10  ...     PCA60     PCA61     PCA62     PCA63  \\\n",
       "0 -2.016650  0.706625 -1.047896  ... -0.164806  0.428687  0.145679  0.031858   \n",
       "1 -0.242772 -0.177690  0.020032  ... -0.048502 -0.024646 -0.048980 -0.124340   \n",
       "2 -0.217882 -0.101239  0.026260  ...  0.011196  0.231026 -0.355654  0.293280   \n",
       "3  0.375808  0.124479  1.053918  ...  0.297838  1.076386 -1.893761 -0.342657   \n",
       "4  1.736635 -0.645405 -3.426030  ... -0.498985  0.422176  0.380123  0.640284   \n",
       "\n",
       "      PCA64     PCA65     PCA66     PCA67     PCA68     PCA69  \n",
       "0 -0.742494  1.616227  0.157504 -0.129887 -0.020768 -0.166225  \n",
       "1  0.241612 -0.113357  0.187565 -0.385885 -0.080192 -0.052710  \n",
       "2  0.209410 -0.022865 -0.085147  0.386886  0.208810 -0.091381  \n",
       "3 -0.624390  0.060618  0.341169  0.144697 -0.033546  0.180264  \n",
       "4 -0.075587  0.039544  1.118713 -1.497566 -0.624439 -0.070999  \n",
       "\n",
       "[5 rows x 69 columns]"
      ]
     },
     "execution_count": 60,
     "metadata": {},
     "output_type": "execute_result"
    }
   ],
   "source": [
    "columns = [f\"PCA{i}\" for i in range(1, len(X_train_pca[0]) + 1)]\n",
    "X_train_pca = pd.DataFrame(X_train_pca, columns=columns)\n",
    "X_train_pca.head()"
   ]
  },
  {
   "cell_type": "code",
   "execution_count": 61,
   "id": "0d119b10-ae70-4c79-a815-e82f90f6c89c",
   "metadata": {},
   "outputs": [],
   "source": [
    "X_test_pca = pca.transform(X_test)"
   ]
  },
  {
   "cell_type": "code",
   "execution_count": 62,
   "id": "ebbebdee-d2ab-4e22-b49f-bd6e4397399f",
   "metadata": {},
   "outputs": [
    {
     "data": {
      "text/html": [
       "<div>\n",
       "<style scoped>\n",
       "    .dataframe tbody tr th:only-of-type {\n",
       "        vertical-align: middle;\n",
       "    }\n",
       "\n",
       "    .dataframe tbody tr th {\n",
       "        vertical-align: top;\n",
       "    }\n",
       "\n",
       "    .dataframe thead th {\n",
       "        text-align: right;\n",
       "    }\n",
       "</style>\n",
       "<table border=\"1\" class=\"dataframe\">\n",
       "  <thead>\n",
       "    <tr style=\"text-align: right;\">\n",
       "      <th></th>\n",
       "      <th>PCA1</th>\n",
       "      <th>PCA2</th>\n",
       "      <th>PCA3</th>\n",
       "      <th>PCA4</th>\n",
       "      <th>PCA5</th>\n",
       "      <th>PCA6</th>\n",
       "      <th>PCA7</th>\n",
       "      <th>PCA8</th>\n",
       "      <th>PCA9</th>\n",
       "      <th>PCA10</th>\n",
       "      <th>...</th>\n",
       "      <th>PCA60</th>\n",
       "      <th>PCA61</th>\n",
       "      <th>PCA62</th>\n",
       "      <th>PCA63</th>\n",
       "      <th>PCA64</th>\n",
       "      <th>PCA65</th>\n",
       "      <th>PCA66</th>\n",
       "      <th>PCA67</th>\n",
       "      <th>PCA68</th>\n",
       "      <th>PCA69</th>\n",
       "    </tr>\n",
       "  </thead>\n",
       "  <tbody>\n",
       "    <tr>\n",
       "      <th>0</th>\n",
       "      <td>-0.381265</td>\n",
       "      <td>0.437196</td>\n",
       "      <td>-0.164914</td>\n",
       "      <td>0.582480</td>\n",
       "      <td>0.613384</td>\n",
       "      <td>-1.968005</td>\n",
       "      <td>0.435254</td>\n",
       "      <td>0.628109</td>\n",
       "      <td>0.692634</td>\n",
       "      <td>-0.967189</td>\n",
       "      <td>...</td>\n",
       "      <td>-0.085053</td>\n",
       "      <td>0.347264</td>\n",
       "      <td>0.651406</td>\n",
       "      <td>0.542733</td>\n",
       "      <td>-0.145984</td>\n",
       "      <td>-0.010512</td>\n",
       "      <td>0.088119</td>\n",
       "      <td>-0.424848</td>\n",
       "      <td>-0.140735</td>\n",
       "      <td>0.142644</td>\n",
       "    </tr>\n",
       "    <tr>\n",
       "      <th>1</th>\n",
       "      <td>-0.743378</td>\n",
       "      <td>1.703990</td>\n",
       "      <td>3.096246</td>\n",
       "      <td>-0.365135</td>\n",
       "      <td>0.105202</td>\n",
       "      <td>1.535277</td>\n",
       "      <td>-0.724522</td>\n",
       "      <td>1.597787</td>\n",
       "      <td>-0.689921</td>\n",
       "      <td>1.595130</td>\n",
       "      <td>...</td>\n",
       "      <td>0.293475</td>\n",
       "      <td>-0.318066</td>\n",
       "      <td>-0.372115</td>\n",
       "      <td>-0.108903</td>\n",
       "      <td>0.399402</td>\n",
       "      <td>-1.324049</td>\n",
       "      <td>-0.147306</td>\n",
       "      <td>0.075633</td>\n",
       "      <td>0.907848</td>\n",
       "      <td>-0.180090</td>\n",
       "    </tr>\n",
       "    <tr>\n",
       "      <th>2</th>\n",
       "      <td>4.795284</td>\n",
       "      <td>1.832022</td>\n",
       "      <td>12.499365</td>\n",
       "      <td>2.201891</td>\n",
       "      <td>0.569371</td>\n",
       "      <td>20.517278</td>\n",
       "      <td>-8.626871</td>\n",
       "      <td>13.231079</td>\n",
       "      <td>-1.443510</td>\n",
       "      <td>3.698977</td>\n",
       "      <td>...</td>\n",
       "      <td>0.023149</td>\n",
       "      <td>0.721426</td>\n",
       "      <td>0.764329</td>\n",
       "      <td>0.441035</td>\n",
       "      <td>-1.157195</td>\n",
       "      <td>-0.318798</td>\n",
       "      <td>0.118020</td>\n",
       "      <td>-0.628317</td>\n",
       "      <td>2.691655</td>\n",
       "      <td>-1.407117</td>\n",
       "    </tr>\n",
       "    <tr>\n",
       "      <th>3</th>\n",
       "      <td>-3.520203</td>\n",
       "      <td>-0.338545</td>\n",
       "      <td>-0.696952</td>\n",
       "      <td>-0.403274</td>\n",
       "      <td>-0.455754</td>\n",
       "      <td>-0.386864</td>\n",
       "      <td>0.198098</td>\n",
       "      <td>-0.400085</td>\n",
       "      <td>-0.513087</td>\n",
       "      <td>-0.467136</td>\n",
       "      <td>...</td>\n",
       "      <td>0.200809</td>\n",
       "      <td>0.068750</td>\n",
       "      <td>-0.100031</td>\n",
       "      <td>0.012341</td>\n",
       "      <td>-0.207736</td>\n",
       "      <td>0.051153</td>\n",
       "      <td>0.046982</td>\n",
       "      <td>0.012051</td>\n",
       "      <td>-0.032950</td>\n",
       "      <td>-0.136762</td>\n",
       "    </tr>\n",
       "    <tr>\n",
       "      <th>4</th>\n",
       "      <td>-2.394058</td>\n",
       "      <td>0.123310</td>\n",
       "      <td>-0.690504</td>\n",
       "      <td>-0.751381</td>\n",
       "      <td>0.529021</td>\n",
       "      <td>-0.247754</td>\n",
       "      <td>-0.217300</td>\n",
       "      <td>-0.037559</td>\n",
       "      <td>-0.630405</td>\n",
       "      <td>-0.359151</td>\n",
       "      <td>...</td>\n",
       "      <td>0.197678</td>\n",
       "      <td>-0.456717</td>\n",
       "      <td>-0.174491</td>\n",
       "      <td>-0.285128</td>\n",
       "      <td>0.128421</td>\n",
       "      <td>-0.082805</td>\n",
       "      <td>0.194121</td>\n",
       "      <td>-0.263265</td>\n",
       "      <td>0.021962</td>\n",
       "      <td>-0.168923</td>\n",
       "    </tr>\n",
       "  </tbody>\n",
       "</table>\n",
       "<p>5 rows × 69 columns</p>\n",
       "</div>"
      ],
      "text/plain": [
       "       PCA1      PCA2       PCA3      PCA4      PCA5       PCA6      PCA7  \\\n",
       "0 -0.381265  0.437196  -0.164914  0.582480  0.613384  -1.968005  0.435254   \n",
       "1 -0.743378  1.703990   3.096246 -0.365135  0.105202   1.535277 -0.724522   \n",
       "2  4.795284  1.832022  12.499365  2.201891  0.569371  20.517278 -8.626871   \n",
       "3 -3.520203 -0.338545  -0.696952 -0.403274 -0.455754  -0.386864  0.198098   \n",
       "4 -2.394058  0.123310  -0.690504 -0.751381  0.529021  -0.247754 -0.217300   \n",
       "\n",
       "        PCA8      PCA9     PCA10  ...     PCA60     PCA61     PCA62     PCA63  \\\n",
       "0   0.628109  0.692634 -0.967189  ... -0.085053  0.347264  0.651406  0.542733   \n",
       "1   1.597787 -0.689921  1.595130  ...  0.293475 -0.318066 -0.372115 -0.108903   \n",
       "2  13.231079 -1.443510  3.698977  ...  0.023149  0.721426  0.764329  0.441035   \n",
       "3  -0.400085 -0.513087 -0.467136  ...  0.200809  0.068750 -0.100031  0.012341   \n",
       "4  -0.037559 -0.630405 -0.359151  ...  0.197678 -0.456717 -0.174491 -0.285128   \n",
       "\n",
       "      PCA64     PCA65     PCA66     PCA67     PCA68     PCA69  \n",
       "0 -0.145984 -0.010512  0.088119 -0.424848 -0.140735  0.142644  \n",
       "1  0.399402 -1.324049 -0.147306  0.075633  0.907848 -0.180090  \n",
       "2 -1.157195 -0.318798  0.118020 -0.628317  2.691655 -1.407117  \n",
       "3 -0.207736  0.051153  0.046982  0.012051 -0.032950 -0.136762  \n",
       "4  0.128421 -0.082805  0.194121 -0.263265  0.021962 -0.168923  \n",
       "\n",
       "[5 rows x 69 columns]"
      ]
     },
     "execution_count": 62,
     "metadata": {},
     "output_type": "execute_result"
    }
   ],
   "source": [
    "columns = [f\"PCA{i}\" for i in range(1, len(X_test_pca[0]) + 1)]\n",
    "X_test_pca = pd.DataFrame(X_test_pca, columns=columns)\n",
    "X_test_pca.head()"
   ]
  },
  {
   "cell_type": "markdown",
   "id": "5580f5fe-b995-4892-a349-d398d47dcc71",
   "metadata": {},
   "source": [
    "## 4. Modelling and evaluation"
   ]
  },
  {
   "cell_type": "markdown",
   "id": "0cc96b5d-8e1e-4b68-b77a-4f6c0769586e",
   "metadata": {},
   "source": [
    "Let's applying LogisticRegression, DecisionTree and RandomForest to see which one gives the highest accuracy"
   ]
  },
  {
   "cell_type": "code",
   "execution_count": 63,
   "id": "4359d170-2ace-4208-9f95-90dae60b0470",
   "metadata": {},
   "outputs": [],
   "source": [
    "model_metric = pd.DataFrame(index = [\"Accuracy\", \"F1 score\", \"ROC AUC score\", \"Precision\", \"Recall\"])\n",
    "def print_metric(model_name, y_true, y_pred, y_pred_prob):\n",
    "    acc = round(metrics.accuracy_score(y_true, y_pred), 5)\n",
    "    f1 = round(metrics.f1_score(y_true, y_pred), 5)\n",
    "    roc_auc = round(metrics.roc_auc_score(y_true, y_pred_prob[:,1]), 5)\n",
    "    precision = round(metrics.precision_score(y_true, y_pred), 5)\n",
    "    recall = round(metrics.recall_score(y_true, y_pred), 5)\n",
    "    model_metric[model_name] = [acc, f1, roc_auc, precision, recall]\n",
    "    print(model_metric[model_name])\n",
    "    \n",
    "def predict_and_print(model_name, model, X, y):\n",
    "    y_pred_prob = model.predict_proba(X)\n",
    "    y_pred = model.predict(X)\n",
    "    print_metric(model_name, y, y_pred, y_pred_prob)"
   ]
  },
  {
   "cell_type": "markdown",
   "id": "b4546ef0-1e2f-4ad9-8d1c-7f5336abdaba",
   "metadata": {},
   "source": [
    "#### Logistic Regression"
   ]
  },
  {
   "cell_type": "code",
   "execution_count": 64,
   "id": "b1b679f3-84ab-4212-af8e-031af31f44e8",
   "metadata": {},
   "outputs": [],
   "source": [
    "logistic_pca = LogisticRegression(random_state=100)"
   ]
  },
  {
   "cell_type": "code",
   "execution_count": 65,
   "id": "9b971c78-68ca-4cf8-a7c3-28056253641d",
   "metadata": {},
   "outputs": [],
   "source": [
    "model_pca = logistic_pca.fit(X_train_pca, y_train)"
   ]
  },
  {
   "cell_type": "code",
   "execution_count": 66,
   "id": "0c34d9c7-e5ae-4d93-b2c7-1869ea5b141b",
   "metadata": {},
   "outputs": [
    {
     "name": "stdout",
     "output_type": "stream",
     "text": [
      "Accuracy         0.82658\n",
      "F1 score         0.83336\n",
      "ROC AUC score    0.89855\n",
      "Precision        0.80359\n",
      "Recall           0.86542\n",
      "Name: LR_Train, dtype: float64\n"
     ]
    }
   ],
   "source": [
    "predict_and_print(\"LR_Train\", model_pca, X_train_pca, y_train)"
   ]
  },
  {
   "cell_type": "code",
   "execution_count": 67,
   "id": "ff809214-f85c-4035-8129-b9a2409d6497",
   "metadata": {},
   "outputs": [
    {
     "name": "stdout",
     "output_type": "stream",
     "text": [
      "Accuracy         0.82534\n",
      "F1 score         0.83207\n",
      "ROC AUC score    0.89699\n",
      "Precision        0.79747\n",
      "Recall           0.86981\n",
      "Name: LR_Test, dtype: float64\n"
     ]
    }
   ],
   "source": [
    "predict_and_print(\"LR_Test\", model_pca, X_test_pca, y_test)"
   ]
  },
  {
   "cell_type": "markdown",
   "id": "122c05a7",
   "metadata": {},
   "source": [
    "#### Logistic Regression without PCA"
   ]
  },
  {
   "cell_type": "code",
   "execution_count": 68,
   "id": "893cc832",
   "metadata": {},
   "outputs": [],
   "source": [
    "logistic = LogisticRegression(random_state=100)"
   ]
  },
  {
   "cell_type": "code",
   "execution_count": 69,
   "id": "de4cf1f1",
   "metadata": {},
   "outputs": [],
   "source": [
    "model = logistic.fit(X_train, y_train)"
   ]
  },
  {
   "cell_type": "code",
   "execution_count": 70,
   "id": "bc366e30",
   "metadata": {},
   "outputs": [
    {
     "name": "stdout",
     "output_type": "stream",
     "text": [
      "Accuracy         0.86730\n",
      "F1 score         0.86785\n",
      "ROC AUC score    0.93371\n",
      "Precision        0.86606\n",
      "Recall           0.86965\n",
      "Name: LR_Train, dtype: float64\n"
     ]
    }
   ],
   "source": [
    "predict_and_print(\"LR_Train\", model, X_train, y_train)"
   ]
  },
  {
   "cell_type": "code",
   "execution_count": 71,
   "id": "93d36e6d",
   "metadata": {},
   "outputs": [
    {
     "name": "stdout",
     "output_type": "stream",
     "text": [
      "Accuracy         0.86578\n",
      "F1 score         0.86601\n",
      "ROC AUC score    0.93236\n",
      "Precision        0.86024\n",
      "Recall           0.87185\n",
      "Name: LR_Test, dtype: float64\n"
     ]
    }
   ],
   "source": [
    "predict_and_print(\"LR_Test\", model, X_test, y_test)"
   ]
  },
  {
   "cell_type": "markdown",
   "id": "5f1525bd-bb8c-4982-b2ae-3a78b6b0e97e",
   "metadata": {},
   "source": [
    "#### Decision tree"
   ]
  },
  {
   "cell_type": "markdown",
   "id": "c121ca21-ad2e-4a9c-90de-58fac63c7c86",
   "metadata": {},
   "source": [
    "Lets do Cross Validation to do hyperparameter tuning"
   ]
  },
  {
   "cell_type": "code",
   "execution_count": 72,
   "id": "2d950a60-aa44-4d1c-bb62-843a2502d095",
   "metadata": {},
   "outputs": [],
   "source": [
    "dt = DecisionTreeClassifier(random_state=100)"
   ]
  },
  {
   "cell_type": "code",
   "execution_count": 73,
   "id": "a408218d-e74f-4f93-bda9-f8788a453ebb",
   "metadata": {},
   "outputs": [],
   "source": [
    "params = {\n",
    "    'max_depth': [2, 3, 5, 10, 20],\n",
    "    'min_samples_leaf': [5, 10, 20, 50, 100],\n",
    "    'criterion': [\"gini\", \"entropy\"]\n",
    "}\n",
    "grid_search = GridSearchCV(estimator=dt, \n",
    "                           param_grid=params, \n",
    "                           cv=4, n_jobs=-1, verbose=1, scoring = \"accuracy\")"
   ]
  },
  {
   "cell_type": "code",
   "execution_count": 74,
   "id": "99916a6d-93ec-4fb0-a653-10118d7d1db6",
   "metadata": {},
   "outputs": [
    {
     "name": "stdout",
     "output_type": "stream",
     "text": [
      "Fitting 4 folds for each of 50 candidates, totalling 200 fits\n",
      "Wall time: 2min 49s\n"
     ]
    },
    {
     "data": {
      "text/html": [
       "<style>#sk-container-id-1 {color: black;background-color: white;}#sk-container-id-1 pre{padding: 0;}#sk-container-id-1 div.sk-toggleable {background-color: white;}#sk-container-id-1 label.sk-toggleable__label {cursor: pointer;display: block;width: 100%;margin-bottom: 0;padding: 0.3em;box-sizing: border-box;text-align: center;}#sk-container-id-1 label.sk-toggleable__label-arrow:before {content: \"▸\";float: left;margin-right: 0.25em;color: #696969;}#sk-container-id-1 label.sk-toggleable__label-arrow:hover:before {color: black;}#sk-container-id-1 div.sk-estimator:hover label.sk-toggleable__label-arrow:before {color: black;}#sk-container-id-1 div.sk-toggleable__content {max-height: 0;max-width: 0;overflow: hidden;text-align: left;background-color: #f0f8ff;}#sk-container-id-1 div.sk-toggleable__content pre {margin: 0.2em;color: black;border-radius: 0.25em;background-color: #f0f8ff;}#sk-container-id-1 input.sk-toggleable__control:checked~div.sk-toggleable__content {max-height: 200px;max-width: 100%;overflow: auto;}#sk-container-id-1 input.sk-toggleable__control:checked~label.sk-toggleable__label-arrow:before {content: \"▾\";}#sk-container-id-1 div.sk-estimator input.sk-toggleable__control:checked~label.sk-toggleable__label {background-color: #d4ebff;}#sk-container-id-1 div.sk-label input.sk-toggleable__control:checked~label.sk-toggleable__label {background-color: #d4ebff;}#sk-container-id-1 input.sk-hidden--visually {border: 0;clip: rect(1px 1px 1px 1px);clip: rect(1px, 1px, 1px, 1px);height: 1px;margin: -1px;overflow: hidden;padding: 0;position: absolute;width: 1px;}#sk-container-id-1 div.sk-estimator {font-family: monospace;background-color: #f0f8ff;border: 1px dotted black;border-radius: 0.25em;box-sizing: border-box;margin-bottom: 0.5em;}#sk-container-id-1 div.sk-estimator:hover {background-color: #d4ebff;}#sk-container-id-1 div.sk-parallel-item::after {content: \"\";width: 100%;border-bottom: 1px solid gray;flex-grow: 1;}#sk-container-id-1 div.sk-label:hover label.sk-toggleable__label {background-color: #d4ebff;}#sk-container-id-1 div.sk-serial::before {content: \"\";position: absolute;border-left: 1px solid gray;box-sizing: border-box;top: 0;bottom: 0;left: 50%;z-index: 0;}#sk-container-id-1 div.sk-serial {display: flex;flex-direction: column;align-items: center;background-color: white;padding-right: 0.2em;padding-left: 0.2em;position: relative;}#sk-container-id-1 div.sk-item {position: relative;z-index: 1;}#sk-container-id-1 div.sk-parallel {display: flex;align-items: stretch;justify-content: center;background-color: white;position: relative;}#sk-container-id-1 div.sk-item::before, #sk-container-id-1 div.sk-parallel-item::before {content: \"\";position: absolute;border-left: 1px solid gray;box-sizing: border-box;top: 0;bottom: 0;left: 50%;z-index: -1;}#sk-container-id-1 div.sk-parallel-item {display: flex;flex-direction: column;z-index: 1;position: relative;background-color: white;}#sk-container-id-1 div.sk-parallel-item:first-child::after {align-self: flex-end;width: 50%;}#sk-container-id-1 div.sk-parallel-item:last-child::after {align-self: flex-start;width: 50%;}#sk-container-id-1 div.sk-parallel-item:only-child::after {width: 0;}#sk-container-id-1 div.sk-dashed-wrapped {border: 1px dashed gray;margin: 0 0.4em 0.5em 0.4em;box-sizing: border-box;padding-bottom: 0.4em;background-color: white;}#sk-container-id-1 div.sk-label label {font-family: monospace;font-weight: bold;display: inline-block;line-height: 1.2em;}#sk-container-id-1 div.sk-label-container {text-align: center;}#sk-container-id-1 div.sk-container {/* jupyter's `normalize.less` sets `[hidden] { display: none; }` but bootstrap.min.css set `[hidden] { display: none !important; }` so we also need the `!important` here to be able to override the default hidden behavior on the sphinx rendered scikit-learn.org. See: https://github.com/scikit-learn/scikit-learn/issues/21755 */display: inline-block !important;position: relative;}#sk-container-id-1 div.sk-text-repr-fallback {display: none;}</style><div id=\"sk-container-id-1\" class=\"sk-top-container\"><div class=\"sk-text-repr-fallback\"><pre>GridSearchCV(cv=4, estimator=DecisionTreeClassifier(random_state=100),\n",
       "             n_jobs=-1,\n",
       "             param_grid={&#x27;criterion&#x27;: [&#x27;gini&#x27;, &#x27;entropy&#x27;],\n",
       "                         &#x27;max_depth&#x27;: [2, 3, 5, 10, 20],\n",
       "                         &#x27;min_samples_leaf&#x27;: [5, 10, 20, 50, 100]},\n",
       "             scoring=&#x27;accuracy&#x27;, verbose=1)</pre><b>In a Jupyter environment, please rerun this cell to show the HTML representation or trust the notebook. <br />On GitHub, the HTML representation is unable to render, please try loading this page with nbviewer.org.</b></div><div class=\"sk-container\" hidden><div class=\"sk-item sk-dashed-wrapped\"><div class=\"sk-label-container\"><div class=\"sk-label sk-toggleable\"><input class=\"sk-toggleable__control sk-hidden--visually\" id=\"sk-estimator-id-1\" type=\"checkbox\" ><label for=\"sk-estimator-id-1\" class=\"sk-toggleable__label sk-toggleable__label-arrow\">GridSearchCV</label><div class=\"sk-toggleable__content\"><pre>GridSearchCV(cv=4, estimator=DecisionTreeClassifier(random_state=100),\n",
       "             n_jobs=-1,\n",
       "             param_grid={&#x27;criterion&#x27;: [&#x27;gini&#x27;, &#x27;entropy&#x27;],\n",
       "                         &#x27;max_depth&#x27;: [2, 3, 5, 10, 20],\n",
       "                         &#x27;min_samples_leaf&#x27;: [5, 10, 20, 50, 100]},\n",
       "             scoring=&#x27;accuracy&#x27;, verbose=1)</pre></div></div></div><div class=\"sk-parallel\"><div class=\"sk-parallel-item\"><div class=\"sk-item\"><div class=\"sk-label-container\"><div class=\"sk-label sk-toggleable\"><input class=\"sk-toggleable__control sk-hidden--visually\" id=\"sk-estimator-id-2\" type=\"checkbox\" ><label for=\"sk-estimator-id-2\" class=\"sk-toggleable__label sk-toggleable__label-arrow\">estimator: DecisionTreeClassifier</label><div class=\"sk-toggleable__content\"><pre>DecisionTreeClassifier(random_state=100)</pre></div></div></div><div class=\"sk-serial\"><div class=\"sk-item\"><div class=\"sk-estimator sk-toggleable\"><input class=\"sk-toggleable__control sk-hidden--visually\" id=\"sk-estimator-id-3\" type=\"checkbox\" ><label for=\"sk-estimator-id-3\" class=\"sk-toggleable__label sk-toggleable__label-arrow\">DecisionTreeClassifier</label><div class=\"sk-toggleable__content\"><pre>DecisionTreeClassifier(random_state=100)</pre></div></div></div></div></div></div></div></div></div></div>"
      ],
      "text/plain": [
       "GridSearchCV(cv=4, estimator=DecisionTreeClassifier(random_state=100),\n",
       "             n_jobs=-1,\n",
       "             param_grid={'criterion': ['gini', 'entropy'],\n",
       "                         'max_depth': [2, 3, 5, 10, 20],\n",
       "                         'min_samples_leaf': [5, 10, 20, 50, 100]},\n",
       "             scoring='accuracy', verbose=1)"
      ]
     },
     "execution_count": 74,
     "metadata": {},
     "output_type": "execute_result"
    }
   ],
   "source": [
    "%%time\n",
    "grid_search.fit(X_train_pca, y_train)"
   ]
  },
  {
   "cell_type": "code",
   "execution_count": 75,
   "id": "26f31519-6a1c-4f78-9430-1a50903f54ca",
   "metadata": {},
   "outputs": [
    {
     "data": {
      "text/html": [
       "<style>#sk-container-id-2 {color: black;background-color: white;}#sk-container-id-2 pre{padding: 0;}#sk-container-id-2 div.sk-toggleable {background-color: white;}#sk-container-id-2 label.sk-toggleable__label {cursor: pointer;display: block;width: 100%;margin-bottom: 0;padding: 0.3em;box-sizing: border-box;text-align: center;}#sk-container-id-2 label.sk-toggleable__label-arrow:before {content: \"▸\";float: left;margin-right: 0.25em;color: #696969;}#sk-container-id-2 label.sk-toggleable__label-arrow:hover:before {color: black;}#sk-container-id-2 div.sk-estimator:hover label.sk-toggleable__label-arrow:before {color: black;}#sk-container-id-2 div.sk-toggleable__content {max-height: 0;max-width: 0;overflow: hidden;text-align: left;background-color: #f0f8ff;}#sk-container-id-2 div.sk-toggleable__content pre {margin: 0.2em;color: black;border-radius: 0.25em;background-color: #f0f8ff;}#sk-container-id-2 input.sk-toggleable__control:checked~div.sk-toggleable__content {max-height: 200px;max-width: 100%;overflow: auto;}#sk-container-id-2 input.sk-toggleable__control:checked~label.sk-toggleable__label-arrow:before {content: \"▾\";}#sk-container-id-2 div.sk-estimator input.sk-toggleable__control:checked~label.sk-toggleable__label {background-color: #d4ebff;}#sk-container-id-2 div.sk-label input.sk-toggleable__control:checked~label.sk-toggleable__label {background-color: #d4ebff;}#sk-container-id-2 input.sk-hidden--visually {border: 0;clip: rect(1px 1px 1px 1px);clip: rect(1px, 1px, 1px, 1px);height: 1px;margin: -1px;overflow: hidden;padding: 0;position: absolute;width: 1px;}#sk-container-id-2 div.sk-estimator {font-family: monospace;background-color: #f0f8ff;border: 1px dotted black;border-radius: 0.25em;box-sizing: border-box;margin-bottom: 0.5em;}#sk-container-id-2 div.sk-estimator:hover {background-color: #d4ebff;}#sk-container-id-2 div.sk-parallel-item::after {content: \"\";width: 100%;border-bottom: 1px solid gray;flex-grow: 1;}#sk-container-id-2 div.sk-label:hover label.sk-toggleable__label {background-color: #d4ebff;}#sk-container-id-2 div.sk-serial::before {content: \"\";position: absolute;border-left: 1px solid gray;box-sizing: border-box;top: 0;bottom: 0;left: 50%;z-index: 0;}#sk-container-id-2 div.sk-serial {display: flex;flex-direction: column;align-items: center;background-color: white;padding-right: 0.2em;padding-left: 0.2em;position: relative;}#sk-container-id-2 div.sk-item {position: relative;z-index: 1;}#sk-container-id-2 div.sk-parallel {display: flex;align-items: stretch;justify-content: center;background-color: white;position: relative;}#sk-container-id-2 div.sk-item::before, #sk-container-id-2 div.sk-parallel-item::before {content: \"\";position: absolute;border-left: 1px solid gray;box-sizing: border-box;top: 0;bottom: 0;left: 50%;z-index: -1;}#sk-container-id-2 div.sk-parallel-item {display: flex;flex-direction: column;z-index: 1;position: relative;background-color: white;}#sk-container-id-2 div.sk-parallel-item:first-child::after {align-self: flex-end;width: 50%;}#sk-container-id-2 div.sk-parallel-item:last-child::after {align-self: flex-start;width: 50%;}#sk-container-id-2 div.sk-parallel-item:only-child::after {width: 0;}#sk-container-id-2 div.sk-dashed-wrapped {border: 1px dashed gray;margin: 0 0.4em 0.5em 0.4em;box-sizing: border-box;padding-bottom: 0.4em;background-color: white;}#sk-container-id-2 div.sk-label label {font-family: monospace;font-weight: bold;display: inline-block;line-height: 1.2em;}#sk-container-id-2 div.sk-label-container {text-align: center;}#sk-container-id-2 div.sk-container {/* jupyter's `normalize.less` sets `[hidden] { display: none; }` but bootstrap.min.css set `[hidden] { display: none !important; }` so we also need the `!important` here to be able to override the default hidden behavior on the sphinx rendered scikit-learn.org. See: https://github.com/scikit-learn/scikit-learn/issues/21755 */display: inline-block !important;position: relative;}#sk-container-id-2 div.sk-text-repr-fallback {display: none;}</style><div id=\"sk-container-id-2\" class=\"sk-top-container\"><div class=\"sk-text-repr-fallback\"><pre>DecisionTreeClassifier(criterion=&#x27;entropy&#x27;, max_depth=20, min_samples_leaf=5,\n",
       "                       random_state=100)</pre><b>In a Jupyter environment, please rerun this cell to show the HTML representation or trust the notebook. <br />On GitHub, the HTML representation is unable to render, please try loading this page with nbviewer.org.</b></div><div class=\"sk-container\" hidden><div class=\"sk-item\"><div class=\"sk-estimator sk-toggleable\"><input class=\"sk-toggleable__control sk-hidden--visually\" id=\"sk-estimator-id-4\" type=\"checkbox\" checked><label for=\"sk-estimator-id-4\" class=\"sk-toggleable__label sk-toggleable__label-arrow\">DecisionTreeClassifier</label><div class=\"sk-toggleable__content\"><pre>DecisionTreeClassifier(criterion=&#x27;entropy&#x27;, max_depth=20, min_samples_leaf=5,\n",
       "                       random_state=100)</pre></div></div></div></div></div>"
      ],
      "text/plain": [
       "DecisionTreeClassifier(criterion='entropy', max_depth=20, min_samples_leaf=5,\n",
       "                       random_state=100)"
      ]
     },
     "execution_count": 75,
     "metadata": {},
     "output_type": "execute_result"
    }
   ],
   "source": [
    "grid_search.best_estimator_"
   ]
  },
  {
   "cell_type": "code",
   "execution_count": 76,
   "id": "476c62bb-1bb5-438d-be59-ea0c35a7a428",
   "metadata": {},
   "outputs": [],
   "source": [
    "dt_best = grid_search.best_estimator_"
   ]
  },
  {
   "cell_type": "code",
   "execution_count": 77,
   "id": "b215d693-d06c-42bc-849c-6f1c1609b2cc",
   "metadata": {},
   "outputs": [
    {
     "name": "stdout",
     "output_type": "stream",
     "text": [
      "Accuracy         0.96523\n",
      "F1 score         0.96524\n",
      "ROC AUC score    0.99665\n",
      "Precision        0.96703\n",
      "Recall           0.96346\n",
      "Name: DT_Train, dtype: float64\n"
     ]
    }
   ],
   "source": [
    "predict_and_print(\"DT_Train\", dt_best, X_train_pca, y_train)"
   ]
  },
  {
   "cell_type": "code",
   "execution_count": 78,
   "id": "adc36774-dfff-4b60-97a0-24f2e43d7378",
   "metadata": {},
   "outputs": [
    {
     "name": "stdout",
     "output_type": "stream",
     "text": [
      "Accuracy         0.85871\n",
      "F1 score         0.86025\n",
      "ROC AUC score    0.88930\n",
      "Precision        0.84682\n",
      "Recall           0.87411\n",
      "Name: DT_Test, dtype: float64\n"
     ]
    }
   ],
   "source": [
    "predict_and_print(\"DT_Test\", dt_best, X_test_pca, y_test)"
   ]
  },
  {
   "cell_type": "markdown",
   "id": "77b91e11",
   "metadata": {},
   "source": [
    "#### Decision tree without PCA"
   ]
  },
  {
   "cell_type": "code",
   "execution_count": 79,
   "id": "dd3090ef",
   "metadata": {},
   "outputs": [],
   "source": [
    "dt_2 = DecisionTreeClassifier(random_state=100)"
   ]
  },
  {
   "cell_type": "code",
   "execution_count": 80,
   "id": "32cde074",
   "metadata": {},
   "outputs": [],
   "source": [
    "params = {\n",
    "    'max_depth': [2, 3, 5, 10, 20],\n",
    "    'min_samples_leaf': [5, 10, 20, 50, 100],\n",
    "    'criterion': [\"gini\", \"entropy\"]\n",
    "}\n",
    "grid_search = GridSearchCV(estimator=dt_2, \n",
    "                           param_grid=params, \n",
    "                           cv=4, n_jobs=-1, verbose=1, scoring = \"accuracy\")"
   ]
  },
  {
   "cell_type": "code",
   "execution_count": 81,
   "id": "4def78a0",
   "metadata": {},
   "outputs": [
    {
     "name": "stdout",
     "output_type": "stream",
     "text": [
      "Fitting 4 folds for each of 50 candidates, totalling 200 fits\n",
      "Wall time: 2min 35s\n"
     ]
    },
    {
     "data": {
      "text/html": [
       "<style>#sk-container-id-3 {color: black;background-color: white;}#sk-container-id-3 pre{padding: 0;}#sk-container-id-3 div.sk-toggleable {background-color: white;}#sk-container-id-3 label.sk-toggleable__label {cursor: pointer;display: block;width: 100%;margin-bottom: 0;padding: 0.3em;box-sizing: border-box;text-align: center;}#sk-container-id-3 label.sk-toggleable__label-arrow:before {content: \"▸\";float: left;margin-right: 0.25em;color: #696969;}#sk-container-id-3 label.sk-toggleable__label-arrow:hover:before {color: black;}#sk-container-id-3 div.sk-estimator:hover label.sk-toggleable__label-arrow:before {color: black;}#sk-container-id-3 div.sk-toggleable__content {max-height: 0;max-width: 0;overflow: hidden;text-align: left;background-color: #f0f8ff;}#sk-container-id-3 div.sk-toggleable__content pre {margin: 0.2em;color: black;border-radius: 0.25em;background-color: #f0f8ff;}#sk-container-id-3 input.sk-toggleable__control:checked~div.sk-toggleable__content {max-height: 200px;max-width: 100%;overflow: auto;}#sk-container-id-3 input.sk-toggleable__control:checked~label.sk-toggleable__label-arrow:before {content: \"▾\";}#sk-container-id-3 div.sk-estimator input.sk-toggleable__control:checked~label.sk-toggleable__label {background-color: #d4ebff;}#sk-container-id-3 div.sk-label input.sk-toggleable__control:checked~label.sk-toggleable__label {background-color: #d4ebff;}#sk-container-id-3 input.sk-hidden--visually {border: 0;clip: rect(1px 1px 1px 1px);clip: rect(1px, 1px, 1px, 1px);height: 1px;margin: -1px;overflow: hidden;padding: 0;position: absolute;width: 1px;}#sk-container-id-3 div.sk-estimator {font-family: monospace;background-color: #f0f8ff;border: 1px dotted black;border-radius: 0.25em;box-sizing: border-box;margin-bottom: 0.5em;}#sk-container-id-3 div.sk-estimator:hover {background-color: #d4ebff;}#sk-container-id-3 div.sk-parallel-item::after {content: \"\";width: 100%;border-bottom: 1px solid gray;flex-grow: 1;}#sk-container-id-3 div.sk-label:hover label.sk-toggleable__label {background-color: #d4ebff;}#sk-container-id-3 div.sk-serial::before {content: \"\";position: absolute;border-left: 1px solid gray;box-sizing: border-box;top: 0;bottom: 0;left: 50%;z-index: 0;}#sk-container-id-3 div.sk-serial {display: flex;flex-direction: column;align-items: center;background-color: white;padding-right: 0.2em;padding-left: 0.2em;position: relative;}#sk-container-id-3 div.sk-item {position: relative;z-index: 1;}#sk-container-id-3 div.sk-parallel {display: flex;align-items: stretch;justify-content: center;background-color: white;position: relative;}#sk-container-id-3 div.sk-item::before, #sk-container-id-3 div.sk-parallel-item::before {content: \"\";position: absolute;border-left: 1px solid gray;box-sizing: border-box;top: 0;bottom: 0;left: 50%;z-index: -1;}#sk-container-id-3 div.sk-parallel-item {display: flex;flex-direction: column;z-index: 1;position: relative;background-color: white;}#sk-container-id-3 div.sk-parallel-item:first-child::after {align-self: flex-end;width: 50%;}#sk-container-id-3 div.sk-parallel-item:last-child::after {align-self: flex-start;width: 50%;}#sk-container-id-3 div.sk-parallel-item:only-child::after {width: 0;}#sk-container-id-3 div.sk-dashed-wrapped {border: 1px dashed gray;margin: 0 0.4em 0.5em 0.4em;box-sizing: border-box;padding-bottom: 0.4em;background-color: white;}#sk-container-id-3 div.sk-label label {font-family: monospace;font-weight: bold;display: inline-block;line-height: 1.2em;}#sk-container-id-3 div.sk-label-container {text-align: center;}#sk-container-id-3 div.sk-container {/* jupyter's `normalize.less` sets `[hidden] { display: none; }` but bootstrap.min.css set `[hidden] { display: none !important; }` so we also need the `!important` here to be able to override the default hidden behavior on the sphinx rendered scikit-learn.org. See: https://github.com/scikit-learn/scikit-learn/issues/21755 */display: inline-block !important;position: relative;}#sk-container-id-3 div.sk-text-repr-fallback {display: none;}</style><div id=\"sk-container-id-3\" class=\"sk-top-container\"><div class=\"sk-text-repr-fallback\"><pre>GridSearchCV(cv=4, estimator=DecisionTreeClassifier(random_state=100),\n",
       "             n_jobs=-1,\n",
       "             param_grid={&#x27;criterion&#x27;: [&#x27;gini&#x27;, &#x27;entropy&#x27;],\n",
       "                         &#x27;max_depth&#x27;: [2, 3, 5, 10, 20],\n",
       "                         &#x27;min_samples_leaf&#x27;: [5, 10, 20, 50, 100]},\n",
       "             scoring=&#x27;accuracy&#x27;, verbose=1)</pre><b>In a Jupyter environment, please rerun this cell to show the HTML representation or trust the notebook. <br />On GitHub, the HTML representation is unable to render, please try loading this page with nbviewer.org.</b></div><div class=\"sk-container\" hidden><div class=\"sk-item sk-dashed-wrapped\"><div class=\"sk-label-container\"><div class=\"sk-label sk-toggleable\"><input class=\"sk-toggleable__control sk-hidden--visually\" id=\"sk-estimator-id-5\" type=\"checkbox\" ><label for=\"sk-estimator-id-5\" class=\"sk-toggleable__label sk-toggleable__label-arrow\">GridSearchCV</label><div class=\"sk-toggleable__content\"><pre>GridSearchCV(cv=4, estimator=DecisionTreeClassifier(random_state=100),\n",
       "             n_jobs=-1,\n",
       "             param_grid={&#x27;criterion&#x27;: [&#x27;gini&#x27;, &#x27;entropy&#x27;],\n",
       "                         &#x27;max_depth&#x27;: [2, 3, 5, 10, 20],\n",
       "                         &#x27;min_samples_leaf&#x27;: [5, 10, 20, 50, 100]},\n",
       "             scoring=&#x27;accuracy&#x27;, verbose=1)</pre></div></div></div><div class=\"sk-parallel\"><div class=\"sk-parallel-item\"><div class=\"sk-item\"><div class=\"sk-label-container\"><div class=\"sk-label sk-toggleable\"><input class=\"sk-toggleable__control sk-hidden--visually\" id=\"sk-estimator-id-6\" type=\"checkbox\" ><label for=\"sk-estimator-id-6\" class=\"sk-toggleable__label sk-toggleable__label-arrow\">estimator: DecisionTreeClassifier</label><div class=\"sk-toggleable__content\"><pre>DecisionTreeClassifier(random_state=100)</pre></div></div></div><div class=\"sk-serial\"><div class=\"sk-item\"><div class=\"sk-estimator sk-toggleable\"><input class=\"sk-toggleable__control sk-hidden--visually\" id=\"sk-estimator-id-7\" type=\"checkbox\" ><label for=\"sk-estimator-id-7\" class=\"sk-toggleable__label sk-toggleable__label-arrow\">DecisionTreeClassifier</label><div class=\"sk-toggleable__content\"><pre>DecisionTreeClassifier(random_state=100)</pre></div></div></div></div></div></div></div></div></div></div>"
      ],
      "text/plain": [
       "GridSearchCV(cv=4, estimator=DecisionTreeClassifier(random_state=100),\n",
       "             n_jobs=-1,\n",
       "             param_grid={'criterion': ['gini', 'entropy'],\n",
       "                         'max_depth': [2, 3, 5, 10, 20],\n",
       "                         'min_samples_leaf': [5, 10, 20, 50, 100]},\n",
       "             scoring='accuracy', verbose=1)"
      ]
     },
     "execution_count": 81,
     "metadata": {},
     "output_type": "execute_result"
    }
   ],
   "source": [
    "%%time\n",
    "grid_search.fit(X_train, y_train)"
   ]
  },
  {
   "cell_type": "code",
   "execution_count": 82,
   "id": "3773d8d9",
   "metadata": {},
   "outputs": [],
   "source": [
    "dt_best_2 = grid_search.best_estimator_"
   ]
  },
  {
   "cell_type": "code",
   "execution_count": 83,
   "id": "3bd473e5",
   "metadata": {},
   "outputs": [
    {
     "name": "stdout",
     "output_type": "stream",
     "text": [
      "Accuracy         0.93462\n",
      "F1 score         0.93519\n",
      "ROC AUC score    0.97754\n",
      "Precision        0.92898\n",
      "Recall           0.94149\n",
      "Name: DT_Train, dtype: float64\n"
     ]
    }
   ],
   "source": [
    "predict_and_print(\"DT_Train\", dt_best_2, X_train, y_train)"
   ]
  },
  {
   "cell_type": "code",
   "execution_count": 84,
   "id": "d726cebe",
   "metadata": {},
   "outputs": [
    {
     "name": "stdout",
     "output_type": "stream",
     "text": [
      "Accuracy         0.91633\n",
      "F1 score         0.91670\n",
      "ROC AUC score    0.96203\n",
      "Precision        0.90823\n",
      "Recall           0.92533\n",
      "Name: DT_Test, dtype: float64\n"
     ]
    }
   ],
   "source": [
    "predict_and_print(\"DT_Test\", dt_best_2, X_test, y_test)"
   ]
  },
  {
   "cell_type": "markdown",
   "id": "451261d1-e233-4ac4-a42b-1d19d142a08f",
   "metadata": {},
   "source": [
    "#### Random Forest"
   ]
  },
  {
   "cell_type": "code",
   "execution_count": 85,
   "id": "45777d7b-5f2c-4c85-b443-c2100ac66ef5",
   "metadata": {},
   "outputs": [],
   "source": [
    "rf = RandomForestClassifier(random_state=100, n_jobs=-1)"
   ]
  },
  {
   "cell_type": "code",
   "execution_count": 86,
   "id": "472e1354-90f1-4d51-9178-3727b491042d",
   "metadata": {},
   "outputs": [],
   "source": [
    "params = {\n",
    "    'max_depth': [10,20,30,40],\n",
    "    'min_samples_leaf': [3,5,10,20],\n",
    "    'n_estimators': [10, 25, 50, 100]\n",
    "}\n",
    "grid_search = GridSearchCV(estimator=rf,\n",
    "                           param_grid=params,\n",
    "                           cv = 4,\n",
    "                           n_jobs=-1, verbose=1, scoring=\"accuracy\")"
   ]
  },
  {
   "cell_type": "code",
   "execution_count": 87,
   "id": "14a73465-c239-4e85-93f0-62d2761c658a",
   "metadata": {},
   "outputs": [
    {
     "name": "stdout",
     "output_type": "stream",
     "text": [
      "Fitting 4 folds for each of 64 candidates, totalling 256 fits\n",
      "Wall time: 17min 54s\n"
     ]
    },
    {
     "data": {
      "text/html": [
       "<style>#sk-container-id-4 {color: black;background-color: white;}#sk-container-id-4 pre{padding: 0;}#sk-container-id-4 div.sk-toggleable {background-color: white;}#sk-container-id-4 label.sk-toggleable__label {cursor: pointer;display: block;width: 100%;margin-bottom: 0;padding: 0.3em;box-sizing: border-box;text-align: center;}#sk-container-id-4 label.sk-toggleable__label-arrow:before {content: \"▸\";float: left;margin-right: 0.25em;color: #696969;}#sk-container-id-4 label.sk-toggleable__label-arrow:hover:before {color: black;}#sk-container-id-4 div.sk-estimator:hover label.sk-toggleable__label-arrow:before {color: black;}#sk-container-id-4 div.sk-toggleable__content {max-height: 0;max-width: 0;overflow: hidden;text-align: left;background-color: #f0f8ff;}#sk-container-id-4 div.sk-toggleable__content pre {margin: 0.2em;color: black;border-radius: 0.25em;background-color: #f0f8ff;}#sk-container-id-4 input.sk-toggleable__control:checked~div.sk-toggleable__content {max-height: 200px;max-width: 100%;overflow: auto;}#sk-container-id-4 input.sk-toggleable__control:checked~label.sk-toggleable__label-arrow:before {content: \"▾\";}#sk-container-id-4 div.sk-estimator input.sk-toggleable__control:checked~label.sk-toggleable__label {background-color: #d4ebff;}#sk-container-id-4 div.sk-label input.sk-toggleable__control:checked~label.sk-toggleable__label {background-color: #d4ebff;}#sk-container-id-4 input.sk-hidden--visually {border: 0;clip: rect(1px 1px 1px 1px);clip: rect(1px, 1px, 1px, 1px);height: 1px;margin: -1px;overflow: hidden;padding: 0;position: absolute;width: 1px;}#sk-container-id-4 div.sk-estimator {font-family: monospace;background-color: #f0f8ff;border: 1px dotted black;border-radius: 0.25em;box-sizing: border-box;margin-bottom: 0.5em;}#sk-container-id-4 div.sk-estimator:hover {background-color: #d4ebff;}#sk-container-id-4 div.sk-parallel-item::after {content: \"\";width: 100%;border-bottom: 1px solid gray;flex-grow: 1;}#sk-container-id-4 div.sk-label:hover label.sk-toggleable__label {background-color: #d4ebff;}#sk-container-id-4 div.sk-serial::before {content: \"\";position: absolute;border-left: 1px solid gray;box-sizing: border-box;top: 0;bottom: 0;left: 50%;z-index: 0;}#sk-container-id-4 div.sk-serial {display: flex;flex-direction: column;align-items: center;background-color: white;padding-right: 0.2em;padding-left: 0.2em;position: relative;}#sk-container-id-4 div.sk-item {position: relative;z-index: 1;}#sk-container-id-4 div.sk-parallel {display: flex;align-items: stretch;justify-content: center;background-color: white;position: relative;}#sk-container-id-4 div.sk-item::before, #sk-container-id-4 div.sk-parallel-item::before {content: \"\";position: absolute;border-left: 1px solid gray;box-sizing: border-box;top: 0;bottom: 0;left: 50%;z-index: -1;}#sk-container-id-4 div.sk-parallel-item {display: flex;flex-direction: column;z-index: 1;position: relative;background-color: white;}#sk-container-id-4 div.sk-parallel-item:first-child::after {align-self: flex-end;width: 50%;}#sk-container-id-4 div.sk-parallel-item:last-child::after {align-self: flex-start;width: 50%;}#sk-container-id-4 div.sk-parallel-item:only-child::after {width: 0;}#sk-container-id-4 div.sk-dashed-wrapped {border: 1px dashed gray;margin: 0 0.4em 0.5em 0.4em;box-sizing: border-box;padding-bottom: 0.4em;background-color: white;}#sk-container-id-4 div.sk-label label {font-family: monospace;font-weight: bold;display: inline-block;line-height: 1.2em;}#sk-container-id-4 div.sk-label-container {text-align: center;}#sk-container-id-4 div.sk-container {/* jupyter's `normalize.less` sets `[hidden] { display: none; }` but bootstrap.min.css set `[hidden] { display: none !important; }` so we also need the `!important` here to be able to override the default hidden behavior on the sphinx rendered scikit-learn.org. See: https://github.com/scikit-learn/scikit-learn/issues/21755 */display: inline-block !important;position: relative;}#sk-container-id-4 div.sk-text-repr-fallback {display: none;}</style><div id=\"sk-container-id-4\" class=\"sk-top-container\"><div class=\"sk-text-repr-fallback\"><pre>GridSearchCV(cv=4,\n",
       "             estimator=RandomForestClassifier(n_jobs=-1, random_state=100),\n",
       "             n_jobs=-1,\n",
       "             param_grid={&#x27;max_depth&#x27;: [10, 20, 30, 40],\n",
       "                         &#x27;min_samples_leaf&#x27;: [3, 5, 10, 20],\n",
       "                         &#x27;n_estimators&#x27;: [10, 25, 50, 100]},\n",
       "             scoring=&#x27;accuracy&#x27;, verbose=1)</pre><b>In a Jupyter environment, please rerun this cell to show the HTML representation or trust the notebook. <br />On GitHub, the HTML representation is unable to render, please try loading this page with nbviewer.org.</b></div><div class=\"sk-container\" hidden><div class=\"sk-item sk-dashed-wrapped\"><div class=\"sk-label-container\"><div class=\"sk-label sk-toggleable\"><input class=\"sk-toggleable__control sk-hidden--visually\" id=\"sk-estimator-id-8\" type=\"checkbox\" ><label for=\"sk-estimator-id-8\" class=\"sk-toggleable__label sk-toggleable__label-arrow\">GridSearchCV</label><div class=\"sk-toggleable__content\"><pre>GridSearchCV(cv=4,\n",
       "             estimator=RandomForestClassifier(n_jobs=-1, random_state=100),\n",
       "             n_jobs=-1,\n",
       "             param_grid={&#x27;max_depth&#x27;: [10, 20, 30, 40],\n",
       "                         &#x27;min_samples_leaf&#x27;: [3, 5, 10, 20],\n",
       "                         &#x27;n_estimators&#x27;: [10, 25, 50, 100]},\n",
       "             scoring=&#x27;accuracy&#x27;, verbose=1)</pre></div></div></div><div class=\"sk-parallel\"><div class=\"sk-parallel-item\"><div class=\"sk-item\"><div class=\"sk-label-container\"><div class=\"sk-label sk-toggleable\"><input class=\"sk-toggleable__control sk-hidden--visually\" id=\"sk-estimator-id-9\" type=\"checkbox\" ><label for=\"sk-estimator-id-9\" class=\"sk-toggleable__label sk-toggleable__label-arrow\">estimator: RandomForestClassifier</label><div class=\"sk-toggleable__content\"><pre>RandomForestClassifier(n_jobs=-1, random_state=100)</pre></div></div></div><div class=\"sk-serial\"><div class=\"sk-item\"><div class=\"sk-estimator sk-toggleable\"><input class=\"sk-toggleable__control sk-hidden--visually\" id=\"sk-estimator-id-10\" type=\"checkbox\" ><label for=\"sk-estimator-id-10\" class=\"sk-toggleable__label sk-toggleable__label-arrow\">RandomForestClassifier</label><div class=\"sk-toggleable__content\"><pre>RandomForestClassifier(n_jobs=-1, random_state=100)</pre></div></div></div></div></div></div></div></div></div></div>"
      ],
      "text/plain": [
       "GridSearchCV(cv=4,\n",
       "             estimator=RandomForestClassifier(n_jobs=-1, random_state=100),\n",
       "             n_jobs=-1,\n",
       "             param_grid={'max_depth': [10, 20, 30, 40],\n",
       "                         'min_samples_leaf': [3, 5, 10, 20],\n",
       "                         'n_estimators': [10, 25, 50, 100]},\n",
       "             scoring='accuracy', verbose=1)"
      ]
     },
     "execution_count": 87,
     "metadata": {},
     "output_type": "execute_result"
    }
   ],
   "source": [
    "%%time\n",
    "grid_search.fit(X_train_pca, y_train)"
   ]
  },
  {
   "cell_type": "code",
   "execution_count": 88,
   "id": "37ddc97d-987e-46ef-88bd-cbe34df4958c",
   "metadata": {},
   "outputs": [
    {
     "data": {
      "text/html": [
       "<style>#sk-container-id-5 {color: black;background-color: white;}#sk-container-id-5 pre{padding: 0;}#sk-container-id-5 div.sk-toggleable {background-color: white;}#sk-container-id-5 label.sk-toggleable__label {cursor: pointer;display: block;width: 100%;margin-bottom: 0;padding: 0.3em;box-sizing: border-box;text-align: center;}#sk-container-id-5 label.sk-toggleable__label-arrow:before {content: \"▸\";float: left;margin-right: 0.25em;color: #696969;}#sk-container-id-5 label.sk-toggleable__label-arrow:hover:before {color: black;}#sk-container-id-5 div.sk-estimator:hover label.sk-toggleable__label-arrow:before {color: black;}#sk-container-id-5 div.sk-toggleable__content {max-height: 0;max-width: 0;overflow: hidden;text-align: left;background-color: #f0f8ff;}#sk-container-id-5 div.sk-toggleable__content pre {margin: 0.2em;color: black;border-radius: 0.25em;background-color: #f0f8ff;}#sk-container-id-5 input.sk-toggleable__control:checked~div.sk-toggleable__content {max-height: 200px;max-width: 100%;overflow: auto;}#sk-container-id-5 input.sk-toggleable__control:checked~label.sk-toggleable__label-arrow:before {content: \"▾\";}#sk-container-id-5 div.sk-estimator input.sk-toggleable__control:checked~label.sk-toggleable__label {background-color: #d4ebff;}#sk-container-id-5 div.sk-label input.sk-toggleable__control:checked~label.sk-toggleable__label {background-color: #d4ebff;}#sk-container-id-5 input.sk-hidden--visually {border: 0;clip: rect(1px 1px 1px 1px);clip: rect(1px, 1px, 1px, 1px);height: 1px;margin: -1px;overflow: hidden;padding: 0;position: absolute;width: 1px;}#sk-container-id-5 div.sk-estimator {font-family: monospace;background-color: #f0f8ff;border: 1px dotted black;border-radius: 0.25em;box-sizing: border-box;margin-bottom: 0.5em;}#sk-container-id-5 div.sk-estimator:hover {background-color: #d4ebff;}#sk-container-id-5 div.sk-parallel-item::after {content: \"\";width: 100%;border-bottom: 1px solid gray;flex-grow: 1;}#sk-container-id-5 div.sk-label:hover label.sk-toggleable__label {background-color: #d4ebff;}#sk-container-id-5 div.sk-serial::before {content: \"\";position: absolute;border-left: 1px solid gray;box-sizing: border-box;top: 0;bottom: 0;left: 50%;z-index: 0;}#sk-container-id-5 div.sk-serial {display: flex;flex-direction: column;align-items: center;background-color: white;padding-right: 0.2em;padding-left: 0.2em;position: relative;}#sk-container-id-5 div.sk-item {position: relative;z-index: 1;}#sk-container-id-5 div.sk-parallel {display: flex;align-items: stretch;justify-content: center;background-color: white;position: relative;}#sk-container-id-5 div.sk-item::before, #sk-container-id-5 div.sk-parallel-item::before {content: \"\";position: absolute;border-left: 1px solid gray;box-sizing: border-box;top: 0;bottom: 0;left: 50%;z-index: -1;}#sk-container-id-5 div.sk-parallel-item {display: flex;flex-direction: column;z-index: 1;position: relative;background-color: white;}#sk-container-id-5 div.sk-parallel-item:first-child::after {align-self: flex-end;width: 50%;}#sk-container-id-5 div.sk-parallel-item:last-child::after {align-self: flex-start;width: 50%;}#sk-container-id-5 div.sk-parallel-item:only-child::after {width: 0;}#sk-container-id-5 div.sk-dashed-wrapped {border: 1px dashed gray;margin: 0 0.4em 0.5em 0.4em;box-sizing: border-box;padding-bottom: 0.4em;background-color: white;}#sk-container-id-5 div.sk-label label {font-family: monospace;font-weight: bold;display: inline-block;line-height: 1.2em;}#sk-container-id-5 div.sk-label-container {text-align: center;}#sk-container-id-5 div.sk-container {/* jupyter's `normalize.less` sets `[hidden] { display: none; }` but bootstrap.min.css set `[hidden] { display: none !important; }` so we also need the `!important` here to be able to override the default hidden behavior on the sphinx rendered scikit-learn.org. See: https://github.com/scikit-learn/scikit-learn/issues/21755 */display: inline-block !important;position: relative;}#sk-container-id-5 div.sk-text-repr-fallback {display: none;}</style><div id=\"sk-container-id-5\" class=\"sk-top-container\"><div class=\"sk-text-repr-fallback\"><pre>RandomForestClassifier(max_depth=30, min_samples_leaf=3, n_jobs=-1,\n",
       "                       random_state=100)</pre><b>In a Jupyter environment, please rerun this cell to show the HTML representation or trust the notebook. <br />On GitHub, the HTML representation is unable to render, please try loading this page with nbviewer.org.</b></div><div class=\"sk-container\" hidden><div class=\"sk-item\"><div class=\"sk-estimator sk-toggleable\"><input class=\"sk-toggleable__control sk-hidden--visually\" id=\"sk-estimator-id-11\" type=\"checkbox\" checked><label for=\"sk-estimator-id-11\" class=\"sk-toggleable__label sk-toggleable__label-arrow\">RandomForestClassifier</label><div class=\"sk-toggleable__content\"><pre>RandomForestClassifier(max_depth=30, min_samples_leaf=3, n_jobs=-1,\n",
       "                       random_state=100)</pre></div></div></div></div></div>"
      ],
      "text/plain": [
       "RandomForestClassifier(max_depth=30, min_samples_leaf=3, n_jobs=-1,\n",
       "                       random_state=100)"
      ]
     },
     "execution_count": 88,
     "metadata": {},
     "output_type": "execute_result"
    }
   ],
   "source": [
    "grid_search.best_estimator_"
   ]
  },
  {
   "cell_type": "code",
   "execution_count": 89,
   "id": "69e08a5f-f563-4ad4-9b82-9760c7e1799d",
   "metadata": {},
   "outputs": [],
   "source": [
    "rf_best = grid_search.best_estimator_"
   ]
  },
  {
   "cell_type": "code",
   "execution_count": 90,
   "id": "050f7683-843c-4fe8-9dc9-bebe2e88bfe6",
   "metadata": {},
   "outputs": [
    {
     "name": "stdout",
     "output_type": "stream",
     "text": [
      "Accuracy         0.99362\n",
      "F1 score         0.99366\n",
      "ROC AUC score    0.99985\n",
      "Precision        0.99018\n",
      "Recall           0.99716\n",
      "Name: RF_Train, dtype: float64\n"
     ]
    }
   ],
   "source": [
    "predict_and_print(\"RF_Train\", rf_best, X_train_pca, y_train)"
   ]
  },
  {
   "cell_type": "code",
   "execution_count": 91,
   "id": "335377d0-066e-47f3-846a-c81637d322ed",
   "metadata": {},
   "outputs": [
    {
     "name": "stdout",
     "output_type": "stream",
     "text": [
      "Accuracy         0.92458\n",
      "F1 score         0.92538\n",
      "ROC AUC score    0.97732\n",
      "Precision        0.91119\n",
      "Recall           0.94002\n",
      "Name: RF_Test, dtype: float64\n"
     ]
    }
   ],
   "source": [
    "predict_and_print(\"RF_Test\", rf_best, X_test_pca, y_test)"
   ]
  },
  {
   "cell_type": "markdown",
   "id": "aa9302cc",
   "metadata": {},
   "source": [
    "#### Random Forest without PCA"
   ]
  },
  {
   "cell_type": "code",
   "execution_count": 92,
   "id": "38ff902c",
   "metadata": {},
   "outputs": [],
   "source": [
    "rf_2 = RandomForestClassifier(random_state=100, n_jobs=-1)"
   ]
  },
  {
   "cell_type": "code",
   "execution_count": 93,
   "id": "6bfb79a4",
   "metadata": {},
   "outputs": [],
   "source": [
    "params = {\n",
    "    'max_depth': [10,20,30,40],\n",
    "    'min_samples_leaf': [3,5,10,20],\n",
    "    'n_estimators': [10, 25, 50, 100]\n",
    "}\n",
    "grid_search = GridSearchCV(estimator=rf_2,\n",
    "                           param_grid=params,\n",
    "                           cv = 4,\n",
    "                           n_jobs=-1, verbose=1, scoring=\"accuracy\")"
   ]
  },
  {
   "cell_type": "code",
   "execution_count": 94,
   "id": "52807e39",
   "metadata": {},
   "outputs": [
    {
     "name": "stdout",
     "output_type": "stream",
     "text": [
      "Fitting 4 folds for each of 64 candidates, totalling 256 fits\n",
      "Wall time: 13min 30s\n"
     ]
    },
    {
     "data": {
      "text/html": [
       "<style>#sk-container-id-6 {color: black;background-color: white;}#sk-container-id-6 pre{padding: 0;}#sk-container-id-6 div.sk-toggleable {background-color: white;}#sk-container-id-6 label.sk-toggleable__label {cursor: pointer;display: block;width: 100%;margin-bottom: 0;padding: 0.3em;box-sizing: border-box;text-align: center;}#sk-container-id-6 label.sk-toggleable__label-arrow:before {content: \"▸\";float: left;margin-right: 0.25em;color: #696969;}#sk-container-id-6 label.sk-toggleable__label-arrow:hover:before {color: black;}#sk-container-id-6 div.sk-estimator:hover label.sk-toggleable__label-arrow:before {color: black;}#sk-container-id-6 div.sk-toggleable__content {max-height: 0;max-width: 0;overflow: hidden;text-align: left;background-color: #f0f8ff;}#sk-container-id-6 div.sk-toggleable__content pre {margin: 0.2em;color: black;border-radius: 0.25em;background-color: #f0f8ff;}#sk-container-id-6 input.sk-toggleable__control:checked~div.sk-toggleable__content {max-height: 200px;max-width: 100%;overflow: auto;}#sk-container-id-6 input.sk-toggleable__control:checked~label.sk-toggleable__label-arrow:before {content: \"▾\";}#sk-container-id-6 div.sk-estimator input.sk-toggleable__control:checked~label.sk-toggleable__label {background-color: #d4ebff;}#sk-container-id-6 div.sk-label input.sk-toggleable__control:checked~label.sk-toggleable__label {background-color: #d4ebff;}#sk-container-id-6 input.sk-hidden--visually {border: 0;clip: rect(1px 1px 1px 1px);clip: rect(1px, 1px, 1px, 1px);height: 1px;margin: -1px;overflow: hidden;padding: 0;position: absolute;width: 1px;}#sk-container-id-6 div.sk-estimator {font-family: monospace;background-color: #f0f8ff;border: 1px dotted black;border-radius: 0.25em;box-sizing: border-box;margin-bottom: 0.5em;}#sk-container-id-6 div.sk-estimator:hover {background-color: #d4ebff;}#sk-container-id-6 div.sk-parallel-item::after {content: \"\";width: 100%;border-bottom: 1px solid gray;flex-grow: 1;}#sk-container-id-6 div.sk-label:hover label.sk-toggleable__label {background-color: #d4ebff;}#sk-container-id-6 div.sk-serial::before {content: \"\";position: absolute;border-left: 1px solid gray;box-sizing: border-box;top: 0;bottom: 0;left: 50%;z-index: 0;}#sk-container-id-6 div.sk-serial {display: flex;flex-direction: column;align-items: center;background-color: white;padding-right: 0.2em;padding-left: 0.2em;position: relative;}#sk-container-id-6 div.sk-item {position: relative;z-index: 1;}#sk-container-id-6 div.sk-parallel {display: flex;align-items: stretch;justify-content: center;background-color: white;position: relative;}#sk-container-id-6 div.sk-item::before, #sk-container-id-6 div.sk-parallel-item::before {content: \"\";position: absolute;border-left: 1px solid gray;box-sizing: border-box;top: 0;bottom: 0;left: 50%;z-index: -1;}#sk-container-id-6 div.sk-parallel-item {display: flex;flex-direction: column;z-index: 1;position: relative;background-color: white;}#sk-container-id-6 div.sk-parallel-item:first-child::after {align-self: flex-end;width: 50%;}#sk-container-id-6 div.sk-parallel-item:last-child::after {align-self: flex-start;width: 50%;}#sk-container-id-6 div.sk-parallel-item:only-child::after {width: 0;}#sk-container-id-6 div.sk-dashed-wrapped {border: 1px dashed gray;margin: 0 0.4em 0.5em 0.4em;box-sizing: border-box;padding-bottom: 0.4em;background-color: white;}#sk-container-id-6 div.sk-label label {font-family: monospace;font-weight: bold;display: inline-block;line-height: 1.2em;}#sk-container-id-6 div.sk-label-container {text-align: center;}#sk-container-id-6 div.sk-container {/* jupyter's `normalize.less` sets `[hidden] { display: none; }` but bootstrap.min.css set `[hidden] { display: none !important; }` so we also need the `!important` here to be able to override the default hidden behavior on the sphinx rendered scikit-learn.org. See: https://github.com/scikit-learn/scikit-learn/issues/21755 */display: inline-block !important;position: relative;}#sk-container-id-6 div.sk-text-repr-fallback {display: none;}</style><div id=\"sk-container-id-6\" class=\"sk-top-container\"><div class=\"sk-text-repr-fallback\"><pre>GridSearchCV(cv=4,\n",
       "             estimator=RandomForestClassifier(n_jobs=-1, random_state=100),\n",
       "             n_jobs=-1,\n",
       "             param_grid={&#x27;max_depth&#x27;: [10, 20, 30, 40],\n",
       "                         &#x27;min_samples_leaf&#x27;: [3, 5, 10, 20],\n",
       "                         &#x27;n_estimators&#x27;: [10, 25, 50, 100]},\n",
       "             scoring=&#x27;accuracy&#x27;, verbose=1)</pre><b>In a Jupyter environment, please rerun this cell to show the HTML representation or trust the notebook. <br />On GitHub, the HTML representation is unable to render, please try loading this page with nbviewer.org.</b></div><div class=\"sk-container\" hidden><div class=\"sk-item sk-dashed-wrapped\"><div class=\"sk-label-container\"><div class=\"sk-label sk-toggleable\"><input class=\"sk-toggleable__control sk-hidden--visually\" id=\"sk-estimator-id-12\" type=\"checkbox\" ><label for=\"sk-estimator-id-12\" class=\"sk-toggleable__label sk-toggleable__label-arrow\">GridSearchCV</label><div class=\"sk-toggleable__content\"><pre>GridSearchCV(cv=4,\n",
       "             estimator=RandomForestClassifier(n_jobs=-1, random_state=100),\n",
       "             n_jobs=-1,\n",
       "             param_grid={&#x27;max_depth&#x27;: [10, 20, 30, 40],\n",
       "                         &#x27;min_samples_leaf&#x27;: [3, 5, 10, 20],\n",
       "                         &#x27;n_estimators&#x27;: [10, 25, 50, 100]},\n",
       "             scoring=&#x27;accuracy&#x27;, verbose=1)</pre></div></div></div><div class=\"sk-parallel\"><div class=\"sk-parallel-item\"><div class=\"sk-item\"><div class=\"sk-label-container\"><div class=\"sk-label sk-toggleable\"><input class=\"sk-toggleable__control sk-hidden--visually\" id=\"sk-estimator-id-13\" type=\"checkbox\" ><label for=\"sk-estimator-id-13\" class=\"sk-toggleable__label sk-toggleable__label-arrow\">estimator: RandomForestClassifier</label><div class=\"sk-toggleable__content\"><pre>RandomForestClassifier(n_jobs=-1, random_state=100)</pre></div></div></div><div class=\"sk-serial\"><div class=\"sk-item\"><div class=\"sk-estimator sk-toggleable\"><input class=\"sk-toggleable__control sk-hidden--visually\" id=\"sk-estimator-id-14\" type=\"checkbox\" ><label for=\"sk-estimator-id-14\" class=\"sk-toggleable__label sk-toggleable__label-arrow\">RandomForestClassifier</label><div class=\"sk-toggleable__content\"><pre>RandomForestClassifier(n_jobs=-1, random_state=100)</pre></div></div></div></div></div></div></div></div></div></div>"
      ],
      "text/plain": [
       "GridSearchCV(cv=4,\n",
       "             estimator=RandomForestClassifier(n_jobs=-1, random_state=100),\n",
       "             n_jobs=-1,\n",
       "             param_grid={'max_depth': [10, 20, 30, 40],\n",
       "                         'min_samples_leaf': [3, 5, 10, 20],\n",
       "                         'n_estimators': [10, 25, 50, 100]},\n",
       "             scoring='accuracy', verbose=1)"
      ]
     },
     "execution_count": 94,
     "metadata": {},
     "output_type": "execute_result"
    }
   ],
   "source": [
    "%%time\n",
    "grid_search.fit(X_train, y_train)"
   ]
  },
  {
   "cell_type": "code",
   "execution_count": 95,
   "id": "c017fa71",
   "metadata": {},
   "outputs": [],
   "source": [
    "rf_best_2 = grid_search.best_estimator_"
   ]
  },
  {
   "cell_type": "code",
   "execution_count": 96,
   "id": "c2e4c972",
   "metadata": {},
   "outputs": [
    {
     "name": "stdout",
     "output_type": "stream",
     "text": [
      "Accuracy         0.99042\n",
      "F1 score         0.99048\n",
      "ROC AUC score    0.99967\n",
      "Precision        0.98627\n",
      "Recall           0.99473\n",
      "Name: RF_Train, dtype: float64\n"
     ]
    }
   ],
   "source": [
    "predict_and_print(\"RF_Train\", rf_best_2, X_train, y_train)"
   ]
  },
  {
   "cell_type": "code",
   "execution_count": 97,
   "id": "7b84e904",
   "metadata": {},
   "outputs": [
    {
     "name": "stdout",
     "output_type": "stream",
     "text": [
      "Accuracy         0.95322\n",
      "F1 score         0.95313\n",
      "ROC AUC score    0.98939\n",
      "Precision        0.95007\n",
      "Recall           0.95621\n",
      "Name: RF_Test, dtype: float64\n"
     ]
    }
   ],
   "source": [
    "predict_and_print(\"RF_Test\", rf_best_2, X_test, y_test)"
   ]
  },
  {
   "cell_type": "markdown",
   "id": "e089f708-7bb9-407c-b954-1af40de4d077",
   "metadata": {},
   "source": [
    "#### XGBoost"
   ]
  },
  {
   "cell_type": "code",
   "execution_count": 98,
   "id": "ae5f7a61",
   "metadata": {},
   "outputs": [],
   "source": [
    "xgb_cfl_pca = xgb.XGBClassifier(n_jobs = -1,objective = 'binary:logistic')"
   ]
  },
  {
   "cell_type": "code",
   "execution_count": 99,
   "id": "f63bc0b1",
   "metadata": {},
   "outputs": [
    {
     "data": {
      "text/html": [
       "<style>#sk-container-id-7 {color: black;background-color: white;}#sk-container-id-7 pre{padding: 0;}#sk-container-id-7 div.sk-toggleable {background-color: white;}#sk-container-id-7 label.sk-toggleable__label {cursor: pointer;display: block;width: 100%;margin-bottom: 0;padding: 0.3em;box-sizing: border-box;text-align: center;}#sk-container-id-7 label.sk-toggleable__label-arrow:before {content: \"▸\";float: left;margin-right: 0.25em;color: #696969;}#sk-container-id-7 label.sk-toggleable__label-arrow:hover:before {color: black;}#sk-container-id-7 div.sk-estimator:hover label.sk-toggleable__label-arrow:before {color: black;}#sk-container-id-7 div.sk-toggleable__content {max-height: 0;max-width: 0;overflow: hidden;text-align: left;background-color: #f0f8ff;}#sk-container-id-7 div.sk-toggleable__content pre {margin: 0.2em;color: black;border-radius: 0.25em;background-color: #f0f8ff;}#sk-container-id-7 input.sk-toggleable__control:checked~div.sk-toggleable__content {max-height: 200px;max-width: 100%;overflow: auto;}#sk-container-id-7 input.sk-toggleable__control:checked~label.sk-toggleable__label-arrow:before {content: \"▾\";}#sk-container-id-7 div.sk-estimator input.sk-toggleable__control:checked~label.sk-toggleable__label {background-color: #d4ebff;}#sk-container-id-7 div.sk-label input.sk-toggleable__control:checked~label.sk-toggleable__label {background-color: #d4ebff;}#sk-container-id-7 input.sk-hidden--visually {border: 0;clip: rect(1px 1px 1px 1px);clip: rect(1px, 1px, 1px, 1px);height: 1px;margin: -1px;overflow: hidden;padding: 0;position: absolute;width: 1px;}#sk-container-id-7 div.sk-estimator {font-family: monospace;background-color: #f0f8ff;border: 1px dotted black;border-radius: 0.25em;box-sizing: border-box;margin-bottom: 0.5em;}#sk-container-id-7 div.sk-estimator:hover {background-color: #d4ebff;}#sk-container-id-7 div.sk-parallel-item::after {content: \"\";width: 100%;border-bottom: 1px solid gray;flex-grow: 1;}#sk-container-id-7 div.sk-label:hover label.sk-toggleable__label {background-color: #d4ebff;}#sk-container-id-7 div.sk-serial::before {content: \"\";position: absolute;border-left: 1px solid gray;box-sizing: border-box;top: 0;bottom: 0;left: 50%;z-index: 0;}#sk-container-id-7 div.sk-serial {display: flex;flex-direction: column;align-items: center;background-color: white;padding-right: 0.2em;padding-left: 0.2em;position: relative;}#sk-container-id-7 div.sk-item {position: relative;z-index: 1;}#sk-container-id-7 div.sk-parallel {display: flex;align-items: stretch;justify-content: center;background-color: white;position: relative;}#sk-container-id-7 div.sk-item::before, #sk-container-id-7 div.sk-parallel-item::before {content: \"\";position: absolute;border-left: 1px solid gray;box-sizing: border-box;top: 0;bottom: 0;left: 50%;z-index: -1;}#sk-container-id-7 div.sk-parallel-item {display: flex;flex-direction: column;z-index: 1;position: relative;background-color: white;}#sk-container-id-7 div.sk-parallel-item:first-child::after {align-self: flex-end;width: 50%;}#sk-container-id-7 div.sk-parallel-item:last-child::after {align-self: flex-start;width: 50%;}#sk-container-id-7 div.sk-parallel-item:only-child::after {width: 0;}#sk-container-id-7 div.sk-dashed-wrapped {border: 1px dashed gray;margin: 0 0.4em 0.5em 0.4em;box-sizing: border-box;padding-bottom: 0.4em;background-color: white;}#sk-container-id-7 div.sk-label label {font-family: monospace;font-weight: bold;display: inline-block;line-height: 1.2em;}#sk-container-id-7 div.sk-label-container {text-align: center;}#sk-container-id-7 div.sk-container {/* jupyter's `normalize.less` sets `[hidden] { display: none; }` but bootstrap.min.css set `[hidden] { display: none !important; }` so we also need the `!important` here to be able to override the default hidden behavior on the sphinx rendered scikit-learn.org. See: https://github.com/scikit-learn/scikit-learn/issues/21755 */display: inline-block !important;position: relative;}#sk-container-id-7 div.sk-text-repr-fallback {display: none;}</style><div id=\"sk-container-id-7\" class=\"sk-top-container\"><div class=\"sk-text-repr-fallback\"><pre>XGBClassifier(base_score=0.5, booster=&#x27;gbtree&#x27;, callbacks=None,\n",
       "              colsample_bylevel=1, colsample_bynode=1, colsample_bytree=1,\n",
       "              early_stopping_rounds=None, enable_categorical=False,\n",
       "              eval_metric=None, gamma=0, gpu_id=-1, grow_policy=&#x27;depthwise&#x27;,\n",
       "              importance_type=None, interaction_constraints=&#x27;&#x27;,\n",
       "              learning_rate=0.300000012, max_bin=256, max_cat_to_onehot=4,\n",
       "              max_delta_step=0, max_depth=6, max_leaves=0, min_child_weight=1,\n",
       "              missing=nan, monotone_constraints=&#x27;()&#x27;, n_estimators=100,\n",
       "              n_jobs=-1, num_parallel_tree=1, predictor=&#x27;auto&#x27;, random_state=0,\n",
       "              reg_alpha=0, reg_lambda=1, ...)</pre><b>In a Jupyter environment, please rerun this cell to show the HTML representation or trust the notebook. <br />On GitHub, the HTML representation is unable to render, please try loading this page with nbviewer.org.</b></div><div class=\"sk-container\" hidden><div class=\"sk-item\"><div class=\"sk-estimator sk-toggleable\"><input class=\"sk-toggleable__control sk-hidden--visually\" id=\"sk-estimator-id-15\" type=\"checkbox\" checked><label for=\"sk-estimator-id-15\" class=\"sk-toggleable__label sk-toggleable__label-arrow\">XGBClassifier</label><div class=\"sk-toggleable__content\"><pre>XGBClassifier(base_score=0.5, booster=&#x27;gbtree&#x27;, callbacks=None,\n",
       "              colsample_bylevel=1, colsample_bynode=1, colsample_bytree=1,\n",
       "              early_stopping_rounds=None, enable_categorical=False,\n",
       "              eval_metric=None, gamma=0, gpu_id=-1, grow_policy=&#x27;depthwise&#x27;,\n",
       "              importance_type=None, interaction_constraints=&#x27;&#x27;,\n",
       "              learning_rate=0.300000012, max_bin=256, max_cat_to_onehot=4,\n",
       "              max_delta_step=0, max_depth=6, max_leaves=0, min_child_weight=1,\n",
       "              missing=nan, monotone_constraints=&#x27;()&#x27;, n_estimators=100,\n",
       "              n_jobs=-1, num_parallel_tree=1, predictor=&#x27;auto&#x27;, random_state=0,\n",
       "              reg_alpha=0, reg_lambda=1, ...)</pre></div></div></div></div></div>"
      ],
      "text/plain": [
       "XGBClassifier(base_score=0.5, booster='gbtree', callbacks=None,\n",
       "              colsample_bylevel=1, colsample_bynode=1, colsample_bytree=1,\n",
       "              early_stopping_rounds=None, enable_categorical=False,\n",
       "              eval_metric=None, gamma=0, gpu_id=-1, grow_policy='depthwise',\n",
       "              importance_type=None, interaction_constraints='',\n",
       "              learning_rate=0.300000012, max_bin=256, max_cat_to_onehot=4,\n",
       "              max_delta_step=0, max_depth=6, max_leaves=0, min_child_weight=1,\n",
       "              missing=nan, monotone_constraints='()', n_estimators=100,\n",
       "              n_jobs=-1, num_parallel_tree=1, predictor='auto', random_state=0,\n",
       "              reg_alpha=0, reg_lambda=1, ...)"
      ]
     },
     "execution_count": 99,
     "metadata": {},
     "output_type": "execute_result"
    }
   ],
   "source": [
    "xgb_cfl_pca.fit(X_train_pca, y_train)"
   ]
  },
  {
   "cell_type": "code",
   "execution_count": 100,
   "id": "fe20a8b7",
   "metadata": {},
   "outputs": [
    {
     "name": "stdout",
     "output_type": "stream",
     "text": [
      "Accuracy         0.95741\n",
      "F1 score         0.95803\n",
      "ROC AUC score    0.99159\n",
      "Precision        0.94615\n",
      "Recall           0.97022\n",
      "Name: XGBoost_Train, dtype: float64\n"
     ]
    }
   ],
   "source": [
    "predict_and_print(\"XGBoost_Train\", xgb_cfl_pca, X_train_pca, y_train)"
   ]
  },
  {
   "cell_type": "code",
   "execution_count": 101,
   "id": "5cfd072f",
   "metadata": {},
   "outputs": [
    {
     "name": "stdout",
     "output_type": "stream",
     "text": [
      "Accuracy         0.91451\n",
      "F1 score         0.91588\n",
      "ROC AUC score    0.96855\n",
      "Precision        0.89716\n",
      "Recall           0.93539\n",
      "Name: XGBoost_Test, dtype: float64\n"
     ]
    }
   ],
   "source": [
    "predict_and_print(\"XGBoost_Test\", xgb_cfl_pca, X_test_pca, y_test)"
   ]
  },
  {
   "cell_type": "markdown",
   "id": "229f7807",
   "metadata": {},
   "source": [
    "#### XG Boost without PCA"
   ]
  },
  {
   "cell_type": "code",
   "execution_count": 102,
   "id": "f247c264-dcba-4baa-9916-6be6a5245043",
   "metadata": {},
   "outputs": [],
   "source": [
    "xgb_cfl = xgb.XGBClassifier(n_jobs = -1,objective = 'binary:logistic')"
   ]
  },
  {
   "cell_type": "code",
   "execution_count": 103,
   "id": "ad1c50bf-ea51-41f4-a13b-6766e1b1ed9d",
   "metadata": {},
   "outputs": [
    {
     "data": {
      "text/html": [
       "<style>#sk-container-id-8 {color: black;background-color: white;}#sk-container-id-8 pre{padding: 0;}#sk-container-id-8 div.sk-toggleable {background-color: white;}#sk-container-id-8 label.sk-toggleable__label {cursor: pointer;display: block;width: 100%;margin-bottom: 0;padding: 0.3em;box-sizing: border-box;text-align: center;}#sk-container-id-8 label.sk-toggleable__label-arrow:before {content: \"▸\";float: left;margin-right: 0.25em;color: #696969;}#sk-container-id-8 label.sk-toggleable__label-arrow:hover:before {color: black;}#sk-container-id-8 div.sk-estimator:hover label.sk-toggleable__label-arrow:before {color: black;}#sk-container-id-8 div.sk-toggleable__content {max-height: 0;max-width: 0;overflow: hidden;text-align: left;background-color: #f0f8ff;}#sk-container-id-8 div.sk-toggleable__content pre {margin: 0.2em;color: black;border-radius: 0.25em;background-color: #f0f8ff;}#sk-container-id-8 input.sk-toggleable__control:checked~div.sk-toggleable__content {max-height: 200px;max-width: 100%;overflow: auto;}#sk-container-id-8 input.sk-toggleable__control:checked~label.sk-toggleable__label-arrow:before {content: \"▾\";}#sk-container-id-8 div.sk-estimator input.sk-toggleable__control:checked~label.sk-toggleable__label {background-color: #d4ebff;}#sk-container-id-8 div.sk-label input.sk-toggleable__control:checked~label.sk-toggleable__label {background-color: #d4ebff;}#sk-container-id-8 input.sk-hidden--visually {border: 0;clip: rect(1px 1px 1px 1px);clip: rect(1px, 1px, 1px, 1px);height: 1px;margin: -1px;overflow: hidden;padding: 0;position: absolute;width: 1px;}#sk-container-id-8 div.sk-estimator {font-family: monospace;background-color: #f0f8ff;border: 1px dotted black;border-radius: 0.25em;box-sizing: border-box;margin-bottom: 0.5em;}#sk-container-id-8 div.sk-estimator:hover {background-color: #d4ebff;}#sk-container-id-8 div.sk-parallel-item::after {content: \"\";width: 100%;border-bottom: 1px solid gray;flex-grow: 1;}#sk-container-id-8 div.sk-label:hover label.sk-toggleable__label {background-color: #d4ebff;}#sk-container-id-8 div.sk-serial::before {content: \"\";position: absolute;border-left: 1px solid gray;box-sizing: border-box;top: 0;bottom: 0;left: 50%;z-index: 0;}#sk-container-id-8 div.sk-serial {display: flex;flex-direction: column;align-items: center;background-color: white;padding-right: 0.2em;padding-left: 0.2em;position: relative;}#sk-container-id-8 div.sk-item {position: relative;z-index: 1;}#sk-container-id-8 div.sk-parallel {display: flex;align-items: stretch;justify-content: center;background-color: white;position: relative;}#sk-container-id-8 div.sk-item::before, #sk-container-id-8 div.sk-parallel-item::before {content: \"\";position: absolute;border-left: 1px solid gray;box-sizing: border-box;top: 0;bottom: 0;left: 50%;z-index: -1;}#sk-container-id-8 div.sk-parallel-item {display: flex;flex-direction: column;z-index: 1;position: relative;background-color: white;}#sk-container-id-8 div.sk-parallel-item:first-child::after {align-self: flex-end;width: 50%;}#sk-container-id-8 div.sk-parallel-item:last-child::after {align-self: flex-start;width: 50%;}#sk-container-id-8 div.sk-parallel-item:only-child::after {width: 0;}#sk-container-id-8 div.sk-dashed-wrapped {border: 1px dashed gray;margin: 0 0.4em 0.5em 0.4em;box-sizing: border-box;padding-bottom: 0.4em;background-color: white;}#sk-container-id-8 div.sk-label label {font-family: monospace;font-weight: bold;display: inline-block;line-height: 1.2em;}#sk-container-id-8 div.sk-label-container {text-align: center;}#sk-container-id-8 div.sk-container {/* jupyter's `normalize.less` sets `[hidden] { display: none; }` but bootstrap.min.css set `[hidden] { display: none !important; }` so we also need the `!important` here to be able to override the default hidden behavior on the sphinx rendered scikit-learn.org. See: https://github.com/scikit-learn/scikit-learn/issues/21755 */display: inline-block !important;position: relative;}#sk-container-id-8 div.sk-text-repr-fallback {display: none;}</style><div id=\"sk-container-id-8\" class=\"sk-top-container\"><div class=\"sk-text-repr-fallback\"><pre>XGBClassifier(base_score=0.5, booster=&#x27;gbtree&#x27;, callbacks=None,\n",
       "              colsample_bylevel=1, colsample_bynode=1, colsample_bytree=1,\n",
       "              early_stopping_rounds=None, enable_categorical=False,\n",
       "              eval_metric=None, gamma=0, gpu_id=-1, grow_policy=&#x27;depthwise&#x27;,\n",
       "              importance_type=None, interaction_constraints=&#x27;&#x27;,\n",
       "              learning_rate=0.300000012, max_bin=256, max_cat_to_onehot=4,\n",
       "              max_delta_step=0, max_depth=6, max_leaves=0, min_child_weight=1,\n",
       "              missing=nan, monotone_constraints=&#x27;()&#x27;, n_estimators=100,\n",
       "              n_jobs=-1, num_parallel_tree=1, predictor=&#x27;auto&#x27;, random_state=0,\n",
       "              reg_alpha=0, reg_lambda=1, ...)</pre><b>In a Jupyter environment, please rerun this cell to show the HTML representation or trust the notebook. <br />On GitHub, the HTML representation is unable to render, please try loading this page with nbviewer.org.</b></div><div class=\"sk-container\" hidden><div class=\"sk-item\"><div class=\"sk-estimator sk-toggleable\"><input class=\"sk-toggleable__control sk-hidden--visually\" id=\"sk-estimator-id-16\" type=\"checkbox\" checked><label for=\"sk-estimator-id-16\" class=\"sk-toggleable__label sk-toggleable__label-arrow\">XGBClassifier</label><div class=\"sk-toggleable__content\"><pre>XGBClassifier(base_score=0.5, booster=&#x27;gbtree&#x27;, callbacks=None,\n",
       "              colsample_bylevel=1, colsample_bynode=1, colsample_bytree=1,\n",
       "              early_stopping_rounds=None, enable_categorical=False,\n",
       "              eval_metric=None, gamma=0, gpu_id=-1, grow_policy=&#x27;depthwise&#x27;,\n",
       "              importance_type=None, interaction_constraints=&#x27;&#x27;,\n",
       "              learning_rate=0.300000012, max_bin=256, max_cat_to_onehot=4,\n",
       "              max_delta_step=0, max_depth=6, max_leaves=0, min_child_weight=1,\n",
       "              missing=nan, monotone_constraints=&#x27;()&#x27;, n_estimators=100,\n",
       "              n_jobs=-1, num_parallel_tree=1, predictor=&#x27;auto&#x27;, random_state=0,\n",
       "              reg_alpha=0, reg_lambda=1, ...)</pre></div></div></div></div></div>"
      ],
      "text/plain": [
       "XGBClassifier(base_score=0.5, booster='gbtree', callbacks=None,\n",
       "              colsample_bylevel=1, colsample_bynode=1, colsample_bytree=1,\n",
       "              early_stopping_rounds=None, enable_categorical=False,\n",
       "              eval_metric=None, gamma=0, gpu_id=-1, grow_policy='depthwise',\n",
       "              importance_type=None, interaction_constraints='',\n",
       "              learning_rate=0.300000012, max_bin=256, max_cat_to_onehot=4,\n",
       "              max_delta_step=0, max_depth=6, max_leaves=0, min_child_weight=1,\n",
       "              missing=nan, monotone_constraints='()', n_estimators=100,\n",
       "              n_jobs=-1, num_parallel_tree=1, predictor='auto', random_state=0,\n",
       "              reg_alpha=0, reg_lambda=1, ...)"
      ]
     },
     "execution_count": 103,
     "metadata": {},
     "output_type": "execute_result"
    }
   ],
   "source": [
    "xgb_cfl.fit(X_train, y_train)"
   ]
  },
  {
   "cell_type": "code",
   "execution_count": 104,
   "id": "1a2c34a1-18ad-4276-830d-0f03609dbc5f",
   "metadata": {},
   "outputs": [
    {
     "name": "stdout",
     "output_type": "stream",
     "text": [
      "Accuracy         0.98606\n",
      "F1 score         0.98607\n",
      "ROC AUC score    0.99917\n",
      "Precision        0.98744\n",
      "Recall           0.98471\n",
      "Name: XGBoost_Train, dtype: float64\n"
     ]
    }
   ],
   "source": [
    "predict_and_print(\"XGBoost_Train\", xgb_cfl, X_train, y_train)"
   ]
  },
  {
   "cell_type": "code",
   "execution_count": 105,
   "id": "4c1674bf-af97-44d2-9c06-ac074351f9a2",
   "metadata": {},
   "outputs": [
    {
     "name": "stdout",
     "output_type": "stream",
     "text": [
      "Accuracy         0.96585\n",
      "F1 score         0.96569\n",
      "ROC AUC score    0.99450\n",
      "Precision        0.96533\n",
      "Recall           0.96605\n",
      "Name: XGBoost_Test, dtype: float64\n"
     ]
    }
   ],
   "source": [
    "predict_and_print(\"XGBoost_Test\", xgb_cfl, X_test, y_test)"
   ]
  },
  {
   "cell_type": "markdown",
   "id": "d807180c-e292-4aea-98e9-e169ea929f62",
   "metadata": {},
   "source": [
    "#### Comparision"
   ]
  },
  {
   "cell_type": "markdown",
   "id": "d2713f8f-0fe3-4f3f-bad9-7ca5bf91f7fe",
   "metadata": {},
   "source": [
    "Model comparision without PCA"
   ]
  },
  {
   "cell_type": "code",
   "execution_count": 106,
   "id": "fe513165-a651-4083-835d-618c513f36ca",
   "metadata": {},
   "outputs": [
    {
     "data": {
      "text/html": [
       "<div>\n",
       "<style scoped>\n",
       "    .dataframe tbody tr th:only-of-type {\n",
       "        vertical-align: middle;\n",
       "    }\n",
       "\n",
       "    .dataframe tbody tr th {\n",
       "        vertical-align: top;\n",
       "    }\n",
       "\n",
       "    .dataframe thead th {\n",
       "        text-align: right;\n",
       "    }\n",
       "</style>\n",
       "<table border=\"1\" class=\"dataframe\">\n",
       "  <thead>\n",
       "    <tr style=\"text-align: right;\">\n",
       "      <th></th>\n",
       "      <th>LR_Train</th>\n",
       "      <th>LR_Test</th>\n",
       "      <th>DT_Train</th>\n",
       "      <th>DT_Test</th>\n",
       "      <th>RF_Train</th>\n",
       "      <th>RF_Test</th>\n",
       "      <th>XGBoost_Train</th>\n",
       "      <th>XGBoost_Test</th>\n",
       "    </tr>\n",
       "  </thead>\n",
       "  <tbody>\n",
       "    <tr>\n",
       "      <th>Accuracy</th>\n",
       "      <td>0.86730</td>\n",
       "      <td>0.86578</td>\n",
       "      <td>0.93462</td>\n",
       "      <td>0.91633</td>\n",
       "      <td>0.99042</td>\n",
       "      <td>0.95322</td>\n",
       "      <td>0.98606</td>\n",
       "      <td>0.96585</td>\n",
       "    </tr>\n",
       "    <tr>\n",
       "      <th>F1 score</th>\n",
       "      <td>0.86785</td>\n",
       "      <td>0.86601</td>\n",
       "      <td>0.93519</td>\n",
       "      <td>0.91670</td>\n",
       "      <td>0.99048</td>\n",
       "      <td>0.95313</td>\n",
       "      <td>0.98607</td>\n",
       "      <td>0.96569</td>\n",
       "    </tr>\n",
       "    <tr>\n",
       "      <th>ROC AUC score</th>\n",
       "      <td>0.93371</td>\n",
       "      <td>0.93236</td>\n",
       "      <td>0.97754</td>\n",
       "      <td>0.96203</td>\n",
       "      <td>0.99967</td>\n",
       "      <td>0.98939</td>\n",
       "      <td>0.99917</td>\n",
       "      <td>0.99450</td>\n",
       "    </tr>\n",
       "    <tr>\n",
       "      <th>Precision</th>\n",
       "      <td>0.86606</td>\n",
       "      <td>0.86024</td>\n",
       "      <td>0.92898</td>\n",
       "      <td>0.90823</td>\n",
       "      <td>0.98627</td>\n",
       "      <td>0.95007</td>\n",
       "      <td>0.98744</td>\n",
       "      <td>0.96533</td>\n",
       "    </tr>\n",
       "    <tr>\n",
       "      <th>Recall</th>\n",
       "      <td>0.86965</td>\n",
       "      <td>0.87185</td>\n",
       "      <td>0.94149</td>\n",
       "      <td>0.92533</td>\n",
       "      <td>0.99473</td>\n",
       "      <td>0.95621</td>\n",
       "      <td>0.98471</td>\n",
       "      <td>0.96605</td>\n",
       "    </tr>\n",
       "  </tbody>\n",
       "</table>\n",
       "</div>"
      ],
      "text/plain": [
       "               LR_Train  LR_Test  DT_Train  DT_Test  RF_Train  RF_Test  \\\n",
       "Accuracy        0.86730  0.86578   0.93462  0.91633   0.99042  0.95322   \n",
       "F1 score        0.86785  0.86601   0.93519  0.91670   0.99048  0.95313   \n",
       "ROC AUC score   0.93371  0.93236   0.97754  0.96203   0.99967  0.98939   \n",
       "Precision       0.86606  0.86024   0.92898  0.90823   0.98627  0.95007   \n",
       "Recall          0.86965  0.87185   0.94149  0.92533   0.99473  0.95621   \n",
       "\n",
       "               XGBoost_Train  XGBoost_Test  \n",
       "Accuracy             0.98606       0.96585  \n",
       "F1 score             0.98607       0.96569  \n",
       "ROC AUC score        0.99917       0.99450  \n",
       "Precision            0.98744       0.96533  \n",
       "Recall               0.98471       0.96605  "
      ]
     },
     "execution_count": 106,
     "metadata": {},
     "output_type": "execute_result"
    }
   ],
   "source": [
    "model_metric"
   ]
  },
  {
   "cell_type": "markdown",
   "id": "db6f6715-50fc-4f81-8966-27c8120ba75a",
   "metadata": {},
   "source": [
    "**We can see that among all of these models XG Boost is performing the best**"
   ]
  },
  {
   "cell_type": "markdown",
   "id": "f82eaf85-6ad8-483b-a892-efde583d839e",
   "metadata": {},
   "source": [
    "### 5. Variable importance"
   ]
  },
  {
   "cell_type": "code",
   "execution_count": 107,
   "id": "fe025e50-3845-4896-a5ef-1e53b4c55292",
   "metadata": {},
   "outputs": [],
   "source": [
    "imp_df = pd.DataFrame({\n",
    "    \"Varname\": X.columns,\n",
    "    \"Imp\": xgb_cfl.feature_importances_\n",
    "})"
   ]
  },
  {
   "cell_type": "code",
   "execution_count": 108,
   "id": "5b0dbc73-56cf-4b53-a070-7cd5657c556a",
   "metadata": {},
   "outputs": [
    {
     "data": {
      "text/html": [
       "<div>\n",
       "<style scoped>\n",
       "    .dataframe tbody tr th:only-of-type {\n",
       "        vertical-align: middle;\n",
       "    }\n",
       "\n",
       "    .dataframe tbody tr th {\n",
       "        vertical-align: top;\n",
       "    }\n",
       "\n",
       "    .dataframe thead th {\n",
       "        text-align: right;\n",
       "    }\n",
       "</style>\n",
       "<table border=\"1\" class=\"dataframe\">\n",
       "  <thead>\n",
       "    <tr style=\"text-align: right;\">\n",
       "      <th></th>\n",
       "      <th>Varname</th>\n",
       "      <th>Imp</th>\n",
       "    </tr>\n",
       "  </thead>\n",
       "  <tbody>\n",
       "    <tr>\n",
       "      <th>81</th>\n",
       "      <td>total_ic_mou_8</td>\n",
       "      <td>0.221810</td>\n",
       "    </tr>\n",
       "    <tr>\n",
       "      <th>14</th>\n",
       "      <td>roam_og_mou_8</td>\n",
       "      <td>0.072725</td>\n",
       "    </tr>\n",
       "    <tr>\n",
       "      <th>11</th>\n",
       "      <td>roam_ic_mou_8</td>\n",
       "      <td>0.036143</td>\n",
       "    </tr>\n",
       "    <tr>\n",
       "      <th>65</th>\n",
       "      <td>loc_ic_mou_8</td>\n",
       "      <td>0.030869</td>\n",
       "    </tr>\n",
       "    <tr>\n",
       "      <th>114</th>\n",
       "      <td>monthly_2g_8</td>\n",
       "      <td>0.026858</td>\n",
       "    </tr>\n",
       "    <tr>\n",
       "      <th>102</th>\n",
       "      <td>date_of_last_rech_8</td>\n",
       "      <td>0.026565</td>\n",
       "    </tr>\n",
       "    <tr>\n",
       "      <th>96</th>\n",
       "      <td>total_rech_amt_8</td>\n",
       "      <td>0.022004</td>\n",
       "    </tr>\n",
       "    <tr>\n",
       "      <th>113</th>\n",
       "      <td>monthly_2g_7</td>\n",
       "      <td>0.018517</td>\n",
       "    </tr>\n",
       "    <tr>\n",
       "      <th>105</th>\n",
       "      <td>last_day_rch_amt_8</td>\n",
       "      <td>0.018096</td>\n",
       "    </tr>\n",
       "    <tr>\n",
       "      <th>47</th>\n",
       "      <td>spl_og_mou_7</td>\n",
       "      <td>0.016933</td>\n",
       "    </tr>\n",
       "  </tbody>\n",
       "</table>\n",
       "</div>"
      ],
      "text/plain": [
       "                 Varname       Imp\n",
       "81        total_ic_mou_8  0.221810\n",
       "14         roam_og_mou_8  0.072725\n",
       "11         roam_ic_mou_8  0.036143\n",
       "65          loc_ic_mou_8  0.030869\n",
       "114         monthly_2g_8  0.026858\n",
       "102  date_of_last_rech_8  0.026565\n",
       "96      total_rech_amt_8  0.022004\n",
       "113         monthly_2g_7  0.018517\n",
       "105   last_day_rch_amt_8  0.018096\n",
       "47          spl_og_mou_7  0.016933"
      ]
     },
     "execution_count": 108,
     "metadata": {},
     "output_type": "execute_result"
    }
   ],
   "source": [
    "imp_df.sort_values(by=\"Imp\", ascending=False).head(10)"
   ]
  },
  {
   "cell_type": "markdown",
   "id": "784ea371-3ca6-4213-aef6-7a8c35eb253a",
   "metadata": {},
   "source": [
    "## Conclusion"
   ]
  },
  {
   "cell_type": "markdown",
   "id": "829c307d-a335-4e44-b290-552748e0b25c",
   "metadata": {},
   "source": [
    "**Performing EDA gave us following insights**\n",
    "- If customer is recharging less month on month he/she is likely to churn\n",
    "- If customer's revenue is decreasing month on month he/she is likely to churn\n",
    "- Customer consuming less internet data is likely to churn\n",
    "- If is a customer has not done recharge lately, he/she might end up churning\n",
    "- Customer who is using the network for long enough is not likely to churn\n",
    "- If total voice call usage is declining month over month customer will likely churn"
   ]
  },
  {
   "cell_type": "markdown",
   "id": "ea0d8097-e602-4f3e-99f4-46630bb49d11",
   "metadata": {},
   "source": [
    "**XGBClassifier** without applying PCA gives the best test accuracy of **0.96585** with following hyperparameters\n",
    "- learning_rate=0.3\n",
    "- max_depth=6\n",
    "- n_estimators=100"
   ]
  },
  {
   "cell_type": "markdown",
   "id": "a7189ba3-b3cb-41e6-a9a6-cf5093fb6ce7",
   "metadata": {},
   "source": [
    "Few **Important features** are as follows\n",
    "- Total incoming voice calls in the month of august\n",
    "- Total outgoing voice calls in the month of august\n",
    "- Average revenue per user in the month of august\n",
    "- Total amount of recharge done in the month of august\n",
    "- Maximum amount of recharge done in the month of august"
   ]
  },
  {
   "cell_type": "markdown",
   "id": "e983bb7f-ac3b-47a1-a310-fde450736cb4",
   "metadata": {},
   "source": [
    "## Testing with Kaggle test data"
   ]
  },
  {
   "cell_type": "code",
   "execution_count": 109,
   "id": "43a46cbe-1c35-41d0-ad21-837625530ee2",
   "metadata": {},
   "outputs": [],
   "source": [
    "df_test = pd.read_csv(\"test (1).csv\")"
   ]
  },
  {
   "cell_type": "markdown",
   "id": "a799f921-1df4-4f5d-b64d-73622c66f29d",
   "metadata": {},
   "source": [
    "#### Applying transformations"
   ]
  },
  {
   "cell_type": "code",
   "execution_count": 110,
   "id": "6f7574ac-65be-4b52-a0c9-d027de225f72",
   "metadata": {},
   "outputs": [],
   "source": [
    "df_test['date_of_last_rech_6'] = pd.to_datetime(df_test['date_of_last_rech_6'], infer_datetime_format=True).dt.day"
   ]
  },
  {
   "cell_type": "code",
   "execution_count": 111,
   "id": "366aa617-e443-4d1b-860e-37984fbb9ec9",
   "metadata": {},
   "outputs": [],
   "source": [
    "df_test['date_of_last_rech_7'] = pd.to_datetime(df_test['date_of_last_rech_7'], infer_datetime_format=True).dt.day"
   ]
  },
  {
   "cell_type": "code",
   "execution_count": 112,
   "id": "571e4a10-dec5-4544-b5b7-d1a9ae1d45c8",
   "metadata": {},
   "outputs": [],
   "source": [
    "df_test['date_of_last_rech_8'] = pd.to_datetime(df_test['date_of_last_rech_8'], infer_datetime_format=True).dt.day"
   ]
  },
  {
   "cell_type": "code",
   "execution_count": 113,
   "id": "50021cfa-c515-4c0f-807c-99af5d8a113c",
   "metadata": {},
   "outputs": [],
   "source": [
    "df_test[\"total_rech_amt\"] = df_test[\"total_rech_amt_6\"] + df_test[\"total_rech_amt_7\"] + df_test[\"total_rech_amt_8\"]"
   ]
  },
  {
   "cell_type": "code",
   "execution_count": 114,
   "id": "cba1c729-1358-4449-907d-b68922d29e77",
   "metadata": {},
   "outputs": [],
   "source": [
    "df_test[\"total_vol_2g_3g\"] = df_test[\"vol_2g_mb_6\"] + df_test[\"vol_2g_mb_7\"] + df_test[\"vol_2g_mb_8\"] + df_test[\"vol_3g_mb_6\"] + df_test[\"vol_3g_mb_7\"] + df_test[\"vol_3g_mb_8\"]"
   ]
  },
  {
   "cell_type": "code",
   "execution_count": 115,
   "id": "63a31666-8381-4494-92a2-6519178a8a69",
   "metadata": {},
   "outputs": [],
   "source": [
    "df_test[\"arpu\"] = (df_test[\"arpu_6\"] + df_test[\"arpu_7\"] + df_test[\"arpu_8\"] ) / 3"
   ]
  },
  {
   "cell_type": "code",
   "execution_count": 116,
   "id": "97eb956a-14a5-45e1-8902-2296d170250c",
   "metadata": {},
   "outputs": [],
   "source": [
    "df_test[\"total_mou\"] = df_test[\"onnet_mou_6\"] + df_test[\"onnet_mou_7\"] + df_test[\"onnet_mou_8\"] + df_test[\"offnet_mou_6\"] + df_test[\"offnet_mou_7\"] + df_test[\"offnet_mou_8\"]"
   ]
  },
  {
   "cell_type": "markdown",
   "id": "2acaa448-ca7a-4b2a-8bb5-e820189fdac1",
   "metadata": {},
   "source": [
    "#### Dropping columns and treating null values"
   ]
  },
  {
   "cell_type": "code",
   "execution_count": 117,
   "id": "a431bd79-7913-40b5-a36a-408d37a2d26b",
   "metadata": {},
   "outputs": [],
   "source": [
    "df_test = df_test[X.columns]"
   ]
  },
  {
   "cell_type": "code",
   "execution_count": 118,
   "id": "57a966d7-6191-4ee9-b372-bd9107582768",
   "metadata": {},
   "outputs": [],
   "source": [
    "df_test.fillna(df_test.median(), inplace=True)"
   ]
  },
  {
   "cell_type": "markdown",
   "id": "dd2970f9-8d40-4cc8-9f52-1be5085241bd",
   "metadata": {},
   "source": [
    "#### Preparing data"
   ]
  },
  {
   "cell_type": "code",
   "execution_count": 119,
   "id": "470011ba-df22-4d98-a20a-8c477894491b",
   "metadata": {},
   "outputs": [],
   "source": [
    "X_test_kaggle = scaler.transform(df_test)"
   ]
  },
  {
   "cell_type": "markdown",
   "id": "d0240c2e-8ef4-44a8-b40e-f3dc6866dc50",
   "metadata": {},
   "source": [
    "#### Predicting"
   ]
  },
  {
   "cell_type": "code",
   "execution_count": 121,
   "id": "55af1bb7-0deb-42ff-9ad1-80c74b9864ae",
   "metadata": {
    "tags": []
   },
   "outputs": [],
   "source": [
    "y_test_pred_kaggle = xgb_cfl.predict(X_test_kaggle)"
   ]
  },
  {
   "cell_type": "markdown",
   "id": "510399e6-2305-4556-bf64-d2b8c30ab6ee",
   "metadata": {},
   "source": [
    "#### Preparing output file"
   ]
  },
  {
   "cell_type": "code",
   "execution_count": 122,
   "id": "c3280caa-fec3-45cc-96c8-b5ba3833d688",
   "metadata": {
    "tags": []
   },
   "outputs": [],
   "source": [
    "df_final_kaggle = pd.read_csv(\"solution (1).csv\")"
   ]
  },
  {
   "cell_type": "code",
   "execution_count": 123,
   "id": "9086de9c-aecd-45e0-9114-15f4d8791392",
   "metadata": {},
   "outputs": [],
   "source": [
    "df_final_kaggle.drop(\"churn_probability\", axis=1, inplace=True)"
   ]
  },
  {
   "cell_type": "code",
   "execution_count": 124,
   "id": "1d200b40-9aa3-47fc-ac6d-7f6b511b38d4",
   "metadata": {},
   "outputs": [],
   "source": [
    "df_final_kaggle[\"churn_probability\"] = y_test_pred_kaggle"
   ]
  },
  {
   "cell_type": "code",
   "execution_count": 125,
   "id": "b27a90b8-43c1-4742-b50d-92e495bbe9f6",
   "metadata": {},
   "outputs": [
    {
     "name": "stdout",
     "output_type": "stream",
     "text": [
      "<class 'pandas.core.frame.DataFrame'>\n",
      "RangeIndex: 30000 entries, 0 to 29999\n",
      "Data columns (total 2 columns):\n",
      " #   Column             Non-Null Count  Dtype\n",
      "---  ------             --------------  -----\n",
      " 0   id                 30000 non-null  int64\n",
      " 1   churn_probability  30000 non-null  int32\n",
      "dtypes: int32(1), int64(1)\n",
      "memory usage: 351.7 KB\n"
     ]
    }
   ],
   "source": [
    "df_final_kaggle.info()"
   ]
  },
  {
   "cell_type": "code",
   "execution_count": 126,
   "id": "2776b2a6-ecc8-4f4c-8757-29ed105c417c",
   "metadata": {},
   "outputs": [],
   "source": [
    "df_final_kaggle.to_csv(\"submission.csv\", index=False)"
   ]
  },
  {
   "cell_type": "code",
   "execution_count": null,
   "id": "55bb4772-48bd-4237-8576-acffb0c1fd81",
   "metadata": {},
   "outputs": [],
   "source": []
  },
  {
   "cell_type": "code",
   "execution_count": null,
   "id": "07df1ae2",
   "metadata": {},
   "outputs": [],
   "source": []
  }
 ],
 "metadata": {
  "kernelspec": {
   "display_name": "Python 3 (ipykernel)",
   "language": "python",
   "name": "python3"
  },
  "language_info": {
   "codemirror_mode": {
    "name": "ipython",
    "version": 3
   },
   "file_extension": ".py",
   "mimetype": "text/x-python",
   "name": "python",
   "nbconvert_exporter": "python",
   "pygments_lexer": "ipython3",
   "version": "3.9.7"
  }
 },
 "nbformat": 4,
 "nbformat_minor": 5
}
