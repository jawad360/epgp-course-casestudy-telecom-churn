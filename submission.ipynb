{
 "cells": [
  {
   "cell_type": "code",
   "execution_count": 146,
   "id": "2d8a1f00-c046-4c3f-8f5d-122d9ca8468f",
   "metadata": {},
   "outputs": [],
   "source": [
    "import numpy as np\n",
    "import pandas as pd\n",
    "import matplotlib.pyplot as plt\n",
    "import seaborn as sns\n",
    "\n",
    "import warnings\n",
    "warnings.filterwarnings(\"ignore\")"
   ]
  },
  {
   "cell_type": "code",
   "execution_count": 148,
   "id": "f0b2cadc-beb7-4676-94e5-1168f142b95a",
   "metadata": {},
   "outputs": [],
   "source": [
    "plt.style.use(\"ggplot\")"
   ]
  },
  {
   "cell_type": "markdown",
   "id": "8701c7f0-093b-448b-9dd7-8a9d8a751470",
   "metadata": {},
   "source": [
    "### 1. Data understanding and cleaning"
   ]
  },
  {
   "cell_type": "code",
   "execution_count": 72,
   "id": "a60fb69b-c8e3-4554-ad14-43f6a4d4ba9a",
   "metadata": {},
   "outputs": [],
   "source": [
    "data = pd.read_csv(\"train (1).csv\")"
   ]
  },
  {
   "cell_type": "code",
   "execution_count": 73,
   "id": "d19cfa13-95c4-4d8a-b8cd-6046d1fbddda",
   "metadata": {},
   "outputs": [
    {
     "name": "stdout",
     "output_type": "stream",
     "text": [
      "<class 'pandas.core.frame.DataFrame'>\n",
      "RangeIndex: 69999 entries, 0 to 69998\n",
      "Columns: 172 entries, id to churn_probability\n",
      "dtypes: float64(135), int64(28), object(9)\n",
      "memory usage: 91.9+ MB\n"
     ]
    }
   ],
   "source": [
    "data.info()"
   ]
  },
  {
   "cell_type": "code",
   "execution_count": 74,
   "id": "37fab067-25c0-4179-a804-adddd465a550",
   "metadata": {},
   "outputs": [
    {
     "data": {
      "text/html": [
       "<div>\n",
       "<style scoped>\n",
       "    .dataframe tbody tr th:only-of-type {\n",
       "        vertical-align: middle;\n",
       "    }\n",
       "\n",
       "    .dataframe tbody tr th {\n",
       "        vertical-align: top;\n",
       "    }\n",
       "\n",
       "    .dataframe thead th {\n",
       "        text-align: right;\n",
       "    }\n",
       "</style>\n",
       "<table border=\"1\" class=\"dataframe\">\n",
       "  <thead>\n",
       "    <tr style=\"text-align: right;\">\n",
       "      <th></th>\n",
       "      <th>id</th>\n",
       "      <th>circle_id</th>\n",
       "      <th>loc_og_t2o_mou</th>\n",
       "      <th>std_og_t2o_mou</th>\n",
       "      <th>loc_ic_t2o_mou</th>\n",
       "      <th>last_date_of_month_6</th>\n",
       "      <th>last_date_of_month_7</th>\n",
       "      <th>last_date_of_month_8</th>\n",
       "      <th>arpu_6</th>\n",
       "      <th>arpu_7</th>\n",
       "      <th>...</th>\n",
       "      <th>sachet_3g_7</th>\n",
       "      <th>sachet_3g_8</th>\n",
       "      <th>fb_user_6</th>\n",
       "      <th>fb_user_7</th>\n",
       "      <th>fb_user_8</th>\n",
       "      <th>aon</th>\n",
       "      <th>aug_vbc_3g</th>\n",
       "      <th>jul_vbc_3g</th>\n",
       "      <th>jun_vbc_3g</th>\n",
       "      <th>churn_probability</th>\n",
       "    </tr>\n",
       "  </thead>\n",
       "  <tbody>\n",
       "    <tr>\n",
       "      <th>0</th>\n",
       "      <td>0</td>\n",
       "      <td>109</td>\n",
       "      <td>0.0</td>\n",
       "      <td>0.0</td>\n",
       "      <td>0.0</td>\n",
       "      <td>6/30/2014</td>\n",
       "      <td>7/31/2014</td>\n",
       "      <td>8/31/2014</td>\n",
       "      <td>31.277</td>\n",
       "      <td>87.009</td>\n",
       "      <td>...</td>\n",
       "      <td>0</td>\n",
       "      <td>0</td>\n",
       "      <td>NaN</td>\n",
       "      <td>NaN</td>\n",
       "      <td>NaN</td>\n",
       "      <td>1958</td>\n",
       "      <td>0.0</td>\n",
       "      <td>0.0</td>\n",
       "      <td>0.0</td>\n",
       "      <td>0</td>\n",
       "    </tr>\n",
       "    <tr>\n",
       "      <th>1</th>\n",
       "      <td>1</td>\n",
       "      <td>109</td>\n",
       "      <td>0.0</td>\n",
       "      <td>0.0</td>\n",
       "      <td>0.0</td>\n",
       "      <td>6/30/2014</td>\n",
       "      <td>7/31/2014</td>\n",
       "      <td>8/31/2014</td>\n",
       "      <td>0.000</td>\n",
       "      <td>122.787</td>\n",
       "      <td>...</td>\n",
       "      <td>0</td>\n",
       "      <td>0</td>\n",
       "      <td>NaN</td>\n",
       "      <td>1.0</td>\n",
       "      <td>NaN</td>\n",
       "      <td>710</td>\n",
       "      <td>0.0</td>\n",
       "      <td>0.0</td>\n",
       "      <td>0.0</td>\n",
       "      <td>0</td>\n",
       "    </tr>\n",
       "    <tr>\n",
       "      <th>2</th>\n",
       "      <td>2</td>\n",
       "      <td>109</td>\n",
       "      <td>0.0</td>\n",
       "      <td>0.0</td>\n",
       "      <td>0.0</td>\n",
       "      <td>6/30/2014</td>\n",
       "      <td>7/31/2014</td>\n",
       "      <td>8/31/2014</td>\n",
       "      <td>60.806</td>\n",
       "      <td>103.176</td>\n",
       "      <td>...</td>\n",
       "      <td>0</td>\n",
       "      <td>0</td>\n",
       "      <td>NaN</td>\n",
       "      <td>NaN</td>\n",
       "      <td>NaN</td>\n",
       "      <td>882</td>\n",
       "      <td>0.0</td>\n",
       "      <td>0.0</td>\n",
       "      <td>0.0</td>\n",
       "      <td>0</td>\n",
       "    </tr>\n",
       "    <tr>\n",
       "      <th>3</th>\n",
       "      <td>3</td>\n",
       "      <td>109</td>\n",
       "      <td>0.0</td>\n",
       "      <td>0.0</td>\n",
       "      <td>0.0</td>\n",
       "      <td>6/30/2014</td>\n",
       "      <td>7/31/2014</td>\n",
       "      <td>8/31/2014</td>\n",
       "      <td>156.362</td>\n",
       "      <td>205.260</td>\n",
       "      <td>...</td>\n",
       "      <td>0</td>\n",
       "      <td>0</td>\n",
       "      <td>NaN</td>\n",
       "      <td>NaN</td>\n",
       "      <td>NaN</td>\n",
       "      <td>982</td>\n",
       "      <td>0.0</td>\n",
       "      <td>0.0</td>\n",
       "      <td>0.0</td>\n",
       "      <td>0</td>\n",
       "    </tr>\n",
       "    <tr>\n",
       "      <th>4</th>\n",
       "      <td>4</td>\n",
       "      <td>109</td>\n",
       "      <td>0.0</td>\n",
       "      <td>0.0</td>\n",
       "      <td>0.0</td>\n",
       "      <td>6/30/2014</td>\n",
       "      <td>7/31/2014</td>\n",
       "      <td>8/31/2014</td>\n",
       "      <td>240.708</td>\n",
       "      <td>128.191</td>\n",
       "      <td>...</td>\n",
       "      <td>1</td>\n",
       "      <td>0</td>\n",
       "      <td>1.0</td>\n",
       "      <td>1.0</td>\n",
       "      <td>1.0</td>\n",
       "      <td>647</td>\n",
       "      <td>0.0</td>\n",
       "      <td>0.0</td>\n",
       "      <td>0.0</td>\n",
       "      <td>0</td>\n",
       "    </tr>\n",
       "  </tbody>\n",
       "</table>\n",
       "<p>5 rows × 172 columns</p>\n",
       "</div>"
      ],
      "text/plain": [
       "   id  circle_id  loc_og_t2o_mou  std_og_t2o_mou  loc_ic_t2o_mou  \\\n",
       "0   0        109             0.0             0.0             0.0   \n",
       "1   1        109             0.0             0.0             0.0   \n",
       "2   2        109             0.0             0.0             0.0   \n",
       "3   3        109             0.0             0.0             0.0   \n",
       "4   4        109             0.0             0.0             0.0   \n",
       "\n",
       "  last_date_of_month_6 last_date_of_month_7 last_date_of_month_8   arpu_6  \\\n",
       "0            6/30/2014            7/31/2014            8/31/2014   31.277   \n",
       "1            6/30/2014            7/31/2014            8/31/2014    0.000   \n",
       "2            6/30/2014            7/31/2014            8/31/2014   60.806   \n",
       "3            6/30/2014            7/31/2014            8/31/2014  156.362   \n",
       "4            6/30/2014            7/31/2014            8/31/2014  240.708   \n",
       "\n",
       "    arpu_7  ...  sachet_3g_7  sachet_3g_8  fb_user_6  fb_user_7  fb_user_8  \\\n",
       "0   87.009  ...            0            0        NaN        NaN        NaN   \n",
       "1  122.787  ...            0            0        NaN        1.0        NaN   \n",
       "2  103.176  ...            0            0        NaN        NaN        NaN   \n",
       "3  205.260  ...            0            0        NaN        NaN        NaN   \n",
       "4  128.191  ...            1            0        1.0        1.0        1.0   \n",
       "\n",
       "    aon  aug_vbc_3g  jul_vbc_3g  jun_vbc_3g  churn_probability  \n",
       "0  1958         0.0         0.0         0.0                  0  \n",
       "1   710         0.0         0.0         0.0                  0  \n",
       "2   882         0.0         0.0         0.0                  0  \n",
       "3   982         0.0         0.0         0.0                  0  \n",
       "4   647         0.0         0.0         0.0                  0  \n",
       "\n",
       "[5 rows x 172 columns]"
      ]
     },
     "execution_count": 74,
     "metadata": {},
     "output_type": "execute_result"
    }
   ],
   "source": [
    "data.head()"
   ]
  },
  {
   "cell_type": "markdown",
   "id": "05bc27a8-6c7d-4aaf-959c-1197d683b7fd",
   "metadata": {},
   "source": [
    "#### Checking for null values"
   ]
  },
  {
   "cell_type": "code",
   "execution_count": 75,
   "id": "27c75bc3-ccf1-43d0-89d5-a230d1c59498",
   "metadata": {
    "tags": []
   },
   "outputs": [
    {
     "data": {
      "text/plain": [
       "arpu_3g_6                   74.902499\n",
       "count_rech_2g_6             74.902499\n",
       "night_pck_user_6            74.902499\n",
       "arpu_2g_6                   74.902499\n",
       "date_of_last_rech_data_6    74.902499\n",
       "                              ...    \n",
       "last_day_rch_amt_8           0.000000\n",
       "vol_2g_mb_6                  0.000000\n",
       "vol_2g_mb_7                  0.000000\n",
       "vol_2g_mb_8                  0.000000\n",
       "churn_probability            0.000000\n",
       "Length: 172, dtype: float64"
      ]
     },
     "execution_count": 75,
     "metadata": {},
     "output_type": "execute_result"
    }
   ],
   "source": [
    "(data.isna().sum() * 100 / len(data)).sort_values(ascending = False)"
   ]
  },
  {
   "cell_type": "markdown",
   "id": "a176b2b7-ed9b-4ee8-b78b-b3178ef7609b",
   "metadata": {},
   "source": [
    "Let's drop all the features having more than 70% of null values"
   ]
  },
  {
   "cell_type": "code",
   "execution_count": 76,
   "id": "7292c259-a3a3-416e-adf4-690974036adc",
   "metadata": {},
   "outputs": [],
   "source": [
    "data.dropna(thresh=len(data.index) * 0.7, axis=1, inplace=True)"
   ]
  },
  {
   "cell_type": "code",
   "execution_count": 77,
   "id": "cd3f3db8-5e1a-4f88-adf3-4cae45a76d62",
   "metadata": {},
   "outputs": [
    {
     "data": {
      "text/plain": [
       "(69999, 142)"
      ]
     },
     "execution_count": 77,
     "metadata": {},
     "output_type": "execute_result"
    }
   ],
   "source": [
    "data.shape"
   ]
  },
  {
   "cell_type": "markdown",
   "id": "6f058e2c-b14a-43c0-a1c8-d6f86614c051",
   "metadata": {
    "tags": []
   },
   "source": [
    "#### Dropping redundant feature"
   ]
  },
  {
   "cell_type": "markdown",
   "id": "7e458062-167b-4371-b6a6-0c34082c2205",
   "metadata": {},
   "source": [
    "##### Low variance feature"
   ]
  },
  {
   "cell_type": "code",
   "execution_count": 78,
   "id": "e6925419-5414-451a-96d0-539cb9bb0c4d",
   "metadata": {},
   "outputs": [
    {
     "data": {
      "text/plain": [
       "['circle_id',\n",
       " 'loc_og_t2o_mou',\n",
       " 'std_og_t2o_mou',\n",
       " 'loc_ic_t2o_mou',\n",
       " 'last_date_of_month_6',\n",
       " 'last_date_of_month_7',\n",
       " 'last_date_of_month_8',\n",
       " 'std_og_t2c_mou_6',\n",
       " 'std_og_t2c_mou_7',\n",
       " 'og_others_7',\n",
       " 'std_ic_t2o_mou_6',\n",
       " 'std_ic_t2o_mou_7',\n",
       " 'sachet_3g_6',\n",
       " 'sachet_3g_7',\n",
       " 'sachet_3g_8']"
      ]
     },
     "execution_count": 78,
     "metadata": {},
     "output_type": "execute_result"
    }
   ],
   "source": [
    "redundant_cols = []\n",
    "for col in data.columns:\n",
    "    counts = data[col].value_counts()\n",
    "    count_max = counts.iloc[0]\n",
    "    if count_max / len(data) * 100 > 95:\n",
    "        redundant_cols.append(col)\n",
    "redundant_cols"
   ]
  },
  {
   "cell_type": "code",
   "execution_count": 79,
   "id": "9f3a632b-b6fa-435e-98be-9afcaf102925",
   "metadata": {},
   "outputs": [
    {
     "data": {
      "text/plain": [
       "0.0    69297\n",
       "Name: loc_og_t2o_mou, dtype: int64"
      ]
     },
     "execution_count": 79,
     "metadata": {},
     "output_type": "execute_result"
    }
   ],
   "source": [
    "data.loc_og_t2o_mou.value_counts()"
   ]
  },
  {
   "cell_type": "code",
   "execution_count": 80,
   "id": "1bdaeb53-184a-40b7-81e5-91c9c855d001",
   "metadata": {},
   "outputs": [
    {
     "data": {
      "text/plain": [
       "109    69999\n",
       "Name: circle_id, dtype: int64"
      ]
     },
     "execution_count": 80,
     "metadata": {},
     "output_type": "execute_result"
    }
   ],
   "source": [
    "data.circle_id.value_counts()"
   ]
  },
  {
   "cell_type": "markdown",
   "id": "0b1072bd-1c49-4388-835f-662fd43aaba5",
   "metadata": {},
   "source": [
    "These values have very low variance and it does not contain any information, so lets drop these features"
   ]
  },
  {
   "cell_type": "code",
   "execution_count": 81,
   "id": "ef5d5f03-27e0-48fd-ae1e-74f50e7a8dcc",
   "metadata": {},
   "outputs": [],
   "source": [
    "data.drop(redundant_cols, axis=1, inplace=True)"
   ]
  },
  {
   "cell_type": "markdown",
   "id": "406a79f3-c1aa-48e8-b484-d992898b7470",
   "metadata": {},
   "source": [
    "##### Dropping id"
   ]
  },
  {
   "cell_type": "code",
   "execution_count": 82,
   "id": "206d2158-2fc4-4070-8f38-31499d3a54bc",
   "metadata": {},
   "outputs": [],
   "source": [
    "data.drop(\"id\", axis=1, inplace=True)"
   ]
  },
  {
   "cell_type": "code",
   "execution_count": 83,
   "id": "d5737e32-b137-4331-b4f0-2093ce68dacf",
   "metadata": {},
   "outputs": [
    {
     "name": "stdout",
     "output_type": "stream",
     "text": [
      "<class 'pandas.core.frame.DataFrame'>\n",
      "RangeIndex: 69999 entries, 0 to 69998\n",
      "Columns: 126 entries, arpu_6 to churn_probability\n",
      "dtypes: float64(100), int64(23), object(3)\n",
      "memory usage: 67.3+ MB\n"
     ]
    }
   ],
   "source": [
    "data.info()"
   ]
  },
  {
   "cell_type": "markdown",
   "id": "c8cdee76-bccc-4bf9-aa63-8400457102c7",
   "metadata": {},
   "source": [
    "#### Data transformation"
   ]
  },
  {
   "cell_type": "markdown",
   "id": "892ef15e-3036-481d-8e08-e3c8592279cf",
   "metadata": {
    "tags": []
   },
   "source": [
    "##### Lets have a look at the object types"
   ]
  },
  {
   "cell_type": "code",
   "execution_count": 84,
   "id": "356e5621-a504-49fe-b002-3bfeb5f20942",
   "metadata": {},
   "outputs": [
    {
     "data": {
      "text/plain": [
       "Index(['date_of_last_rech_6', 'date_of_last_rech_7', 'date_of_last_rech_8'], dtype='object')"
      ]
     },
     "execution_count": 84,
     "metadata": {},
     "output_type": "execute_result"
    }
   ],
   "source": [
    "data.select_dtypes('object').columns"
   ]
  },
  {
   "cell_type": "markdown",
   "id": "c7de6659-c10a-4256-8d4f-60f7f72a0040",
   "metadata": {},
   "source": [
    "These are all datetime fields."
   ]
  },
  {
   "cell_type": "code",
   "execution_count": 85,
   "id": "495f7381-ee6c-44ec-ad86-6a906d0f1483",
   "metadata": {},
   "outputs": [
    {
     "data": {
      "text/plain": [
       "2014.0    68898\n",
       "Name: date_of_last_rech_6, dtype: int64"
      ]
     },
     "execution_count": 85,
     "metadata": {},
     "output_type": "execute_result"
    }
   ],
   "source": [
    "pd.to_datetime(data['date_of_last_rech_6'], infer_datetime_format=True).dt.year.value_counts()"
   ]
  },
  {
   "cell_type": "code",
   "execution_count": 86,
   "id": "02f86c64-5e8b-46ae-97d0-71a177281a44",
   "metadata": {},
   "outputs": [
    {
     "data": {
      "text/plain": [
       "6.0    68898\n",
       "Name: date_of_last_rech_6, dtype: int64"
      ]
     },
     "execution_count": 86,
     "metadata": {},
     "output_type": "execute_result"
    }
   ],
   "source": [
    "pd.to_datetime(data['date_of_last_rech_6'], infer_datetime_format=True).dt.month.value_counts()"
   ]
  },
  {
   "cell_type": "markdown",
   "id": "bf40acec-6bd1-45a0-84c4-419e8b33b21d",
   "metadata": {},
   "source": [
    "For each of these fields month and year are the same, so we can remove them and just keep the day"
   ]
  },
  {
   "cell_type": "code",
   "execution_count": 87,
   "id": "fded8c94-c8c2-4e1f-b07c-a40559ed32d9",
   "metadata": {},
   "outputs": [],
   "source": [
    "data['date_of_last_rech_6'] = pd.to_datetime(data['date_of_last_rech_6'], infer_datetime_format=True).dt.day"
   ]
  },
  {
   "cell_type": "code",
   "execution_count": 88,
   "id": "f39b0b18-e8d2-4e9a-b34e-c6342c49fbcd",
   "metadata": {},
   "outputs": [],
   "source": [
    "data['date_of_last_rech_7'] = pd.to_datetime(data['date_of_last_rech_7'], infer_datetime_format=True).dt.day"
   ]
  },
  {
   "cell_type": "code",
   "execution_count": 89,
   "id": "98d52afa-dc15-41bb-bb45-a99a63735e6e",
   "metadata": {},
   "outputs": [],
   "source": [
    "data['date_of_last_rech_8'] = pd.to_datetime(data['date_of_last_rech_8'], infer_datetime_format=True).dt.day"
   ]
  },
  {
   "cell_type": "code",
   "execution_count": 90,
   "id": "993f2c90-b69c-46a0-93b9-648dda954d4f",
   "metadata": {},
   "outputs": [
    {
     "name": "stdout",
     "output_type": "stream",
     "text": [
      "<class 'pandas.core.frame.DataFrame'>\n",
      "RangeIndex: 69999 entries, 0 to 69998\n",
      "Columns: 126 entries, arpu_6 to churn_probability\n",
      "dtypes: float64(103), int64(23)\n",
      "memory usage: 67.3 MB\n"
     ]
    }
   ],
   "source": [
    "data.info()"
   ]
  },
  {
   "cell_type": "markdown",
   "id": "cbefa7d8-2fcf-4954-b57f-52cc655d2b5f",
   "metadata": {},
   "source": [
    "#### Feature engineering"
   ]
  },
  {
   "cell_type": "markdown",
   "id": "b0c80967-4f12-47fd-a13b-f3c4b5a8de92",
   "metadata": {},
   "source": [
    "##### Adding column of average revenue per user for all three months"
   ]
  },
  {
   "cell_type": "code",
   "execution_count": 91,
   "id": "6e739acd-66b0-43a4-9cda-31acece0742e",
   "metadata": {},
   "outputs": [],
   "source": [
    "data[\"arpu\"] = (data[\"arpu_6\"] + data[\"arpu_7\"] + data[\"arpu_8\"] ) / 3"
   ]
  },
  {
   "cell_type": "code",
   "execution_count": 92,
   "id": "e89f02dd-42db-4022-b37e-3f07a027b3ab",
   "metadata": {},
   "outputs": [
    {
     "data": {
      "text/plain": [
       "count    69999.000000\n",
       "mean       280.059701\n",
       "std        310.243414\n",
       "min         13.426667\n",
       "50%        199.662667\n",
       "90%        584.719133\n",
       "95%        773.942000\n",
       "97%        920.071487\n",
       "98%       1050.861547\n",
       "max      32140.182000\n",
       "Name: arpu, dtype: float64"
      ]
     },
     "execution_count": 92,
     "metadata": {},
     "output_type": "execute_result"
    }
   ],
   "source": [
    "data[\"arpu\"].describe([0.9, 0.95, 0.97, 0.98])"
   ]
  },
  {
   "cell_type": "markdown",
   "id": "859e205d-bc48-4d6f-bbd9-db35e9b70c69",
   "metadata": {},
   "source": [
    "We can see that there are some really high value customers"
   ]
  },
  {
   "cell_type": "markdown",
   "id": "a7eb8131-6fdf-481f-b326-759a5298e91c",
   "metadata": {},
   "source": [
    "##### Adding column of total recharge done by customer for all three months"
   ]
  },
  {
   "cell_type": "code",
   "execution_count": 93,
   "id": "2dc2d5bc-575f-4cd1-8a9b-31eddd070aed",
   "metadata": {},
   "outputs": [],
   "source": [
    "data[\"total_rech_amt\"] = data[\"total_rech_amt_6\"] + data[\"total_rech_amt_7\"] + data[\"total_rech_amt_8\"]"
   ]
  },
  {
   "cell_type": "code",
   "execution_count": 94,
   "id": "75b5ec55-7eb5-481c-b179-86ae6f1e55d8",
   "metadata": {},
   "outputs": [
    {
     "data": {
      "text/plain": [
       "count     69999.000000\n",
       "mean        974.362505\n",
       "std        1106.099526\n",
       "min           0.000000\n",
       "50%         692.000000\n",
       "90%        2052.000000\n",
       "95%        2724.100000\n",
       "97%        3238.000000\n",
       "98%        3708.040000\n",
       "max      120845.000000\n",
       "Name: total_rech_amt, dtype: float64"
      ]
     },
     "execution_count": 94,
     "metadata": {},
     "output_type": "execute_result"
    }
   ],
   "source": [
    "data[\"total_rech_amt\"].describe([0.9, 0.95, 0.97, 0.98])"
   ]
  },
  {
   "cell_type": "markdown",
   "id": "26a1379e-3d65-4faa-b134-400342fcbdbc",
   "metadata": {},
   "source": [
    "##### Create High Value Customer data frame based on above two columns"
   ]
  },
  {
   "cell_type": "code",
   "execution_count": 118,
   "id": "9147a5ff-2d16-436d-9f6f-255410ce34d4",
   "metadata": {},
   "outputs": [],
   "source": [
    "data_hvc = data[ \n",
    "    ( data[\"arpu\"] >= data[\"arpu\"].quantile(0.70) ) | \n",
    "    ( data[\"total_rech_amt\"] >= data[\"total_rech_amt\"].quantile(0.70) ) ]"
   ]
  },
  {
   "cell_type": "code",
   "execution_count": 119,
   "id": "bbefea04-0ed7-43f8-92b9-8d09d42982da",
   "metadata": {},
   "outputs": [
    {
     "data": {
      "text/plain": [
       "(21939, 128)"
      ]
     },
     "execution_count": 119,
     "metadata": {},
     "output_type": "execute_result"
    }
   ],
   "source": [
    "data_hvc.shape"
   ]
  },
  {
   "cell_type": "markdown",
   "id": "f59fd9e1-5f14-476f-8e7f-d5096c3a3f2c",
   "metadata": {},
   "source": [
    "### 2. EDA"
   ]
  },
  {
   "cell_type": "code",
   "execution_count": 121,
   "id": "bd02bbe2-ec4b-4091-b18a-333bd3e360f3",
   "metadata": {},
   "outputs": [
    {
     "name": "stdout",
     "output_type": "stream",
     "text": [
      "<class 'pandas.core.frame.DataFrame'>\n",
      "Int64Index: 21939 entries, 12 to 69996\n",
      "Columns: 128 entries, arpu_6 to total_rech_amt\n",
      "dtypes: float64(104), int64(24)\n",
      "memory usage: 21.6 MB\n"
     ]
    }
   ],
   "source": [
    "data_hvc.info()"
   ]
  },
  {
   "cell_type": "markdown",
   "id": "ff1a56d9-0869-4183-a49f-8e97cce9aff0",
   "metadata": {},
   "source": [
    "##### Target variable distribution"
   ]
  },
  {
   "cell_type": "code",
   "execution_count": 150,
   "id": "60b433ed-0d27-44a1-bc81-c6b33313daa1",
   "metadata": {},
   "outputs": [
    {
     "data": {
      "image/png": "[encoded data removed]",
      "text/plain": [
       "<Figure size 432x288 with 1 Axes>"
      ]
     },
     "metadata": {},
     "output_type": "display_data"
    }
   ],
   "source": [
    "sns.barplot(data=data_hvc[\"churn_probability\"].value_counts(normalize=True).reset_index(),\n",
    "            x=\"index\", y=\"churn_probability\")\n",
    "plt.xlabel(\"Churn probability\")\n",
    "plt.ylabel(\"Proportion\")\n",
    "plt.show()"
   ]
  },
  {
   "cell_type": "code",
   "execution_count": 152,
   "id": "6092bd64-06b8-4578-aa21-3d7e4c209a53",
   "metadata": {},
   "outputs": [
    {
     "data": {
      "text/plain": [
       "<AxesSubplot:xlabel='churn_probability', ylabel='total_rech_amt'>"
      ]
     },
     "execution_count": 152,
     "metadata": {},
     "output_type": "execute_result"
    },
    {
     "data": {
      "image/png": "[encoded data removed]",
      "text/plain": [
       "<Figure size 432x288 with 1 Axes>"
      ]
     },
     "metadata": {},
     "output_type": "display_data"
    }
   ],
   "source": [
    "sns.boxplot(data=data_hvc, x=\"churn_probability\", y=\"total_rech_amt\")"
   ]
  },
  {
   "cell_type": "code",
   "execution_count": null,
   "id": "3f5c8539-09fb-470b-97b7-3442aaec8a63",
   "metadata": {},
   "outputs": [],
   "source": []
  }
 ],
 "metadata": {
  "kernelspec": {
   "display_name": "Python 3 (ipykernel)",
   "language": "python",
   "name": "python3"
  },
  "language_info": {
   "codemirror_mode": {
    "name": "ipython",
    "version": 3
   },
   "file_extension": ".py",
   "mimetype": "text/x-python",
   "name": "python",
   "nbconvert_exporter": "python",
   "pygments_lexer": "ipython3",
   "version": "3.9.7"
  }
 },
 "nbformat": 4,
 "nbformat_minor": 5
}
