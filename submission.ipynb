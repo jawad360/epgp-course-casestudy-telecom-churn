{
 "cells": [
  {
   "cell_type": "code",
   "execution_count": 579,
   "id": "2d8a1f00-c046-4c3f-8f5d-122d9ca8468f",
   "metadata": {},
   "outputs": [],
   "source": [
    "import numpy as np\n",
    "import pandas as pd\n",
    "import matplotlib.pyplot as plt\n",
    "import seaborn as sns\n",
    "\n",
    "from sklearn.preprocessing import StandardScaler\n",
    "from sklearn.model_selection import train_test_split\n",
    "from sklearn.decomposition import PCA\n",
    "\n",
    "from sklearn.linear_model import LogisticRegression\n",
    "from sklearn.tree import DecisionTreeClassifier\n",
    "from sklearn.model_selection import GridSearchCV\n",
    "from sklearn.ensemble import RandomForestClassifier\n",
    "\n",
    "import sklearn.metrics as metrics\n",
    "\n",
    "import warnings\n",
    "warnings.filterwarnings(\"ignore\")"
   ]
  },
  {
   "cell_type": "code",
   "execution_count": 580,
   "id": "f0b2cadc-beb7-4676-94e5-1168f142b95a",
   "metadata": {},
   "outputs": [],
   "source": [
    "plt.style.use(\"ggplot\")"
   ]
  },
  {
   "cell_type": "markdown",
   "id": "8701c7f0-093b-448b-9dd7-8a9d8a751470",
   "metadata": {},
   "source": [
    "### 1. Data understanding and cleaning"
   ]
  },
  {
   "cell_type": "code",
   "execution_count": 581,
   "id": "a60fb69b-c8e3-4554-ad14-43f6a4d4ba9a",
   "metadata": {},
   "outputs": [],
   "source": [
    "data = pd.read_csv(\"train (1).csv\")"
   ]
  },
  {
   "cell_type": "code",
   "execution_count": 582,
   "id": "d19cfa13-95c4-4d8a-b8cd-6046d1fbddda",
   "metadata": {},
   "outputs": [
    {
     "name": "stdout",
     "output_type": "stream",
     "text": [
      "<class 'pandas.core.frame.DataFrame'>\n",
      "RangeIndex: 69999 entries, 0 to 69998\n",
      "Columns: 172 entries, id to churn_probability\n",
      "dtypes: float64(135), int64(28), object(9)\n",
      "memory usage: 91.9+ MB\n"
     ]
    }
   ],
   "source": [
    "data.info()"
   ]
  },
  {
   "cell_type": "code",
   "execution_count": 583,
   "id": "37fab067-25c0-4179-a804-adddd465a550",
   "metadata": {},
   "outputs": [
    {
     "data": {
      "text/html": [
       "<div>\n",
       "<style scoped>\n",
       "    .dataframe tbody tr th:only-of-type {\n",
       "        vertical-align: middle;\n",
       "    }\n",
       "\n",
       "    .dataframe tbody tr th {\n",
       "        vertical-align: top;\n",
       "    }\n",
       "\n",
       "    .dataframe thead th {\n",
       "        text-align: right;\n",
       "    }\n",
       "</style>\n",
       "<table border=\"1\" class=\"dataframe\">\n",
       "  <thead>\n",
       "    <tr style=\"text-align: right;\">\n",
       "      <th></th>\n",
       "      <th>id</th>\n",
       "      <th>circle_id</th>\n",
       "      <th>loc_og_t2o_mou</th>\n",
       "      <th>std_og_t2o_mou</th>\n",
       "      <th>loc_ic_t2o_mou</th>\n",
       "      <th>last_date_of_month_6</th>\n",
       "      <th>last_date_of_month_7</th>\n",
       "      <th>last_date_of_month_8</th>\n",
       "      <th>arpu_6</th>\n",
       "      <th>arpu_7</th>\n",
       "      <th>...</th>\n",
       "      <th>sachet_3g_7</th>\n",
       "      <th>sachet_3g_8</th>\n",
       "      <th>fb_user_6</th>\n",
       "      <th>fb_user_7</th>\n",
       "      <th>fb_user_8</th>\n",
       "      <th>aon</th>\n",
       "      <th>aug_vbc_3g</th>\n",
       "      <th>jul_vbc_3g</th>\n",
       "      <th>jun_vbc_3g</th>\n",
       "      <th>churn_probability</th>\n",
       "    </tr>\n",
       "  </thead>\n",
       "  <tbody>\n",
       "    <tr>\n",
       "      <th>0</th>\n",
       "      <td>0</td>\n",
       "      <td>109</td>\n",
       "      <td>0.0</td>\n",
       "      <td>0.0</td>\n",
       "      <td>0.0</td>\n",
       "      <td>6/30/2014</td>\n",
       "      <td>7/31/2014</td>\n",
       "      <td>8/31/2014</td>\n",
       "      <td>31.277</td>\n",
       "      <td>87.009</td>\n",
       "      <td>...</td>\n",
       "      <td>0</td>\n",
       "      <td>0</td>\n",
       "      <td>NaN</td>\n",
       "      <td>NaN</td>\n",
       "      <td>NaN</td>\n",
       "      <td>1958</td>\n",
       "      <td>0.0</td>\n",
       "      <td>0.0</td>\n",
       "      <td>0.0</td>\n",
       "      <td>0</td>\n",
       "    </tr>\n",
       "    <tr>\n",
       "      <th>1</th>\n",
       "      <td>1</td>\n",
       "      <td>109</td>\n",
       "      <td>0.0</td>\n",
       "      <td>0.0</td>\n",
       "      <td>0.0</td>\n",
       "      <td>6/30/2014</td>\n",
       "      <td>7/31/2014</td>\n",
       "      <td>8/31/2014</td>\n",
       "      <td>0.000</td>\n",
       "      <td>122.787</td>\n",
       "      <td>...</td>\n",
       "      <td>0</td>\n",
       "      <td>0</td>\n",
       "      <td>NaN</td>\n",
       "      <td>1.0</td>\n",
       "      <td>NaN</td>\n",
       "      <td>710</td>\n",
       "      <td>0.0</td>\n",
       "      <td>0.0</td>\n",
       "      <td>0.0</td>\n",
       "      <td>0</td>\n",
       "    </tr>\n",
       "    <tr>\n",
       "      <th>2</th>\n",
       "      <td>2</td>\n",
       "      <td>109</td>\n",
       "      <td>0.0</td>\n",
       "      <td>0.0</td>\n",
       "      <td>0.0</td>\n",
       "      <td>6/30/2014</td>\n",
       "      <td>7/31/2014</td>\n",
       "      <td>8/31/2014</td>\n",
       "      <td>60.806</td>\n",
       "      <td>103.176</td>\n",
       "      <td>...</td>\n",
       "      <td>0</td>\n",
       "      <td>0</td>\n",
       "      <td>NaN</td>\n",
       "      <td>NaN</td>\n",
       "      <td>NaN</td>\n",
       "      <td>882</td>\n",
       "      <td>0.0</td>\n",
       "      <td>0.0</td>\n",
       "      <td>0.0</td>\n",
       "      <td>0</td>\n",
       "    </tr>\n",
       "    <tr>\n",
       "      <th>3</th>\n",
       "      <td>3</td>\n",
       "      <td>109</td>\n",
       "      <td>0.0</td>\n",
       "      <td>0.0</td>\n",
       "      <td>0.0</td>\n",
       "      <td>6/30/2014</td>\n",
       "      <td>7/31/2014</td>\n",
       "      <td>8/31/2014</td>\n",
       "      <td>156.362</td>\n",
       "      <td>205.260</td>\n",
       "      <td>...</td>\n",
       "      <td>0</td>\n",
       "      <td>0</td>\n",
       "      <td>NaN</td>\n",
       "      <td>NaN</td>\n",
       "      <td>NaN</td>\n",
       "      <td>982</td>\n",
       "      <td>0.0</td>\n",
       "      <td>0.0</td>\n",
       "      <td>0.0</td>\n",
       "      <td>0</td>\n",
       "    </tr>\n",
       "    <tr>\n",
       "      <th>4</th>\n",
       "      <td>4</td>\n",
       "      <td>109</td>\n",
       "      <td>0.0</td>\n",
       "      <td>0.0</td>\n",
       "      <td>0.0</td>\n",
       "      <td>6/30/2014</td>\n",
       "      <td>7/31/2014</td>\n",
       "      <td>8/31/2014</td>\n",
       "      <td>240.708</td>\n",
       "      <td>128.191</td>\n",
       "      <td>...</td>\n",
       "      <td>1</td>\n",
       "      <td>0</td>\n",
       "      <td>1.0</td>\n",
       "      <td>1.0</td>\n",
       "      <td>1.0</td>\n",
       "      <td>647</td>\n",
       "      <td>0.0</td>\n",
       "      <td>0.0</td>\n",
       "      <td>0.0</td>\n",
       "      <td>0</td>\n",
       "    </tr>\n",
       "  </tbody>\n",
       "</table>\n",
       "<p>5 rows × 172 columns</p>\n",
       "</div>"
      ],
      "text/plain": [
       "   id  circle_id  loc_og_t2o_mou  std_og_t2o_mou  loc_ic_t2o_mou  \\\n",
       "0   0        109             0.0             0.0             0.0   \n",
       "1   1        109             0.0             0.0             0.0   \n",
       "2   2        109             0.0             0.0             0.0   \n",
       "3   3        109             0.0             0.0             0.0   \n",
       "4   4        109             0.0             0.0             0.0   \n",
       "\n",
       "  last_date_of_month_6 last_date_of_month_7 last_date_of_month_8   arpu_6  \\\n",
       "0            6/30/2014            7/31/2014            8/31/2014   31.277   \n",
       "1            6/30/2014            7/31/2014            8/31/2014    0.000   \n",
       "2            6/30/2014            7/31/2014            8/31/2014   60.806   \n",
       "3            6/30/2014            7/31/2014            8/31/2014  156.362   \n",
       "4            6/30/2014            7/31/2014            8/31/2014  240.708   \n",
       "\n",
       "    arpu_7  ...  sachet_3g_7  sachet_3g_8  fb_user_6  fb_user_7  fb_user_8  \\\n",
       "0   87.009  ...            0            0        NaN        NaN        NaN   \n",
       "1  122.787  ...            0            0        NaN        1.0        NaN   \n",
       "2  103.176  ...            0            0        NaN        NaN        NaN   \n",
       "3  205.260  ...            0            0        NaN        NaN        NaN   \n",
       "4  128.191  ...            1            0        1.0        1.0        1.0   \n",
       "\n",
       "    aon  aug_vbc_3g  jul_vbc_3g  jun_vbc_3g  churn_probability  \n",
       "0  1958         0.0         0.0         0.0                  0  \n",
       "1   710         0.0         0.0         0.0                  0  \n",
       "2   882         0.0         0.0         0.0                  0  \n",
       "3   982         0.0         0.0         0.0                  0  \n",
       "4   647         0.0         0.0         0.0                  0  \n",
       "\n",
       "[5 rows x 172 columns]"
      ]
     },
     "execution_count": 583,
     "metadata": {},
     "output_type": "execute_result"
    }
   ],
   "source": [
    "data.head()"
   ]
  },
  {
   "cell_type": "markdown",
   "id": "05bc27a8-6c7d-4aaf-959c-1197d683b7fd",
   "metadata": {},
   "source": [
    "#### Checking for null values"
   ]
  },
  {
   "cell_type": "code",
   "execution_count": 584,
   "id": "27c75bc3-ccf1-43d0-89d5-a230d1c59498",
   "metadata": {
    "tags": []
   },
   "outputs": [
    {
     "data": {
      "text/plain": [
       "arpu_3g_6                   74.902499\n",
       "count_rech_2g_6             74.902499\n",
       "night_pck_user_6            74.902499\n",
       "arpu_2g_6                   74.902499\n",
       "date_of_last_rech_data_6    74.902499\n",
       "                              ...    \n",
       "last_day_rch_amt_8           0.000000\n",
       "vol_2g_mb_6                  0.000000\n",
       "vol_2g_mb_7                  0.000000\n",
       "vol_2g_mb_8                  0.000000\n",
       "churn_probability            0.000000\n",
       "Length: 172, dtype: float64"
      ]
     },
     "execution_count": 584,
     "metadata": {},
     "output_type": "execute_result"
    }
   ],
   "source": [
    "(data.isna().sum() * 100 / len(data)).sort_values(ascending = False)"
   ]
  },
  {
   "cell_type": "markdown",
   "id": "a176b2b7-ed9b-4ee8-b78b-b3178ef7609b",
   "metadata": {},
   "source": [
    "Let's drop all the features having more than 70% of null values"
   ]
  },
  {
   "cell_type": "code",
   "execution_count": 585,
   "id": "7292c259-a3a3-416e-adf4-690974036adc",
   "metadata": {},
   "outputs": [],
   "source": [
    "data.dropna(thresh=len(data.index) * 0.7, axis=1, inplace=True)"
   ]
  },
  {
   "cell_type": "code",
   "execution_count": 586,
   "id": "cd3f3db8-5e1a-4f88-adf3-4cae45a76d62",
   "metadata": {},
   "outputs": [
    {
     "data": {
      "text/plain": [
       "(69999, 142)"
      ]
     },
     "execution_count": 586,
     "metadata": {},
     "output_type": "execute_result"
    }
   ],
   "source": [
    "data.shape"
   ]
  },
  {
   "cell_type": "markdown",
   "id": "6f058e2c-b14a-43c0-a1c8-d6f86614c051",
   "metadata": {
    "tags": []
   },
   "source": [
    "#### Dropping redundant feature"
   ]
  },
  {
   "cell_type": "markdown",
   "id": "7e458062-167b-4371-b6a6-0c34082c2205",
   "metadata": {},
   "source": [
    "##### Low variance feature"
   ]
  },
  {
   "cell_type": "code",
   "execution_count": 587,
   "id": "e6925419-5414-451a-96d0-539cb9bb0c4d",
   "metadata": {},
   "outputs": [
    {
     "data": {
      "text/plain": [
       "['circle_id',\n",
       " 'loc_og_t2o_mou',\n",
       " 'std_og_t2o_mou',\n",
       " 'loc_ic_t2o_mou',\n",
       " 'last_date_of_month_6',\n",
       " 'last_date_of_month_7',\n",
       " 'last_date_of_month_8',\n",
       " 'std_og_t2c_mou_6',\n",
       " 'std_og_t2c_mou_7',\n",
       " 'og_others_7',\n",
       " 'std_ic_t2o_mou_6',\n",
       " 'std_ic_t2o_mou_7',\n",
       " 'sachet_3g_6',\n",
       " 'sachet_3g_7',\n",
       " 'sachet_3g_8']"
      ]
     },
     "execution_count": 587,
     "metadata": {},
     "output_type": "execute_result"
    }
   ],
   "source": [
    "redundant_cols = []\n",
    "for col in data.columns:\n",
    "    counts = data[col].value_counts()\n",
    "    count_max = counts.iloc[0]\n",
    "    if count_max / len(data) * 100 > 95:\n",
    "        redundant_cols.append(col)\n",
    "redundant_cols"
   ]
  },
  {
   "cell_type": "code",
   "execution_count": 588,
   "id": "9f3a632b-b6fa-435e-98be-9afcaf102925",
   "metadata": {},
   "outputs": [
    {
     "data": {
      "text/plain": [
       "0.0    69297\n",
       "Name: loc_og_t2o_mou, dtype: int64"
      ]
     },
     "execution_count": 588,
     "metadata": {},
     "output_type": "execute_result"
    }
   ],
   "source": [
    "data.loc_og_t2o_mou.value_counts()"
   ]
  },
  {
   "cell_type": "code",
   "execution_count": 589,
   "id": "1bdaeb53-184a-40b7-81e5-91c9c855d001",
   "metadata": {},
   "outputs": [
    {
     "data": {
      "text/plain": [
       "109    69999\n",
       "Name: circle_id, dtype: int64"
      ]
     },
     "execution_count": 589,
     "metadata": {},
     "output_type": "execute_result"
    }
   ],
   "source": [
    "data.circle_id.value_counts()"
   ]
  },
  {
   "cell_type": "markdown",
   "id": "0b1072bd-1c49-4388-835f-662fd43aaba5",
   "metadata": {},
   "source": [
    "These values have very low variance and it does not contain any information, so lets drop these features"
   ]
  },
  {
   "cell_type": "code",
   "execution_count": 590,
   "id": "ef5d5f03-27e0-48fd-ae1e-74f50e7a8dcc",
   "metadata": {},
   "outputs": [],
   "source": [
    "data.drop(redundant_cols, axis=1, inplace=True)"
   ]
  },
  {
   "cell_type": "markdown",
   "id": "406a79f3-c1aa-48e8-b484-d992898b7470",
   "metadata": {},
   "source": [
    "##### Dropping id"
   ]
  },
  {
   "cell_type": "code",
   "execution_count": 591,
   "id": "206d2158-2fc4-4070-8f38-31499d3a54bc",
   "metadata": {},
   "outputs": [],
   "source": [
    "data.drop(\"id\", axis=1, inplace=True)"
   ]
  },
  {
   "cell_type": "code",
   "execution_count": 592,
   "id": "d5737e32-b137-4331-b4f0-2093ce68dacf",
   "metadata": {},
   "outputs": [
    {
     "name": "stdout",
     "output_type": "stream",
     "text": [
      "<class 'pandas.core.frame.DataFrame'>\n",
      "RangeIndex: 69999 entries, 0 to 69998\n",
      "Columns: 126 entries, arpu_6 to churn_probability\n",
      "dtypes: float64(100), int64(23), object(3)\n",
      "memory usage: 67.3+ MB\n"
     ]
    }
   ],
   "source": [
    "data.info()"
   ]
  },
  {
   "cell_type": "markdown",
   "id": "c8cdee76-bccc-4bf9-aa63-8400457102c7",
   "metadata": {},
   "source": [
    "#### Data transformation"
   ]
  },
  {
   "cell_type": "markdown",
   "id": "892ef15e-3036-481d-8e08-e3c8592279cf",
   "metadata": {
    "tags": []
   },
   "source": [
    "##### Lets have a look at the object types"
   ]
  },
  {
   "cell_type": "code",
   "execution_count": 593,
   "id": "356e5621-a504-49fe-b002-3bfeb5f20942",
   "metadata": {},
   "outputs": [
    {
     "data": {
      "text/plain": [
       "Index(['date_of_last_rech_6', 'date_of_last_rech_7', 'date_of_last_rech_8'], dtype='object')"
      ]
     },
     "execution_count": 593,
     "metadata": {},
     "output_type": "execute_result"
    }
   ],
   "source": [
    "data.select_dtypes('object').columns"
   ]
  },
  {
   "cell_type": "markdown",
   "id": "c7de6659-c10a-4256-8d4f-60f7f72a0040",
   "metadata": {},
   "source": [
    "These are all datetime fields."
   ]
  },
  {
   "cell_type": "code",
   "execution_count": 594,
   "id": "495f7381-ee6c-44ec-ad86-6a906d0f1483",
   "metadata": {},
   "outputs": [
    {
     "data": {
      "text/plain": [
       "2014.0    68898\n",
       "Name: date_of_last_rech_6, dtype: int64"
      ]
     },
     "execution_count": 594,
     "metadata": {},
     "output_type": "execute_result"
    }
   ],
   "source": [
    "pd.to_datetime(data['date_of_last_rech_6'], infer_datetime_format=True).dt.year.value_counts()"
   ]
  },
  {
   "cell_type": "code",
   "execution_count": 595,
   "id": "02f86c64-5e8b-46ae-97d0-71a177281a44",
   "metadata": {},
   "outputs": [
    {
     "data": {
      "text/plain": [
       "6.0    68898\n",
       "Name: date_of_last_rech_6, dtype: int64"
      ]
     },
     "execution_count": 595,
     "metadata": {},
     "output_type": "execute_result"
    }
   ],
   "source": [
    "pd.to_datetime(data['date_of_last_rech_6'], infer_datetime_format=True).dt.month.value_counts()"
   ]
  },
  {
   "cell_type": "markdown",
   "id": "bf40acec-6bd1-45a0-84c4-419e8b33b21d",
   "metadata": {},
   "source": [
    "For each of these fields month and year are the same, so we can remove them and just keep the day"
   ]
  },
  {
   "cell_type": "code",
   "execution_count": 596,
   "id": "fded8c94-c8c2-4e1f-b07c-a40559ed32d9",
   "metadata": {},
   "outputs": [],
   "source": [
    "data['date_of_last_rech_6'] = pd.to_datetime(data['date_of_last_rech_6'], infer_datetime_format=True).dt.day"
   ]
  },
  {
   "cell_type": "code",
   "execution_count": 597,
   "id": "f39b0b18-e8d2-4e9a-b34e-c6342c49fbcd",
   "metadata": {},
   "outputs": [],
   "source": [
    "data['date_of_last_rech_7'] = pd.to_datetime(data['date_of_last_rech_7'], infer_datetime_format=True).dt.day"
   ]
  },
  {
   "cell_type": "code",
   "execution_count": 598,
   "id": "98d52afa-dc15-41bb-bb45-a99a63735e6e",
   "metadata": {},
   "outputs": [],
   "source": [
    "data['date_of_last_rech_8'] = pd.to_datetime(data['date_of_last_rech_8'], infer_datetime_format=True).dt.day"
   ]
  },
  {
   "cell_type": "code",
   "execution_count": 599,
   "id": "993f2c90-b69c-46a0-93b9-648dda954d4f",
   "metadata": {},
   "outputs": [
    {
     "name": "stdout",
     "output_type": "stream",
     "text": [
      "<class 'pandas.core.frame.DataFrame'>\n",
      "RangeIndex: 69999 entries, 0 to 69998\n",
      "Columns: 126 entries, arpu_6 to churn_probability\n",
      "dtypes: float64(103), int64(23)\n",
      "memory usage: 67.3 MB\n"
     ]
    }
   ],
   "source": [
    "data.info()"
   ]
  },
  {
   "cell_type": "markdown",
   "id": "8188f731-11ae-4d96-bbed-a466c25b4f1a",
   "metadata": {},
   "source": [
    "##### Lets no replace all null values with median"
   ]
  },
  {
   "cell_type": "code",
   "execution_count": 600,
   "id": "c2078654-eff7-4dc0-a18f-1f99cb689edc",
   "metadata": {},
   "outputs": [],
   "source": [
    "data.fillna(data.median(), inplace=True)"
   ]
  },
  {
   "cell_type": "code",
   "execution_count": 601,
   "id": "f8675c8b-c5d3-4113-b1de-10b3e5c01c49",
   "metadata": {},
   "outputs": [
    {
     "data": {
      "text/plain": [
       "arpu_6               0.0\n",
       "total_ic_mou_6       0.0\n",
       "total_rech_num_7     0.0\n",
       "total_rech_num_6     0.0\n",
       "ic_others_8          0.0\n",
       "                    ... \n",
       "std_og_t2f_mou_7     0.0\n",
       "std_og_t2f_mou_6     0.0\n",
       "std_og_t2m_mou_8     0.0\n",
       "std_og_t2m_mou_7     0.0\n",
       "churn_probability    0.0\n",
       "Length: 126, dtype: float64"
      ]
     },
     "execution_count": 601,
     "metadata": {},
     "output_type": "execute_result"
    }
   ],
   "source": [
    "(data.isna().sum() * 100 / len(data)).sort_values(ascending = False)"
   ]
  },
  {
   "cell_type": "markdown",
   "id": "cbefa7d8-2fcf-4954-b57f-52cc655d2b5f",
   "metadata": {},
   "source": [
    "#### Feature engineering"
   ]
  },
  {
   "cell_type": "markdown",
   "id": "b0c80967-4f12-47fd-a13b-f3c4b5a8de92",
   "metadata": {},
   "source": [
    "##### Adding column of average revenue per user for all three months"
   ]
  },
  {
   "cell_type": "code",
   "execution_count": 602,
   "id": "6e739acd-66b0-43a4-9cda-31acece0742e",
   "metadata": {},
   "outputs": [],
   "source": [
    "data[\"arpu\"] = (data[\"arpu_6\"] + data[\"arpu_7\"] + data[\"arpu_8\"] ) / 3"
   ]
  },
  {
   "cell_type": "code",
   "execution_count": 603,
   "id": "e89f02dd-42db-4022-b37e-3f07a027b3ab",
   "metadata": {},
   "outputs": [
    {
     "data": {
      "text/plain": [
       "count    69999.000000\n",
       "mean       280.059701\n",
       "std        310.243414\n",
       "min         13.426667\n",
       "50%        199.662667\n",
       "90%        584.719133\n",
       "95%        773.942000\n",
       "97%        920.071487\n",
       "98%       1050.861547\n",
       "max      32140.182000\n",
       "Name: arpu, dtype: float64"
      ]
     },
     "execution_count": 603,
     "metadata": {},
     "output_type": "execute_result"
    }
   ],
   "source": [
    "data[\"arpu\"].describe([0.9, 0.95, 0.97, 0.98])"
   ]
  },
  {
   "cell_type": "markdown",
   "id": "859e205d-bc48-4d6f-bbd9-db35e9b70c69",
   "metadata": {},
   "source": [
    "We can see that there are some really high value customers"
   ]
  },
  {
   "cell_type": "markdown",
   "id": "a7eb8131-6fdf-481f-b326-759a5298e91c",
   "metadata": {},
   "source": [
    "##### Adding column of total recharge done by customer for all three months"
   ]
  },
  {
   "cell_type": "code",
   "execution_count": 604,
   "id": "2dc2d5bc-575f-4cd1-8a9b-31eddd070aed",
   "metadata": {},
   "outputs": [],
   "source": [
    "data[\"total_rech_amt\"] = data[\"total_rech_amt_6\"] + data[\"total_rech_amt_7\"] + data[\"total_rech_amt_8\"]"
   ]
  },
  {
   "cell_type": "code",
   "execution_count": 605,
   "id": "75b5ec55-7eb5-481c-b179-86ae6f1e55d8",
   "metadata": {},
   "outputs": [
    {
     "data": {
      "text/plain": [
       "count     69999.000000\n",
       "mean        974.362505\n",
       "std        1106.099526\n",
       "min           0.000000\n",
       "50%         692.000000\n",
       "90%        2052.000000\n",
       "95%        2724.100000\n",
       "97%        3238.000000\n",
       "98%        3708.040000\n",
       "max      120845.000000\n",
       "Name: total_rech_amt, dtype: float64"
      ]
     },
     "execution_count": 605,
     "metadata": {},
     "output_type": "execute_result"
    }
   ],
   "source": [
    "data[\"total_rech_amt\"].describe([0.9, 0.95, 0.97, 0.98])"
   ]
  },
  {
   "cell_type": "markdown",
   "id": "bb41166f-cc0b-4089-ab22-5cbe4cb5666a",
   "metadata": {},
   "source": [
    "##### Adding total data usags"
   ]
  },
  {
   "cell_type": "code",
   "execution_count": 606,
   "id": "b5c59c4d-0dae-406f-8048-fd31c59e5a74",
   "metadata": {},
   "outputs": [],
   "source": [
    "data[\"total_vol_2g_3g\"] = data[\"vol_2g_mb_6\"] + data[\"vol_2g_mb_7\"] + data[\"vol_2g_mb_8\"] + data[\"vol_3g_mb_6\"] + data[\"vol_3g_mb_7\"] + data[\"vol_3g_mb_8\"]"
   ]
  },
  {
   "cell_type": "markdown",
   "id": "d303df08-e2bd-48fd-a44a-82a57f9e21ea",
   "metadata": {},
   "source": [
    "##### Adding total min of usage"
   ]
  },
  {
   "cell_type": "code",
   "execution_count": 607,
   "id": "4f0c902e-22fe-4a96-837a-5076c4910afc",
   "metadata": {},
   "outputs": [],
   "source": [
    "data[\"total_mou\"] = data[\"onnet_mou_6\"] + data[\"onnet_mou_7\"] + data[\"onnet_mou_8\"] + data[\"offnet_mou_6\"] + data[\"offnet_mou_7\"] + data[\"offnet_mou_8\"]"
   ]
  },
  {
   "cell_type": "code",
   "execution_count": null,
   "id": "653b2616-97aa-4a2b-ae8e-0772af298e36",
   "metadata": {},
   "outputs": [],
   "source": []
  },
  {
   "cell_type": "code",
   "execution_count": null,
   "id": "12764093-d3f7-4f3a-bc2d-c3177f4c4af5",
   "metadata": {},
   "outputs": [],
   "source": []
  },
  {
   "cell_type": "markdown",
   "id": "26a1379e-3d65-4faa-b134-400342fcbdbc",
   "metadata": {},
   "source": [
    "##### Create High Value Customer data frame based on above two columns"
   ]
  },
  {
   "cell_type": "code",
   "execution_count": 608,
   "id": "9147a5ff-2d16-436d-9f6f-255410ce34d4",
   "metadata": {},
   "outputs": [],
   "source": [
    "data_hvc = data[ \n",
    "    ( ( data[\"arpu\"] >= data[\"arpu\"].quantile(0.70) ) & ( data[\"arpu\"] < data[\"arpu\"].quantile(0.999) )) | \n",
    "    ( ( data[\"total_rech_amt\"] >= data[\"total_rech_amt\"].quantile(0.70) ) & \n",
    "     ( data[\"total_rech_amt\"] < data[\"total_rech_amt\"].quantile(0.999) ) ) ]"
   ]
  },
  {
   "cell_type": "code",
   "execution_count": 609,
   "id": "bbefea04-0ed7-43f8-92b9-8d09d42982da",
   "metadata": {},
   "outputs": [
    {
     "data": {
      "text/plain": [
       "(21875, 130)"
      ]
     },
     "execution_count": 609,
     "metadata": {},
     "output_type": "execute_result"
    }
   ],
   "source": [
    "data_hvc.shape"
   ]
  },
  {
   "cell_type": "markdown",
   "id": "f59fd9e1-5f14-476f-8e7f-d5096c3a3f2c",
   "metadata": {},
   "source": [
    "### 2. EDA"
   ]
  },
  {
   "cell_type": "code",
   "execution_count": 610,
   "id": "bd02bbe2-ec4b-4091-b18a-333bd3e360f3",
   "metadata": {},
   "outputs": [
    {
     "name": "stdout",
     "output_type": "stream",
     "text": [
      "<class 'pandas.core.frame.DataFrame'>\n",
      "Int64Index: 21875 entries, 12 to 69996\n",
      "Columns: 130 entries, arpu_6 to total_mou\n",
      "dtypes: float64(106), int64(24)\n",
      "memory usage: 21.9 MB\n"
     ]
    }
   ],
   "source": [
    "data_hvc.info()"
   ]
  },
  {
   "cell_type": "markdown",
   "id": "ff1a56d9-0869-4183-a49f-8e97cce9aff0",
   "metadata": {},
   "source": [
    "##### Target variable distribution"
   ]
  },
  {
   "cell_type": "code",
   "execution_count": 611,
   "id": "eb7288a3-408b-4b59-9fe4-1aae9c91f903",
   "metadata": {},
   "outputs": [
    {
     "data": {
      "text/plain": [
       "0    20465\n",
       "1     1410\n",
       "Name: churn_probability, dtype: int64"
      ]
     },
     "execution_count": 611,
     "metadata": {},
     "output_type": "execute_result"
    }
   ],
   "source": [
    "data_hvc.churn_probability.value_counts()"
   ]
  },
  {
   "cell_type": "code",
   "execution_count": 612,
   "id": "60b433ed-0d27-44a1-bc81-c6b33313daa1",
   "metadata": {},
   "outputs": [
    {
     "data": {
      "image/png": "[encoded data removed]",
      "text/plain": [
       "<Figure size 432x288 with 1 Axes>"
      ]
     },
     "metadata": {},
     "output_type": "display_data"
    }
   ],
   "source": [
    "sns.barplot(data=data_hvc[\"churn_probability\"].value_counts(normalize=True).reset_index(),\n",
    "            x=\"index\", y=\"churn_probability\")\n",
    "plt.xlabel(\"Churn probability\")\n",
    "plt.ylabel(\"Proportion\")\n",
    "plt.show()"
   ]
  },
  {
   "cell_type": "markdown",
   "id": "b846a46f-f234-454c-bf00-06d66ce51eb2",
   "metadata": {},
   "source": [
    "The distribution of churn and not churn is clearly not equally distributed"
   ]
  },
  {
   "cell_type": "markdown",
   "id": "6d24e607-6cfd-4ed4-a51d-ae34fff0df35",
   "metadata": {},
   "source": [
    "##### Relationship of target variable and total_rech_amt"
   ]
  },
  {
   "cell_type": "code",
   "execution_count": 613,
   "id": "6092bd64-06b8-4578-aa21-3d7e4c209a53",
   "metadata": {},
   "outputs": [
    {
     "data": {
      "text/plain": [
       "<AxesSubplot:xlabel='churn_probability', ylabel='total_rech_amt'>"
      ]
     },
     "execution_count": 613,
     "metadata": {},
     "output_type": "execute_result"
    },
    {
     "data": {
      "image/png": "[encoded data removed]",
      "text/plain": [
       "<Figure size 432x288 with 1 Axes>"
      ]
     },
     "metadata": {},
     "output_type": "display_data"
    }
   ],
   "source": [
    "sns.boxplot(data=data_hvc, x=\"churn_probability\", y=\"total_rech_amt\")"
   ]
  },
  {
   "cell_type": "code",
   "execution_count": 614,
   "id": "a0ea837c-5a3f-4924-bad8-1fd1ada916d9",
   "metadata": {},
   "outputs": [
    {
     "data": {
      "text/plain": [
       "<AxesSubplot:xlabel='churn_probability', ylabel='total_rech_amt_8'>"
      ]
     },
     "execution_count": 614,
     "metadata": {},
     "output_type": "execute_result"
    },
    {
     "data": {
      "image/png": "[encoded data removed]",
      "text/plain": [
       "<Figure size 432x288 with 1 Axes>"
      ]
     },
     "metadata": {},
     "output_type": "display_data"
    }
   ],
   "source": [
    "sns.boxplot(data=data_hvc, x=\"churn_probability\", y=\"total_rech_amt_8\")"
   ]
  },
  {
   "cell_type": "code",
   "execution_count": 615,
   "id": "69556cdb-d85e-4430-a80c-762838283c73",
   "metadata": {},
   "outputs": [
    {
     "data": {
      "text/plain": [
       "<AxesSubplot:xlabel='churn_probability', ylabel='total_rech_amt_7'>"
      ]
     },
     "execution_count": 615,
     "metadata": {},
     "output_type": "execute_result"
    },
    {
     "data": {
      "image/png": "[encoded data removed]",
      "text/plain": [
       "<Figure size 432x288 with 1 Axes>"
      ]
     },
     "metadata": {},
     "output_type": "display_data"
    }
   ],
   "source": [
    "sns.boxplot(data=data_hvc, x=\"churn_probability\", y=\"total_rech_amt_7\")"
   ]
  },
  {
   "cell_type": "code",
   "execution_count": 616,
   "id": "a8483a7c-6e7f-40bf-af38-ea40f164f4c5",
   "metadata": {},
   "outputs": [
    {
     "data": {
      "text/plain": [
       "<AxesSubplot:xlabel='churn_probability', ylabel='total_rech_amt_6'>"
      ]
     },
     "execution_count": 616,
     "metadata": {},
     "output_type": "execute_result"
    },
    {
     "data": {
      "image/png": "[encoded data removed]",
      "text/plain": [
       "<Figure size 432x288 with 1 Axes>"
      ]
     },
     "metadata": {},
     "output_type": "display_data"
    }
   ],
   "source": [
    "sns.boxplot(data=data_hvc, x=\"churn_probability\", y=\"total_rech_amt_6\")"
   ]
  },
  {
   "cell_type": "markdown",
   "id": "c55fc3fd-779f-4297-aee6-63938d2a0bb5",
   "metadata": {},
   "source": [
    "We can see from here that if customer is recharging less consecutively from june to july to august he/she is more likely to churn"
   ]
  },
  {
   "cell_type": "markdown",
   "id": "de9e32b5-7018-4ad9-a287-fa6f441d217f",
   "metadata": {},
   "source": [
    "##### Relationship of target variable and arpu"
   ]
  },
  {
   "cell_type": "code",
   "execution_count": 617,
   "id": "db25b2a4-5cc3-4e0b-b766-3ab3251e4b94",
   "metadata": {},
   "outputs": [
    {
     "data": {
      "text/plain": [
       "<AxesSubplot:xlabel='churn_probability', ylabel='arpu'>"
      ]
     },
     "execution_count": 617,
     "metadata": {},
     "output_type": "execute_result"
    },
    {
     "data": {
      "image/png": "[encoded data removed]",
      "text/plain": [
       "<Figure size 432x288 with 1 Axes>"
      ]
     },
     "metadata": {},
     "output_type": "display_data"
    }
   ],
   "source": [
    "sns.boxplot(data=data_hvc, x=\"churn_probability\", y=\"arpu\")"
   ]
  },
  {
   "cell_type": "code",
   "execution_count": 618,
   "id": "744ff597-6410-4138-9583-df8fc55ce728",
   "metadata": {},
   "outputs": [
    {
     "data": {
      "text/plain": [
       "<AxesSubplot:xlabel='churn_probability', ylabel='arpu_8'>"
      ]
     },
     "execution_count": 618,
     "metadata": {},
     "output_type": "execute_result"
    },
    {
     "data": {
      "image/png": "[encoded data removed]",
      "text/plain": [
       "<Figure size 432x288 with 1 Axes>"
      ]
     },
     "metadata": {},
     "output_type": "display_data"
    }
   ],
   "source": [
    "sns.boxplot(data=data_hvc, x=\"churn_probability\", y=\"arpu_8\")"
   ]
  },
  {
   "cell_type": "code",
   "execution_count": 619,
   "id": "90b5288d-a108-4361-9b38-0017a4ab5b15",
   "metadata": {},
   "outputs": [
    {
     "data": {
      "text/plain": [
       "<AxesSubplot:xlabel='churn_probability', ylabel='arpu_7'>"
      ]
     },
     "execution_count": 619,
     "metadata": {},
     "output_type": "execute_result"
    },
    {
     "data": {
      "image/png": "[encoded data removed]",
      "text/plain": [
       "<Figure size 432x288 with 1 Axes>"
      ]
     },
     "metadata": {},
     "output_type": "display_data"
    }
   ],
   "source": [
    "sns.boxplot(data=data_hvc, x=\"churn_probability\", y=\"arpu_7\")"
   ]
  },
  {
   "cell_type": "code",
   "execution_count": 620,
   "id": "45fac129-59d7-44c7-9687-04bc82acaaa6",
   "metadata": {},
   "outputs": [
    {
     "data": {
      "text/plain": [
       "<AxesSubplot:xlabel='churn_probability', ylabel='arpu_6'>"
      ]
     },
     "execution_count": 620,
     "metadata": {},
     "output_type": "execute_result"
    },
    {
     "data": {
      "image/png": "[encoded data removed]",
      "text/plain": [
       "<Figure size 432x288 with 1 Axes>"
      ]
     },
     "metadata": {},
     "output_type": "display_data"
    }
   ],
   "source": [
    "sns.boxplot(data=data_hvc, x=\"churn_probability\", y=\"arpu_6\")"
   ]
  },
  {
   "cell_type": "markdown",
   "id": "e506c4b6-5858-4abf-b02c-6550c317f660",
   "metadata": {},
   "source": [
    "Similarly if the revenue of the customer is descreasing month over month, she/he is likely to churn"
   ]
  },
  {
   "cell_type": "markdown",
   "id": "0be72247-3345-4f56-bf30-df307ff1f47a",
   "metadata": {},
   "source": [
    "##### Target variable with data volume consumed"
   ]
  },
  {
   "cell_type": "code",
   "execution_count": 621,
   "id": "14f5f017-88bc-4491-9da2-c4af863b22a0",
   "metadata": {},
   "outputs": [
    {
     "data": {
      "text/plain": [
       "<AxesSubplot:xlabel='churn_probability', ylabel='total_vol_2g_3g'>"
      ]
     },
     "execution_count": 621,
     "metadata": {},
     "output_type": "execute_result"
    },
    {
     "data": {
      "image/png": "[encoded data removed]",
      "text/plain": [
       "<Figure size 576x432 with 1 Axes>"
      ]
     },
     "metadata": {},
     "output_type": "display_data"
    }
   ],
   "source": [
    "plt.figure(figsize=(8, 6))\n",
    "sns.boxplot(data=data_hvc, x=\"churn_probability\", y=\"total_vol_2g_3g\")"
   ]
  },
  {
   "cell_type": "markdown",
   "id": "c00b26a4-0702-4262-b60a-4b68fec8e8da",
   "metadata": {},
   "source": [
    "Trend is low data consumption customers are likely to churn"
   ]
  },
  {
   "cell_type": "markdown",
   "id": "80978be4-9b4a-4799-82da-46a0b69a3274",
   "metadata": {},
   "source": [
    "##### Churn vs last recharge"
   ]
  },
  {
   "cell_type": "code",
   "execution_count": 622,
   "id": "3da7b623-b48e-4459-bfd8-efa6d5bef5ed",
   "metadata": {},
   "outputs": [
    {
     "data": {
      "text/plain": [
       "<AxesSubplot:xlabel='churn_probability', ylabel='date_of_last_rech_8'>"
      ]
     },
     "execution_count": 622,
     "metadata": {},
     "output_type": "execute_result"
    },
    {
     "data": {
      "image/png": "[encoded data removed]",
      "text/plain": [
       "<Figure size 432x288 with 1 Axes>"
      ]
     },
     "metadata": {},
     "output_type": "display_data"
    }
   ],
   "source": [
    "sns.boxplot(data=data_hvc, x=\"churn_probability\", y=\"date_of_last_rech_8\")"
   ]
  },
  {
   "cell_type": "markdown",
   "id": "e1e25153-2ceb-4e79-805a-c74302a22480",
   "metadata": {},
   "source": [
    "Not a significance difference, but if a customer has not recharged lately, then she/he is likely to churn"
   ]
  },
  {
   "cell_type": "markdown",
   "id": "6f67fe15-781e-444f-b188-0b299c91f6fa",
   "metadata": {},
   "source": [
    "##### Target and age on network"
   ]
  },
  {
   "cell_type": "code",
   "execution_count": 623,
   "id": "f91f1397-d08d-42aa-911f-3f3c17ace00a",
   "metadata": {},
   "outputs": [
    {
     "data": {
      "text/plain": [
       "<AxesSubplot:xlabel='churn_probability', ylabel='aon'>"
      ]
     },
     "execution_count": 623,
     "metadata": {},
     "output_type": "execute_result"
    },
    {
     "data": {
      "image/png": "[encoded data removed]",
      "text/plain": [
       "<Figure size 432x288 with 1 Axes>"
      ]
     },
     "metadata": {},
     "output_type": "display_data"
    }
   ],
   "source": [
    "sns.boxplot(data=data_hvc, x=\"churn_probability\", y=\"aon\")"
   ]
  },
  {
   "cell_type": "markdown",
   "id": "e3b8f2b6-9df8-428b-9fac-b2d7d624ac95",
   "metadata": {},
   "source": [
    "Here we can see if user age on the network is more, he/she is less likely to churn"
   ]
  },
  {
   "cell_type": "markdown",
   "id": "c51586b0-706f-47ca-8950-b963239fc26b",
   "metadata": {},
   "source": [
    "##### Churn vs min usages"
   ]
  },
  {
   "cell_type": "code",
   "execution_count": 624,
   "id": "4c78a488-01bb-40f1-94a3-682bb5ef0ef7",
   "metadata": {},
   "outputs": [
    {
     "data": {
      "text/plain": [
       "<AxesSubplot:xlabel='churn_probability', ylabel='total_mou'>"
      ]
     },
     "execution_count": 624,
     "metadata": {},
     "output_type": "execute_result"
    },
    {
     "data": {
      "image/png": "[encoded data removed]",
      "text/plain": [
       "<Figure size 432x288 with 1 Axes>"
      ]
     },
     "metadata": {},
     "output_type": "display_data"
    }
   ],
   "source": [
    "sns.boxplot(data=data_hvc, x=\"churn_probability\", y=\"total_mou\")"
   ]
  },
  {
   "cell_type": "markdown",
   "id": "8aa10de4-bedc-4122-b565-e3550733b223",
   "metadata": {},
   "source": [
    "We can see much difference, let see in details month wise"
   ]
  },
  {
   "cell_type": "code",
   "execution_count": 625,
   "id": "9fd61245-b151-4f9c-9ec8-9753a1c1ff54",
   "metadata": {},
   "outputs": [
    {
     "data": {
      "text/plain": [
       "<AxesSubplot:xlabel='churn_probability'>"
      ]
     },
     "execution_count": 625,
     "metadata": {},
     "output_type": "execute_result"
    },
    {
     "data": {
      "image/png": "[encoded data removed]",
      "text/plain": [
       "<Figure size 432x288 with 1 Axes>"
      ]
     },
     "metadata": {},
     "output_type": "display_data"
    }
   ],
   "source": [
    "sns.boxplot(data=data_hvc, x=\"churn_probability\", y=data[\"onnet_mou_6\"] + data[\"offnet_mou_6\"])"
   ]
  },
  {
   "cell_type": "code",
   "execution_count": 626,
   "id": "2bd7b323-0613-491d-802c-d1db9eccbf84",
   "metadata": {},
   "outputs": [
    {
     "data": {
      "text/plain": [
       "<AxesSubplot:xlabel='churn_probability'>"
      ]
     },
     "execution_count": 626,
     "metadata": {},
     "output_type": "execute_result"
    },
    {
     "data": {
      "image/png": "[encoded data removed]",
      "text/plain": [
       "<Figure size 432x288 with 1 Axes>"
      ]
     },
     "metadata": {},
     "output_type": "display_data"
    }
   ],
   "source": [
    "sns.boxplot(data=data_hvc, x=\"churn_probability\", y=data[\"onnet_mou_7\"] + data[\"offnet_mou_7\"])"
   ]
  },
  {
   "cell_type": "code",
   "execution_count": 627,
   "id": "98d5c688-a481-46c6-9233-b6bca6f3bb77",
   "metadata": {},
   "outputs": [
    {
     "data": {
      "text/plain": [
       "<AxesSubplot:xlabel='churn_probability'>"
      ]
     },
     "execution_count": 627,
     "metadata": {},
     "output_type": "execute_result"
    },
    {
     "data": {
      "image/png": "[encoded data removed]",
      "text/plain": [
       "<Figure size 432x288 with 1 Axes>"
      ]
     },
     "metadata": {},
     "output_type": "display_data"
    }
   ],
   "source": [
    "sns.boxplot(data=data_hvc, x=\"churn_probability\", y=data[\"onnet_mou_8\"] + data[\"offnet_mou_8\"])"
   ]
  },
  {
   "cell_type": "markdown",
   "id": "cce04de7-77e1-494e-959f-cc4301b126ec",
   "metadata": {},
   "source": [
    "Here we can see that if usage is declining the customer is likely to churn"
   ]
  },
  {
   "cell_type": "markdown",
   "id": "724aa8f3-f591-4840-b043-a5fb9b16a886",
   "metadata": {},
   "source": [
    "**Performing EDA gave us following insights**\n",
    "- If customer is recharging less month on month he/she is likely to churn\n",
    "- If customer's revenue is decreasing month on month he/she is likely to churn\n",
    "- Customer consuming less internet data is likely to churn\n",
    "- If is a customer has not done recharge lately, he/she might end up churning\n",
    "- Customer who is using the network for long enough is not likely to churn\n",
    "- If total voice call usage is declining month over month customer will likely churn"
   ]
  },
  {
   "cell_type": "markdown",
   "id": "8ad91952-4627-416f-a582-9a74f9cfa9de",
   "metadata": {},
   "source": [
    "## 3. Data preparation"
   ]
  },
  {
   "cell_type": "markdown",
   "id": "e030efe2-a496-4eb8-b625-0c7ed72c4810",
   "metadata": {},
   "source": [
    "##### Checking for correlation"
   ]
  },
  {
   "cell_type": "code",
   "execution_count": 628,
   "id": "51f7c6be-0509-4a11-a60c-49e688b17952",
   "metadata": {},
   "outputs": [
    {
     "data": {
      "text/plain": [
       "total_og_mou_8    arpu_8              0.600819\n",
       "total_mou         onnet_mou_6         0.601037\n",
       "                  arpu                0.601406\n",
       "total_og_mou_7    std_og_t2t_mou_7    0.601900\n",
       "roam_og_mou_7     roam_ic_mou_7       0.602516\n",
       "                                        ...   \n",
       "total_ic_mou_8    loc_ic_mou_8        0.896368\n",
       "total_rech_amt_6  arpu_6              0.901162\n",
       "total_mou         total_og_mou_7      0.907376\n",
       "total_rech_amt_8  arpu_8              0.912715\n",
       "total_rech_amt    arpu                0.968591\n",
       "Length: 203, dtype: float64"
      ]
     },
     "execution_count": 628,
     "metadata": {},
     "output_type": "execute_result"
    }
   ],
   "source": [
    "cor = data_hvc.corr()\n",
    "cor.loc[:,:] = np.tril(cor, k=-1)\n",
    "cor = cor.stack()\n",
    "cor[(cor > 0.60) | (cor < -0.60)].sort_values()"
   ]
  },
  {
   "cell_type": "markdown",
   "id": "522d15f7-53d5-4e58-9f22-70ffb4d0c7fd",
   "metadata": {},
   "source": [
    "There are quiet a few number of correlated features but we'll not remove those, as we'll go ahead and do PCA"
   ]
  },
  {
   "cell_type": "code",
   "execution_count": 629,
   "id": "81dd5bff-27df-4b28-bfa4-b5be9e00ce92",
   "metadata": {},
   "outputs": [
    {
     "name": "stdout",
     "output_type": "stream",
     "text": [
      "<class 'pandas.core.frame.DataFrame'>\n",
      "Int64Index: 21875 entries, 12 to 69996\n",
      "Columns: 130 entries, arpu_6 to total_mou\n",
      "dtypes: float64(106), int64(24)\n",
      "memory usage: 22.4 MB\n"
     ]
    }
   ],
   "source": [
    "data_hvc.info()"
   ]
  },
  {
   "cell_type": "markdown",
   "id": "f6a03059-68c0-49bb-a8e9-e47a562908aa",
   "metadata": {},
   "source": [
    "#### Splitting the data"
   ]
  },
  {
   "cell_type": "code",
   "execution_count": 630,
   "id": "17cb3686-10fa-487d-8a10-4105781405fe",
   "metadata": {},
   "outputs": [],
   "source": [
    "y = data_hvc.pop(\"churn_probability\")\n",
    "X = data_hvc"
   ]
  },
  {
   "cell_type": "code",
   "execution_count": 631,
   "id": "cf3a540a-6f6f-446a-b32b-71206e9366d0",
   "metadata": {},
   "outputs": [],
   "source": [
    "X_train, X_test, y_train, y_test = train_test_split(X, y, test_size=0.3, train_size=0.7, \n",
    "                                                    random_state=1)"
   ]
  },
  {
   "cell_type": "code",
   "execution_count": 632,
   "id": "c19dff12-6d6c-4e41-a15e-bbf95a806a03",
   "metadata": {},
   "outputs": [],
   "source": [
    "scaler = StandardScaler()"
   ]
  },
  {
   "cell_type": "code",
   "execution_count": 633,
   "id": "79ba7883-697c-49a4-b504-adc504d4566f",
   "metadata": {},
   "outputs": [],
   "source": [
    "X_train = scaler.fit_transform(X_train)"
   ]
  },
  {
   "cell_type": "code",
   "execution_count": 634,
   "id": "32ef5d44-4fab-4ca8-ad3c-c1d121f1f7f4",
   "metadata": {},
   "outputs": [
    {
     "data": {
      "text/html": [
       "<div>\n",
       "<style scoped>\n",
       "    .dataframe tbody tr th:only-of-type {\n",
       "        vertical-align: middle;\n",
       "    }\n",
       "\n",
       "    .dataframe tbody tr th {\n",
       "        vertical-align: top;\n",
       "    }\n",
       "\n",
       "    .dataframe thead th {\n",
       "        text-align: right;\n",
       "    }\n",
       "</style>\n",
       "<table border=\"1\" class=\"dataframe\">\n",
       "  <thead>\n",
       "    <tr style=\"text-align: right;\">\n",
       "      <th></th>\n",
       "      <th>0</th>\n",
       "      <th>1</th>\n",
       "      <th>2</th>\n",
       "      <th>3</th>\n",
       "      <th>4</th>\n",
       "      <th>5</th>\n",
       "      <th>6</th>\n",
       "      <th>7</th>\n",
       "      <th>8</th>\n",
       "      <th>9</th>\n",
       "      <th>...</th>\n",
       "      <th>119</th>\n",
       "      <th>120</th>\n",
       "      <th>121</th>\n",
       "      <th>122</th>\n",
       "      <th>123</th>\n",
       "      <th>124</th>\n",
       "      <th>125</th>\n",
       "      <th>126</th>\n",
       "      <th>127</th>\n",
       "      <th>128</th>\n",
       "    </tr>\n",
       "  </thead>\n",
       "  <tbody>\n",
       "    <tr>\n",
       "      <th>0</th>\n",
       "      <td>-0.058431</td>\n",
       "      <td>-0.158082</td>\n",
       "      <td>-0.154643</td>\n",
       "      <td>-0.465138</td>\n",
       "      <td>-0.539613</td>\n",
       "      <td>-0.509764</td>\n",
       "      <td>-0.215622</td>\n",
       "      <td>-0.199360</td>\n",
       "      <td>-0.462429</td>\n",
       "      <td>-0.241843</td>\n",
       "      <td>...</td>\n",
       "      <td>-0.309269</td>\n",
       "      <td>-0.319644</td>\n",
       "      <td>1.862621</td>\n",
       "      <td>-0.180356</td>\n",
       "      <td>0.062328</td>\n",
       "      <td>0.267085</td>\n",
       "      <td>-0.154636</td>\n",
       "      <td>-0.201065</td>\n",
       "      <td>-0.120841</td>\n",
       "      <td>-0.650664</td>\n",
       "    </tr>\n",
       "    <tr>\n",
       "      <th>1</th>\n",
       "      <td>1.259987</td>\n",
       "      <td>-0.014610</td>\n",
       "      <td>-1.533743</td>\n",
       "      <td>-0.403233</td>\n",
       "      <td>-0.603651</td>\n",
       "      <td>-0.530134</td>\n",
       "      <td>2.965687</td>\n",
       "      <td>1.083385</td>\n",
       "      <td>-0.656103</td>\n",
       "      <td>-0.241843</td>\n",
       "      <td>...</td>\n",
       "      <td>-0.309269</td>\n",
       "      <td>-0.319644</td>\n",
       "      <td>-0.175427</td>\n",
       "      <td>-0.347139</td>\n",
       "      <td>-0.333757</td>\n",
       "      <td>-0.319301</td>\n",
       "      <td>-0.132044</td>\n",
       "      <td>-0.099311</td>\n",
       "      <td>-0.035485</td>\n",
       "      <td>0.473414</td>\n",
       "    </tr>\n",
       "    <tr>\n",
       "      <th>2</th>\n",
       "      <td>-1.209046</td>\n",
       "      <td>-0.206100</td>\n",
       "      <td>-0.084510</td>\n",
       "      <td>-0.511617</td>\n",
       "      <td>0.190755</td>\n",
       "      <td>0.480556</td>\n",
       "      <td>-0.845873</td>\n",
       "      <td>-0.732312</td>\n",
       "      <td>-0.733135</td>\n",
       "      <td>-0.228223</td>\n",
       "      <td>...</td>\n",
       "      <td>-0.309269</td>\n",
       "      <td>-0.319644</td>\n",
       "      <td>-0.585080</td>\n",
       "      <td>-0.347139</td>\n",
       "      <td>-0.333757</td>\n",
       "      <td>-0.319301</td>\n",
       "      <td>-0.632147</td>\n",
       "      <td>-0.643339</td>\n",
       "      <td>0.175094</td>\n",
       "      <td>-0.571875</td>\n",
       "    </tr>\n",
       "    <tr>\n",
       "      <th>3</th>\n",
       "      <td>-0.871224</td>\n",
       "      <td>-0.414962</td>\n",
       "      <td>-0.656792</td>\n",
       "      <td>-0.571022</td>\n",
       "      <td>-0.531485</td>\n",
       "      <td>-0.539192</td>\n",
       "      <td>-0.526772</td>\n",
       "      <td>-0.270225</td>\n",
       "      <td>-0.534992</td>\n",
       "      <td>-0.241843</td>\n",
       "      <td>...</td>\n",
       "      <td>-0.309269</td>\n",
       "      <td>-0.319644</td>\n",
       "      <td>2.344805</td>\n",
       "      <td>-0.347139</td>\n",
       "      <td>-0.333757</td>\n",
       "      <td>-0.319301</td>\n",
       "      <td>-0.818865</td>\n",
       "      <td>-0.847853</td>\n",
       "      <td>-0.438854</td>\n",
       "      <td>-0.805412</td>\n",
       "    </tr>\n",
       "    <tr>\n",
       "      <th>4</th>\n",
       "      <td>1.031673</td>\n",
       "      <td>1.210756</td>\n",
       "      <td>1.340041</td>\n",
       "      <td>-0.614755</td>\n",
       "      <td>-0.575546</td>\n",
       "      <td>-0.590669</td>\n",
       "      <td>-0.830643</td>\n",
       "      <td>-0.878265</td>\n",
       "      <td>-0.849456</td>\n",
       "      <td>-0.241843</td>\n",
       "      <td>...</td>\n",
       "      <td>1.440740</td>\n",
       "      <td>1.470551</td>\n",
       "      <td>-0.820043</td>\n",
       "      <td>-0.347139</td>\n",
       "      <td>-0.333757</td>\n",
       "      <td>-0.319301</td>\n",
       "      <td>1.499486</td>\n",
       "      <td>1.712099</td>\n",
       "      <td>-0.077693</td>\n",
       "      <td>-1.174979</td>\n",
       "    </tr>\n",
       "  </tbody>\n",
       "</table>\n",
       "<p>5 rows × 129 columns</p>\n",
       "</div>"
      ],
      "text/plain": [
       "        0         1         2         3         4         5         6    \\\n",
       "0 -0.058431 -0.158082 -0.154643 -0.465138 -0.539613 -0.509764 -0.215622   \n",
       "1  1.259987 -0.014610 -1.533743 -0.403233 -0.603651 -0.530134  2.965687   \n",
       "2 -1.209046 -0.206100 -0.084510 -0.511617  0.190755  0.480556 -0.845873   \n",
       "3 -0.871224 -0.414962 -0.656792 -0.571022 -0.531485 -0.539192 -0.526772   \n",
       "4  1.031673  1.210756  1.340041 -0.614755 -0.575546 -0.590669 -0.830643   \n",
       "\n",
       "        7         8         9    ...       119       120       121       122  \\\n",
       "0 -0.199360 -0.462429 -0.241843  ... -0.309269 -0.319644  1.862621 -0.180356   \n",
       "1  1.083385 -0.656103 -0.241843  ... -0.309269 -0.319644 -0.175427 -0.347139   \n",
       "2 -0.732312 -0.733135 -0.228223  ... -0.309269 -0.319644 -0.585080 -0.347139   \n",
       "3 -0.270225 -0.534992 -0.241843  ... -0.309269 -0.319644  2.344805 -0.347139   \n",
       "4 -0.878265 -0.849456 -0.241843  ...  1.440740  1.470551 -0.820043 -0.347139   \n",
       "\n",
       "        123       124       125       126       127       128  \n",
       "0  0.062328  0.267085 -0.154636 -0.201065 -0.120841 -0.650664  \n",
       "1 -0.333757 -0.319301 -0.132044 -0.099311 -0.035485  0.473414  \n",
       "2 -0.333757 -0.319301 -0.632147 -0.643339  0.175094 -0.571875  \n",
       "3 -0.333757 -0.319301 -0.818865 -0.847853 -0.438854 -0.805412  \n",
       "4 -0.333757 -0.319301  1.499486  1.712099 -0.077693 -1.174979  \n",
       "\n",
       "[5 rows x 129 columns]"
      ]
     },
     "execution_count": 634,
     "metadata": {},
     "output_type": "execute_result"
    }
   ],
   "source": [
    "pd.DataFrame(X_train).head()"
   ]
  },
  {
   "cell_type": "code",
   "execution_count": 635,
   "id": "e1d19cdc-d47b-4c0a-9d54-9f155d82fdff",
   "metadata": {},
   "outputs": [],
   "source": [
    "X_test = scaler.transform(X_test)"
   ]
  },
  {
   "cell_type": "code",
   "execution_count": 636,
   "id": "f62e20c1-3c84-4a5b-a7c6-2c6b71ddcfeb",
   "metadata": {},
   "outputs": [
    {
     "data": {
      "text/html": [
       "<div>\n",
       "<style scoped>\n",
       "    .dataframe tbody tr th:only-of-type {\n",
       "        vertical-align: middle;\n",
       "    }\n",
       "\n",
       "    .dataframe tbody tr th {\n",
       "        vertical-align: top;\n",
       "    }\n",
       "\n",
       "    .dataframe thead th {\n",
       "        text-align: right;\n",
       "    }\n",
       "</style>\n",
       "<table border=\"1\" class=\"dataframe\">\n",
       "  <thead>\n",
       "    <tr style=\"text-align: right;\">\n",
       "      <th></th>\n",
       "      <th>0</th>\n",
       "      <th>1</th>\n",
       "      <th>2</th>\n",
       "      <th>3</th>\n",
       "      <th>4</th>\n",
       "      <th>5</th>\n",
       "      <th>6</th>\n",
       "      <th>7</th>\n",
       "      <th>8</th>\n",
       "      <th>9</th>\n",
       "      <th>...</th>\n",
       "      <th>119</th>\n",
       "      <th>120</th>\n",
       "      <th>121</th>\n",
       "      <th>122</th>\n",
       "      <th>123</th>\n",
       "      <th>124</th>\n",
       "      <th>125</th>\n",
       "      <th>126</th>\n",
       "      <th>127</th>\n",
       "      <th>128</th>\n",
       "    </tr>\n",
       "  </thead>\n",
       "  <tbody>\n",
       "    <tr>\n",
       "      <th>0</th>\n",
       "      <td>0.095678</td>\n",
       "      <td>-0.382712</td>\n",
       "      <td>-1.532775</td>\n",
       "      <td>2.514655</td>\n",
       "      <td>1.482175</td>\n",
       "      <td>-0.598387</td>\n",
       "      <td>-0.721296</td>\n",
       "      <td>-0.799973</td>\n",
       "      <td>-0.847072</td>\n",
       "      <td>-0.241843</td>\n",
       "      <td>...</td>\n",
       "      <td>-0.309269</td>\n",
       "      <td>-0.319644</td>\n",
       "      <td>-0.540130</td>\n",
       "      <td>-0.347139</td>\n",
       "      <td>-0.333757</td>\n",
       "      <td>-0.319301</td>\n",
       "      <td>-0.773069</td>\n",
       "      <td>-0.825689</td>\n",
       "      <td>-0.438854</td>\n",
       "      <td>0.267077</td>\n",
       "    </tr>\n",
       "    <tr>\n",
       "      <th>1</th>\n",
       "      <td>-0.466430</td>\n",
       "      <td>-0.227806</td>\n",
       "      <td>-0.537686</td>\n",
       "      <td>-0.059351</td>\n",
       "      <td>0.745840</td>\n",
       "      <td>0.481300</td>\n",
       "      <td>-0.782349</td>\n",
       "      <td>-0.840158</td>\n",
       "      <td>-0.780351</td>\n",
       "      <td>-0.241843</td>\n",
       "      <td>...</td>\n",
       "      <td>-0.309269</td>\n",
       "      <td>-0.319644</td>\n",
       "      <td>1.055574</td>\n",
       "      <td>-0.347139</td>\n",
       "      <td>-0.333757</td>\n",
       "      <td>-0.319301</td>\n",
       "      <td>-0.520865</td>\n",
       "      <td>-0.543601</td>\n",
       "      <td>0.245845</td>\n",
       "      <td>-0.324897</td>\n",
       "    </tr>\n",
       "    <tr>\n",
       "      <th>2</th>\n",
       "      <td>-0.897112</td>\n",
       "      <td>-0.647491</td>\n",
       "      <td>-0.510134</td>\n",
       "      <td>-0.600044</td>\n",
       "      <td>-0.539741</td>\n",
       "      <td>-0.490606</td>\n",
       "      <td>-0.684750</td>\n",
       "      <td>-0.630355</td>\n",
       "      <td>-0.575527</td>\n",
       "      <td>-0.241843</td>\n",
       "      <td>...</td>\n",
       "      <td>-0.309269</td>\n",
       "      <td>1.470551</td>\n",
       "      <td>-0.363397</td>\n",
       "      <td>2.049926</td>\n",
       "      <td>0.879426</td>\n",
       "      <td>0.608574</td>\n",
       "      <td>-0.859533</td>\n",
       "      <td>-0.786398</td>\n",
       "      <td>0.677903</td>\n",
       "      <td>-0.952520</td>\n",
       "    </tr>\n",
       "    <tr>\n",
       "      <th>3</th>\n",
       "      <td>-0.262279</td>\n",
       "      <td>-1.111283</td>\n",
       "      <td>-0.147834</td>\n",
       "      <td>-0.501415</td>\n",
       "      <td>-0.577642</td>\n",
       "      <td>-0.370641</td>\n",
       "      <td>1.057616</td>\n",
       "      <td>-0.273191</td>\n",
       "      <td>0.592515</td>\n",
       "      <td>-0.241843</td>\n",
       "      <td>...</td>\n",
       "      <td>-0.309269</td>\n",
       "      <td>-0.319644</td>\n",
       "      <td>-0.321513</td>\n",
       "      <td>-0.347139</td>\n",
       "      <td>-0.333757</td>\n",
       "      <td>-0.319301</td>\n",
       "      <td>-0.619082</td>\n",
       "      <td>-0.741062</td>\n",
       "      <td>-0.438854</td>\n",
       "      <td>-0.028589</td>\n",
       "    </tr>\n",
       "    <tr>\n",
       "      <th>4</th>\n",
       "      <td>1.426925</td>\n",
       "      <td>1.258297</td>\n",
       "      <td>3.623259</td>\n",
       "      <td>0.678420</td>\n",
       "      <td>0.511759</td>\n",
       "      <td>2.249437</td>\n",
       "      <td>0.522763</td>\n",
       "      <td>0.153105</td>\n",
       "      <td>0.557973</td>\n",
       "      <td>-0.241843</td>\n",
       "      <td>...</td>\n",
       "      <td>-0.309269</td>\n",
       "      <td>-0.319644</td>\n",
       "      <td>0.723561</td>\n",
       "      <td>-0.347139</td>\n",
       "      <td>-0.333757</td>\n",
       "      <td>-0.319301</td>\n",
       "      <td>2.670622</td>\n",
       "      <td>2.697393</td>\n",
       "      <td>-0.438854</td>\n",
       "      <td>1.275869</td>\n",
       "    </tr>\n",
       "  </tbody>\n",
       "</table>\n",
       "<p>5 rows × 129 columns</p>\n",
       "</div>"
      ],
      "text/plain": [
       "        0         1         2         3         4         5         6    \\\n",
       "0  0.095678 -0.382712 -1.532775  2.514655  1.482175 -0.598387 -0.721296   \n",
       "1 -0.466430 -0.227806 -0.537686 -0.059351  0.745840  0.481300 -0.782349   \n",
       "2 -0.897112 -0.647491 -0.510134 -0.600044 -0.539741 -0.490606 -0.684750   \n",
       "3 -0.262279 -1.111283 -0.147834 -0.501415 -0.577642 -0.370641  1.057616   \n",
       "4  1.426925  1.258297  3.623259  0.678420  0.511759  2.249437  0.522763   \n",
       "\n",
       "        7         8         9    ...       119       120       121       122  \\\n",
       "0 -0.799973 -0.847072 -0.241843  ... -0.309269 -0.319644 -0.540130 -0.347139   \n",
       "1 -0.840158 -0.780351 -0.241843  ... -0.309269 -0.319644  1.055574 -0.347139   \n",
       "2 -0.630355 -0.575527 -0.241843  ... -0.309269  1.470551 -0.363397  2.049926   \n",
       "3 -0.273191  0.592515 -0.241843  ... -0.309269 -0.319644 -0.321513 -0.347139   \n",
       "4  0.153105  0.557973 -0.241843  ... -0.309269 -0.319644  0.723561 -0.347139   \n",
       "\n",
       "        123       124       125       126       127       128  \n",
       "0 -0.333757 -0.319301 -0.773069 -0.825689 -0.438854  0.267077  \n",
       "1 -0.333757 -0.319301 -0.520865 -0.543601  0.245845 -0.324897  \n",
       "2  0.879426  0.608574 -0.859533 -0.786398  0.677903 -0.952520  \n",
       "3 -0.333757 -0.319301 -0.619082 -0.741062 -0.438854 -0.028589  \n",
       "4 -0.333757 -0.319301  2.670622  2.697393 -0.438854  1.275869  \n",
       "\n",
       "[5 rows x 129 columns]"
      ]
     },
     "execution_count": 636,
     "metadata": {},
     "output_type": "execute_result"
    }
   ],
   "source": [
    "pd.DataFrame(X_test).head()"
   ]
  },
  {
   "cell_type": "markdown",
   "id": "3bb62370-94e9-4d12-b16b-702ee2fd3cb8",
   "metadata": {},
   "source": [
    "#### PCA"
   ]
  },
  {
   "cell_type": "code",
   "execution_count": 637,
   "id": "3fae6248-5b88-40a1-b3b5-78c93842ea00",
   "metadata": {},
   "outputs": [],
   "source": [
    "pca = PCA(random_state=100)\n",
    "X_train_pca = pca.fit_transform(X_train)"
   ]
  },
  {
   "cell_type": "code",
   "execution_count": 638,
   "id": "2158f15a-869f-465e-89c2-4a2055e8afc6",
   "metadata": {},
   "outputs": [
    {
     "data": {
      "text/html": [
       "<div>\n",
       "<style scoped>\n",
       "    .dataframe tbody tr th:only-of-type {\n",
       "        vertical-align: middle;\n",
       "    }\n",
       "\n",
       "    .dataframe tbody tr th {\n",
       "        vertical-align: top;\n",
       "    }\n",
       "\n",
       "    .dataframe thead th {\n",
       "        text-align: right;\n",
       "    }\n",
       "</style>\n",
       "<table border=\"1\" class=\"dataframe\">\n",
       "  <thead>\n",
       "    <tr style=\"text-align: right;\">\n",
       "      <th></th>\n",
       "      <th>PCA1</th>\n",
       "      <th>PCA2</th>\n",
       "      <th>PCA3</th>\n",
       "      <th>PCA4</th>\n",
       "      <th>PCA5</th>\n",
       "      <th>PCA6</th>\n",
       "      <th>PCA7</th>\n",
       "      <th>PCA8</th>\n",
       "      <th>PCA9</th>\n",
       "      <th>PCA10</th>\n",
       "      <th>...</th>\n",
       "      <th>PCA120</th>\n",
       "      <th>PCA121</th>\n",
       "      <th>PCA122</th>\n",
       "      <th>PCA123</th>\n",
       "      <th>PCA124</th>\n",
       "      <th>PCA125</th>\n",
       "      <th>PCA126</th>\n",
       "      <th>PCA127</th>\n",
       "      <th>PCA128</th>\n",
       "      <th>PCA129</th>\n",
       "    </tr>\n",
       "  </thead>\n",
       "  <tbody>\n",
       "    <tr>\n",
       "      <th>0</th>\n",
       "      <td>3.426103</td>\n",
       "      <td>-8.249539</td>\n",
       "      <td>-4.720526</td>\n",
       "      <td>0.950689</td>\n",
       "      <td>-1.975023</td>\n",
       "      <td>-2.210792</td>\n",
       "      <td>-0.397878</td>\n",
       "      <td>-3.837513</td>\n",
       "      <td>-2.761254</td>\n",
       "      <td>2.856501</td>\n",
       "      <td>...</td>\n",
       "      <td>3.931680e-06</td>\n",
       "      <td>-9.791673e-07</td>\n",
       "      <td>-1.115991e-07</td>\n",
       "      <td>8.095320e-07</td>\n",
       "      <td>7.443599e-15</td>\n",
       "      <td>-3.372369e-16</td>\n",
       "      <td>3.834780e-16</td>\n",
       "      <td>3.711999e-15</td>\n",
       "      <td>2.317358e-17</td>\n",
       "      <td>1.422751e-15</td>\n",
       "    </tr>\n",
       "    <tr>\n",
       "      <th>1</th>\n",
       "      <td>-0.465703</td>\n",
       "      <td>3.181626</td>\n",
       "      <td>0.286652</td>\n",
       "      <td>0.982287</td>\n",
       "      <td>1.042348</td>\n",
       "      <td>-1.948768</td>\n",
       "      <td>-6.103556</td>\n",
       "      <td>0.706911</td>\n",
       "      <td>0.380573</td>\n",
       "      <td>-1.140678</td>\n",
       "      <td>...</td>\n",
       "      <td>1.659239e-07</td>\n",
       "      <td>2.902159e-06</td>\n",
       "      <td>-6.853323e-06</td>\n",
       "      <td>2.709106e-06</td>\n",
       "      <td>3.837763e-15</td>\n",
       "      <td>6.499409e-16</td>\n",
       "      <td>1.542642e-15</td>\n",
       "      <td>2.735814e-15</td>\n",
       "      <td>-2.657537e-16</td>\n",
       "      <td>9.559948e-15</td>\n",
       "    </tr>\n",
       "    <tr>\n",
       "      <th>2</th>\n",
       "      <td>-3.438247</td>\n",
       "      <td>1.914164</td>\n",
       "      <td>-0.625840</td>\n",
       "      <td>-0.373354</td>\n",
       "      <td>-2.989159</td>\n",
       "      <td>-1.593822</td>\n",
       "      <td>2.188687</td>\n",
       "      <td>0.398626</td>\n",
       "      <td>2.208342</td>\n",
       "      <td>0.352647</td>\n",
       "      <td>...</td>\n",
       "      <td>-2.078953e-06</td>\n",
       "      <td>-3.907014e-06</td>\n",
       "      <td>-1.020517e-05</td>\n",
       "      <td>-1.744336e-06</td>\n",
       "      <td>-4.827319e-15</td>\n",
       "      <td>-1.409860e-15</td>\n",
       "      <td>-5.531084e-16</td>\n",
       "      <td>-1.496300e-15</td>\n",
       "      <td>-1.095787e-16</td>\n",
       "      <td>-1.540495e-15</td>\n",
       "    </tr>\n",
       "    <tr>\n",
       "      <th>3</th>\n",
       "      <td>-2.871762</td>\n",
       "      <td>-1.898524</td>\n",
       "      <td>-1.507430</td>\n",
       "      <td>-0.323274</td>\n",
       "      <td>1.379066</td>\n",
       "      <td>0.583661</td>\n",
       "      <td>-0.056529</td>\n",
       "      <td>-0.496332</td>\n",
       "      <td>-1.018494</td>\n",
       "      <td>-0.095650</td>\n",
       "      <td>...</td>\n",
       "      <td>-1.206917e-06</td>\n",
       "      <td>-3.330586e-06</td>\n",
       "      <td>2.242227e-07</td>\n",
       "      <td>-5.461739e-08</td>\n",
       "      <td>-3.602061e-15</td>\n",
       "      <td>-1.597304e-15</td>\n",
       "      <td>-9.328941e-16</td>\n",
       "      <td>-3.754672e-15</td>\n",
       "      <td>7.935468e-16</td>\n",
       "      <td>-1.739862e-16</td>\n",
       "    </tr>\n",
       "    <tr>\n",
       "      <th>4</th>\n",
       "      <td>-0.819418</td>\n",
       "      <td>-1.231664</td>\n",
       "      <td>5.884516</td>\n",
       "      <td>-1.161627</td>\n",
       "      <td>4.115713</td>\n",
       "      <td>2.435092</td>\n",
       "      <td>2.680045</td>\n",
       "      <td>-0.840560</td>\n",
       "      <td>0.409372</td>\n",
       "      <td>0.480282</td>\n",
       "      <td>...</td>\n",
       "      <td>-7.438368e-06</td>\n",
       "      <td>-8.043575e-06</td>\n",
       "      <td>-2.642214e-07</td>\n",
       "      <td>8.699999e-07</td>\n",
       "      <td>-5.597868e-16</td>\n",
       "      <td>1.582735e-15</td>\n",
       "      <td>4.420584e-16</td>\n",
       "      <td>-6.477279e-16</td>\n",
       "      <td>4.467162e-16</td>\n",
       "      <td>2.466995e-16</td>\n",
       "    </tr>\n",
       "  </tbody>\n",
       "</table>\n",
       "<p>5 rows × 129 columns</p>\n",
       "</div>"
      ],
      "text/plain": [
       "       PCA1      PCA2      PCA3      PCA4      PCA5      PCA6      PCA7  \\\n",
       "0  3.426103 -8.249539 -4.720526  0.950689 -1.975023 -2.210792 -0.397878   \n",
       "1 -0.465703  3.181626  0.286652  0.982287  1.042348 -1.948768 -6.103556   \n",
       "2 -3.438247  1.914164 -0.625840 -0.373354 -2.989159 -1.593822  2.188687   \n",
       "3 -2.871762 -1.898524 -1.507430 -0.323274  1.379066  0.583661 -0.056529   \n",
       "4 -0.819418 -1.231664  5.884516 -1.161627  4.115713  2.435092  2.680045   \n",
       "\n",
       "       PCA8      PCA9     PCA10  ...        PCA120        PCA121  \\\n",
       "0 -3.837513 -2.761254  2.856501  ...  3.931680e-06 -9.791673e-07   \n",
       "1  0.706911  0.380573 -1.140678  ...  1.659239e-07  2.902159e-06   \n",
       "2  0.398626  2.208342  0.352647  ... -2.078953e-06 -3.907014e-06   \n",
       "3 -0.496332 -1.018494 -0.095650  ... -1.206917e-06 -3.330586e-06   \n",
       "4 -0.840560  0.409372  0.480282  ... -7.438368e-06 -8.043575e-06   \n",
       "\n",
       "         PCA122        PCA123        PCA124        PCA125        PCA126  \\\n",
       "0 -1.115991e-07  8.095320e-07  7.443599e-15 -3.372369e-16  3.834780e-16   \n",
       "1 -6.853323e-06  2.709106e-06  3.837763e-15  6.499409e-16  1.542642e-15   \n",
       "2 -1.020517e-05 -1.744336e-06 -4.827319e-15 -1.409860e-15 -5.531084e-16   \n",
       "3  2.242227e-07 -5.461739e-08 -3.602061e-15 -1.597304e-15 -9.328941e-16   \n",
       "4 -2.642214e-07  8.699999e-07 -5.597868e-16  1.582735e-15  4.420584e-16   \n",
       "\n",
       "         PCA127        PCA128        PCA129  \n",
       "0  3.711999e-15  2.317358e-17  1.422751e-15  \n",
       "1  2.735814e-15 -2.657537e-16  9.559948e-15  \n",
       "2 -1.496300e-15 -1.095787e-16 -1.540495e-15  \n",
       "3 -3.754672e-15  7.935468e-16 -1.739862e-16  \n",
       "4 -6.477279e-16  4.467162e-16  2.466995e-16  \n",
       "\n",
       "[5 rows x 129 columns]"
      ]
     },
     "execution_count": 638,
     "metadata": {},
     "output_type": "execute_result"
    }
   ],
   "source": [
    "columns = [f\"PCA{i}\" for i in range(1, len(X_train_pca[0]) + 1)]\n",
    "X_train_pca = pd.DataFrame(X_train_pca, columns=columns)\n",
    "X_train_pca.head()"
   ]
  },
  {
   "cell_type": "code",
   "execution_count": 639,
   "id": "e8e44a1c-c636-4757-a121-e995e5ff7924",
   "metadata": {},
   "outputs": [
    {
     "data": {
      "image/png": "[encoded data removed]",
      "text/plain": [
       "<Figure size 864x576 with 1 Axes>"
      ]
     },
     "metadata": {},
     "output_type": "display_data"
    }
   ],
   "source": [
    "fig = plt.figure(figsize = (12,8))\n",
    "plt.plot(np.cumsum(pca.explained_variance_ratio_))\n",
    "plt.vlines(x=65, ymax=1, ymin=0, colors=\"r\", linestyles=\"--\")\n",
    "plt.hlines(y=0.95, xmax=140, xmin=0, colors=\"g\", linestyles=\"--\")\n",
    "plt.xlabel('number of components')\n",
    "plt.ylabel('cumulative explained variance')\n",
    "plt.show()"
   ]
  },
  {
   "cell_type": "markdown",
   "id": "b1b74f88-2b15-4c48-951b-862b0d5f99b3",
   "metadata": {},
   "source": [
    "We can see that 65 components are able to explain more than 95% of the variance. So lets select the number of components as 65 and create a new dataset"
   ]
  },
  {
   "cell_type": "code",
   "execution_count": 640,
   "id": "f80fb030-8a22-46a8-bd6b-e2ef8cbaaf70",
   "metadata": {},
   "outputs": [],
   "source": [
    "pca = PCA(n_components=65, random_state=100)\n",
    "X_train_pca = pca.fit_transform(X_train)"
   ]
  },
  {
   "cell_type": "code",
   "execution_count": 641,
   "id": "1f609372-9d16-415c-bbe1-74481ec2ed04",
   "metadata": {},
   "outputs": [
    {
     "data": {
      "text/html": [
       "<div>\n",
       "<style scoped>\n",
       "    .dataframe tbody tr th:only-of-type {\n",
       "        vertical-align: middle;\n",
       "    }\n",
       "\n",
       "    .dataframe tbody tr th {\n",
       "        vertical-align: top;\n",
       "    }\n",
       "\n",
       "    .dataframe thead th {\n",
       "        text-align: right;\n",
       "    }\n",
       "</style>\n",
       "<table border=\"1\" class=\"dataframe\">\n",
       "  <thead>\n",
       "    <tr style=\"text-align: right;\">\n",
       "      <th></th>\n",
       "      <th>PCA1</th>\n",
       "      <th>PCA2</th>\n",
       "      <th>PCA3</th>\n",
       "      <th>PCA4</th>\n",
       "      <th>PCA5</th>\n",
       "      <th>PCA6</th>\n",
       "      <th>PCA7</th>\n",
       "      <th>PCA8</th>\n",
       "      <th>PCA9</th>\n",
       "      <th>PCA10</th>\n",
       "      <th>...</th>\n",
       "      <th>PCA56</th>\n",
       "      <th>PCA57</th>\n",
       "      <th>PCA58</th>\n",
       "      <th>PCA59</th>\n",
       "      <th>PCA60</th>\n",
       "      <th>PCA61</th>\n",
       "      <th>PCA62</th>\n",
       "      <th>PCA63</th>\n",
       "      <th>PCA64</th>\n",
       "      <th>PCA65</th>\n",
       "    </tr>\n",
       "  </thead>\n",
       "  <tbody>\n",
       "    <tr>\n",
       "      <th>0</th>\n",
       "      <td>3.426103</td>\n",
       "      <td>-8.249539</td>\n",
       "      <td>-4.720526</td>\n",
       "      <td>0.950689</td>\n",
       "      <td>-1.975020</td>\n",
       "      <td>-2.210788</td>\n",
       "      <td>-0.397889</td>\n",
       "      <td>-3.837530</td>\n",
       "      <td>-2.761253</td>\n",
       "      <td>2.856493</td>\n",
       "      <td>...</td>\n",
       "      <td>-0.636243</td>\n",
       "      <td>0.341181</td>\n",
       "      <td>-0.019867</td>\n",
       "      <td>0.138207</td>\n",
       "      <td>-0.142678</td>\n",
       "      <td>-0.034074</td>\n",
       "      <td>0.078559</td>\n",
       "      <td>-0.449894</td>\n",
       "      <td>0.829129</td>\n",
       "      <td>0.155415</td>\n",
       "    </tr>\n",
       "    <tr>\n",
       "      <th>1</th>\n",
       "      <td>-0.465703</td>\n",
       "      <td>3.181626</td>\n",
       "      <td>0.286652</td>\n",
       "      <td>0.982287</td>\n",
       "      <td>1.042348</td>\n",
       "      <td>-1.948762</td>\n",
       "      <td>-6.103575</td>\n",
       "      <td>0.706916</td>\n",
       "      <td>0.380574</td>\n",
       "      <td>-1.140693</td>\n",
       "      <td>...</td>\n",
       "      <td>-0.385021</td>\n",
       "      <td>-0.302351</td>\n",
       "      <td>0.583370</td>\n",
       "      <td>-0.233370</td>\n",
       "      <td>0.795359</td>\n",
       "      <td>0.318370</td>\n",
       "      <td>-0.998743</td>\n",
       "      <td>0.425611</td>\n",
       "      <td>-0.437976</td>\n",
       "      <td>1.852505</td>\n",
       "    </tr>\n",
       "    <tr>\n",
       "      <th>2</th>\n",
       "      <td>-3.438247</td>\n",
       "      <td>1.914164</td>\n",
       "      <td>-0.625841</td>\n",
       "      <td>-0.373354</td>\n",
       "      <td>-2.989159</td>\n",
       "      <td>-1.593826</td>\n",
       "      <td>2.188689</td>\n",
       "      <td>0.398650</td>\n",
       "      <td>2.208336</td>\n",
       "      <td>0.352627</td>\n",
       "      <td>...</td>\n",
       "      <td>1.368399</td>\n",
       "      <td>0.311684</td>\n",
       "      <td>-1.125406</td>\n",
       "      <td>0.288706</td>\n",
       "      <td>0.086486</td>\n",
       "      <td>0.122041</td>\n",
       "      <td>-0.221827</td>\n",
       "      <td>0.056700</td>\n",
       "      <td>-0.220539</td>\n",
       "      <td>0.178296</td>\n",
       "    </tr>\n",
       "    <tr>\n",
       "      <th>3</th>\n",
       "      <td>-2.871762</td>\n",
       "      <td>-1.898524</td>\n",
       "      <td>-1.507430</td>\n",
       "      <td>-0.323274</td>\n",
       "      <td>1.379067</td>\n",
       "      <td>0.583662</td>\n",
       "      <td>-0.056534</td>\n",
       "      <td>-0.496336</td>\n",
       "      <td>-1.018486</td>\n",
       "      <td>-0.095654</td>\n",
       "      <td>...</td>\n",
       "      <td>-0.107370</td>\n",
       "      <td>-0.128652</td>\n",
       "      <td>-0.453915</td>\n",
       "      <td>0.142578</td>\n",
       "      <td>0.382140</td>\n",
       "      <td>0.032617</td>\n",
       "      <td>-1.014076</td>\n",
       "      <td>-0.011004</td>\n",
       "      <td>-0.130945</td>\n",
       "      <td>-0.125111</td>\n",
       "    </tr>\n",
       "    <tr>\n",
       "      <th>4</th>\n",
       "      <td>-0.819418</td>\n",
       "      <td>-1.231664</td>\n",
       "      <td>5.884516</td>\n",
       "      <td>-1.161627</td>\n",
       "      <td>4.115711</td>\n",
       "      <td>2.435087</td>\n",
       "      <td>2.680062</td>\n",
       "      <td>-0.840560</td>\n",
       "      <td>0.409371</td>\n",
       "      <td>0.480291</td>\n",
       "      <td>...</td>\n",
       "      <td>0.729841</td>\n",
       "      <td>0.526877</td>\n",
       "      <td>-1.294147</td>\n",
       "      <td>0.218608</td>\n",
       "      <td>-0.288109</td>\n",
       "      <td>0.151788</td>\n",
       "      <td>0.065763</td>\n",
       "      <td>0.181824</td>\n",
       "      <td>-0.011631</td>\n",
       "      <td>-0.401000</td>\n",
       "    </tr>\n",
       "  </tbody>\n",
       "</table>\n",
       "<p>5 rows × 65 columns</p>\n",
       "</div>"
      ],
      "text/plain": [
       "       PCA1      PCA2      PCA3      PCA4      PCA5      PCA6      PCA7  \\\n",
       "0  3.426103 -8.249539 -4.720526  0.950689 -1.975020 -2.210788 -0.397889   \n",
       "1 -0.465703  3.181626  0.286652  0.982287  1.042348 -1.948762 -6.103575   \n",
       "2 -3.438247  1.914164 -0.625841 -0.373354 -2.989159 -1.593826  2.188689   \n",
       "3 -2.871762 -1.898524 -1.507430 -0.323274  1.379067  0.583662 -0.056534   \n",
       "4 -0.819418 -1.231664  5.884516 -1.161627  4.115711  2.435087  2.680062   \n",
       "\n",
       "       PCA8      PCA9     PCA10  ...     PCA56     PCA57     PCA58     PCA59  \\\n",
       "0 -3.837530 -2.761253  2.856493  ... -0.636243  0.341181 -0.019867  0.138207   \n",
       "1  0.706916  0.380574 -1.140693  ... -0.385021 -0.302351  0.583370 -0.233370   \n",
       "2  0.398650  2.208336  0.352627  ...  1.368399  0.311684 -1.125406  0.288706   \n",
       "3 -0.496336 -1.018486 -0.095654  ... -0.107370 -0.128652 -0.453915  0.142578   \n",
       "4 -0.840560  0.409371  0.480291  ...  0.729841  0.526877 -1.294147  0.218608   \n",
       "\n",
       "      PCA60     PCA61     PCA62     PCA63     PCA64     PCA65  \n",
       "0 -0.142678 -0.034074  0.078559 -0.449894  0.829129  0.155415  \n",
       "1  0.795359  0.318370 -0.998743  0.425611 -0.437976  1.852505  \n",
       "2  0.086486  0.122041 -0.221827  0.056700 -0.220539  0.178296  \n",
       "3  0.382140  0.032617 -1.014076 -0.011004 -0.130945 -0.125111  \n",
       "4 -0.288109  0.151788  0.065763  0.181824 -0.011631 -0.401000  \n",
       "\n",
       "[5 rows x 65 columns]"
      ]
     },
     "execution_count": 641,
     "metadata": {},
     "output_type": "execute_result"
    }
   ],
   "source": [
    "columns = [f\"PCA{i}\" for i in range(1, len(X_train_pca[0]) + 1)]\n",
    "X_train_pca = pd.DataFrame(X_train_pca, columns=columns)\n",
    "X_train_pca.head()"
   ]
  },
  {
   "cell_type": "code",
   "execution_count": 642,
   "id": "0d119b10-ae70-4c79-a815-e82f90f6c89c",
   "metadata": {},
   "outputs": [],
   "source": [
    "X_test_pca = pca.transform(X_test)"
   ]
  },
  {
   "cell_type": "code",
   "execution_count": 643,
   "id": "ebbebdee-d2ab-4e22-b49f-bd6e4397399f",
   "metadata": {},
   "outputs": [
    {
     "data": {
      "text/html": [
       "<div>\n",
       "<style scoped>\n",
       "    .dataframe tbody tr th:only-of-type {\n",
       "        vertical-align: middle;\n",
       "    }\n",
       "\n",
       "    .dataframe tbody tr th {\n",
       "        vertical-align: top;\n",
       "    }\n",
       "\n",
       "    .dataframe thead th {\n",
       "        text-align: right;\n",
       "    }\n",
       "</style>\n",
       "<table border=\"1\" class=\"dataframe\">\n",
       "  <thead>\n",
       "    <tr style=\"text-align: right;\">\n",
       "      <th></th>\n",
       "      <th>PCA1</th>\n",
       "      <th>PCA2</th>\n",
       "      <th>PCA3</th>\n",
       "      <th>PCA4</th>\n",
       "      <th>PCA5</th>\n",
       "      <th>PCA6</th>\n",
       "      <th>PCA7</th>\n",
       "      <th>PCA8</th>\n",
       "      <th>PCA9</th>\n",
       "      <th>PCA10</th>\n",
       "      <th>...</th>\n",
       "      <th>PCA56</th>\n",
       "      <th>PCA57</th>\n",
       "      <th>PCA58</th>\n",
       "      <th>PCA59</th>\n",
       "      <th>PCA60</th>\n",
       "      <th>PCA61</th>\n",
       "      <th>PCA62</th>\n",
       "      <th>PCA63</th>\n",
       "      <th>PCA64</th>\n",
       "      <th>PCA65</th>\n",
       "    </tr>\n",
       "  </thead>\n",
       "  <tbody>\n",
       "    <tr>\n",
       "      <th>0</th>\n",
       "      <td>-2.740693</td>\n",
       "      <td>3.380675</td>\n",
       "      <td>-0.796932</td>\n",
       "      <td>-0.695442</td>\n",
       "      <td>-0.375357</td>\n",
       "      <td>3.371133</td>\n",
       "      <td>-3.282424</td>\n",
       "      <td>-0.820578</td>\n",
       "      <td>-0.441960</td>\n",
       "      <td>0.557788</td>\n",
       "      <td>...</td>\n",
       "      <td>0.553179</td>\n",
       "      <td>0.168220</td>\n",
       "      <td>-0.313472</td>\n",
       "      <td>-0.252312</td>\n",
       "      <td>0.015097</td>\n",
       "      <td>0.154265</td>\n",
       "      <td>0.185699</td>\n",
       "      <td>-0.368031</td>\n",
       "      <td>-0.121316</td>\n",
       "      <td>0.153142</td>\n",
       "    </tr>\n",
       "    <tr>\n",
       "      <th>1</th>\n",
       "      <td>-2.968417</td>\n",
       "      <td>1.875541</td>\n",
       "      <td>-0.175128</td>\n",
       "      <td>-0.510554</td>\n",
       "      <td>-2.849216</td>\n",
       "      <td>-0.455028</td>\n",
       "      <td>0.723943</td>\n",
       "      <td>0.865624</td>\n",
       "      <td>2.333779</td>\n",
       "      <td>0.204836</td>\n",
       "      <td>...</td>\n",
       "      <td>-0.479823</td>\n",
       "      <td>0.360584</td>\n",
       "      <td>0.206787</td>\n",
       "      <td>-0.018448</td>\n",
       "      <td>-0.043797</td>\n",
       "      <td>-0.190191</td>\n",
       "      <td>0.012678</td>\n",
       "      <td>0.391009</td>\n",
       "      <td>-0.239373</td>\n",
       "      <td>0.635179</td>\n",
       "    </tr>\n",
       "    <tr>\n",
       "      <th>2</th>\n",
       "      <td>-2.806953</td>\n",
       "      <td>-2.909165</td>\n",
       "      <td>1.234765</td>\n",
       "      <td>0.126021</td>\n",
       "      <td>-0.130717</td>\n",
       "      <td>0.287072</td>\n",
       "      <td>0.195393</td>\n",
       "      <td>-2.028417</td>\n",
       "      <td>0.138470</td>\n",
       "      <td>-0.331885</td>\n",
       "      <td>...</td>\n",
       "      <td>-0.476935</td>\n",
       "      <td>-0.540586</td>\n",
       "      <td>-0.046394</td>\n",
       "      <td>-0.730437</td>\n",
       "      <td>-0.771336</td>\n",
       "      <td>0.059157</td>\n",
       "      <td>-0.001476</td>\n",
       "      <td>0.640058</td>\n",
       "      <td>-0.278461</td>\n",
       "      <td>-0.491632</td>\n",
       "    </tr>\n",
       "    <tr>\n",
       "      <th>3</th>\n",
       "      <td>-1.942880</td>\n",
       "      <td>1.863733</td>\n",
       "      <td>-0.337668</td>\n",
       "      <td>3.443179</td>\n",
       "      <td>1.953110</td>\n",
       "      <td>0.071652</td>\n",
       "      <td>-0.807314</td>\n",
       "      <td>0.768199</td>\n",
       "      <td>-0.962023</td>\n",
       "      <td>-1.891976</td>\n",
       "      <td>...</td>\n",
       "      <td>-0.066341</td>\n",
       "      <td>-0.983302</td>\n",
       "      <td>0.310961</td>\n",
       "      <td>0.480883</td>\n",
       "      <td>-0.634384</td>\n",
       "      <td>-0.561257</td>\n",
       "      <td>0.344845</td>\n",
       "      <td>-0.479902</td>\n",
       "      <td>-0.561792</td>\n",
       "      <td>0.363673</td>\n",
       "    </tr>\n",
       "    <tr>\n",
       "      <th>4</th>\n",
       "      <td>10.355231</td>\n",
       "      <td>-4.623262</td>\n",
       "      <td>-2.760825</td>\n",
       "      <td>-3.394866</td>\n",
       "      <td>-0.299590</td>\n",
       "      <td>1.220280</td>\n",
       "      <td>2.898188</td>\n",
       "      <td>1.270673</td>\n",
       "      <td>1.302121</td>\n",
       "      <td>-0.033614</td>\n",
       "      <td>...</td>\n",
       "      <td>1.473472</td>\n",
       "      <td>1.268042</td>\n",
       "      <td>-0.556000</td>\n",
       "      <td>-1.888830</td>\n",
       "      <td>0.914952</td>\n",
       "      <td>0.373334</td>\n",
       "      <td>-0.258946</td>\n",
       "      <td>1.026983</td>\n",
       "      <td>0.726639</td>\n",
       "      <td>-0.380228</td>\n",
       "    </tr>\n",
       "  </tbody>\n",
       "</table>\n",
       "<p>5 rows × 65 columns</p>\n",
       "</div>"
      ],
      "text/plain": [
       "        PCA1      PCA2      PCA3      PCA4      PCA5      PCA6      PCA7  \\\n",
       "0  -2.740693  3.380675 -0.796932 -0.695442 -0.375357  3.371133 -3.282424   \n",
       "1  -2.968417  1.875541 -0.175128 -0.510554 -2.849216 -0.455028  0.723943   \n",
       "2  -2.806953 -2.909165  1.234765  0.126021 -0.130717  0.287072  0.195393   \n",
       "3  -1.942880  1.863733 -0.337668  3.443179  1.953110  0.071652 -0.807314   \n",
       "4  10.355231 -4.623262 -2.760825 -3.394866 -0.299590  1.220280  2.898188   \n",
       "\n",
       "       PCA8      PCA9     PCA10  ...     PCA56     PCA57     PCA58     PCA59  \\\n",
       "0 -0.820578 -0.441960  0.557788  ...  0.553179  0.168220 -0.313472 -0.252312   \n",
       "1  0.865624  2.333779  0.204836  ... -0.479823  0.360584  0.206787 -0.018448   \n",
       "2 -2.028417  0.138470 -0.331885  ... -0.476935 -0.540586 -0.046394 -0.730437   \n",
       "3  0.768199 -0.962023 -1.891976  ... -0.066341 -0.983302  0.310961  0.480883   \n",
       "4  1.270673  1.302121 -0.033614  ...  1.473472  1.268042 -0.556000 -1.888830   \n",
       "\n",
       "      PCA60     PCA61     PCA62     PCA63     PCA64     PCA65  \n",
       "0  0.015097  0.154265  0.185699 -0.368031 -0.121316  0.153142  \n",
       "1 -0.043797 -0.190191  0.012678  0.391009 -0.239373  0.635179  \n",
       "2 -0.771336  0.059157 -0.001476  0.640058 -0.278461 -0.491632  \n",
       "3 -0.634384 -0.561257  0.344845 -0.479902 -0.561792  0.363673  \n",
       "4  0.914952  0.373334 -0.258946  1.026983  0.726639 -0.380228  \n",
       "\n",
       "[5 rows x 65 columns]"
      ]
     },
     "execution_count": 643,
     "metadata": {},
     "output_type": "execute_result"
    }
   ],
   "source": [
    "columns = [f\"PCA{i}\" for i in range(1, len(X_test_pca[0]) + 1)]\n",
    "X_test_pca = pd.DataFrame(X_test_pca, columns=columns)\n",
    "X_test_pca.head()"
   ]
  },
  {
   "cell_type": "markdown",
   "id": "5580f5fe-b995-4892-a349-d398d47dcc71",
   "metadata": {},
   "source": [
    "## 4. Modelling and evaluation"
   ]
  },
  {
   "cell_type": "markdown",
   "id": "0cc96b5d-8e1e-4b68-b77a-4f6c0769586e",
   "metadata": {},
   "source": [
    "Let's applying LogisticRegression, DecisionTree and RandomForest to see which one gives the highest accuracy"
   ]
  },
  {
   "cell_type": "markdown",
   "id": "b4546ef0-1e2f-4ad9-8d1c-7f5336abdaba",
   "metadata": {},
   "source": [
    "#### Logistic Regression"
   ]
  },
  {
   "cell_type": "code",
   "execution_count": 644,
   "id": "b1b679f3-84ab-4212-af8e-031af31f44e8",
   "metadata": {},
   "outputs": [],
   "source": [
    "logistic_pca = LogisticRegression()"
   ]
  },
  {
   "cell_type": "code",
   "execution_count": 645,
   "id": "9b971c78-68ca-4cf8-a7c3-28056253641d",
   "metadata": {},
   "outputs": [],
   "source": [
    "model_pca = logistic_pca.fit(X_train_pca, y_train)"
   ]
  },
  {
   "cell_type": "code",
   "execution_count": 646,
   "id": "8b4f33ae-80fb-4c7a-87d4-bb9fc9e1b38b",
   "metadata": {},
   "outputs": [],
   "source": [
    "pred_probs_train = model_pca.predict_proba(X_train_pca)\n",
    "pred_train = model_pca.predict(X_train_pca)"
   ]
  },
  {
   "cell_type": "code",
   "execution_count": 647,
   "id": "f2d0dba8-8868-46de-b163-dfbb28fe689b",
   "metadata": {},
   "outputs": [
    {
     "name": "stdout",
     "output_type": "stream",
     "text": [
      "Logistic Regression, train metric\n",
      "Accuracy:  0.93665\n",
      "ROC:  0.88199\n"
     ]
    }
   ],
   "source": [
    "print(\"Logistic Regression, train metric\")\n",
    "print(\"Accuracy: \", round(metrics.accuracy_score(y_train, pred_train), 5))\n",
    "print(\"ROC: \", round(metrics.roc_auc_score(y_train, pred_probs_train[:,1]), 5))"
   ]
  },
  {
   "cell_type": "code",
   "execution_count": 648,
   "id": "4603fa37-3587-4cf5-87cd-64b2ccb2c2fd",
   "metadata": {},
   "outputs": [],
   "source": [
    "pred_probs_test = model_pca.predict_proba(X_test_pca)\n",
    "pred_test = model_pca.predict(X_test_pca)"
   ]
  },
  {
   "cell_type": "code",
   "execution_count": 649,
   "id": "bb598841-8903-43fd-a00d-4dc032494583",
   "metadata": {},
   "outputs": [
    {
     "name": "stdout",
     "output_type": "stream",
     "text": [
      "Logistic Regression, test metric\n",
      "Accuracy:  0.94301\n",
      "ROC:  0.87696\n"
     ]
    }
   ],
   "source": [
    "print(\"Logistic Regression, test metric\")\n",
    "print(\"Accuracy: \", round(metrics.accuracy_score(y_test, pred_test), 5))\n",
    "print(\"ROC: \", round(metrics.roc_auc_score(y_test, pred_probs_test[:,1]), 5))"
   ]
  },
  {
   "cell_type": "markdown",
   "id": "5f1525bd-bb8c-4982-b2ae-3a78b6b0e97e",
   "metadata": {},
   "source": [
    "#### Decision tree"
   ]
  },
  {
   "cell_type": "markdown",
   "id": "c121ca21-ad2e-4a9c-90de-58fac63c7c86",
   "metadata": {},
   "source": [
    "Lets do Cross Validation to do hyperparameter tuning"
   ]
  },
  {
   "cell_type": "code",
   "execution_count": 650,
   "id": "2d950a60-aa44-4d1c-bb62-843a2502d095",
   "metadata": {},
   "outputs": [],
   "source": [
    "dt = DecisionTreeClassifier(random_state=100)"
   ]
  },
  {
   "cell_type": "code",
   "execution_count": 651,
   "id": "a408218d-e74f-4f93-bda9-f8788a453ebb",
   "metadata": {},
   "outputs": [],
   "source": [
    "params = {\n",
    "    'max_depth': [2, 3, 5, 10, 20],\n",
    "    'min_samples_leaf': [5, 10, 20, 50, 100],\n",
    "    'criterion': [\"gini\", \"entropy\"]\n",
    "}\n",
    "grid_search = GridSearchCV(estimator=dt, \n",
    "                           param_grid=params, \n",
    "                           cv=4, n_jobs=-1, verbose=1, scoring = \"accuracy\")"
   ]
  },
  {
   "cell_type": "code",
   "execution_count": 652,
   "id": "99916a6d-93ec-4fb0-a653-10118d7d1db6",
   "metadata": {},
   "outputs": [
    {
     "name": "stdout",
     "output_type": "stream",
     "text": [
      "Fitting 4 folds for each of 50 candidates, totalling 200 fits\n"
     ]
    },
    {
     "data": {
      "text/plain": [
       "GridSearchCV(cv=4, estimator=DecisionTreeClassifier(random_state=100),\n",
       "             n_jobs=-1,\n",
       "             param_grid={'criterion': ['gini', 'entropy'],\n",
       "                         'max_depth': [2, 3, 5, 10, 20],\n",
       "                         'min_samples_leaf': [5, 10, 20, 50, 100]},\n",
       "             scoring='accuracy', verbose=1)"
      ]
     },
     "execution_count": 652,
     "metadata": {},
     "output_type": "execute_result"
    }
   ],
   "source": [
    "grid_search.fit(X_train_pca, y_train)"
   ]
  },
  {
   "cell_type": "code",
   "execution_count": 653,
   "id": "26f31519-6a1c-4f78-9430-1a50903f54ca",
   "metadata": {},
   "outputs": [
    {
     "data": {
      "text/plain": [
       "DecisionTreeClassifier(criterion='entropy', max_depth=5, min_samples_leaf=50,\n",
       "                       random_state=100)"
      ]
     },
     "execution_count": 653,
     "metadata": {},
     "output_type": "execute_result"
    }
   ],
   "source": [
    "grid_search.best_estimator_"
   ]
  },
  {
   "cell_type": "code",
   "execution_count": 654,
   "id": "476c62bb-1bb5-438d-be59-ea0c35a7a428",
   "metadata": {},
   "outputs": [],
   "source": [
    "dt_best = grid_search.best_estimator_"
   ]
  },
  {
   "cell_type": "code",
   "execution_count": 655,
   "id": "0198cef3-b7a5-4519-8adc-af449eee3363",
   "metadata": {},
   "outputs": [],
   "source": [
    "pred_probs_train = dt_best.predict_proba(X_train_pca)\n",
    "pred_train = dt_best.predict(X_train_pca)"
   ]
  },
  {
   "cell_type": "code",
   "execution_count": 656,
   "id": "002c3d7a-0c2b-40b7-b339-2e5f2f6fcee1",
   "metadata": {},
   "outputs": [
    {
     "name": "stdout",
     "output_type": "stream",
     "text": [
      "Decision tree, train metric\n",
      "Accuracy:  0.9377\n",
      "ROC:  0.86421\n"
     ]
    }
   ],
   "source": [
    "print(\"Decision tree, train metric\")\n",
    "print(\"Accuracy: \", round(metrics.accuracy_score(y_train, pred_train), 5))\n",
    "print(\"ROC: \", round(metrics.roc_auc_score(y_train, pred_probs_train[:,1]), 5))"
   ]
  },
  {
   "cell_type": "code",
   "execution_count": 657,
   "id": "78b0fca5-c129-4ac3-b682-06eaa4247de9",
   "metadata": {},
   "outputs": [],
   "source": [
    "pred_probs_test = dt_best.predict_proba(X_test_pca)\n",
    "pred_test = dt_best.predict(X_test_pca)"
   ]
  },
  {
   "cell_type": "code",
   "execution_count": 658,
   "id": "18f7a09d-9dfc-47c8-ba60-a4d3e9f05a83",
   "metadata": {},
   "outputs": [
    {
     "name": "stdout",
     "output_type": "stream",
     "text": [
      "Decision tree, test metric\n",
      "Accuracy:  0.93783\n",
      "ROC:  0.82302\n"
     ]
    }
   ],
   "source": [
    "print(\"Decision tree, test metric\")\n",
    "print(\"Accuracy: \", round(metrics.accuracy_score(y_test, pred_test), 5))\n",
    "print(\"ROC: \", round(metrics.roc_auc_score(y_test, pred_probs_test[:,1]), 5))"
   ]
  },
  {
   "cell_type": "markdown",
   "id": "451261d1-e233-4ac4-a42b-1d19d142a08f",
   "metadata": {},
   "source": [
    "#### Random Forest"
   ]
  },
  {
   "cell_type": "code",
   "execution_count": 659,
   "id": "45777d7b-5f2c-4c85-b443-c2100ac66ef5",
   "metadata": {},
   "outputs": [],
   "source": [
    "rf = RandomForestClassifier(random_state=100, n_jobs=-1)"
   ]
  },
  {
   "cell_type": "code",
   "execution_count": 660,
   "id": "472e1354-90f1-4d51-9178-3727b491042d",
   "metadata": {},
   "outputs": [],
   "source": [
    "params = {\n",
    "    'max_depth': [5,10,20,30],\n",
    "    'min_samples_leaf': [5,10,20,50,100,200],\n",
    "    'n_estimators': [10, 25, 50, 100]\n",
    "}\n",
    "grid_search = GridSearchCV(estimator=rf,\n",
    "                           param_grid=params,\n",
    "                           cv = 4,\n",
    "                           n_jobs=-1, verbose=1, scoring=\"accuracy\")"
   ]
  },
  {
   "cell_type": "code",
   "execution_count": 661,
   "id": "14a73465-c239-4e85-93f0-62d2761c658a",
   "metadata": {},
   "outputs": [
    {
     "name": "stdout",
     "output_type": "stream",
     "text": [
      "Fitting 4 folds for each of 96 candidates, totalling 384 fits\n"
     ]
    },
    {
     "data": {
      "text/plain": [
       "GridSearchCV(cv=4,\n",
       "             estimator=RandomForestClassifier(n_jobs=-1, random_state=100),\n",
       "             n_jobs=-1,\n",
       "             param_grid={'max_depth': [5, 10, 20, 30],\n",
       "                         'min_samples_leaf': [5, 10, 20, 50, 100, 200],\n",
       "                         'n_estimators': [10, 25, 50, 100]},\n",
       "             scoring='accuracy', verbose=1)"
      ]
     },
     "execution_count": 661,
     "metadata": {},
     "output_type": "execute_result"
    }
   ],
   "source": [
    "grid_search.fit(X_train_pca, y_train)"
   ]
  },
  {
   "cell_type": "code",
   "execution_count": 662,
   "id": "37ddc97d-987e-46ef-88bd-cbe34df4958c",
   "metadata": {},
   "outputs": [
    {
     "data": {
      "text/plain": [
       "RandomForestClassifier(max_depth=30, min_samples_leaf=5, n_estimators=25,\n",
       "                       n_jobs=-1, random_state=100)"
      ]
     },
     "execution_count": 662,
     "metadata": {},
     "output_type": "execute_result"
    }
   ],
   "source": [
    "grid_search.best_estimator_"
   ]
  },
  {
   "cell_type": "code",
   "execution_count": 663,
   "id": "69e08a5f-f563-4ad4-9b82-9760c7e1799d",
   "metadata": {},
   "outputs": [],
   "source": [
    "rf_best = grid_search.best_estimator_"
   ]
  },
  {
   "cell_type": "code",
   "execution_count": 664,
   "id": "f7b1af3c-1248-4f06-a0f6-7999d4c7f772",
   "metadata": {},
   "outputs": [],
   "source": [
    "pred_probs_train = rf_best.predict_proba(X_train_pca)\n",
    "pred_train = rf_best.predict(X_train_pca)"
   ]
  },
  {
   "cell_type": "code",
   "execution_count": 665,
   "id": "a96227f9-ac49-4587-a7a3-b67d5b3022f7",
   "metadata": {},
   "outputs": [
    {
     "name": "stdout",
     "output_type": "stream",
     "text": [
      "Decision tree, train metric\n",
      "Accuracy:  0.9646\n",
      "ROC:  0.99667\n"
     ]
    }
   ],
   "source": [
    "print(\"Decision tree, train metric\")\n",
    "print(\"Accuracy: \", round(metrics.accuracy_score(y_train, pred_train), 5))\n",
    "print(\"ROC: \", round(metrics.roc_auc_score(y_train, pred_probs_train[:,1]), 5))"
   ]
  },
  {
   "cell_type": "code",
   "execution_count": 666,
   "id": "dd9f3877-33b0-47d4-a64a-07e6b5b45d02",
   "metadata": {},
   "outputs": [],
   "source": [
    "pred_probs_test = rf_best.predict_proba(X_test_pca)\n",
    "pred_test = rf_best.predict(X_test_pca)"
   ]
  },
  {
   "cell_type": "code",
   "execution_count": 667,
   "id": "3d4ee8f2-1b9a-419f-a9ab-86f8efbe8b0a",
   "metadata": {},
   "outputs": [
    {
     "name": "stdout",
     "output_type": "stream",
     "text": [
      "Decision tree, test metric\n",
      "Accuracy:  0.94164\n",
      "ROC:  0.85221\n"
     ]
    }
   ],
   "source": [
    "print(\"Decision tree, test metric\")\n",
    "print(\"Accuracy: \", round(metrics.accuracy_score(y_test, pred_test), 5))\n",
    "print(\"ROC: \", round(metrics.roc_auc_score(y_test, pred_probs_test[:,1]), 5))"
   ]
  },
  {
   "cell_type": "code",
   "execution_count": null,
   "id": "38b99084-3aa6-49f3-8a8e-3abfff9415e2",
   "metadata": {},
   "outputs": [],
   "source": []
  },
  {
   "cell_type": "code",
   "execution_count": null,
   "id": "288f2129-f12d-4fe7-9266-88133506900b",
   "metadata": {},
   "outputs": [],
   "source": []
  },
  {
   "cell_type": "code",
   "execution_count": null,
   "id": "580dbbe5-de38-41ba-bc4a-91da45390fdc",
   "metadata": {},
   "outputs": [],
   "source": []
  },
  {
   "cell_type": "code",
   "execution_count": null,
   "id": "a31de893-f174-45af-9876-20988d069199",
   "metadata": {},
   "outputs": [],
   "source": []
  },
  {
   "cell_type": "markdown",
   "id": "e983bb7f-ac3b-47a1-a310-fde450736cb4",
   "metadata": {},
   "source": [
    "## Testing with test data"
   ]
  },
  {
   "cell_type": "code",
   "execution_count": 668,
   "id": "43a46cbe-1c35-41d0-ad21-837625530ee2",
   "metadata": {},
   "outputs": [],
   "source": [
    "df_test = pd.read_csv(\"test (1).csv\")"
   ]
  },
  {
   "cell_type": "markdown",
   "id": "a799f921-1df4-4f5d-b64d-73622c66f29d",
   "metadata": {},
   "source": [
    "#### Applying transformations"
   ]
  },
  {
   "cell_type": "code",
   "execution_count": 669,
   "id": "3fe41235-7369-4a47-919c-388774c311c7",
   "metadata": {},
   "outputs": [],
   "source": [
    "df_test.dropna(thresh=len(df_test.index) * 0.7, axis=1, inplace=True)"
   ]
  },
  {
   "cell_type": "code",
   "execution_count": 670,
   "id": "a03e5d2f-1e22-40f2-b0af-e67163808bab",
   "metadata": {},
   "outputs": [],
   "source": [
    "df_test.drop(redundant_cols, axis=1, inplace=True)"
   ]
  },
  {
   "cell_type": "code",
   "execution_count": 671,
   "id": "cf5b7ce9-2bd2-44a2-bc99-00dd825d1270",
   "metadata": {},
   "outputs": [],
   "source": [
    "df_test.drop(\"id\", axis=1, inplace=True)"
   ]
  },
  {
   "cell_type": "code",
   "execution_count": 672,
   "id": "6f7574ac-65be-4b52-a0c9-d027de225f72",
   "metadata": {},
   "outputs": [],
   "source": [
    "df_test['date_of_last_rech_6'] = pd.to_datetime(df_test['date_of_last_rech_6'], infer_datetime_format=True).dt.day"
   ]
  },
  {
   "cell_type": "code",
   "execution_count": 673,
   "id": "366aa617-e443-4d1b-860e-37984fbb9ec9",
   "metadata": {},
   "outputs": [],
   "source": [
    "df_test['date_of_last_rech_7'] = pd.to_datetime(df_test['date_of_last_rech_7'], infer_datetime_format=True).dt.day"
   ]
  },
  {
   "cell_type": "code",
   "execution_count": 674,
   "id": "571e4a10-dec5-4544-b5b7-d1a9ae1d45c8",
   "metadata": {},
   "outputs": [],
   "source": [
    "df_test['date_of_last_rech_8'] = pd.to_datetime(df_test['date_of_last_rech_8'], infer_datetime_format=True).dt.day"
   ]
  },
  {
   "cell_type": "code",
   "execution_count": 675,
   "id": "57a966d7-6191-4ee9-b372-bd9107582768",
   "metadata": {},
   "outputs": [],
   "source": [
    "df_test.fillna(df_test.median(), inplace=True)"
   ]
  },
  {
   "cell_type": "code",
   "execution_count": 676,
   "id": "63a31666-8381-4494-92a2-6519178a8a69",
   "metadata": {},
   "outputs": [],
   "source": [
    "df_test[\"arpu\"] = (df_test[\"arpu_6\"] + df_test[\"arpu_7\"] + df_test[\"arpu_8\"] ) / 3"
   ]
  },
  {
   "cell_type": "code",
   "execution_count": 677,
   "id": "50021cfa-c515-4c0f-807c-99af5d8a113c",
   "metadata": {},
   "outputs": [],
   "source": [
    "df_test[\"total_rech_amt\"] = df_test[\"total_rech_amt_6\"] + df_test[\"total_rech_amt_7\"] + df_test[\"total_rech_amt_8\"]"
   ]
  },
  {
   "cell_type": "code",
   "execution_count": 678,
   "id": "cba1c729-1358-4449-907d-b68922d29e77",
   "metadata": {},
   "outputs": [],
   "source": [
    "df_test[\"total_vol_2g_3g\"] = df_test[\"vol_2g_mb_6\"] + df_test[\"vol_2g_mb_7\"] + df_test[\"vol_2g_mb_8\"] + df_test[\"vol_3g_mb_6\"] + df_test[\"vol_3g_mb_7\"] + df_test[\"vol_3g_mb_8\"]"
   ]
  },
  {
   "cell_type": "code",
   "execution_count": 679,
   "id": "97eb956a-14a5-45e1-8902-2296d170250c",
   "metadata": {},
   "outputs": [],
   "source": [
    "df_test[\"total_mou\"] = df_test[\"onnet_mou_6\"] + df_test[\"onnet_mou_7\"] + df_test[\"onnet_mou_8\"] + df_test[\"offnet_mou_6\"] + df_test[\"offnet_mou_7\"] + df_test[\"offnet_mou_8\"]"
   ]
  },
  {
   "cell_type": "code",
   "execution_count": 681,
   "id": "470011ba-df22-4d98-a20a-8c477894491b",
   "metadata": {},
   "outputs": [],
   "source": [
    "X_test = scaler.transform(df_test)"
   ]
  },
  {
   "cell_type": "code",
   "execution_count": 682,
   "id": "14c21b8a-d94c-4caf-b3ce-ccbdea341224",
   "metadata": {},
   "outputs": [
    {
     "data": {
      "text/html": [
       "<div>\n",
       "<style scoped>\n",
       "    .dataframe tbody tr th:only-of-type {\n",
       "        vertical-align: middle;\n",
       "    }\n",
       "\n",
       "    .dataframe tbody tr th {\n",
       "        vertical-align: top;\n",
       "    }\n",
       "\n",
       "    .dataframe thead th {\n",
       "        text-align: right;\n",
       "    }\n",
       "</style>\n",
       "<table border=\"1\" class=\"dataframe\">\n",
       "  <thead>\n",
       "    <tr style=\"text-align: right;\">\n",
       "      <th></th>\n",
       "      <th>0</th>\n",
       "      <th>1</th>\n",
       "      <th>2</th>\n",
       "      <th>3</th>\n",
       "      <th>4</th>\n",
       "      <th>5</th>\n",
       "      <th>6</th>\n",
       "      <th>7</th>\n",
       "      <th>8</th>\n",
       "      <th>9</th>\n",
       "      <th>...</th>\n",
       "      <th>119</th>\n",
       "      <th>120</th>\n",
       "      <th>121</th>\n",
       "      <th>122</th>\n",
       "      <th>123</th>\n",
       "      <th>124</th>\n",
       "      <th>125</th>\n",
       "      <th>126</th>\n",
       "      <th>127</th>\n",
       "      <th>128</th>\n",
       "    </tr>\n",
       "  </thead>\n",
       "  <tbody>\n",
       "    <tr>\n",
       "      <th>0</th>\n",
       "      <td>-1.282692</td>\n",
       "      <td>-1.493885</td>\n",
       "      <td>-1.355596</td>\n",
       "      <td>-0.549926</td>\n",
       "      <td>-0.590326</td>\n",
       "      <td>-0.549249</td>\n",
       "      <td>-0.753822</td>\n",
       "      <td>-0.828726</td>\n",
       "      <td>-0.778482</td>\n",
       "      <td>-0.241843</td>\n",
       "      <td>...</td>\n",
       "      <td>-0.309269</td>\n",
       "      <td>-0.319644</td>\n",
       "      <td>0.415045</td>\n",
       "      <td>-0.347139</td>\n",
       "      <td>-0.333757</td>\n",
       "      <td>-0.319301</td>\n",
       "      <td>-1.725893</td>\n",
       "      <td>-1.711245</td>\n",
       "      <td>-0.438854</td>\n",
       "      <td>-1.097322</td>\n",
       "    </tr>\n",
       "    <tr>\n",
       "      <th>1</th>\n",
       "      <td>-0.378156</td>\n",
       "      <td>-0.150890</td>\n",
       "      <td>-0.536190</td>\n",
       "      <td>-0.452302</td>\n",
       "      <td>-0.545452</td>\n",
       "      <td>-0.556202</td>\n",
       "      <td>0.176527</td>\n",
       "      <td>0.448021</td>\n",
       "      <td>-0.004921</td>\n",
       "      <td>-0.241843</td>\n",
       "      <td>...</td>\n",
       "      <td>-0.309269</td>\n",
       "      <td>-0.319644</td>\n",
       "      <td>1.274192</td>\n",
       "      <td>-0.347139</td>\n",
       "      <td>-0.333757</td>\n",
       "      <td>-0.319301</td>\n",
       "      <td>-0.452009</td>\n",
       "      <td>-0.454944</td>\n",
       "      <td>-0.438854</td>\n",
       "      <td>-0.257020</td>\n",
       "    </tr>\n",
       "    <tr>\n",
       "      <th>2</th>\n",
       "      <td>-0.614822</td>\n",
       "      <td>-0.391559</td>\n",
       "      <td>0.529096</td>\n",
       "      <td>-0.604040</td>\n",
       "      <td>-0.616784</td>\n",
       "      <td>-0.580527</td>\n",
       "      <td>-0.850815</td>\n",
       "      <td>-0.799172</td>\n",
       "      <td>-0.756550</td>\n",
       "      <td>0.111203</td>\n",
       "      <td>...</td>\n",
       "      <td>-0.309269</td>\n",
       "      <td>-0.319644</td>\n",
       "      <td>-1.030488</td>\n",
       "      <td>1.036432</td>\n",
       "      <td>1.583737</td>\n",
       "      <td>0.341702</td>\n",
       "      <td>-0.189398</td>\n",
       "      <td>0.552514</td>\n",
       "      <td>-0.438854</td>\n",
       "      <td>-1.138966</td>\n",
       "    </tr>\n",
       "    <tr>\n",
       "      <th>3</th>\n",
       "      <td>-1.418342</td>\n",
       "      <td>-1.177523</td>\n",
       "      <td>-1.466293</td>\n",
       "      <td>-0.609018</td>\n",
       "      <td>-0.628976</td>\n",
       "      <td>-0.598387</td>\n",
       "      <td>-0.799016</td>\n",
       "      <td>-0.454480</td>\n",
       "      <td>-0.801725</td>\n",
       "      <td>-0.241843</td>\n",
       "      <td>...</td>\n",
       "      <td>-0.309269</td>\n",
       "      <td>-0.319644</td>\n",
       "      <td>-0.042622</td>\n",
       "      <td>-0.347139</td>\n",
       "      <td>-0.333757</td>\n",
       "      <td>-0.319301</td>\n",
       "      <td>-1.704820</td>\n",
       "      <td>-1.593372</td>\n",
       "      <td>-0.438854</td>\n",
       "      <td>-1.053545</td>\n",
       "    </tr>\n",
       "    <tr>\n",
       "      <th>4</th>\n",
       "      <td>-0.679346</td>\n",
       "      <td>-0.476854</td>\n",
       "      <td>-0.391171</td>\n",
       "      <td>0.385794</td>\n",
       "      <td>0.669054</td>\n",
       "      <td>0.891461</td>\n",
       "      <td>-0.752070</td>\n",
       "      <td>-0.846740</td>\n",
       "      <td>-0.693996</td>\n",
       "      <td>-0.241843</td>\n",
       "      <td>...</td>\n",
       "      <td>-0.309269</td>\n",
       "      <td>-0.319644</td>\n",
       "      <td>-0.841496</td>\n",
       "      <td>-0.347139</td>\n",
       "      <td>-0.333757</td>\n",
       "      <td>-0.319301</td>\n",
       "      <td>-0.647608</td>\n",
       "      <td>-0.563750</td>\n",
       "      <td>-0.438854</td>\n",
       "      <td>-0.084941</td>\n",
       "    </tr>\n",
       "  </tbody>\n",
       "</table>\n",
       "<p>5 rows × 129 columns</p>\n",
       "</div>"
      ],
      "text/plain": [
       "        0         1         2         3         4         5         6    \\\n",
       "0 -1.282692 -1.493885 -1.355596 -0.549926 -0.590326 -0.549249 -0.753822   \n",
       "1 -0.378156 -0.150890 -0.536190 -0.452302 -0.545452 -0.556202  0.176527   \n",
       "2 -0.614822 -0.391559  0.529096 -0.604040 -0.616784 -0.580527 -0.850815   \n",
       "3 -1.418342 -1.177523 -1.466293 -0.609018 -0.628976 -0.598387 -0.799016   \n",
       "4 -0.679346 -0.476854 -0.391171  0.385794  0.669054  0.891461 -0.752070   \n",
       "\n",
       "        7         8         9    ...       119       120       121       122  \\\n",
       "0 -0.828726 -0.778482 -0.241843  ... -0.309269 -0.319644  0.415045 -0.347139   \n",
       "1  0.448021 -0.004921 -0.241843  ... -0.309269 -0.319644  1.274192 -0.347139   \n",
       "2 -0.799172 -0.756550  0.111203  ... -0.309269 -0.319644 -1.030488  1.036432   \n",
       "3 -0.454480 -0.801725 -0.241843  ... -0.309269 -0.319644 -0.042622 -0.347139   \n",
       "4 -0.846740 -0.693996 -0.241843  ... -0.309269 -0.319644 -0.841496 -0.347139   \n",
       "\n",
       "        123       124       125       126       127       128  \n",
       "0 -0.333757 -0.319301 -1.725893 -1.711245 -0.438854 -1.097322  \n",
       "1 -0.333757 -0.319301 -0.452009 -0.454944 -0.438854 -0.257020  \n",
       "2  1.583737  0.341702 -0.189398  0.552514 -0.438854 -1.138966  \n",
       "3 -0.333757 -0.319301 -1.704820 -1.593372 -0.438854 -1.053545  \n",
       "4 -0.333757 -0.319301 -0.647608 -0.563750 -0.438854 -0.084941  \n",
       "\n",
       "[5 rows x 129 columns]"
      ]
     },
     "execution_count": 682,
     "metadata": {},
     "output_type": "execute_result"
    }
   ],
   "source": [
    "pd.DataFrame(X_test).head()"
   ]
  },
  {
   "cell_type": "code",
   "execution_count": 683,
   "id": "719fe6d3-9585-4855-a733-2de35ba0813a",
   "metadata": {},
   "outputs": [],
   "source": [
    "X_test_pca = pca.transform(X_test)"
   ]
  },
  {
   "cell_type": "code",
   "execution_count": 684,
   "id": "40835678-b023-477b-9ab3-7524f66a9a99",
   "metadata": {},
   "outputs": [
    {
     "data": {
      "text/html": [
       "<div>\n",
       "<style scoped>\n",
       "    .dataframe tbody tr th:only-of-type {\n",
       "        vertical-align: middle;\n",
       "    }\n",
       "\n",
       "    .dataframe tbody tr th {\n",
       "        vertical-align: top;\n",
       "    }\n",
       "\n",
       "    .dataframe thead th {\n",
       "        text-align: right;\n",
       "    }\n",
       "</style>\n",
       "<table border=\"1\" class=\"dataframe\">\n",
       "  <thead>\n",
       "    <tr style=\"text-align: right;\">\n",
       "      <th></th>\n",
       "      <th>PCA1</th>\n",
       "      <th>PCA2</th>\n",
       "      <th>PCA3</th>\n",
       "      <th>PCA4</th>\n",
       "      <th>PCA5</th>\n",
       "      <th>PCA6</th>\n",
       "      <th>PCA7</th>\n",
       "      <th>PCA8</th>\n",
       "      <th>PCA9</th>\n",
       "      <th>PCA10</th>\n",
       "      <th>...</th>\n",
       "      <th>PCA56</th>\n",
       "      <th>PCA57</th>\n",
       "      <th>PCA58</th>\n",
       "      <th>PCA59</th>\n",
       "      <th>PCA60</th>\n",
       "      <th>PCA61</th>\n",
       "      <th>PCA62</th>\n",
       "      <th>PCA63</th>\n",
       "      <th>PCA64</th>\n",
       "      <th>PCA65</th>\n",
       "    </tr>\n",
       "  </thead>\n",
       "  <tbody>\n",
       "    <tr>\n",
       "      <th>0</th>\n",
       "      <td>-6.117301</td>\n",
       "      <td>0.096059</td>\n",
       "      <td>-1.748336</td>\n",
       "      <td>-0.128523</td>\n",
       "      <td>0.512836</td>\n",
       "      <td>0.479056</td>\n",
       "      <td>-0.002528</td>\n",
       "      <td>0.070724</td>\n",
       "      <td>-0.729042</td>\n",
       "      <td>-0.682200</td>\n",
       "      <td>...</td>\n",
       "      <td>-0.108551</td>\n",
       "      <td>-0.060748</td>\n",
       "      <td>-0.139370</td>\n",
       "      <td>0.007262</td>\n",
       "      <td>-0.103984</td>\n",
       "      <td>-0.088830</td>\n",
       "      <td>0.174203</td>\n",
       "      <td>-0.021624</td>\n",
       "      <td>0.031148</td>\n",
       "      <td>0.056365</td>\n",
       "    </tr>\n",
       "    <tr>\n",
       "      <th>1</th>\n",
       "      <td>-1.029126</td>\n",
       "      <td>-1.968757</td>\n",
       "      <td>-1.091574</td>\n",
       "      <td>-0.964526</td>\n",
       "      <td>2.465375</td>\n",
       "      <td>0.524351</td>\n",
       "      <td>-0.320329</td>\n",
       "      <td>0.869061</td>\n",
       "      <td>-0.186209</td>\n",
       "      <td>-0.683796</td>\n",
       "      <td>...</td>\n",
       "      <td>-0.239682</td>\n",
       "      <td>-0.403220</td>\n",
       "      <td>0.456746</td>\n",
       "      <td>0.269657</td>\n",
       "      <td>0.318130</td>\n",
       "      <td>-0.186070</td>\n",
       "      <td>0.092239</td>\n",
       "      <td>0.238744</td>\n",
       "      <td>0.091209</td>\n",
       "      <td>-0.037577</td>\n",
       "    </tr>\n",
       "    <tr>\n",
       "      <th>2</th>\n",
       "      <td>-3.549355</td>\n",
       "      <td>0.108727</td>\n",
       "      <td>2.146550</td>\n",
       "      <td>-0.411224</td>\n",
       "      <td>0.986519</td>\n",
       "      <td>0.581846</td>\n",
       "      <td>0.826231</td>\n",
       "      <td>0.740865</td>\n",
       "      <td>-0.379695</td>\n",
       "      <td>1.429981</td>\n",
       "      <td>...</td>\n",
       "      <td>-0.104001</td>\n",
       "      <td>0.115322</td>\n",
       "      <td>1.938317</td>\n",
       "      <td>0.036706</td>\n",
       "      <td>0.198612</td>\n",
       "      <td>-0.021614</td>\n",
       "      <td>0.263477</td>\n",
       "      <td>0.038301</td>\n",
       "      <td>-0.192285</td>\n",
       "      <td>-0.031723</td>\n",
       "    </tr>\n",
       "    <tr>\n",
       "      <th>3</th>\n",
       "      <td>-3.650705</td>\n",
       "      <td>-2.634868</td>\n",
       "      <td>-2.928457</td>\n",
       "      <td>0.809389</td>\n",
       "      <td>-0.009043</td>\n",
       "      <td>-0.284479</td>\n",
       "      <td>-0.331561</td>\n",
       "      <td>-1.556828</td>\n",
       "      <td>-1.564105</td>\n",
       "      <td>0.446631</td>\n",
       "      <td>...</td>\n",
       "      <td>0.033566</td>\n",
       "      <td>-0.014754</td>\n",
       "      <td>-0.005044</td>\n",
       "      <td>-0.072133</td>\n",
       "      <td>-0.078350</td>\n",
       "      <td>0.050792</td>\n",
       "      <td>0.036035</td>\n",
       "      <td>0.173955</td>\n",
       "      <td>0.031551</td>\n",
       "      <td>-0.125479</td>\n",
       "    </tr>\n",
       "    <tr>\n",
       "      <th>4</th>\n",
       "      <td>-2.410392</td>\n",
       "      <td>2.833029</td>\n",
       "      <td>-0.505857</td>\n",
       "      <td>1.053573</td>\n",
       "      <td>-0.735225</td>\n",
       "      <td>2.263862</td>\n",
       "      <td>0.738570</td>\n",
       "      <td>-0.652513</td>\n",
       "      <td>-0.365524</td>\n",
       "      <td>-0.289167</td>\n",
       "      <td>...</td>\n",
       "      <td>-0.022112</td>\n",
       "      <td>-0.210386</td>\n",
       "      <td>-0.227381</td>\n",
       "      <td>-0.058479</td>\n",
       "      <td>0.101608</td>\n",
       "      <td>0.233185</td>\n",
       "      <td>0.228558</td>\n",
       "      <td>-0.207001</td>\n",
       "      <td>-0.017827</td>\n",
       "      <td>-0.117230</td>\n",
       "    </tr>\n",
       "  </tbody>\n",
       "</table>\n",
       "<p>5 rows × 65 columns</p>\n",
       "</div>"
      ],
      "text/plain": [
       "       PCA1      PCA2      PCA3      PCA4      PCA5      PCA6      PCA7  \\\n",
       "0 -6.117301  0.096059 -1.748336 -0.128523  0.512836  0.479056 -0.002528   \n",
       "1 -1.029126 -1.968757 -1.091574 -0.964526  2.465375  0.524351 -0.320329   \n",
       "2 -3.549355  0.108727  2.146550 -0.411224  0.986519  0.581846  0.826231   \n",
       "3 -3.650705 -2.634868 -2.928457  0.809389 -0.009043 -0.284479 -0.331561   \n",
       "4 -2.410392  2.833029 -0.505857  1.053573 -0.735225  2.263862  0.738570   \n",
       "\n",
       "       PCA8      PCA9     PCA10  ...     PCA56     PCA57     PCA58     PCA59  \\\n",
       "0  0.070724 -0.729042 -0.682200  ... -0.108551 -0.060748 -0.139370  0.007262   \n",
       "1  0.869061 -0.186209 -0.683796  ... -0.239682 -0.403220  0.456746  0.269657   \n",
       "2  0.740865 -0.379695  1.429981  ... -0.104001  0.115322  1.938317  0.036706   \n",
       "3 -1.556828 -1.564105  0.446631  ...  0.033566 -0.014754 -0.005044 -0.072133   \n",
       "4 -0.652513 -0.365524 -0.289167  ... -0.022112 -0.210386 -0.227381 -0.058479   \n",
       "\n",
       "      PCA60     PCA61     PCA62     PCA63     PCA64     PCA65  \n",
       "0 -0.103984 -0.088830  0.174203 -0.021624  0.031148  0.056365  \n",
       "1  0.318130 -0.186070  0.092239  0.238744  0.091209 -0.037577  \n",
       "2  0.198612 -0.021614  0.263477  0.038301 -0.192285 -0.031723  \n",
       "3 -0.078350  0.050792  0.036035  0.173955  0.031551 -0.125479  \n",
       "4  0.101608  0.233185  0.228558 -0.207001 -0.017827 -0.117230  \n",
       "\n",
       "[5 rows x 65 columns]"
      ]
     },
     "execution_count": 684,
     "metadata": {},
     "output_type": "execute_result"
    }
   ],
   "source": [
    "columns = [f\"PCA{i}\" for i in range(1, len(X_test_pca[0]) + 1)]\n",
    "X_test_pca = pd.DataFrame(X_test_pca, columns=columns)\n",
    "X_test_pca.head()"
   ]
  },
  {
   "cell_type": "code",
   "execution_count": 697,
   "id": "55af1bb7-0deb-42ff-9ad1-80c74b9864ae",
   "metadata": {
    "tags": []
   },
   "outputs": [],
   "source": [
    "pred_probs_test = rf_best.predict_proba(X_test_pca)\n",
    "pred_test = rf_best.predict(X_test_pca)"
   ]
  },
  {
   "cell_type": "code",
   "execution_count": 698,
   "id": "c3280caa-fec3-45cc-96c8-b5ba3833d688",
   "metadata": {
    "tags": []
   },
   "outputs": [],
   "source": [
    "df_final = pd.read_csv(\"solution (1).csv\")"
   ]
  },
  {
   "cell_type": "code",
   "execution_count": 699,
   "id": "9086de9c-aecd-45e0-9114-15f4d8791392",
   "metadata": {},
   "outputs": [],
   "source": [
    "df_final.drop(\"churn_probability\", axis=1, inplace=True)"
   ]
  },
  {
   "cell_type": "code",
   "execution_count": 700,
   "id": "1d200b40-9aa3-47fc-ac6d-7f6b511b38d4",
   "metadata": {},
   "outputs": [],
   "source": [
    "df_final[\"churn_probability\"] = pred_test"
   ]
  },
  {
   "cell_type": "code",
   "execution_count": 701,
   "id": "bdacd005-c39f-4e6f-b1fa-b776aa56094f",
   "metadata": {},
   "outputs": [],
   "source": [
    "df_final.to_csv(\"Solution_2.csv\", index=False)"
   ]
  },
  {
   "cell_type": "code",
   "execution_count": 702,
   "id": "b27a90b8-43c1-4742-b50d-92e495bbe9f6",
   "metadata": {},
   "outputs": [
    {
     "name": "stdout",
     "output_type": "stream",
     "text": [
      "<class 'pandas.core.frame.DataFrame'>\n",
      "RangeIndex: 30000 entries, 0 to 29999\n",
      "Data columns (total 2 columns):\n",
      " #   Column             Non-Null Count  Dtype\n",
      "---  ------             --------------  -----\n",
      " 0   id                 30000 non-null  int64\n",
      " 1   churn_probability  30000 non-null  int64\n",
      "dtypes: int64(2)\n",
      "memory usage: 468.9 KB\n"
     ]
    }
   ],
   "source": [
    "df_final.info()"
   ]
  },
  {
   "cell_type": "code",
   "execution_count": null,
   "id": "2776b2a6-ecc8-4f4c-8757-29ed105c417c",
   "metadata": {},
   "outputs": [],
   "source": []
  },
  {
   "cell_type": "code",
   "execution_count": null,
   "id": "ee6ed4f9-ca4c-4f33-bdb2-9422ab3575f4",
   "metadata": {},
   "outputs": [],
   "source": []
  },
  {
   "cell_type": "code",
   "execution_count": 703,
   "id": "bbc3d37a-8997-4f42-8b98-9c31fd348644",
   "metadata": {
    "tags": []
   },
   "outputs": [],
   "source": [
    "pred_probs_test = dt_best.predict_proba(X_test_pca)\n",
    "pred_test = dt_best.predict(X_test_pca)"
   ]
  },
  {
   "cell_type": "code",
   "execution_count": 704,
   "id": "8779b717-6195-43c3-81b2-355a2acfad7b",
   "metadata": {
    "tags": []
   },
   "outputs": [],
   "source": [
    "df_final = pd.read_csv(\"solution (1).csv\")"
   ]
  },
  {
   "cell_type": "code",
   "execution_count": 705,
   "id": "9c364ccd-18a5-4eed-8ba6-9a71b24306a3",
   "metadata": {},
   "outputs": [],
   "source": [
    "df_final.drop(\"churn_probability\", axis=1, inplace=True)"
   ]
  },
  {
   "cell_type": "code",
   "execution_count": 706,
   "id": "0f961b60-f886-4e09-b0ed-f93009d585c8",
   "metadata": {},
   "outputs": [],
   "source": [
    "df_final[\"churn_probability\"] = pred_test"
   ]
  },
  {
   "cell_type": "code",
   "execution_count": 707,
   "id": "1dda5072-1037-4686-81e5-1277bbe1e174",
   "metadata": {},
   "outputs": [],
   "source": [
    "df_final.to_csv(\"Solution_3.csv\", index=False)"
   ]
  },
  {
   "cell_type": "code",
   "execution_count": 708,
   "id": "c4ed892a-4d37-44d2-9021-7f52adb48472",
   "metadata": {},
   "outputs": [
    {
     "name": "stdout",
     "output_type": "stream",
     "text": [
      "<class 'pandas.core.frame.DataFrame'>\n",
      "RangeIndex: 30000 entries, 0 to 29999\n",
      "Data columns (total 2 columns):\n",
      " #   Column             Non-Null Count  Dtype\n",
      "---  ------             --------------  -----\n",
      " 0   id                 30000 non-null  int64\n",
      " 1   churn_probability  30000 non-null  int64\n",
      "dtypes: int64(2)\n",
      "memory usage: 468.9 KB\n"
     ]
    }
   ],
   "source": [
    "df_final.info()"
   ]
  },
  {
   "cell_type": "code",
   "execution_count": null,
   "id": "398c3951-ba55-4ece-8c22-61a0cb046053",
   "metadata": {},
   "outputs": [],
   "source": []
  }
 ],
 "metadata": {
  "kernelspec": {
   "display_name": "Python 3 (ipykernel)",
   "language": "python",
   "name": "python3"
  },
  "language_info": {
   "codemirror_mode": {
    "name": "ipython",
    "version": 3
   },
   "file_extension": ".py",
   "mimetype": "text/x-python",
   "name": "python",
   "nbconvert_exporter": "python",
   "pygments_lexer": "ipython3",
   "version": "3.9.7"
  }
 },
 "nbformat": 4,
 "nbformat_minor": 5
}
