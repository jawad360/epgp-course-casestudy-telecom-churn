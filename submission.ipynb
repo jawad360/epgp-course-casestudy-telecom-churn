{
 "cells": [
  {
   "cell_type": "code",
   "execution_count": 150,
   "id": "2d8a1f00-c046-4c3f-8f5d-122d9ca8468f",
   "metadata": {},
   "outputs": [],
   "source": [
    "import numpy as np\n",
    "import pandas as pd\n",
    "import matplotlib.pyplot as plt\n",
    "import seaborn as sns\n",
    "\n",
    "from sklearn.preprocessing import StandardScaler\n",
    "from sklearn.model_selection import train_test_split\n",
    "from sklearn.decomposition import PCA\n",
    "\n",
    "from sklearn.linear_model import LogisticRegression\n",
    "from sklearn.tree import DecisionTreeClassifier\n",
    "from sklearn.model_selection import GridSearchCV\n",
    "from sklearn.ensemble import RandomForestClassifier\n",
    "\n",
    "import sklearn.metrics as metrics\n",
    "\n",
    "import warnings\n",
    "warnings.filterwarnings(\"ignore\")"
   ]
  },
  {
   "cell_type": "code",
   "execution_count": 151,
   "id": "f0b2cadc-beb7-4676-94e5-1168f142b95a",
   "metadata": {},
   "outputs": [],
   "source": [
    "plt.style.use(\"ggplot\")"
   ]
  },
  {
   "cell_type": "markdown",
   "id": "8701c7f0-093b-448b-9dd7-8a9d8a751470",
   "metadata": {},
   "source": [
    "### 1. Data understanding and cleaning"
   ]
  },
  {
   "cell_type": "code",
   "execution_count": 152,
   "id": "a60fb69b-c8e3-4554-ad14-43f6a4d4ba9a",
   "metadata": {},
   "outputs": [],
   "source": [
    "data = pd.read_csv(\"train (1).csv\")"
   ]
  },
  {
   "cell_type": "code",
   "execution_count": 153,
   "id": "d19cfa13-95c4-4d8a-b8cd-6046d1fbddda",
   "metadata": {},
   "outputs": [
    {
     "name": "stdout",
     "output_type": "stream",
     "text": [
      "<class 'pandas.core.frame.DataFrame'>\n",
      "RangeIndex: 69999 entries, 0 to 69998\n",
      "Columns: 172 entries, id to churn_probability\n",
      "dtypes: float64(135), int64(28), object(9)\n",
      "memory usage: 91.9+ MB\n"
     ]
    }
   ],
   "source": [
    "data.info()"
   ]
  },
  {
   "cell_type": "code",
   "execution_count": 154,
   "id": "37fab067-25c0-4179-a804-adddd465a550",
   "metadata": {},
   "outputs": [
    {
     "data": {
      "text/html": [
       "<div>\n",
       "<style scoped>\n",
       "    .dataframe tbody tr th:only-of-type {\n",
       "        vertical-align: middle;\n",
       "    }\n",
       "\n",
       "    .dataframe tbody tr th {\n",
       "        vertical-align: top;\n",
       "    }\n",
       "\n",
       "    .dataframe thead th {\n",
       "        text-align: right;\n",
       "    }\n",
       "</style>\n",
       "<table border=\"1\" class=\"dataframe\">\n",
       "  <thead>\n",
       "    <tr style=\"text-align: right;\">\n",
       "      <th></th>\n",
       "      <th>id</th>\n",
       "      <th>circle_id</th>\n",
       "      <th>loc_og_t2o_mou</th>\n",
       "      <th>std_og_t2o_mou</th>\n",
       "      <th>loc_ic_t2o_mou</th>\n",
       "      <th>last_date_of_month_6</th>\n",
       "      <th>last_date_of_month_7</th>\n",
       "      <th>last_date_of_month_8</th>\n",
       "      <th>arpu_6</th>\n",
       "      <th>arpu_7</th>\n",
       "      <th>...</th>\n",
       "      <th>sachet_3g_7</th>\n",
       "      <th>sachet_3g_8</th>\n",
       "      <th>fb_user_6</th>\n",
       "      <th>fb_user_7</th>\n",
       "      <th>fb_user_8</th>\n",
       "      <th>aon</th>\n",
       "      <th>aug_vbc_3g</th>\n",
       "      <th>jul_vbc_3g</th>\n",
       "      <th>jun_vbc_3g</th>\n",
       "      <th>churn_probability</th>\n",
       "    </tr>\n",
       "  </thead>\n",
       "  <tbody>\n",
       "    <tr>\n",
       "      <th>0</th>\n",
       "      <td>0</td>\n",
       "      <td>109</td>\n",
       "      <td>0.0</td>\n",
       "      <td>0.0</td>\n",
       "      <td>0.0</td>\n",
       "      <td>6/30/2014</td>\n",
       "      <td>7/31/2014</td>\n",
       "      <td>8/31/2014</td>\n",
       "      <td>31.277</td>\n",
       "      <td>87.009</td>\n",
       "      <td>...</td>\n",
       "      <td>0</td>\n",
       "      <td>0</td>\n",
       "      <td>NaN</td>\n",
       "      <td>NaN</td>\n",
       "      <td>NaN</td>\n",
       "      <td>1958</td>\n",
       "      <td>0.0</td>\n",
       "      <td>0.0</td>\n",
       "      <td>0.0</td>\n",
       "      <td>0</td>\n",
       "    </tr>\n",
       "    <tr>\n",
       "      <th>1</th>\n",
       "      <td>1</td>\n",
       "      <td>109</td>\n",
       "      <td>0.0</td>\n",
       "      <td>0.0</td>\n",
       "      <td>0.0</td>\n",
       "      <td>6/30/2014</td>\n",
       "      <td>7/31/2014</td>\n",
       "      <td>8/31/2014</td>\n",
       "      <td>0.000</td>\n",
       "      <td>122.787</td>\n",
       "      <td>...</td>\n",
       "      <td>0</td>\n",
       "      <td>0</td>\n",
       "      <td>NaN</td>\n",
       "      <td>1.0</td>\n",
       "      <td>NaN</td>\n",
       "      <td>710</td>\n",
       "      <td>0.0</td>\n",
       "      <td>0.0</td>\n",
       "      <td>0.0</td>\n",
       "      <td>0</td>\n",
       "    </tr>\n",
       "    <tr>\n",
       "      <th>2</th>\n",
       "      <td>2</td>\n",
       "      <td>109</td>\n",
       "      <td>0.0</td>\n",
       "      <td>0.0</td>\n",
       "      <td>0.0</td>\n",
       "      <td>6/30/2014</td>\n",
       "      <td>7/31/2014</td>\n",
       "      <td>8/31/2014</td>\n",
       "      <td>60.806</td>\n",
       "      <td>103.176</td>\n",
       "      <td>...</td>\n",
       "      <td>0</td>\n",
       "      <td>0</td>\n",
       "      <td>NaN</td>\n",
       "      <td>NaN</td>\n",
       "      <td>NaN</td>\n",
       "      <td>882</td>\n",
       "      <td>0.0</td>\n",
       "      <td>0.0</td>\n",
       "      <td>0.0</td>\n",
       "      <td>0</td>\n",
       "    </tr>\n",
       "    <tr>\n",
       "      <th>3</th>\n",
       "      <td>3</td>\n",
       "      <td>109</td>\n",
       "      <td>0.0</td>\n",
       "      <td>0.0</td>\n",
       "      <td>0.0</td>\n",
       "      <td>6/30/2014</td>\n",
       "      <td>7/31/2014</td>\n",
       "      <td>8/31/2014</td>\n",
       "      <td>156.362</td>\n",
       "      <td>205.260</td>\n",
       "      <td>...</td>\n",
       "      <td>0</td>\n",
       "      <td>0</td>\n",
       "      <td>NaN</td>\n",
       "      <td>NaN</td>\n",
       "      <td>NaN</td>\n",
       "      <td>982</td>\n",
       "      <td>0.0</td>\n",
       "      <td>0.0</td>\n",
       "      <td>0.0</td>\n",
       "      <td>0</td>\n",
       "    </tr>\n",
       "    <tr>\n",
       "      <th>4</th>\n",
       "      <td>4</td>\n",
       "      <td>109</td>\n",
       "      <td>0.0</td>\n",
       "      <td>0.0</td>\n",
       "      <td>0.0</td>\n",
       "      <td>6/30/2014</td>\n",
       "      <td>7/31/2014</td>\n",
       "      <td>8/31/2014</td>\n",
       "      <td>240.708</td>\n",
       "      <td>128.191</td>\n",
       "      <td>...</td>\n",
       "      <td>1</td>\n",
       "      <td>0</td>\n",
       "      <td>1.0</td>\n",
       "      <td>1.0</td>\n",
       "      <td>1.0</td>\n",
       "      <td>647</td>\n",
       "      <td>0.0</td>\n",
       "      <td>0.0</td>\n",
       "      <td>0.0</td>\n",
       "      <td>0</td>\n",
       "    </tr>\n",
       "  </tbody>\n",
       "</table>\n",
       "<p>5 rows × 172 columns</p>\n",
       "</div>"
      ],
      "text/plain": [
       "   id  circle_id  loc_og_t2o_mou  std_og_t2o_mou  loc_ic_t2o_mou  \\\n",
       "0   0        109             0.0             0.0             0.0   \n",
       "1   1        109             0.0             0.0             0.0   \n",
       "2   2        109             0.0             0.0             0.0   \n",
       "3   3        109             0.0             0.0             0.0   \n",
       "4   4        109             0.0             0.0             0.0   \n",
       "\n",
       "  last_date_of_month_6 last_date_of_month_7 last_date_of_month_8   arpu_6  \\\n",
       "0            6/30/2014            7/31/2014            8/31/2014   31.277   \n",
       "1            6/30/2014            7/31/2014            8/31/2014    0.000   \n",
       "2            6/30/2014            7/31/2014            8/31/2014   60.806   \n",
       "3            6/30/2014            7/31/2014            8/31/2014  156.362   \n",
       "4            6/30/2014            7/31/2014            8/31/2014  240.708   \n",
       "\n",
       "    arpu_7  ...  sachet_3g_7  sachet_3g_8  fb_user_6  fb_user_7  fb_user_8  \\\n",
       "0   87.009  ...            0            0        NaN        NaN        NaN   \n",
       "1  122.787  ...            0            0        NaN        1.0        NaN   \n",
       "2  103.176  ...            0            0        NaN        NaN        NaN   \n",
       "3  205.260  ...            0            0        NaN        NaN        NaN   \n",
       "4  128.191  ...            1            0        1.0        1.0        1.0   \n",
       "\n",
       "    aon  aug_vbc_3g  jul_vbc_3g  jun_vbc_3g  churn_probability  \n",
       "0  1958         0.0         0.0         0.0                  0  \n",
       "1   710         0.0         0.0         0.0                  0  \n",
       "2   882         0.0         0.0         0.0                  0  \n",
       "3   982         0.0         0.0         0.0                  0  \n",
       "4   647         0.0         0.0         0.0                  0  \n",
       "\n",
       "[5 rows x 172 columns]"
      ]
     },
     "execution_count": 154,
     "metadata": {},
     "output_type": "execute_result"
    }
   ],
   "source": [
    "data.head()"
   ]
  },
  {
   "cell_type": "markdown",
   "id": "05bc27a8-6c7d-4aaf-959c-1197d683b7fd",
   "metadata": {},
   "source": [
    "#### Checking for null values"
   ]
  },
  {
   "cell_type": "code",
   "execution_count": 155,
   "id": "27c75bc3-ccf1-43d0-89d5-a230d1c59498",
   "metadata": {
    "tags": []
   },
   "outputs": [
    {
     "data": {
      "text/plain": [
       "arpu_3g_6                   74.902499\n",
       "count_rech_2g_6             74.902499\n",
       "night_pck_user_6            74.902499\n",
       "arpu_2g_6                   74.902499\n",
       "date_of_last_rech_data_6    74.902499\n",
       "                              ...    \n",
       "last_day_rch_amt_8           0.000000\n",
       "vol_2g_mb_6                  0.000000\n",
       "vol_2g_mb_7                  0.000000\n",
       "vol_2g_mb_8                  0.000000\n",
       "churn_probability            0.000000\n",
       "Length: 172, dtype: float64"
      ]
     },
     "execution_count": 155,
     "metadata": {},
     "output_type": "execute_result"
    }
   ],
   "source": [
    "(data.isna().sum() * 100 / len(data)).sort_values(ascending = False)"
   ]
  },
  {
   "cell_type": "markdown",
   "id": "a176b2b7-ed9b-4ee8-b78b-b3178ef7609b",
   "metadata": {},
   "source": [
    "Let's drop all the features having more than 70% of null values"
   ]
  },
  {
   "cell_type": "code",
   "execution_count": 156,
   "id": "7292c259-a3a3-416e-adf4-690974036adc",
   "metadata": {},
   "outputs": [],
   "source": [
    "data.dropna(thresh=len(data.index) * 0.7, axis=1, inplace=True)"
   ]
  },
  {
   "cell_type": "code",
   "execution_count": 157,
   "id": "cd3f3db8-5e1a-4f88-adf3-4cae45a76d62",
   "metadata": {},
   "outputs": [
    {
     "data": {
      "text/plain": [
       "(69999, 142)"
      ]
     },
     "execution_count": 157,
     "metadata": {},
     "output_type": "execute_result"
    }
   ],
   "source": [
    "data.shape"
   ]
  },
  {
   "cell_type": "markdown",
   "id": "6f058e2c-b14a-43c0-a1c8-d6f86614c051",
   "metadata": {
    "tags": []
   },
   "source": [
    "#### Dropping redundant feature"
   ]
  },
  {
   "cell_type": "markdown",
   "id": "7e458062-167b-4371-b6a6-0c34082c2205",
   "metadata": {},
   "source": [
    "##### Low variance feature"
   ]
  },
  {
   "cell_type": "code",
   "execution_count": 158,
   "id": "e6925419-5414-451a-96d0-539cb9bb0c4d",
   "metadata": {},
   "outputs": [
    {
     "data": {
      "text/plain": [
       "['circle_id',\n",
       " 'loc_og_t2o_mou',\n",
       " 'std_og_t2o_mou',\n",
       " 'loc_ic_t2o_mou',\n",
       " 'last_date_of_month_6',\n",
       " 'last_date_of_month_7',\n",
       " 'last_date_of_month_8',\n",
       " 'std_og_t2c_mou_6',\n",
       " 'std_og_t2c_mou_7',\n",
       " 'og_others_7',\n",
       " 'std_ic_t2o_mou_6',\n",
       " 'std_ic_t2o_mou_7',\n",
       " 'sachet_3g_6',\n",
       " 'sachet_3g_7',\n",
       " 'sachet_3g_8']"
      ]
     },
     "execution_count": 158,
     "metadata": {},
     "output_type": "execute_result"
    }
   ],
   "source": [
    "redundant_cols = []\n",
    "for col in data.columns:\n",
    "    counts = data[col].value_counts()\n",
    "    count_max = counts.iloc[0]\n",
    "    if count_max / len(data) * 100 > 95:\n",
    "        redundant_cols.append(col)\n",
    "redundant_cols"
   ]
  },
  {
   "cell_type": "code",
   "execution_count": 159,
   "id": "9f3a632b-b6fa-435e-98be-9afcaf102925",
   "metadata": {},
   "outputs": [
    {
     "data": {
      "text/plain": [
       "0.0    69297\n",
       "Name: loc_og_t2o_mou, dtype: int64"
      ]
     },
     "execution_count": 159,
     "metadata": {},
     "output_type": "execute_result"
    }
   ],
   "source": [
    "data.loc_og_t2o_mou.value_counts()"
   ]
  },
  {
   "cell_type": "code",
   "execution_count": 160,
   "id": "1bdaeb53-184a-40b7-81e5-91c9c855d001",
   "metadata": {},
   "outputs": [
    {
     "data": {
      "text/plain": [
       "109    69999\n",
       "Name: circle_id, dtype: int64"
      ]
     },
     "execution_count": 160,
     "metadata": {},
     "output_type": "execute_result"
    }
   ],
   "source": [
    "data.circle_id.value_counts()"
   ]
  },
  {
   "cell_type": "markdown",
   "id": "0b1072bd-1c49-4388-835f-662fd43aaba5",
   "metadata": {},
   "source": [
    "These values have very low variance and it does not contain any information, so lets drop these features"
   ]
  },
  {
   "cell_type": "code",
   "execution_count": 161,
   "id": "ef5d5f03-27e0-48fd-ae1e-74f50e7a8dcc",
   "metadata": {},
   "outputs": [],
   "source": [
    "data.drop(redundant_cols, axis=1, inplace=True)"
   ]
  },
  {
   "cell_type": "markdown",
   "id": "406a79f3-c1aa-48e8-b484-d992898b7470",
   "metadata": {},
   "source": [
    "##### Dropping id"
   ]
  },
  {
   "cell_type": "code",
   "execution_count": 162,
   "id": "206d2158-2fc4-4070-8f38-31499d3a54bc",
   "metadata": {},
   "outputs": [],
   "source": [
    "data.drop(\"id\", axis=1, inplace=True)"
   ]
  },
  {
   "cell_type": "code",
   "execution_count": 163,
   "id": "d5737e32-b137-4331-b4f0-2093ce68dacf",
   "metadata": {},
   "outputs": [
    {
     "name": "stdout",
     "output_type": "stream",
     "text": [
      "<class 'pandas.core.frame.DataFrame'>\n",
      "RangeIndex: 69999 entries, 0 to 69998\n",
      "Columns: 126 entries, arpu_6 to churn_probability\n",
      "dtypes: float64(100), int64(23), object(3)\n",
      "memory usage: 67.3+ MB\n"
     ]
    }
   ],
   "source": [
    "data.info()"
   ]
  },
  {
   "cell_type": "markdown",
   "id": "c8cdee76-bccc-4bf9-aa63-8400457102c7",
   "metadata": {},
   "source": [
    "#### Data transformation"
   ]
  },
  {
   "cell_type": "markdown",
   "id": "892ef15e-3036-481d-8e08-e3c8592279cf",
   "metadata": {
    "tags": []
   },
   "source": [
    "##### Lets have a look at the object types"
   ]
  },
  {
   "cell_type": "code",
   "execution_count": 164,
   "id": "356e5621-a504-49fe-b002-3bfeb5f20942",
   "metadata": {},
   "outputs": [
    {
     "data": {
      "text/plain": [
       "Index(['date_of_last_rech_6', 'date_of_last_rech_7', 'date_of_last_rech_8'], dtype='object')"
      ]
     },
     "execution_count": 164,
     "metadata": {},
     "output_type": "execute_result"
    }
   ],
   "source": [
    "data.select_dtypes('object').columns"
   ]
  },
  {
   "cell_type": "markdown",
   "id": "c7de6659-c10a-4256-8d4f-60f7f72a0040",
   "metadata": {},
   "source": [
    "These are all datetime fields."
   ]
  },
  {
   "cell_type": "code",
   "execution_count": 165,
   "id": "495f7381-ee6c-44ec-ad86-6a906d0f1483",
   "metadata": {},
   "outputs": [
    {
     "data": {
      "text/plain": [
       "2014.0    68898\n",
       "Name: date_of_last_rech_6, dtype: int64"
      ]
     },
     "execution_count": 165,
     "metadata": {},
     "output_type": "execute_result"
    }
   ],
   "source": [
    "pd.to_datetime(data['date_of_last_rech_6'], infer_datetime_format=True).dt.year.value_counts()"
   ]
  },
  {
   "cell_type": "code",
   "execution_count": 166,
   "id": "02f86c64-5e8b-46ae-97d0-71a177281a44",
   "metadata": {},
   "outputs": [
    {
     "data": {
      "text/plain": [
       "6.0    68898\n",
       "Name: date_of_last_rech_6, dtype: int64"
      ]
     },
     "execution_count": 166,
     "metadata": {},
     "output_type": "execute_result"
    }
   ],
   "source": [
    "pd.to_datetime(data['date_of_last_rech_6'], infer_datetime_format=True).dt.month.value_counts()"
   ]
  },
  {
   "cell_type": "markdown",
   "id": "bf40acec-6bd1-45a0-84c4-419e8b33b21d",
   "metadata": {},
   "source": [
    "For each of these fields month and year are the same, so we can remove them and just keep the day"
   ]
  },
  {
   "cell_type": "code",
   "execution_count": 167,
   "id": "fded8c94-c8c2-4e1f-b07c-a40559ed32d9",
   "metadata": {},
   "outputs": [],
   "source": [
    "data['date_of_last_rech_6'] = pd.to_datetime(data['date_of_last_rech_6'], infer_datetime_format=True).dt.day"
   ]
  },
  {
   "cell_type": "code",
   "execution_count": 168,
   "id": "f39b0b18-e8d2-4e9a-b34e-c6342c49fbcd",
   "metadata": {},
   "outputs": [],
   "source": [
    "data['date_of_last_rech_7'] = pd.to_datetime(data['date_of_last_rech_7'], infer_datetime_format=True).dt.day"
   ]
  },
  {
   "cell_type": "code",
   "execution_count": 169,
   "id": "98d52afa-dc15-41bb-bb45-a99a63735e6e",
   "metadata": {},
   "outputs": [],
   "source": [
    "data['date_of_last_rech_8'] = pd.to_datetime(data['date_of_last_rech_8'], infer_datetime_format=True).dt.day"
   ]
  },
  {
   "cell_type": "code",
   "execution_count": 170,
   "id": "993f2c90-b69c-46a0-93b9-648dda954d4f",
   "metadata": {},
   "outputs": [
    {
     "name": "stdout",
     "output_type": "stream",
     "text": [
      "<class 'pandas.core.frame.DataFrame'>\n",
      "RangeIndex: 69999 entries, 0 to 69998\n",
      "Columns: 126 entries, arpu_6 to churn_probability\n",
      "dtypes: float64(103), int64(23)\n",
      "memory usage: 67.3 MB\n"
     ]
    }
   ],
   "source": [
    "data.info()"
   ]
  },
  {
   "cell_type": "markdown",
   "id": "8188f731-11ae-4d96-bbed-a466c25b4f1a",
   "metadata": {},
   "source": [
    "##### Lets no replace all null values with median"
   ]
  },
  {
   "cell_type": "code",
   "execution_count": 171,
   "id": "c2078654-eff7-4dc0-a18f-1f99cb689edc",
   "metadata": {},
   "outputs": [],
   "source": [
    "data.fillna(data.median(), inplace=True)"
   ]
  },
  {
   "cell_type": "code",
   "execution_count": 172,
   "id": "f8675c8b-c5d3-4113-b1de-10b3e5c01c49",
   "metadata": {},
   "outputs": [
    {
     "data": {
      "text/plain": [
       "arpu_6               0.0\n",
       "total_ic_mou_6       0.0\n",
       "total_rech_num_7     0.0\n",
       "total_rech_num_6     0.0\n",
       "ic_others_8          0.0\n",
       "                    ... \n",
       "std_og_t2f_mou_7     0.0\n",
       "std_og_t2f_mou_6     0.0\n",
       "std_og_t2m_mou_8     0.0\n",
       "std_og_t2m_mou_7     0.0\n",
       "churn_probability    0.0\n",
       "Length: 126, dtype: float64"
      ]
     },
     "execution_count": 172,
     "metadata": {},
     "output_type": "execute_result"
    }
   ],
   "source": [
    "(data.isna().sum() * 100 / len(data)).sort_values(ascending = False)"
   ]
  },
  {
   "cell_type": "markdown",
   "id": "cbefa7d8-2fcf-4954-b57f-52cc655d2b5f",
   "metadata": {},
   "source": [
    "#### Feature engineering"
   ]
  },
  {
   "cell_type": "markdown",
   "id": "b0c80967-4f12-47fd-a13b-f3c4b5a8de92",
   "metadata": {},
   "source": [
    "##### Adding column of average revenue per user for all three months"
   ]
  },
  {
   "cell_type": "code",
   "execution_count": 173,
   "id": "6e739acd-66b0-43a4-9cda-31acece0742e",
   "metadata": {},
   "outputs": [],
   "source": [
    "data[\"arpu\"] = (data[\"arpu_6\"] + data[\"arpu_7\"] + data[\"arpu_8\"] ) / 3"
   ]
  },
  {
   "cell_type": "code",
   "execution_count": 174,
   "id": "e89f02dd-42db-4022-b37e-3f07a027b3ab",
   "metadata": {},
   "outputs": [
    {
     "data": {
      "text/plain": [
       "count    69999.000000\n",
       "mean       280.059701\n",
       "std        310.243414\n",
       "min         13.426667\n",
       "50%        199.662667\n",
       "90%        584.719133\n",
       "95%        773.942000\n",
       "97%        920.071487\n",
       "98%       1050.861547\n",
       "max      32140.182000\n",
       "Name: arpu, dtype: float64"
      ]
     },
     "execution_count": 174,
     "metadata": {},
     "output_type": "execute_result"
    }
   ],
   "source": [
    "data[\"arpu\"].describe([0.9, 0.95, 0.97, 0.98])"
   ]
  },
  {
   "cell_type": "markdown",
   "id": "859e205d-bc48-4d6f-bbd9-db35e9b70c69",
   "metadata": {},
   "source": [
    "We can see that there are some really high value customers"
   ]
  },
  {
   "cell_type": "markdown",
   "id": "a7eb8131-6fdf-481f-b326-759a5298e91c",
   "metadata": {},
   "source": [
    "##### Adding column of total recharge done by customer for all three months"
   ]
  },
  {
   "cell_type": "code",
   "execution_count": 175,
   "id": "2dc2d5bc-575f-4cd1-8a9b-31eddd070aed",
   "metadata": {},
   "outputs": [],
   "source": [
    "data[\"total_rech_amt\"] = data[\"total_rech_amt_6\"] + data[\"total_rech_amt_7\"] + data[\"total_rech_amt_8\"]"
   ]
  },
  {
   "cell_type": "code",
   "execution_count": 176,
   "id": "75b5ec55-7eb5-481c-b179-86ae6f1e55d8",
   "metadata": {},
   "outputs": [
    {
     "data": {
      "text/plain": [
       "count     69999.000000\n",
       "mean        974.362505\n",
       "std        1106.099526\n",
       "min           0.000000\n",
       "50%         692.000000\n",
       "90%        2052.000000\n",
       "95%        2724.100000\n",
       "97%        3238.000000\n",
       "98%        3708.040000\n",
       "max      120845.000000\n",
       "Name: total_rech_amt, dtype: float64"
      ]
     },
     "execution_count": 176,
     "metadata": {},
     "output_type": "execute_result"
    }
   ],
   "source": [
    "data[\"total_rech_amt\"].describe([0.9, 0.95, 0.97, 0.98])"
   ]
  },
  {
   "cell_type": "markdown",
   "id": "bb41166f-cc0b-4089-ab22-5cbe4cb5666a",
   "metadata": {},
   "source": [
    "##### Adding total data usags"
   ]
  },
  {
   "cell_type": "code",
   "execution_count": 177,
   "id": "b5c59c4d-0dae-406f-8048-fd31c59e5a74",
   "metadata": {},
   "outputs": [],
   "source": [
    "data[\"total_vol_2g_3g\"] = data[\"vol_2g_mb_6\"] + data[\"vol_2g_mb_7\"] + data[\"vol_2g_mb_8\"] + data[\"vol_3g_mb_6\"] + data[\"vol_3g_mb_7\"] + data[\"vol_3g_mb_8\"]"
   ]
  },
  {
   "cell_type": "markdown",
   "id": "d303df08-e2bd-48fd-a44a-82a57f9e21ea",
   "metadata": {},
   "source": [
    "##### Adding total min of usage"
   ]
  },
  {
   "cell_type": "code",
   "execution_count": 178,
   "id": "4f0c902e-22fe-4a96-837a-5076c4910afc",
   "metadata": {},
   "outputs": [],
   "source": [
    "data[\"total_mou\"] = data[\"onnet_mou_6\"] + data[\"onnet_mou_7\"] + data[\"onnet_mou_8\"] + data[\"offnet_mou_6\"] + data[\"offnet_mou_7\"] + data[\"offnet_mou_8\"]"
   ]
  },
  {
   "cell_type": "markdown",
   "id": "26a1379e-3d65-4faa-b134-400342fcbdbc",
   "metadata": {},
   "source": [
    "##### Create High Value Customer data frame based on above two columns"
   ]
  },
  {
   "cell_type": "code",
   "execution_count": 179,
   "id": "9147a5ff-2d16-436d-9f6f-255410ce34d4",
   "metadata": {},
   "outputs": [],
   "source": [
    "# data_hvc = data[ \n",
    "#     ( ( data[\"arpu\"] >= data[\"arpu\"].quantile(0.70) ) & ( data[\"arpu\"] < data[\"arpu\"].quantile(0.999) )) | \n",
    "#     ( ( data[\"total_rech_amt\"] >= data[\"total_rech_amt\"].quantile(0.70) ) & \n",
    "#      ( data[\"total_rech_amt\"] < data[\"total_rech_amt\"].quantile(0.999) ) ) ]\n",
    "\n",
    "data = data[ \n",
    "    (  data[\"arpu\"] < data[\"arpu\"].quantile(0.99) ) | \n",
    "    ( data[\"total_rech_amt\"] < data[\"total_rech_amt\"].quantile(0.99) ) ]"
   ]
  },
  {
   "cell_type": "code",
   "execution_count": 180,
   "id": "bbefea04-0ed7-43f8-92b9-8d09d42982da",
   "metadata": {},
   "outputs": [
    {
     "data": {
      "text/plain": [
       "(69363, 130)"
      ]
     },
     "execution_count": 180,
     "metadata": {},
     "output_type": "execute_result"
    }
   ],
   "source": [
    "data.shape"
   ]
  },
  {
   "cell_type": "markdown",
   "id": "f59fd9e1-5f14-476f-8e7f-d5096c3a3f2c",
   "metadata": {},
   "source": [
    "### 2. EDA"
   ]
  },
  {
   "cell_type": "code",
   "execution_count": 181,
   "id": "bd02bbe2-ec4b-4091-b18a-333bd3e360f3",
   "metadata": {},
   "outputs": [
    {
     "name": "stdout",
     "output_type": "stream",
     "text": [
      "<class 'pandas.core.frame.DataFrame'>\n",
      "Int64Index: 69363 entries, 0 to 69998\n",
      "Columns: 130 entries, arpu_6 to total_mou\n",
      "dtypes: float64(106), int64(24)\n",
      "memory usage: 69.3 MB\n"
     ]
    }
   ],
   "source": [
    "data.info()"
   ]
  },
  {
   "cell_type": "markdown",
   "id": "ff1a56d9-0869-4183-a49f-8e97cce9aff0",
   "metadata": {},
   "source": [
    "##### Target variable distribution"
   ]
  },
  {
   "cell_type": "code",
   "execution_count": 182,
   "id": "eb7288a3-408b-4b59-9fe4-1aae9c91f903",
   "metadata": {},
   "outputs": [
    {
     "data": {
      "text/plain": [
       "0    62271\n",
       "1     7092\n",
       "Name: churn_probability, dtype: int64"
      ]
     },
     "execution_count": 182,
     "metadata": {},
     "output_type": "execute_result"
    }
   ],
   "source": [
    "data.churn_probability.value_counts()"
   ]
  },
  {
   "cell_type": "code",
   "execution_count": 183,
   "id": "60b433ed-0d27-44a1-bc81-c6b33313daa1",
   "metadata": {},
   "outputs": [
    {
     "data": {
      "image/png": "[encoded data removed]",
      "text/plain": [
       "<Figure size 432x288 with 1 Axes>"
      ]
     },
     "metadata": {},
     "output_type": "display_data"
    }
   ],
   "source": [
    "sns.barplot(data=data[\"churn_probability\"].value_counts(normalize=True).reset_index(),\n",
    "            x=\"index\", y=\"churn_probability\")\n",
    "plt.xlabel(\"Churn probability\")\n",
    "plt.ylabel(\"Proportion\")\n",
    "plt.show()"
   ]
  },
  {
   "cell_type": "markdown",
   "id": "b846a46f-f234-454c-bf00-06d66ce51eb2",
   "metadata": {},
   "source": [
    "The distribution of churn and not churn is clearly not equally distributed"
   ]
  },
  {
   "cell_type": "markdown",
   "id": "6d24e607-6cfd-4ed4-a51d-ae34fff0df35",
   "metadata": {},
   "source": [
    "##### Relationship of target variable and total_rech_amt"
   ]
  },
  {
   "cell_type": "code",
   "execution_count": 184,
   "id": "6092bd64-06b8-4578-aa21-3d7e4c209a53",
   "metadata": {},
   "outputs": [
    {
     "data": {
      "text/plain": [
       "<AxesSubplot:xlabel='churn_probability', ylabel='total_rech_amt'>"
      ]
     },
     "execution_count": 184,
     "metadata": {},
     "output_type": "execute_result"
    },
    {
     "data": {
      "image/png": "[encoded data removed]",
      "text/plain": [
       "<Figure size 432x288 with 1 Axes>"
      ]
     },
     "metadata": {},
     "output_type": "display_data"
    }
   ],
   "source": [
    "sns.boxplot(data=data, x=\"churn_probability\", y=\"total_rech_amt\")"
   ]
  },
  {
   "cell_type": "code",
   "execution_count": 185,
   "id": "a0ea837c-5a3f-4924-bad8-1fd1ada916d9",
   "metadata": {},
   "outputs": [
    {
     "data": {
      "text/plain": [
       "<AxesSubplot:xlabel='churn_probability', ylabel='total_rech_amt_8'>"
      ]
     },
     "execution_count": 185,
     "metadata": {},
     "output_type": "execute_result"
    },
    {
     "data": {
      "image/png": "[encoded data removed]",
      "text/plain": [
       "<Figure size 432x288 with 1 Axes>"
      ]
     },
     "metadata": {},
     "output_type": "display_data"
    }
   ],
   "source": [
    "sns.boxplot(data=data, x=\"churn_probability\", y=\"total_rech_amt_8\")"
   ]
  },
  {
   "cell_type": "code",
   "execution_count": 186,
   "id": "69556cdb-d85e-4430-a80c-762838283c73",
   "metadata": {},
   "outputs": [
    {
     "data": {
      "text/plain": [
       "<AxesSubplot:xlabel='churn_probability', ylabel='total_rech_amt_7'>"
      ]
     },
     "execution_count": 186,
     "metadata": {},
     "output_type": "execute_result"
    },
    {
     "data": {
      "image/png": "[encoded data removed]",
      "text/plain": [
       "<Figure size 432x288 with 1 Axes>"
      ]
     },
     "metadata": {},
     "output_type": "display_data"
    }
   ],
   "source": [
    "sns.boxplot(data=data, x=\"churn_probability\", y=\"total_rech_amt_7\")"
   ]
  },
  {
   "cell_type": "code",
   "execution_count": 187,
   "id": "a8483a7c-6e7f-40bf-af38-ea40f164f4c5",
   "metadata": {},
   "outputs": [
    {
     "data": {
      "text/plain": [
       "<AxesSubplot:xlabel='churn_probability', ylabel='total_rech_amt_6'>"
      ]
     },
     "execution_count": 187,
     "metadata": {},
     "output_type": "execute_result"
    },
    {
     "data": {
      "image/png": "[encoded data removed]",
      "text/plain": [
       "<Figure size 432x288 with 1 Axes>"
      ]
     },
     "metadata": {},
     "output_type": "display_data"
    }
   ],
   "source": [
    "sns.boxplot(data=data, x=\"churn_probability\", y=\"total_rech_amt_6\")"
   ]
  },
  {
   "cell_type": "markdown",
   "id": "c55fc3fd-779f-4297-aee6-63938d2a0bb5",
   "metadata": {},
   "source": [
    "We can see from here that if customer is recharging less consecutively from june to july to august he/she is more likely to churn"
   ]
  },
  {
   "cell_type": "markdown",
   "id": "de9e32b5-7018-4ad9-a287-fa6f441d217f",
   "metadata": {},
   "source": [
    "##### Relationship of target variable and arpu"
   ]
  },
  {
   "cell_type": "code",
   "execution_count": 188,
   "id": "db25b2a4-5cc3-4e0b-b766-3ab3251e4b94",
   "metadata": {},
   "outputs": [
    {
     "data": {
      "text/plain": [
       "<AxesSubplot:xlabel='churn_probability', ylabel='arpu'>"
      ]
     },
     "execution_count": 188,
     "metadata": {},
     "output_type": "execute_result"
    },
    {
     "data": {
      "image/png": "[encoded data removed]",
      "text/plain": [
       "<Figure size 432x288 with 1 Axes>"
      ]
     },
     "metadata": {},
     "output_type": "display_data"
    }
   ],
   "source": [
    "sns.boxplot(data=data, x=\"churn_probability\", y=\"arpu\")"
   ]
  },
  {
   "cell_type": "code",
   "execution_count": 189,
   "id": "744ff597-6410-4138-9583-df8fc55ce728",
   "metadata": {},
   "outputs": [
    {
     "data": {
      "text/plain": [
       "<AxesSubplot:xlabel='churn_probability', ylabel='arpu_8'>"
      ]
     },
     "execution_count": 189,
     "metadata": {},
     "output_type": "execute_result"
    },
    {
     "data": {
      "image/png": "[encoded data removed]",
      "text/plain": [
       "<Figure size 432x288 with 1 Axes>"
      ]
     },
     "metadata": {},
     "output_type": "display_data"
    }
   ],
   "source": [
    "sns.boxplot(data=data, x=\"churn_probability\", y=\"arpu_8\")"
   ]
  },
  {
   "cell_type": "code",
   "execution_count": 190,
   "id": "90b5288d-a108-4361-9b38-0017a4ab5b15",
   "metadata": {},
   "outputs": [
    {
     "data": {
      "text/plain": [
       "<AxesSubplot:xlabel='churn_probability', ylabel='arpu_7'>"
      ]
     },
     "execution_count": 190,
     "metadata": {},
     "output_type": "execute_result"
    },
    {
     "data": {
      "image/png": "[encoded data removed]",
      "text/plain": [
       "<Figure size 432x288 with 1 Axes>"
      ]
     },
     "metadata": {},
     "output_type": "display_data"
    }
   ],
   "source": [
    "sns.boxplot(data=data, x=\"churn_probability\", y=\"arpu_7\")"
   ]
  },
  {
   "cell_type": "code",
   "execution_count": 191,
   "id": "45fac129-59d7-44c7-9687-04bc82acaaa6",
   "metadata": {},
   "outputs": [
    {
     "data": {
      "text/plain": [
       "<AxesSubplot:xlabel='churn_probability', ylabel='arpu_6'>"
      ]
     },
     "execution_count": 191,
     "metadata": {},
     "output_type": "execute_result"
    },
    {
     "data": {
      "image/png": "[encoded data removed]",
      "text/plain": [
       "<Figure size 432x288 with 1 Axes>"
      ]
     },
     "metadata": {},
     "output_type": "display_data"
    }
   ],
   "source": [
    "sns.boxplot(data=data, x=\"churn_probability\", y=\"arpu_6\")"
   ]
  },
  {
   "cell_type": "markdown",
   "id": "e506c4b6-5858-4abf-b02c-6550c317f660",
   "metadata": {},
   "source": [
    "Similarly if the revenue of the customer is descreasing month over month, she/he is likely to churn"
   ]
  },
  {
   "cell_type": "markdown",
   "id": "0be72247-3345-4f56-bf30-df307ff1f47a",
   "metadata": {},
   "source": [
    "##### Target variable with data volume consumed"
   ]
  },
  {
   "cell_type": "code",
   "execution_count": 192,
   "id": "14f5f017-88bc-4491-9da2-c4af863b22a0",
   "metadata": {},
   "outputs": [
    {
     "data": {
      "text/plain": [
       "<AxesSubplot:xlabel='churn_probability', ylabel='total_vol_2g_3g'>"
      ]
     },
     "execution_count": 192,
     "metadata": {},
     "output_type": "execute_result"
    },
    {
     "data": {
      "image/png": "[encoded data removed]",
      "text/plain": [
       "<Figure size 576x432 with 1 Axes>"
      ]
     },
     "metadata": {},
     "output_type": "display_data"
    }
   ],
   "source": [
    "plt.figure(figsize=(8, 6))\n",
    "sns.boxplot(data=data, x=\"churn_probability\", y=\"total_vol_2g_3g\")"
   ]
  },
  {
   "cell_type": "markdown",
   "id": "c00b26a4-0702-4262-b60a-4b68fec8e8da",
   "metadata": {},
   "source": [
    "Trend is low data consumption customers are likely to churn"
   ]
  },
  {
   "cell_type": "markdown",
   "id": "80978be4-9b4a-4799-82da-46a0b69a3274",
   "metadata": {},
   "source": [
    "##### Churn vs last recharge"
   ]
  },
  {
   "cell_type": "code",
   "execution_count": 193,
   "id": "3da7b623-b48e-4459-bfd8-efa6d5bef5ed",
   "metadata": {},
   "outputs": [
    {
     "data": {
      "text/plain": [
       "<AxesSubplot:xlabel='churn_probability', ylabel='date_of_last_rech_8'>"
      ]
     },
     "execution_count": 193,
     "metadata": {},
     "output_type": "execute_result"
    },
    {
     "data": {
      "image/png": "[encoded data removed]",
      "text/plain": [
       "<Figure size 432x288 with 1 Axes>"
      ]
     },
     "metadata": {},
     "output_type": "display_data"
    }
   ],
   "source": [
    "sns.boxplot(data=data, x=\"churn_probability\", y=\"date_of_last_rech_8\")"
   ]
  },
  {
   "cell_type": "markdown",
   "id": "e1e25153-2ceb-4e79-805a-c74302a22480",
   "metadata": {},
   "source": [
    "Not a significance difference, but if a customer has not recharged lately, then she/he is likely to churn"
   ]
  },
  {
   "cell_type": "markdown",
   "id": "6f67fe15-781e-444f-b188-0b299c91f6fa",
   "metadata": {},
   "source": [
    "##### Target and age on network"
   ]
  },
  {
   "cell_type": "code",
   "execution_count": 194,
   "id": "f91f1397-d08d-42aa-911f-3f3c17ace00a",
   "metadata": {},
   "outputs": [
    {
     "data": {
      "text/plain": [
       "<AxesSubplot:xlabel='churn_probability', ylabel='aon'>"
      ]
     },
     "execution_count": 194,
     "metadata": {},
     "output_type": "execute_result"
    },
    {
     "data": {
      "image/png": "[encoded data removed]",
      "text/plain": [
       "<Figure size 432x288 with 1 Axes>"
      ]
     },
     "metadata": {},
     "output_type": "display_data"
    }
   ],
   "source": [
    "sns.boxplot(data=data, x=\"churn_probability\", y=\"aon\")"
   ]
  },
  {
   "cell_type": "markdown",
   "id": "e3b8f2b6-9df8-428b-9fac-b2d7d624ac95",
   "metadata": {},
   "source": [
    "Here we can see if user age on the network is more, he/she is less likely to churn"
   ]
  },
  {
   "cell_type": "markdown",
   "id": "c51586b0-706f-47ca-8950-b963239fc26b",
   "metadata": {},
   "source": [
    "##### Churn vs min usages"
   ]
  },
  {
   "cell_type": "code",
   "execution_count": 195,
   "id": "4c78a488-01bb-40f1-94a3-682bb5ef0ef7",
   "metadata": {},
   "outputs": [
    {
     "data": {
      "text/plain": [
       "<AxesSubplot:xlabel='churn_probability', ylabel='total_mou'>"
      ]
     },
     "execution_count": 195,
     "metadata": {},
     "output_type": "execute_result"
    },
    {
     "data": {
      "image/png": "[encoded data removed]",
      "text/plain": [
       "<Figure size 432x288 with 1 Axes>"
      ]
     },
     "metadata": {},
     "output_type": "display_data"
    }
   ],
   "source": [
    "sns.boxplot(data=data, x=\"churn_probability\", y=\"total_mou\")"
   ]
  },
  {
   "cell_type": "markdown",
   "id": "8aa10de4-bedc-4122-b565-e3550733b223",
   "metadata": {},
   "source": [
    "We can see much difference, let see in details month wise"
   ]
  },
  {
   "cell_type": "code",
   "execution_count": 196,
   "id": "9fd61245-b151-4f9c-9ec8-9753a1c1ff54",
   "metadata": {},
   "outputs": [
    {
     "data": {
      "text/plain": [
       "<AxesSubplot:xlabel='churn_probability'>"
      ]
     },
     "execution_count": 196,
     "metadata": {},
     "output_type": "execute_result"
    },
    {
     "data": {
      "image/png": "[encoded data removed]",
      "text/plain": [
       "<Figure size 432x288 with 1 Axes>"
      ]
     },
     "metadata": {},
     "output_type": "display_data"
    }
   ],
   "source": [
    "sns.boxplot(data=data, x=\"churn_probability\", y=data[\"onnet_mou_6\"] + data[\"offnet_mou_6\"])"
   ]
  },
  {
   "cell_type": "code",
   "execution_count": 197,
   "id": "2bd7b323-0613-491d-802c-d1db9eccbf84",
   "metadata": {},
   "outputs": [
    {
     "data": {
      "text/plain": [
       "<AxesSubplot:xlabel='churn_probability'>"
      ]
     },
     "execution_count": 197,
     "metadata": {},
     "output_type": "execute_result"
    },
    {
     "data": {
      "image/png": "[encoded data removed]",
      "text/plain": [
       "<Figure size 432x288 with 1 Axes>"
      ]
     },
     "metadata": {},
     "output_type": "display_data"
    }
   ],
   "source": [
    "sns.boxplot(data=data, x=\"churn_probability\", y=data[\"onnet_mou_7\"] + data[\"offnet_mou_7\"])"
   ]
  },
  {
   "cell_type": "code",
   "execution_count": 198,
   "id": "98d5c688-a481-46c6-9233-b6bca6f3bb77",
   "metadata": {},
   "outputs": [
    {
     "data": {
      "text/plain": [
       "<AxesSubplot:xlabel='churn_probability'>"
      ]
     },
     "execution_count": 198,
     "metadata": {},
     "output_type": "execute_result"
    },
    {
     "data": {
      "image/png": "[encoded data removed]",
      "text/plain": [
       "<Figure size 432x288 with 1 Axes>"
      ]
     },
     "metadata": {},
     "output_type": "display_data"
    }
   ],
   "source": [
    "sns.boxplot(data=data, x=\"churn_probability\", y=data[\"onnet_mou_8\"] + data[\"offnet_mou_8\"])"
   ]
  },
  {
   "cell_type": "markdown",
   "id": "cce04de7-77e1-494e-959f-cc4301b126ec",
   "metadata": {},
   "source": [
    "Here we can see that if usage is declining the customer is likely to churn"
   ]
  },
  {
   "cell_type": "markdown",
   "id": "724aa8f3-f591-4840-b043-a5fb9b16a886",
   "metadata": {},
   "source": [
    "**Performing EDA gave us following insights**\n",
    "- If customer is recharging less month on month he/she is likely to churn\n",
    "- If customer's revenue is decreasing month on month he/she is likely to churn\n",
    "- Customer consuming less internet data is likely to churn\n",
    "- If is a customer has not done recharge lately, he/she might end up churning\n",
    "- Customer who is using the network for long enough is not likely to churn\n",
    "- If total voice call usage is declining month over month customer will likely churn"
   ]
  },
  {
   "cell_type": "markdown",
   "id": "8ad91952-4627-416f-a582-9a74f9cfa9de",
   "metadata": {},
   "source": [
    "## 3. Data preparation"
   ]
  },
  {
   "cell_type": "markdown",
   "id": "e030efe2-a496-4eb8-b625-0c7ed72c4810",
   "metadata": {},
   "source": [
    "##### Checking for correlation"
   ]
  },
  {
   "cell_type": "code",
   "execution_count": 199,
   "id": "51f7c6be-0509-4a11-a60c-49e688b17952",
   "metadata": {},
   "outputs": [
    {
     "data": {
      "text/plain": [
       "total_ic_mou_8    loc_ic_t2m_mou_7    0.602712\n",
       "std_og_t2m_mou_8  offnet_mou_7        0.605349\n",
       "total_vol_2g_3g   jul_vbc_3g          0.605787\n",
       "std_ic_mou_6      std_ic_t2m_mou_7    0.606345\n",
       "monthly_3g_8      vol_3g_mb_8         0.607377\n",
       "                                        ...   \n",
       "total_mou         total_og_mou_7      0.920315\n",
       "total_rech_amt_6  arpu_6              0.927123\n",
       "total_rech_amt_7  arpu_7              0.928217\n",
       "total_rech_amt_8  arpu_8              0.932994\n",
       "total_rech_amt    arpu                0.979842\n",
       "Length: 229, dtype: float64"
      ]
     },
     "execution_count": 199,
     "metadata": {},
     "output_type": "execute_result"
    }
   ],
   "source": [
    "cor = data.corr()\n",
    "cor.loc[:,:] = np.tril(cor, k=-1)\n",
    "cor = cor.stack()\n",
    "cor[(cor > 0.60) | (cor < -0.60)].sort_values()"
   ]
  },
  {
   "cell_type": "markdown",
   "id": "522d15f7-53d5-4e58-9f22-70ffb4d0c7fd",
   "metadata": {},
   "source": [
    "There are quiet a few number of correlated features but we'll not remove those, as we'll go ahead and do PCA"
   ]
  },
  {
   "cell_type": "code",
   "execution_count": 200,
   "id": "81dd5bff-27df-4b28-bfa4-b5be9e00ce92",
   "metadata": {},
   "outputs": [
    {
     "name": "stdout",
     "output_type": "stream",
     "text": [
      "<class 'pandas.core.frame.DataFrame'>\n",
      "Int64Index: 69363 entries, 0 to 69998\n",
      "Columns: 130 entries, arpu_6 to total_mou\n",
      "dtypes: float64(106), int64(24)\n",
      "memory usage: 71.3 MB\n"
     ]
    }
   ],
   "source": [
    "data.info()"
   ]
  },
  {
   "cell_type": "markdown",
   "id": "f6a03059-68c0-49bb-a8e9-e47a562908aa",
   "metadata": {},
   "source": [
    "#### Splitting the data"
   ]
  },
  {
   "cell_type": "code",
   "execution_count": 201,
   "id": "17cb3686-10fa-487d-8a10-4105781405fe",
   "metadata": {},
   "outputs": [],
   "source": [
    "y = data.pop(\"churn_probability\")\n",
    "X = data"
   ]
  },
  {
   "cell_type": "code",
   "execution_count": 202,
   "id": "cf3a540a-6f6f-446a-b32b-71206e9366d0",
   "metadata": {},
   "outputs": [],
   "source": [
    "X_train, X_test, y_train, y_test = train_test_split(X, y, test_size=0.3, train_size=0.7, \n",
    "                                                    random_state=1)"
   ]
  },
  {
   "cell_type": "code",
   "execution_count": 203,
   "id": "c19dff12-6d6c-4e41-a15e-bbf95a806a03",
   "metadata": {},
   "outputs": [],
   "source": [
    "scaler = StandardScaler()"
   ]
  },
  {
   "cell_type": "code",
   "execution_count": 204,
   "id": "79ba7883-697c-49a4-b504-adc504d4566f",
   "metadata": {},
   "outputs": [],
   "source": [
    "X_train = scaler.fit_transform(X_train)"
   ]
  },
  {
   "cell_type": "code",
   "execution_count": 205,
   "id": "32ef5d44-4fab-4ca8-ad3c-c1d121f1f7f4",
   "metadata": {},
   "outputs": [
    {
     "data": {
      "text/html": [
       "<div>\n",
       "<style scoped>\n",
       "    .dataframe tbody tr th:only-of-type {\n",
       "        vertical-align: middle;\n",
       "    }\n",
       "\n",
       "    .dataframe tbody tr th {\n",
       "        vertical-align: top;\n",
       "    }\n",
       "\n",
       "    .dataframe thead th {\n",
       "        text-align: right;\n",
       "    }\n",
       "</style>\n",
       "<table border=\"1\" class=\"dataframe\">\n",
       "  <thead>\n",
       "    <tr style=\"text-align: right;\">\n",
       "      <th></th>\n",
       "      <th>0</th>\n",
       "      <th>1</th>\n",
       "      <th>2</th>\n",
       "      <th>3</th>\n",
       "      <th>4</th>\n",
       "      <th>5</th>\n",
       "      <th>6</th>\n",
       "      <th>7</th>\n",
       "      <th>8</th>\n",
       "      <th>9</th>\n",
       "      <th>...</th>\n",
       "      <th>119</th>\n",
       "      <th>120</th>\n",
       "      <th>121</th>\n",
       "      <th>122</th>\n",
       "      <th>123</th>\n",
       "      <th>124</th>\n",
       "      <th>125</th>\n",
       "      <th>126</th>\n",
       "      <th>127</th>\n",
       "      <th>128</th>\n",
       "    </tr>\n",
       "  </thead>\n",
       "  <tbody>\n",
       "    <tr>\n",
       "      <th>0</th>\n",
       "      <td>-0.609186</td>\n",
       "      <td>-0.362384</td>\n",
       "      <td>-0.712811</td>\n",
       "      <td>-0.446780</td>\n",
       "      <td>-0.402040</td>\n",
       "      <td>-0.389994</td>\n",
       "      <td>-0.506614</td>\n",
       "      <td>-0.387986</td>\n",
       "      <td>-0.555831</td>\n",
       "      <td>-0.167675</td>\n",
       "      <td>...</td>\n",
       "      <td>-0.208292</td>\n",
       "      <td>-0.219783</td>\n",
       "      <td>0.266391</td>\n",
       "      <td>-0.262807</td>\n",
       "      <td>-0.251644</td>\n",
       "      <td>-0.237225</td>\n",
       "      <td>-0.653306</td>\n",
       "      <td>-0.650741</td>\n",
       "      <td>0.016442</td>\n",
       "      <td>-0.661897</td>\n",
       "    </tr>\n",
       "    <tr>\n",
       "      <th>1</th>\n",
       "      <td>2.540099</td>\n",
       "      <td>1.324322</td>\n",
       "      <td>-1.016001</td>\n",
       "      <td>0.097347</td>\n",
       "      <td>-0.201865</td>\n",
       "      <td>-0.445115</td>\n",
       "      <td>5.351857</td>\n",
       "      <td>2.629311</td>\n",
       "      <td>-0.650444</td>\n",
       "      <td>-0.167675</td>\n",
       "      <td>...</td>\n",
       "      <td>-0.208292</td>\n",
       "      <td>-0.219783</td>\n",
       "      <td>-0.637367</td>\n",
       "      <td>-0.262807</td>\n",
       "      <td>-0.251644</td>\n",
       "      <td>-0.237225</td>\n",
       "      <td>1.097822</td>\n",
       "      <td>1.061505</td>\n",
       "      <td>-0.369202</td>\n",
       "      <td>1.681367</td>\n",
       "    </tr>\n",
       "    <tr>\n",
       "      <th>2</th>\n",
       "      <td>-0.465146</td>\n",
       "      <td>-0.627772</td>\n",
       "      <td>-0.713138</td>\n",
       "      <td>-0.430023</td>\n",
       "      <td>-0.420893</td>\n",
       "      <td>-0.444454</td>\n",
       "      <td>-0.508305</td>\n",
       "      <td>-0.618367</td>\n",
       "      <td>-0.390678</td>\n",
       "      <td>-0.167675</td>\n",
       "      <td>...</td>\n",
       "      <td>-0.208292</td>\n",
       "      <td>-0.219783</td>\n",
       "      <td>-0.305674</td>\n",
       "      <td>-0.262807</td>\n",
       "      <td>-0.251644</td>\n",
       "      <td>-0.237225</td>\n",
       "      <td>-0.699838</td>\n",
       "      <td>-0.709084</td>\n",
       "      <td>-0.056325</td>\n",
       "      <td>-0.692579</td>\n",
       "    </tr>\n",
       "    <tr>\n",
       "      <th>3</th>\n",
       "      <td>-0.281760</td>\n",
       "      <td>-0.035883</td>\n",
       "      <td>-0.303731</td>\n",
       "      <td>-0.418607</td>\n",
       "      <td>-0.410750</td>\n",
       "      <td>-0.384743</td>\n",
       "      <td>-0.144031</td>\n",
       "      <td>0.029265</td>\n",
       "      <td>-0.162652</td>\n",
       "      <td>-0.167675</td>\n",
       "      <td>...</td>\n",
       "      <td>-0.208292</td>\n",
       "      <td>-0.219783</td>\n",
       "      <td>-0.195460</td>\n",
       "      <td>-0.262807</td>\n",
       "      <td>-0.251644</td>\n",
       "      <td>-0.237225</td>\n",
       "      <td>-0.241326</td>\n",
       "      <td>-0.271510</td>\n",
       "      <td>-0.369202</td>\n",
       "      <td>-0.364378</td>\n",
       "    </tr>\n",
       "    <tr>\n",
       "      <th>4</th>\n",
       "      <td>-0.719345</td>\n",
       "      <td>-0.650584</td>\n",
       "      <td>-0.516875</td>\n",
       "      <td>-0.452672</td>\n",
       "      <td>-0.437272</td>\n",
       "      <td>-0.424036</td>\n",
       "      <td>-0.494810</td>\n",
       "      <td>-0.380527</td>\n",
       "      <td>-0.264183</td>\n",
       "      <td>-0.167675</td>\n",
       "      <td>...</td>\n",
       "      <td>-0.208292</td>\n",
       "      <td>-0.219783</td>\n",
       "      <td>2.177824</td>\n",
       "      <td>-0.262807</td>\n",
       "      <td>-0.251644</td>\n",
       "      <td>-0.237225</td>\n",
       "      <td>-0.730587</td>\n",
       "      <td>-0.627911</td>\n",
       "      <td>-0.369202</td>\n",
       "      <td>-0.602894</td>\n",
       "    </tr>\n",
       "  </tbody>\n",
       "</table>\n",
       "<p>5 rows × 129 columns</p>\n",
       "</div>"
      ],
      "text/plain": [
       "        0         1         2         3         4         5         6    \\\n",
       "0 -0.609186 -0.362384 -0.712811 -0.446780 -0.402040 -0.389994 -0.506614   \n",
       "1  2.540099  1.324322 -1.016001  0.097347 -0.201865 -0.445115  5.351857   \n",
       "2 -0.465146 -0.627772 -0.713138 -0.430023 -0.420893 -0.444454 -0.508305   \n",
       "3 -0.281760 -0.035883 -0.303731 -0.418607 -0.410750 -0.384743 -0.144031   \n",
       "4 -0.719345 -0.650584 -0.516875 -0.452672 -0.437272 -0.424036 -0.494810   \n",
       "\n",
       "        7         8         9    ...       119       120       121       122  \\\n",
       "0 -0.387986 -0.555831 -0.167675  ... -0.208292 -0.219783  0.266391 -0.262807   \n",
       "1  2.629311 -0.650444 -0.167675  ... -0.208292 -0.219783 -0.637367 -0.262807   \n",
       "2 -0.618367 -0.390678 -0.167675  ... -0.208292 -0.219783 -0.305674 -0.262807   \n",
       "3  0.029265 -0.162652 -0.167675  ... -0.208292 -0.219783 -0.195460 -0.262807   \n",
       "4 -0.380527 -0.264183 -0.167675  ... -0.208292 -0.219783  2.177824 -0.262807   \n",
       "\n",
       "        123       124       125       126       127       128  \n",
       "0 -0.251644 -0.237225 -0.653306 -0.650741  0.016442 -0.661897  \n",
       "1 -0.251644 -0.237225  1.097822  1.061505 -0.369202  1.681367  \n",
       "2 -0.251644 -0.237225 -0.699838 -0.709084 -0.056325 -0.692579  \n",
       "3 -0.251644 -0.237225 -0.241326 -0.271510 -0.369202 -0.364378  \n",
       "4 -0.251644 -0.237225 -0.730587 -0.627911 -0.369202 -0.602894  \n",
       "\n",
       "[5 rows x 129 columns]"
      ]
     },
     "execution_count": 205,
     "metadata": {},
     "output_type": "execute_result"
    }
   ],
   "source": [
    "pd.DataFrame(X_train).head()"
   ]
  },
  {
   "cell_type": "code",
   "execution_count": 206,
   "id": "e1d19cdc-d47b-4c0a-9d54-9f155d82fdff",
   "metadata": {},
   "outputs": [],
   "source": [
    "X_test = scaler.transform(X_test)"
   ]
  },
  {
   "cell_type": "code",
   "execution_count": 207,
   "id": "f62e20c1-3c84-4a5b-a7c6-2c6b71ddcfeb",
   "metadata": {},
   "outputs": [
    {
     "data": {
      "text/html": [
       "<div>\n",
       "<style scoped>\n",
       "    .dataframe tbody tr th:only-of-type {\n",
       "        vertical-align: middle;\n",
       "    }\n",
       "\n",
       "    .dataframe tbody tr th {\n",
       "        vertical-align: top;\n",
       "    }\n",
       "\n",
       "    .dataframe thead th {\n",
       "        text-align: right;\n",
       "    }\n",
       "</style>\n",
       "<table border=\"1\" class=\"dataframe\">\n",
       "  <thead>\n",
       "    <tr style=\"text-align: right;\">\n",
       "      <th></th>\n",
       "      <th>0</th>\n",
       "      <th>1</th>\n",
       "      <th>2</th>\n",
       "      <th>3</th>\n",
       "      <th>4</th>\n",
       "      <th>5</th>\n",
       "      <th>6</th>\n",
       "      <th>7</th>\n",
       "      <th>8</th>\n",
       "      <th>9</th>\n",
       "      <th>...</th>\n",
       "      <th>119</th>\n",
       "      <th>120</th>\n",
       "      <th>121</th>\n",
       "      <th>122</th>\n",
       "      <th>123</th>\n",
       "      <th>124</th>\n",
       "      <th>125</th>\n",
       "      <th>126</th>\n",
       "      <th>127</th>\n",
       "      <th>128</th>\n",
       "    </tr>\n",
       "  </thead>\n",
       "  <tbody>\n",
       "    <tr>\n",
       "      <th>0</th>\n",
       "      <td>2.335897</td>\n",
       "      <td>2.421067</td>\n",
       "      <td>2.001530</td>\n",
       "      <td>0.912451</td>\n",
       "      <td>0.811878</td>\n",
       "      <td>0.982412</td>\n",
       "      <td>1.474545</td>\n",
       "      <td>1.854270</td>\n",
       "      <td>1.551289</td>\n",
       "      <td>-0.167675</td>\n",
       "      <td>...</td>\n",
       "      <td>-0.208292</td>\n",
       "      <td>-0.219783</td>\n",
       "      <td>0.495218</td>\n",
       "      <td>1.248559</td>\n",
       "      <td>1.684855</td>\n",
       "      <td>0.781969</td>\n",
       "      <td>2.617109</td>\n",
       "      <td>2.527694</td>\n",
       "      <td>0.742636</td>\n",
       "      <td>1.871977</td>\n",
       "    </tr>\n",
       "    <tr>\n",
       "      <th>1</th>\n",
       "      <td>-1.046085</td>\n",
       "      <td>-0.639051</td>\n",
       "      <td>-0.586985</td>\n",
       "      <td>-0.333056</td>\n",
       "      <td>-0.166776</td>\n",
       "      <td>-0.298738</td>\n",
       "      <td>-0.324333</td>\n",
       "      <td>-0.558339</td>\n",
       "      <td>-0.346100</td>\n",
       "      <td>-0.167675</td>\n",
       "      <td>...</td>\n",
       "      <td>-0.208292</td>\n",
       "      <td>-0.219783</td>\n",
       "      <td>-0.873541</td>\n",
       "      <td>-0.262807</td>\n",
       "      <td>-0.251644</td>\n",
       "      <td>-0.237225</td>\n",
       "      <td>-0.880024</td>\n",
       "      <td>-0.936115</td>\n",
       "      <td>-0.369202</td>\n",
       "      <td>-0.499545</td>\n",
       "    </tr>\n",
       "    <tr>\n",
       "      <th>2</th>\n",
       "      <td>-0.666153</td>\n",
       "      <td>-1.029827</td>\n",
       "      <td>-0.913198</td>\n",
       "      <td>-0.386898</td>\n",
       "      <td>-0.445552</td>\n",
       "      <td>-0.444161</td>\n",
       "      <td>-0.299825</td>\n",
       "      <td>-0.650335</td>\n",
       "      <td>-0.551266</td>\n",
       "      <td>-0.167675</td>\n",
       "      <td>...</td>\n",
       "      <td>-0.208292</td>\n",
       "      <td>-0.219783</td>\n",
       "      <td>-0.169218</td>\n",
       "      <td>-0.262807</td>\n",
       "      <td>-0.251644</td>\n",
       "      <td>-0.237225</td>\n",
       "      <td>-1.010485</td>\n",
       "      <td>-0.988116</td>\n",
       "      <td>-0.369202</td>\n",
       "      <td>-0.684758</td>\n",
       "    </tr>\n",
       "    <tr>\n",
       "      <th>3</th>\n",
       "      <td>0.733313</td>\n",
       "      <td>0.501222</td>\n",
       "      <td>0.016329</td>\n",
       "      <td>2.466573</td>\n",
       "      <td>1.627202</td>\n",
       "      <td>1.196250</td>\n",
       "      <td>0.234206</td>\n",
       "      <td>0.357219</td>\n",
       "      <td>-0.398880</td>\n",
       "      <td>-0.167675</td>\n",
       "      <td>...</td>\n",
       "      <td>-0.208292</td>\n",
       "      <td>-0.219783</td>\n",
       "      <td>-1.021543</td>\n",
       "      <td>-0.262807</td>\n",
       "      <td>-0.251644</td>\n",
       "      <td>-0.237225</td>\n",
       "      <td>0.483400</td>\n",
       "      <td>0.376607</td>\n",
       "      <td>-0.369202</td>\n",
       "      <td>1.334637</td>\n",
       "    </tr>\n",
       "    <tr>\n",
       "      <th>4</th>\n",
       "      <td>-0.224375</td>\n",
       "      <td>-0.639721</td>\n",
       "      <td>-0.645653</td>\n",
       "      <td>-0.295013</td>\n",
       "      <td>-0.277240</td>\n",
       "      <td>-0.354851</td>\n",
       "      <td>0.089641</td>\n",
       "      <td>-0.505201</td>\n",
       "      <td>-0.441247</td>\n",
       "      <td>-0.167675</td>\n",
       "      <td>...</td>\n",
       "      <td>-0.208292</td>\n",
       "      <td>-0.219783</td>\n",
       "      <td>1.067283</td>\n",
       "      <td>0.298217</td>\n",
       "      <td>0.158531</td>\n",
       "      <td>0.553112</td>\n",
       "      <td>-0.584882</td>\n",
       "      <td>-0.569567</td>\n",
       "      <td>-0.174902</td>\n",
       "      <td>-0.439583</td>\n",
       "    </tr>\n",
       "  </tbody>\n",
       "</table>\n",
       "<p>5 rows × 129 columns</p>\n",
       "</div>"
      ],
      "text/plain": [
       "        0         1         2         3         4         5         6    \\\n",
       "0  2.335897  2.421067  2.001530  0.912451  0.811878  0.982412  1.474545   \n",
       "1 -1.046085 -0.639051 -0.586985 -0.333056 -0.166776 -0.298738 -0.324333   \n",
       "2 -0.666153 -1.029827 -0.913198 -0.386898 -0.445552 -0.444161 -0.299825   \n",
       "3  0.733313  0.501222  0.016329  2.466573  1.627202  1.196250  0.234206   \n",
       "4 -0.224375 -0.639721 -0.645653 -0.295013 -0.277240 -0.354851  0.089641   \n",
       "\n",
       "        7         8         9    ...       119       120       121       122  \\\n",
       "0  1.854270  1.551289 -0.167675  ... -0.208292 -0.219783  0.495218  1.248559   \n",
       "1 -0.558339 -0.346100 -0.167675  ... -0.208292 -0.219783 -0.873541 -0.262807   \n",
       "2 -0.650335 -0.551266 -0.167675  ... -0.208292 -0.219783 -0.169218 -0.262807   \n",
       "3  0.357219 -0.398880 -0.167675  ... -0.208292 -0.219783 -1.021543 -0.262807   \n",
       "4 -0.505201 -0.441247 -0.167675  ... -0.208292 -0.219783  1.067283  0.298217   \n",
       "\n",
       "        123       124       125       126       127       128  \n",
       "0  1.684855  0.781969  2.617109  2.527694  0.742636  1.871977  \n",
       "1 -0.251644 -0.237225 -0.880024 -0.936115 -0.369202 -0.499545  \n",
       "2 -0.251644 -0.237225 -1.010485 -0.988116 -0.369202 -0.684758  \n",
       "3 -0.251644 -0.237225  0.483400  0.376607 -0.369202  1.334637  \n",
       "4  0.158531  0.553112 -0.584882 -0.569567 -0.174902 -0.439583  \n",
       "\n",
       "[5 rows x 129 columns]"
      ]
     },
     "execution_count": 207,
     "metadata": {},
     "output_type": "execute_result"
    }
   ],
   "source": [
    "pd.DataFrame(X_test).head()"
   ]
  },
  {
   "cell_type": "markdown",
   "id": "3bb62370-94e9-4d12-b16b-702ee2fd3cb8",
   "metadata": {},
   "source": [
    "#### PCA"
   ]
  },
  {
   "cell_type": "code",
   "execution_count": 208,
   "id": "3fae6248-5b88-40a1-b3b5-78c93842ea00",
   "metadata": {},
   "outputs": [],
   "source": [
    "pca = PCA(random_state=100)\n",
    "X_train_pca = pca.fit_transform(X_train)"
   ]
  },
  {
   "cell_type": "code",
   "execution_count": 209,
   "id": "2158f15a-869f-465e-89c2-4a2055e8afc6",
   "metadata": {},
   "outputs": [
    {
     "data": {
      "text/html": [
       "<div>\n",
       "<style scoped>\n",
       "    .dataframe tbody tr th:only-of-type {\n",
       "        vertical-align: middle;\n",
       "    }\n",
       "\n",
       "    .dataframe tbody tr th {\n",
       "        vertical-align: top;\n",
       "    }\n",
       "\n",
       "    .dataframe thead th {\n",
       "        text-align: right;\n",
       "    }\n",
       "</style>\n",
       "<table border=\"1\" class=\"dataframe\">\n",
       "  <thead>\n",
       "    <tr style=\"text-align: right;\">\n",
       "      <th></th>\n",
       "      <th>PCA1</th>\n",
       "      <th>PCA2</th>\n",
       "      <th>PCA3</th>\n",
       "      <th>PCA4</th>\n",
       "      <th>PCA5</th>\n",
       "      <th>PCA6</th>\n",
       "      <th>PCA7</th>\n",
       "      <th>PCA8</th>\n",
       "      <th>PCA9</th>\n",
       "      <th>PCA10</th>\n",
       "      <th>...</th>\n",
       "      <th>PCA120</th>\n",
       "      <th>PCA121</th>\n",
       "      <th>PCA122</th>\n",
       "      <th>PCA123</th>\n",
       "      <th>PCA124</th>\n",
       "      <th>PCA125</th>\n",
       "      <th>PCA126</th>\n",
       "      <th>PCA127</th>\n",
       "      <th>PCA128</th>\n",
       "      <th>PCA129</th>\n",
       "    </tr>\n",
       "  </thead>\n",
       "  <tbody>\n",
       "    <tr>\n",
       "      <th>0</th>\n",
       "      <td>-3.111389</td>\n",
       "      <td>-0.298861</td>\n",
       "      <td>0.191628</td>\n",
       "      <td>-0.372765</td>\n",
       "      <td>-2.688108</td>\n",
       "      <td>-1.112911</td>\n",
       "      <td>-0.073030</td>\n",
       "      <td>2.155957</td>\n",
       "      <td>1.409333</td>\n",
       "      <td>0.735755</td>\n",
       "      <td>...</td>\n",
       "      <td>7.711412e-07</td>\n",
       "      <td>2.795000e-06</td>\n",
       "      <td>-0.000002</td>\n",
       "      <td>-5.196675e-07</td>\n",
       "      <td>1.280099e-14</td>\n",
       "      <td>2.437759e-15</td>\n",
       "      <td>-3.224075e-16</td>\n",
       "      <td>-1.627456e-15</td>\n",
       "      <td>1.853287e-15</td>\n",
       "      <td>4.695894e-14</td>\n",
       "    </tr>\n",
       "    <tr>\n",
       "      <th>1</th>\n",
       "      <td>4.383535</td>\n",
       "      <td>-5.240065</td>\n",
       "      <td>-0.820148</td>\n",
       "      <td>-0.009867</td>\n",
       "      <td>0.628559</td>\n",
       "      <td>-3.687221</td>\n",
       "      <td>8.109582</td>\n",
       "      <td>0.009546</td>\n",
       "      <td>-0.871467</td>\n",
       "      <td>-1.561466</td>\n",
       "      <td>...</td>\n",
       "      <td>-2.262248e-06</td>\n",
       "      <td>1.360673e-05</td>\n",
       "      <td>0.000006</td>\n",
       "      <td>-5.245106e-06</td>\n",
       "      <td>2.319579e-15</td>\n",
       "      <td>-8.965542e-15</td>\n",
       "      <td>-5.370372e-15</td>\n",
       "      <td>-1.486107e-15</td>\n",
       "      <td>1.259279e-15</td>\n",
       "      <td>-5.688767e-15</td>\n",
       "    </tr>\n",
       "    <tr>\n",
       "      <th>2</th>\n",
       "      <td>-2.699459</td>\n",
       "      <td>0.511504</td>\n",
       "      <td>-0.877077</td>\n",
       "      <td>-0.037248</td>\n",
       "      <td>-3.229402</td>\n",
       "      <td>-0.907032</td>\n",
       "      <td>0.404704</td>\n",
       "      <td>0.732191</td>\n",
       "      <td>0.439278</td>\n",
       "      <td>0.612396</td>\n",
       "      <td>...</td>\n",
       "      <td>4.453939e-06</td>\n",
       "      <td>1.034761e-05</td>\n",
       "      <td>-0.000001</td>\n",
       "      <td>4.301619e-06</td>\n",
       "      <td>7.541282e-15</td>\n",
       "      <td>1.690891e-14</td>\n",
       "      <td>-1.159224e-14</td>\n",
       "      <td>1.992635e-15</td>\n",
       "      <td>1.278941e-15</td>\n",
       "      <td>2.251437e-15</td>\n",
       "    </tr>\n",
       "    <tr>\n",
       "      <th>3</th>\n",
       "      <td>-0.419508</td>\n",
       "      <td>0.351818</td>\n",
       "      <td>-1.573326</td>\n",
       "      <td>-0.669009</td>\n",
       "      <td>-2.177216</td>\n",
       "      <td>-1.716951</td>\n",
       "      <td>0.119950</td>\n",
       "      <td>0.662328</td>\n",
       "      <td>-0.373082</td>\n",
       "      <td>0.150879</td>\n",
       "      <td>...</td>\n",
       "      <td>1.260540e-05</td>\n",
       "      <td>-4.492520e-07</td>\n",
       "      <td>-0.000003</td>\n",
       "      <td>-1.206365e-06</td>\n",
       "      <td>1.772993e-14</td>\n",
       "      <td>-1.021067e-14</td>\n",
       "      <td>2.965763e-14</td>\n",
       "      <td>-6.089417e-15</td>\n",
       "      <td>4.778441e-16</td>\n",
       "      <td>-1.768488e-16</td>\n",
       "    </tr>\n",
       "    <tr>\n",
       "      <th>4</th>\n",
       "      <td>-2.402311</td>\n",
       "      <td>0.941640</td>\n",
       "      <td>-0.809745</td>\n",
       "      <td>-0.564322</td>\n",
       "      <td>0.593196</td>\n",
       "      <td>-0.404252</td>\n",
       "      <td>-0.748102</td>\n",
       "      <td>-0.407274</td>\n",
       "      <td>-0.002909</td>\n",
       "      <td>0.054364</td>\n",
       "      <td>...</td>\n",
       "      <td>-1.777273e-07</td>\n",
       "      <td>2.697965e-06</td>\n",
       "      <td>0.000001</td>\n",
       "      <td>5.590014e-07</td>\n",
       "      <td>7.621932e-15</td>\n",
       "      <td>-7.384378e-15</td>\n",
       "      <td>6.447067e-15</td>\n",
       "      <td>-2.490202e-15</td>\n",
       "      <td>8.755210e-16</td>\n",
       "      <td>-1.862921e-15</td>\n",
       "    </tr>\n",
       "  </tbody>\n",
       "</table>\n",
       "<p>5 rows × 129 columns</p>\n",
       "</div>"
      ],
      "text/plain": [
       "       PCA1      PCA2      PCA3      PCA4      PCA5      PCA6      PCA7  \\\n",
       "0 -3.111389 -0.298861  0.191628 -0.372765 -2.688108 -1.112911 -0.073030   \n",
       "1  4.383535 -5.240065 -0.820148 -0.009867  0.628559 -3.687221  8.109582   \n",
       "2 -2.699459  0.511504 -0.877077 -0.037248 -3.229402 -0.907032  0.404704   \n",
       "3 -0.419508  0.351818 -1.573326 -0.669009 -2.177216 -1.716951  0.119950   \n",
       "4 -2.402311  0.941640 -0.809745 -0.564322  0.593196 -0.404252 -0.748102   \n",
       "\n",
       "       PCA8      PCA9     PCA10  ...        PCA120        PCA121    PCA122  \\\n",
       "0  2.155957  1.409333  0.735755  ...  7.711412e-07  2.795000e-06 -0.000002   \n",
       "1  0.009546 -0.871467 -1.561466  ... -2.262248e-06  1.360673e-05  0.000006   \n",
       "2  0.732191  0.439278  0.612396  ...  4.453939e-06  1.034761e-05 -0.000001   \n",
       "3  0.662328 -0.373082  0.150879  ...  1.260540e-05 -4.492520e-07 -0.000003   \n",
       "4 -0.407274 -0.002909  0.054364  ... -1.777273e-07  2.697965e-06  0.000001   \n",
       "\n",
       "         PCA123        PCA124        PCA125        PCA126        PCA127  \\\n",
       "0 -5.196675e-07  1.280099e-14  2.437759e-15 -3.224075e-16 -1.627456e-15   \n",
       "1 -5.245106e-06  2.319579e-15 -8.965542e-15 -5.370372e-15 -1.486107e-15   \n",
       "2  4.301619e-06  7.541282e-15  1.690891e-14 -1.159224e-14  1.992635e-15   \n",
       "3 -1.206365e-06  1.772993e-14 -1.021067e-14  2.965763e-14 -6.089417e-15   \n",
       "4  5.590014e-07  7.621932e-15 -7.384378e-15  6.447067e-15 -2.490202e-15   \n",
       "\n",
       "         PCA128        PCA129  \n",
       "0  1.853287e-15  4.695894e-14  \n",
       "1  1.259279e-15 -5.688767e-15  \n",
       "2  1.278941e-15  2.251437e-15  \n",
       "3  4.778441e-16 -1.768488e-16  \n",
       "4  8.755210e-16 -1.862921e-15  \n",
       "\n",
       "[5 rows x 129 columns]"
      ]
     },
     "execution_count": 209,
     "metadata": {},
     "output_type": "execute_result"
    }
   ],
   "source": [
    "columns = [f\"PCA{i}\" for i in range(1, len(X_train_pca[0]) + 1)]\n",
    "X_train_pca = pd.DataFrame(X_train_pca, columns=columns)\n",
    "X_train_pca.head()"
   ]
  },
  {
   "cell_type": "code",
   "execution_count": 210,
   "id": "e8e44a1c-c636-4757-a121-e995e5ff7924",
   "metadata": {},
   "outputs": [
    {
     "data": {
      "image/png": "[encoded data removed]",
      "text/plain": [
       "<Figure size 864x576 with 1 Axes>"
      ]
     },
     "metadata": {},
     "output_type": "display_data"
    }
   ],
   "source": [
    "fig = plt.figure(figsize = (12,8))\n",
    "plt.plot(np.cumsum(pca.explained_variance_ratio_))\n",
    "plt.vlines(x=65, ymax=1, ymin=0, colors=\"r\", linestyles=\"--\")\n",
    "plt.hlines(y=0.95, xmax=140, xmin=0, colors=\"g\", linestyles=\"--\")\n",
    "plt.xlabel('number of components')\n",
    "plt.ylabel('cumulative explained variance')\n",
    "plt.show()"
   ]
  },
  {
   "cell_type": "markdown",
   "id": "b1b74f88-2b15-4c48-951b-862b0d5f99b3",
   "metadata": {},
   "source": [
    "We can see that 65 components are able to explain more than 95% of the variance. So lets select the number of components as 65 and create a new dataset"
   ]
  },
  {
   "cell_type": "code",
   "execution_count": 211,
   "id": "f80fb030-8a22-46a8-bd6b-e2ef8cbaaf70",
   "metadata": {},
   "outputs": [],
   "source": [
    "pca = PCA(n_components=65, random_state=100)\n",
    "X_train_pca = pca.fit_transform(X_train)"
   ]
  },
  {
   "cell_type": "code",
   "execution_count": 212,
   "id": "1f609372-9d16-415c-bbe1-74481ec2ed04",
   "metadata": {},
   "outputs": [
    {
     "data": {
      "text/html": [
       "<div>\n",
       "<style scoped>\n",
       "    .dataframe tbody tr th:only-of-type {\n",
       "        vertical-align: middle;\n",
       "    }\n",
       "\n",
       "    .dataframe tbody tr th {\n",
       "        vertical-align: top;\n",
       "    }\n",
       "\n",
       "    .dataframe thead th {\n",
       "        text-align: right;\n",
       "    }\n",
       "</style>\n",
       "<table border=\"1\" class=\"dataframe\">\n",
       "  <thead>\n",
       "    <tr style=\"text-align: right;\">\n",
       "      <th></th>\n",
       "      <th>PCA1</th>\n",
       "      <th>PCA2</th>\n",
       "      <th>PCA3</th>\n",
       "      <th>PCA4</th>\n",
       "      <th>PCA5</th>\n",
       "      <th>PCA6</th>\n",
       "      <th>PCA7</th>\n",
       "      <th>PCA8</th>\n",
       "      <th>PCA9</th>\n",
       "      <th>PCA10</th>\n",
       "      <th>...</th>\n",
       "      <th>PCA56</th>\n",
       "      <th>PCA57</th>\n",
       "      <th>PCA58</th>\n",
       "      <th>PCA59</th>\n",
       "      <th>PCA60</th>\n",
       "      <th>PCA61</th>\n",
       "      <th>PCA62</th>\n",
       "      <th>PCA63</th>\n",
       "      <th>PCA64</th>\n",
       "      <th>PCA65</th>\n",
       "    </tr>\n",
       "  </thead>\n",
       "  <tbody>\n",
       "    <tr>\n",
       "      <th>0</th>\n",
       "      <td>-3.111389</td>\n",
       "      <td>-0.298861</td>\n",
       "      <td>0.191628</td>\n",
       "      <td>-0.372766</td>\n",
       "      <td>-2.688108</td>\n",
       "      <td>-1.112918</td>\n",
       "      <td>-0.073036</td>\n",
       "      <td>2.155963</td>\n",
       "      <td>1.409325</td>\n",
       "      <td>0.735736</td>\n",
       "      <td>...</td>\n",
       "      <td>-0.059953</td>\n",
       "      <td>-0.080682</td>\n",
       "      <td>0.249588</td>\n",
       "      <td>-0.070258</td>\n",
       "      <td>0.224894</td>\n",
       "      <td>-0.049688</td>\n",
       "      <td>-0.225520</td>\n",
       "      <td>0.580913</td>\n",
       "      <td>0.461962</td>\n",
       "      <td>0.016878</td>\n",
       "    </tr>\n",
       "    <tr>\n",
       "      <th>1</th>\n",
       "      <td>4.383535</td>\n",
       "      <td>-5.240066</td>\n",
       "      <td>-0.820148</td>\n",
       "      <td>-0.009867</td>\n",
       "      <td>0.628561</td>\n",
       "      <td>-3.687218</td>\n",
       "      <td>8.109586</td>\n",
       "      <td>0.009562</td>\n",
       "      <td>-0.871456</td>\n",
       "      <td>-1.561484</td>\n",
       "      <td>...</td>\n",
       "      <td>-0.259388</td>\n",
       "      <td>-0.376350</td>\n",
       "      <td>-0.033021</td>\n",
       "      <td>0.053483</td>\n",
       "      <td>0.276052</td>\n",
       "      <td>0.058588</td>\n",
       "      <td>0.495290</td>\n",
       "      <td>-0.190295</td>\n",
       "      <td>0.268693</td>\n",
       "      <td>-0.466463</td>\n",
       "    </tr>\n",
       "    <tr>\n",
       "      <th>2</th>\n",
       "      <td>-2.699459</td>\n",
       "      <td>0.511504</td>\n",
       "      <td>-0.877077</td>\n",
       "      <td>-0.037247</td>\n",
       "      <td>-3.229403</td>\n",
       "      <td>-0.907035</td>\n",
       "      <td>0.404698</td>\n",
       "      <td>0.732195</td>\n",
       "      <td>0.439280</td>\n",
       "      <td>0.612380</td>\n",
       "      <td>...</td>\n",
       "      <td>-0.260805</td>\n",
       "      <td>0.159233</td>\n",
       "      <td>0.081339</td>\n",
       "      <td>0.018109</td>\n",
       "      <td>0.051738</td>\n",
       "      <td>-0.004253</td>\n",
       "      <td>-0.245924</td>\n",
       "      <td>0.481865</td>\n",
       "      <td>0.687932</td>\n",
       "      <td>0.138439</td>\n",
       "    </tr>\n",
       "    <tr>\n",
       "      <th>3</th>\n",
       "      <td>-0.419508</td>\n",
       "      <td>0.351818</td>\n",
       "      <td>-1.573326</td>\n",
       "      <td>-0.669010</td>\n",
       "      <td>-2.177216</td>\n",
       "      <td>-1.716949</td>\n",
       "      <td>0.119955</td>\n",
       "      <td>0.662333</td>\n",
       "      <td>-0.373092</td>\n",
       "      <td>0.150905</td>\n",
       "      <td>...</td>\n",
       "      <td>0.095106</td>\n",
       "      <td>0.853666</td>\n",
       "      <td>0.234050</td>\n",
       "      <td>-0.463837</td>\n",
       "      <td>-0.033076</td>\n",
       "      <td>-0.059669</td>\n",
       "      <td>-0.062810</td>\n",
       "      <td>-0.212584</td>\n",
       "      <td>0.609066</td>\n",
       "      <td>0.578720</td>\n",
       "    </tr>\n",
       "    <tr>\n",
       "      <th>4</th>\n",
       "      <td>-2.402311</td>\n",
       "      <td>0.941640</td>\n",
       "      <td>-0.809745</td>\n",
       "      <td>-0.564320</td>\n",
       "      <td>0.593192</td>\n",
       "      <td>-0.404254</td>\n",
       "      <td>-0.748105</td>\n",
       "      <td>-0.407250</td>\n",
       "      <td>-0.002902</td>\n",
       "      <td>0.054386</td>\n",
       "      <td>...</td>\n",
       "      <td>0.114805</td>\n",
       "      <td>0.313667</td>\n",
       "      <td>-0.118879</td>\n",
       "      <td>-0.063003</td>\n",
       "      <td>-0.246510</td>\n",
       "      <td>-0.132235</td>\n",
       "      <td>-0.003379</td>\n",
       "      <td>-0.126876</td>\n",
       "      <td>0.226100</td>\n",
       "      <td>0.401938</td>\n",
       "    </tr>\n",
       "  </tbody>\n",
       "</table>\n",
       "<p>5 rows × 65 columns</p>\n",
       "</div>"
      ],
      "text/plain": [
       "       PCA1      PCA2      PCA3      PCA4      PCA5      PCA6      PCA7  \\\n",
       "0 -3.111389 -0.298861  0.191628 -0.372766 -2.688108 -1.112918 -0.073036   \n",
       "1  4.383535 -5.240066 -0.820148 -0.009867  0.628561 -3.687218  8.109586   \n",
       "2 -2.699459  0.511504 -0.877077 -0.037247 -3.229403 -0.907035  0.404698   \n",
       "3 -0.419508  0.351818 -1.573326 -0.669010 -2.177216 -1.716949  0.119955   \n",
       "4 -2.402311  0.941640 -0.809745 -0.564320  0.593192 -0.404254 -0.748105   \n",
       "\n",
       "       PCA8      PCA9     PCA10  ...     PCA56     PCA57     PCA58     PCA59  \\\n",
       "0  2.155963  1.409325  0.735736  ... -0.059953 -0.080682  0.249588 -0.070258   \n",
       "1  0.009562 -0.871456 -1.561484  ... -0.259388 -0.376350 -0.033021  0.053483   \n",
       "2  0.732195  0.439280  0.612380  ... -0.260805  0.159233  0.081339  0.018109   \n",
       "3  0.662333 -0.373092  0.150905  ...  0.095106  0.853666  0.234050 -0.463837   \n",
       "4 -0.407250 -0.002902  0.054386  ...  0.114805  0.313667 -0.118879 -0.063003   \n",
       "\n",
       "      PCA60     PCA61     PCA62     PCA63     PCA64     PCA65  \n",
       "0  0.224894 -0.049688 -0.225520  0.580913  0.461962  0.016878  \n",
       "1  0.276052  0.058588  0.495290 -0.190295  0.268693 -0.466463  \n",
       "2  0.051738 -0.004253 -0.245924  0.481865  0.687932  0.138439  \n",
       "3 -0.033076 -0.059669 -0.062810 -0.212584  0.609066  0.578720  \n",
       "4 -0.246510 -0.132235 -0.003379 -0.126876  0.226100  0.401938  \n",
       "\n",
       "[5 rows x 65 columns]"
      ]
     },
     "execution_count": 212,
     "metadata": {},
     "output_type": "execute_result"
    }
   ],
   "source": [
    "columns = [f\"PCA{i}\" for i in range(1, len(X_train_pca[0]) + 1)]\n",
    "X_train_pca = pd.DataFrame(X_train_pca, columns=columns)\n",
    "X_train_pca.head()"
   ]
  },
  {
   "cell_type": "code",
   "execution_count": 213,
   "id": "0d119b10-ae70-4c79-a815-e82f90f6c89c",
   "metadata": {},
   "outputs": [],
   "source": [
    "X_test_pca = pca.transform(X_test)"
   ]
  },
  {
   "cell_type": "code",
   "execution_count": 214,
   "id": "ebbebdee-d2ab-4e22-b49f-bd6e4397399f",
   "metadata": {},
   "outputs": [
    {
     "data": {
      "text/html": [
       "<div>\n",
       "<style scoped>\n",
       "    .dataframe tbody tr th:only-of-type {\n",
       "        vertical-align: middle;\n",
       "    }\n",
       "\n",
       "    .dataframe tbody tr th {\n",
       "        vertical-align: top;\n",
       "    }\n",
       "\n",
       "    .dataframe thead th {\n",
       "        text-align: right;\n",
       "    }\n",
       "</style>\n",
       "<table border=\"1\" class=\"dataframe\">\n",
       "  <thead>\n",
       "    <tr style=\"text-align: right;\">\n",
       "      <th></th>\n",
       "      <th>PCA1</th>\n",
       "      <th>PCA2</th>\n",
       "      <th>PCA3</th>\n",
       "      <th>PCA4</th>\n",
       "      <th>PCA5</th>\n",
       "      <th>PCA6</th>\n",
       "      <th>PCA7</th>\n",
       "      <th>PCA8</th>\n",
       "      <th>PCA9</th>\n",
       "      <th>PCA10</th>\n",
       "      <th>...</th>\n",
       "      <th>PCA56</th>\n",
       "      <th>PCA57</th>\n",
       "      <th>PCA58</th>\n",
       "      <th>PCA59</th>\n",
       "      <th>PCA60</th>\n",
       "      <th>PCA61</th>\n",
       "      <th>PCA62</th>\n",
       "      <th>PCA63</th>\n",
       "      <th>PCA64</th>\n",
       "      <th>PCA65</th>\n",
       "    </tr>\n",
       "  </thead>\n",
       "  <tbody>\n",
       "    <tr>\n",
       "      <th>0</th>\n",
       "      <td>11.765110</td>\n",
       "      <td>2.300779</td>\n",
       "      <td>2.087541</td>\n",
       "      <td>-2.540831</td>\n",
       "      <td>-1.989644</td>\n",
       "      <td>-2.093416</td>\n",
       "      <td>-0.907603</td>\n",
       "      <td>2.591143</td>\n",
       "      <td>1.884516</td>\n",
       "      <td>-0.195069</td>\n",
       "      <td>...</td>\n",
       "      <td>0.116772</td>\n",
       "      <td>1.573627</td>\n",
       "      <td>0.872533</td>\n",
       "      <td>-0.174159</td>\n",
       "      <td>-0.406576</td>\n",
       "      <td>0.156954</td>\n",
       "      <td>0.234775</td>\n",
       "      <td>0.016586</td>\n",
       "      <td>1.300917</td>\n",
       "      <td>0.133157</td>\n",
       "    </tr>\n",
       "    <tr>\n",
       "      <th>1</th>\n",
       "      <td>-3.712847</td>\n",
       "      <td>-0.869155</td>\n",
       "      <td>-0.577664</td>\n",
       "      <td>-0.342016</td>\n",
       "      <td>0.193458</td>\n",
       "      <td>0.230729</td>\n",
       "      <td>-0.475190</td>\n",
       "      <td>0.128264</td>\n",
       "      <td>-0.552842</td>\n",
       "      <td>-0.239163</td>\n",
       "      <td>...</td>\n",
       "      <td>-0.158246</td>\n",
       "      <td>-0.008376</td>\n",
       "      <td>-0.230070</td>\n",
       "      <td>0.162175</td>\n",
       "      <td>-0.079988</td>\n",
       "      <td>0.093004</td>\n",
       "      <td>-0.007427</td>\n",
       "      <td>0.069069</td>\n",
       "      <td>-0.148492</td>\n",
       "      <td>0.186334</td>\n",
       "    </tr>\n",
       "    <tr>\n",
       "      <th>2</th>\n",
       "      <td>-4.348115</td>\n",
       "      <td>0.401904</td>\n",
       "      <td>-0.959530</td>\n",
       "      <td>-0.453550</td>\n",
       "      <td>0.609562</td>\n",
       "      <td>0.318294</td>\n",
       "      <td>0.689669</td>\n",
       "      <td>-0.301076</td>\n",
       "      <td>-0.090555</td>\n",
       "      <td>-0.742536</td>\n",
       "      <td>...</td>\n",
       "      <td>-0.103943</td>\n",
       "      <td>-0.425112</td>\n",
       "      <td>-0.052531</td>\n",
       "      <td>0.287012</td>\n",
       "      <td>-0.126544</td>\n",
       "      <td>0.153977</td>\n",
       "      <td>0.066493</td>\n",
       "      <td>-0.122147</td>\n",
       "      <td>-0.301666</td>\n",
       "      <td>0.128835</td>\n",
       "    </tr>\n",
       "    <tr>\n",
       "      <th>3</th>\n",
       "      <td>2.761143</td>\n",
       "      <td>-4.998560</td>\n",
       "      <td>-0.935071</td>\n",
       "      <td>0.166125</td>\n",
       "      <td>-0.807236</td>\n",
       "      <td>2.325954</td>\n",
       "      <td>2.227444</td>\n",
       "      <td>-2.182551</td>\n",
       "      <td>0.829289</td>\n",
       "      <td>-0.528427</td>\n",
       "      <td>...</td>\n",
       "      <td>0.122043</td>\n",
       "      <td>-0.154409</td>\n",
       "      <td>0.055234</td>\n",
       "      <td>-0.158955</td>\n",
       "      <td>0.062932</td>\n",
       "      <td>0.054720</td>\n",
       "      <td>0.056531</td>\n",
       "      <td>-0.547023</td>\n",
       "      <td>0.530292</td>\n",
       "      <td>-0.024841</td>\n",
       "    </tr>\n",
       "    <tr>\n",
       "      <th>4</th>\n",
       "      <td>0.513006</td>\n",
       "      <td>5.732458</td>\n",
       "      <td>-3.393840</td>\n",
       "      <td>0.681178</td>\n",
       "      <td>-3.429344</td>\n",
       "      <td>0.261270</td>\n",
       "      <td>1.996396</td>\n",
       "      <td>-3.104904</td>\n",
       "      <td>-1.178805</td>\n",
       "      <td>0.698015</td>\n",
       "      <td>...</td>\n",
       "      <td>0.382034</td>\n",
       "      <td>0.324386</td>\n",
       "      <td>-0.080025</td>\n",
       "      <td>-0.341312</td>\n",
       "      <td>-0.417811</td>\n",
       "      <td>0.453580</td>\n",
       "      <td>0.039908</td>\n",
       "      <td>-0.134409</td>\n",
       "      <td>-0.114515</td>\n",
       "      <td>0.336535</td>\n",
       "    </tr>\n",
       "  </tbody>\n",
       "</table>\n",
       "<p>5 rows × 65 columns</p>\n",
       "</div>"
      ],
      "text/plain": [
       "        PCA1      PCA2      PCA3      PCA4      PCA5      PCA6      PCA7  \\\n",
       "0  11.765110  2.300779  2.087541 -2.540831 -1.989644 -2.093416 -0.907603   \n",
       "1  -3.712847 -0.869155 -0.577664 -0.342016  0.193458  0.230729 -0.475190   \n",
       "2  -4.348115  0.401904 -0.959530 -0.453550  0.609562  0.318294  0.689669   \n",
       "3   2.761143 -4.998560 -0.935071  0.166125 -0.807236  2.325954  2.227444   \n",
       "4   0.513006  5.732458 -3.393840  0.681178 -3.429344  0.261270  1.996396   \n",
       "\n",
       "       PCA8      PCA9     PCA10  ...     PCA56     PCA57     PCA58     PCA59  \\\n",
       "0  2.591143  1.884516 -0.195069  ...  0.116772  1.573627  0.872533 -0.174159   \n",
       "1  0.128264 -0.552842 -0.239163  ... -0.158246 -0.008376 -0.230070  0.162175   \n",
       "2 -0.301076 -0.090555 -0.742536  ... -0.103943 -0.425112 -0.052531  0.287012   \n",
       "3 -2.182551  0.829289 -0.528427  ...  0.122043 -0.154409  0.055234 -0.158955   \n",
       "4 -3.104904 -1.178805  0.698015  ...  0.382034  0.324386 -0.080025 -0.341312   \n",
       "\n",
       "      PCA60     PCA61     PCA62     PCA63     PCA64     PCA65  \n",
       "0 -0.406576  0.156954  0.234775  0.016586  1.300917  0.133157  \n",
       "1 -0.079988  0.093004 -0.007427  0.069069 -0.148492  0.186334  \n",
       "2 -0.126544  0.153977  0.066493 -0.122147 -0.301666  0.128835  \n",
       "3  0.062932  0.054720  0.056531 -0.547023  0.530292 -0.024841  \n",
       "4 -0.417811  0.453580  0.039908 -0.134409 -0.114515  0.336535  \n",
       "\n",
       "[5 rows x 65 columns]"
      ]
     },
     "execution_count": 214,
     "metadata": {},
     "output_type": "execute_result"
    }
   ],
   "source": [
    "columns = [f\"PCA{i}\" for i in range(1, len(X_test_pca[0]) + 1)]\n",
    "X_test_pca = pd.DataFrame(X_test_pca, columns=columns)\n",
    "X_test_pca.head()"
   ]
  },
  {
   "cell_type": "markdown",
   "id": "5580f5fe-b995-4892-a349-d398d47dcc71",
   "metadata": {},
   "source": [
    "## 4. Modelling and evaluation"
   ]
  },
  {
   "cell_type": "markdown",
   "id": "0cc96b5d-8e1e-4b68-b77a-4f6c0769586e",
   "metadata": {},
   "source": [
    "Let's applying LogisticRegression, DecisionTree and RandomForest to see which one gives the highest accuracy"
   ]
  },
  {
   "cell_type": "markdown",
   "id": "b4546ef0-1e2f-4ad9-8d1c-7f5336abdaba",
   "metadata": {},
   "source": [
    "#### Logistic Regression"
   ]
  },
  {
   "cell_type": "code",
   "execution_count": 215,
   "id": "b1b679f3-84ab-4212-af8e-031af31f44e8",
   "metadata": {},
   "outputs": [],
   "source": [
    "logistic_pca = LogisticRegression(random_state=100)"
   ]
  },
  {
   "cell_type": "code",
   "execution_count": 216,
   "id": "9b971c78-68ca-4cf8-a7c3-28056253641d",
   "metadata": {},
   "outputs": [],
   "source": [
    "model_pca = logistic_pca.fit(X_train_pca, y_train)"
   ]
  },
  {
   "cell_type": "code",
   "execution_count": 217,
   "id": "8b4f33ae-80fb-4c7a-87d4-bb9fc9e1b38b",
   "metadata": {},
   "outputs": [],
   "source": [
    "pred_probs_train = model_pca.predict_proba(X_train_pca)\n",
    "pred_train = model_pca.predict(X_train_pca)"
   ]
  },
  {
   "cell_type": "code",
   "execution_count": 218,
   "id": "f2d0dba8-8868-46de-b163-dfbb28fe689b",
   "metadata": {},
   "outputs": [
    {
     "name": "stdout",
     "output_type": "stream",
     "text": [
      "LR train accuracy:  0.90608\n"
     ]
    }
   ],
   "source": [
    "print(\"LR train accuracy: \", round(metrics.accuracy_score(y_train, pred_train), 5))"
   ]
  },
  {
   "cell_type": "code",
   "execution_count": 219,
   "id": "4603fa37-3587-4cf5-87cd-64b2ccb2c2fd",
   "metadata": {},
   "outputs": [],
   "source": [
    "pred_probs_test = model_pca.predict_proba(X_test_pca)\n",
    "pred_test = model_pca.predict(X_test_pca)"
   ]
  },
  {
   "cell_type": "code",
   "execution_count": 220,
   "id": "bb598841-8903-43fd-a00d-4dc032494583",
   "metadata": {},
   "outputs": [
    {
     "name": "stdout",
     "output_type": "stream",
     "text": [
      "LR test accuracy:  0.9036\n"
     ]
    }
   ],
   "source": [
    "print(\"LR test accuracy: \", round(metrics.accuracy_score(y_test, pred_test), 5))"
   ]
  },
  {
   "cell_type": "markdown",
   "id": "5f1525bd-bb8c-4982-b2ae-3a78b6b0e97e",
   "metadata": {},
   "source": [
    "#### Decision tree"
   ]
  },
  {
   "cell_type": "markdown",
   "id": "c121ca21-ad2e-4a9c-90de-58fac63c7c86",
   "metadata": {},
   "source": [
    "Lets do Cross Validation to do hyperparameter tuning"
   ]
  },
  {
   "cell_type": "code",
   "execution_count": 221,
   "id": "2d950a60-aa44-4d1c-bb62-843a2502d095",
   "metadata": {},
   "outputs": [],
   "source": [
    "dt = DecisionTreeClassifier(random_state=100)"
   ]
  },
  {
   "cell_type": "code",
   "execution_count": 222,
   "id": "a408218d-e74f-4f93-bda9-f8788a453ebb",
   "metadata": {},
   "outputs": [],
   "source": [
    "params = {\n",
    "    'max_depth': [2, 3, 5, 10, 20],\n",
    "    'min_samples_leaf': [5, 10, 20, 50, 100],\n",
    "    'criterion': [\"gini\", \"entropy\"]\n",
    "}\n",
    "grid_search = GridSearchCV(estimator=dt, \n",
    "                           param_grid=params, \n",
    "                           cv=4, n_jobs=-1, verbose=1, scoring = \"accuracy\")"
   ]
  },
  {
   "cell_type": "code",
   "execution_count": 223,
   "id": "99916a6d-93ec-4fb0-a653-10118d7d1db6",
   "metadata": {},
   "outputs": [
    {
     "name": "stdout",
     "output_type": "stream",
     "text": [
      "Fitting 4 folds for each of 50 candidates, totalling 200 fits\n",
      "CPU times: user 5.44 s, sys: 162 ms, total: 5.6 s\n",
      "Wall time: 57.9 s\n"
     ]
    },
    {
     "data": {
      "text/plain": [
       "GridSearchCV(cv=4, estimator=DecisionTreeClassifier(random_state=100),\n",
       "             n_jobs=-1,\n",
       "             param_grid={'criterion': ['gini', 'entropy'],\n",
       "                         'max_depth': [2, 3, 5, 10, 20],\n",
       "                         'min_samples_leaf': [5, 10, 20, 50, 100]},\n",
       "             scoring='accuracy', verbose=1)"
      ]
     },
     "execution_count": 223,
     "metadata": {},
     "output_type": "execute_result"
    }
   ],
   "source": [
    "%%time\n",
    "grid_search.fit(X_train_pca, y_train)"
   ]
  },
  {
   "cell_type": "code",
   "execution_count": 224,
   "id": "26f31519-6a1c-4f78-9430-1a50903f54ca",
   "metadata": {},
   "outputs": [
    {
     "data": {
      "text/plain": [
       "DecisionTreeClassifier(max_depth=10, min_samples_leaf=100, random_state=100)"
      ]
     },
     "execution_count": 224,
     "metadata": {},
     "output_type": "execute_result"
    }
   ],
   "source": [
    "grid_search.best_estimator_"
   ]
  },
  {
   "cell_type": "code",
   "execution_count": 225,
   "id": "476c62bb-1bb5-438d-be59-ea0c35a7a428",
   "metadata": {},
   "outputs": [],
   "source": [
    "dt_best = grid_search.best_estimator_"
   ]
  },
  {
   "cell_type": "code",
   "execution_count": 226,
   "id": "0198cef3-b7a5-4519-8adc-af449eee3363",
   "metadata": {},
   "outputs": [],
   "source": [
    "pred_probs_train = dt_best.predict_proba(X_train_pca)\n",
    "pred_train = dt_best.predict(X_train_pca)"
   ]
  },
  {
   "cell_type": "code",
   "execution_count": 227,
   "id": "002c3d7a-0c2b-40b7-b339-2e5f2f6fcee1",
   "metadata": {},
   "outputs": [
    {
     "name": "stdout",
     "output_type": "stream",
     "text": [
      "DT train accuracy:  0.915\n"
     ]
    }
   ],
   "source": [
    "print(\"DT train accuracy: \", round(metrics.accuracy_score(y_train, pred_train), 5))"
   ]
  },
  {
   "cell_type": "code",
   "execution_count": 228,
   "id": "78b0fca5-c129-4ac3-b682-06eaa4247de9",
   "metadata": {},
   "outputs": [],
   "source": [
    "pred_probs_test = dt_best.predict_proba(X_test_pca)\n",
    "pred_test = dt_best.predict(X_test_pca)"
   ]
  },
  {
   "cell_type": "code",
   "execution_count": 229,
   "id": "18f7a09d-9dfc-47c8-ba60-a4d3e9f05a83",
   "metadata": {},
   "outputs": [
    {
     "name": "stdout",
     "output_type": "stream",
     "text": [
      "DT test accuracy:  0.90571\n"
     ]
    }
   ],
   "source": [
    "print(\"DT test accuracy: \", round(metrics.accuracy_score(y_test, pred_test), 5))"
   ]
  },
  {
   "cell_type": "markdown",
   "id": "451261d1-e233-4ac4-a42b-1d19d142a08f",
   "metadata": {},
   "source": [
    "#### Random Forest"
   ]
  },
  {
   "cell_type": "code",
   "execution_count": 230,
   "id": "45777d7b-5f2c-4c85-b443-c2100ac66ef5",
   "metadata": {},
   "outputs": [],
   "source": [
    "rf = RandomForestClassifier(random_state=100, n_jobs=-1)"
   ]
  },
  {
   "cell_type": "code",
   "execution_count": 231,
   "id": "472e1354-90f1-4d51-9178-3727b491042d",
   "metadata": {},
   "outputs": [],
   "source": [
    "params = {\n",
    "    'max_depth': [10,20,30,40],\n",
    "    'min_samples_leaf': [3,5,10,20],\n",
    "    'n_estimators': [10, 25, 50, 100]\n",
    "}\n",
    "grid_search = GridSearchCV(estimator=rf,\n",
    "                           param_grid=params,\n",
    "                           cv = 4,\n",
    "                           n_jobs=-1, verbose=1, scoring=\"accuracy\")"
   ]
  },
  {
   "cell_type": "code",
   "execution_count": 232,
   "id": "14a73465-c239-4e85-93f0-62d2761c658a",
   "metadata": {},
   "outputs": [
    {
     "name": "stdout",
     "output_type": "stream",
     "text": [
      "Fitting 4 folds for each of 64 candidates, totalling 256 fits\n",
      "CPU times: user 32.2 s, sys: 423 ms, total: 32.6 s\n",
      "Wall time: 10min 52s\n"
     ]
    },
    {
     "data": {
      "text/plain": [
       "GridSearchCV(cv=4,\n",
       "             estimator=RandomForestClassifier(n_jobs=-1, random_state=100),\n",
       "             n_jobs=-1,\n",
       "             param_grid={'max_depth': [10, 20, 30, 40],\n",
       "                         'min_samples_leaf': [3, 5, 10, 20],\n",
       "                         'n_estimators': [10, 25, 50, 100]},\n",
       "             scoring='accuracy', verbose=1)"
      ]
     },
     "execution_count": 232,
     "metadata": {},
     "output_type": "execute_result"
    }
   ],
   "source": [
    "%%time\n",
    "grid_search.fit(X_train_pca, y_train)"
   ]
  },
  {
   "cell_type": "code",
   "execution_count": 233,
   "id": "37ddc97d-987e-46ef-88bd-cbe34df4958c",
   "metadata": {},
   "outputs": [
    {
     "data": {
      "text/plain": [
       "RandomForestClassifier(max_depth=30, min_samples_leaf=3, n_estimators=25,\n",
       "                       n_jobs=-1, random_state=100)"
      ]
     },
     "execution_count": 233,
     "metadata": {},
     "output_type": "execute_result"
    }
   ],
   "source": [
    "grid_search.best_estimator_"
   ]
  },
  {
   "cell_type": "code",
   "execution_count": 234,
   "id": "69e08a5f-f563-4ad4-9b82-9760c7e1799d",
   "metadata": {},
   "outputs": [],
   "source": [
    "rf_best = grid_search.best_estimator_"
   ]
  },
  {
   "cell_type": "code",
   "execution_count": 235,
   "id": "f7b1af3c-1248-4f06-a0f6-7999d4c7f772",
   "metadata": {},
   "outputs": [],
   "source": [
    "pred_probs_train = rf_best.predict_proba(X_train_pca)\n",
    "pred_train = rf_best.predict(X_train_pca)"
   ]
  },
  {
   "cell_type": "code",
   "execution_count": 236,
   "id": "a96227f9-ac49-4587-a7a3-b67d5b3022f7",
   "metadata": {},
   "outputs": [
    {
     "name": "stdout",
     "output_type": "stream",
     "text": [
      "RF train accuracy:  0.97837\n"
     ]
    }
   ],
   "source": [
    "print(\"RF train accuracy: \", round(metrics.accuracy_score(y_train, pred_train), 5))"
   ]
  },
  {
   "cell_type": "code",
   "execution_count": 237,
   "id": "dd9f3877-33b0-47d4-a64a-07e6b5b45d02",
   "metadata": {},
   "outputs": [],
   "source": [
    "pred_probs_test = rf_best.predict_proba(X_test_pca)\n",
    "pred_test = rf_best.predict(X_test_pca)"
   ]
  },
  {
   "cell_type": "code",
   "execution_count": 238,
   "id": "3d4ee8f2-1b9a-419f-a9ab-86f8efbe8b0a",
   "metadata": {},
   "outputs": [
    {
     "name": "stdout",
     "output_type": "stream",
     "text": [
      "RF test accuracy:  0.91364\n"
     ]
    }
   ],
   "source": [
    "print(\"RF test accuracy: \", round(metrics.accuracy_score(y_test, pred_test), 5))"
   ]
  },
  {
   "cell_type": "markdown",
   "id": "a3c0aa8e-12c0-4836-8f3c-64183cf1dc78",
   "metadata": {},
   "source": [
    "**Out of all the three Random Forest is giving a better accuracy, let's use that**"
   ]
  },
  {
   "cell_type": "markdown",
   "id": "f82eaf85-6ad8-483b-a892-efde583d839e",
   "metadata": {},
   "source": [
    "### 5. Variable importance"
   ]
  },
  {
   "cell_type": "code",
   "execution_count": 239,
   "id": "580dbbe5-de38-41ba-bc4a-91da45390fdc",
   "metadata": {},
   "outputs": [],
   "source": [
    "rf_imp = RandomForestClassifier(random_state=100, n_jobs=-1)"
   ]
  },
  {
   "cell_type": "code",
   "execution_count": 240,
   "id": "129aa5d2-4303-4b14-8917-8f1e22de8956",
   "metadata": {},
   "outputs": [],
   "source": [
    "params = {\n",
    "    'max_depth': [10, 20, 30, 40],\n",
    "    'min_samples_leaf': [3, 5, 10, 20],\n",
    "    'n_estimators': [10, 25, 50, 100]\n",
    "}\n",
    "grid_search = GridSearchCV(estimator=rf_imp,\n",
    "                           param_grid=params,\n",
    "                           cv = 4,\n",
    "                           n_jobs=-1, verbose=1, scoring=\"accuracy\")"
   ]
  },
  {
   "cell_type": "code",
   "execution_count": 241,
   "id": "ccabd62f-4413-4081-b3e5-1108716132b7",
   "metadata": {},
   "outputs": [
    {
     "name": "stdout",
     "output_type": "stream",
     "text": [
      "Fitting 4 folds for each of 64 candidates, totalling 256 fits\n",
      "CPU times: user 49.3 s, sys: 690 ms, total: 50 s\n",
      "Wall time: 12min 20s\n"
     ]
    },
    {
     "data": {
      "text/plain": [
       "GridSearchCV(cv=4,\n",
       "             estimator=RandomForestClassifier(n_jobs=-1, random_state=100),\n",
       "             n_jobs=-1,\n",
       "             param_grid={'max_depth': [10, 20, 30, 40],\n",
       "                         'min_samples_leaf': [3, 5, 10, 20],\n",
       "                         'n_estimators': [10, 25, 50, 100]},\n",
       "             scoring='accuracy', verbose=1)"
      ]
     },
     "execution_count": 241,
     "metadata": {},
     "output_type": "execute_result"
    }
   ],
   "source": [
    "%%time\n",
    "grid_search.fit(X_train, y_train)"
   ]
  },
  {
   "cell_type": "code",
   "execution_count": 242,
   "id": "4d257e16-9b02-43cb-9d94-97c2bc5a9228",
   "metadata": {},
   "outputs": [],
   "source": [
    "rf_best_imp = grid_search.best_estimator_"
   ]
  },
  {
   "cell_type": "code",
   "execution_count": 243,
   "id": "b589682d-2b20-4860-ae2a-7de8d6ca549c",
   "metadata": {},
   "outputs": [
    {
     "data": {
      "text/plain": [
       "RandomForestClassifier(max_depth=10, min_samples_leaf=3, n_jobs=-1,\n",
       "                       random_state=100)"
      ]
     },
     "execution_count": 243,
     "metadata": {},
     "output_type": "execute_result"
    }
   ],
   "source": [
    "rf_best_imp"
   ]
  },
  {
   "cell_type": "code",
   "execution_count": 244,
   "id": "fe025e50-3845-4896-a5ef-1e53b4c55292",
   "metadata": {},
   "outputs": [],
   "source": [
    "imp_df = pd.DataFrame({\n",
    "    \"Varname\": X.columns,\n",
    "    \"Imp\": rf_best_imp.feature_importances_\n",
    "})"
   ]
  },
  {
   "cell_type": "code",
   "execution_count": 245,
   "id": "5b0dbc73-56cf-4b53-a070-7cd5657c556a",
   "metadata": {},
   "outputs": [
    {
     "data": {
      "text/html": [
       "<div>\n",
       "<style scoped>\n",
       "    .dataframe tbody tr th:only-of-type {\n",
       "        vertical-align: middle;\n",
       "    }\n",
       "\n",
       "    .dataframe tbody tr th {\n",
       "        vertical-align: top;\n",
       "    }\n",
       "\n",
       "    .dataframe thead th {\n",
       "        text-align: right;\n",
       "    }\n",
       "</style>\n",
       "<table border=\"1\" class=\"dataframe\">\n",
       "  <thead>\n",
       "    <tr style=\"text-align: right;\">\n",
       "      <th></th>\n",
       "      <th>Varname</th>\n",
       "      <th>Imp</th>\n",
       "    </tr>\n",
       "  </thead>\n",
       "  <tbody>\n",
       "    <tr>\n",
       "      <th>81</th>\n",
       "      <td>total_ic_mou_8</td>\n",
       "      <td>0.147824</td>\n",
       "    </tr>\n",
       "    <tr>\n",
       "      <th>53</th>\n",
       "      <td>total_og_mou_8</td>\n",
       "      <td>0.084512</td>\n",
       "    </tr>\n",
       "    <tr>\n",
       "      <th>2</th>\n",
       "      <td>arpu_8</td>\n",
       "      <td>0.054446</td>\n",
       "    </tr>\n",
       "    <tr>\n",
       "      <th>99</th>\n",
       "      <td>max_rech_amt_8</td>\n",
       "      <td>0.050410</td>\n",
       "    </tr>\n",
       "    <tr>\n",
       "      <th>96</th>\n",
       "      <td>total_rech_amt_8</td>\n",
       "      <td>0.047986</td>\n",
       "    </tr>\n",
       "    <tr>\n",
       "      <th>80</th>\n",
       "      <td>total_ic_mou_7</td>\n",
       "      <td>0.033124</td>\n",
       "    </tr>\n",
       "    <tr>\n",
       "      <th>59</th>\n",
       "      <td>loc_ic_t2m_mou_8</td>\n",
       "      <td>0.032341</td>\n",
       "    </tr>\n",
       "    <tr>\n",
       "      <th>65</th>\n",
       "      <td>loc_ic_mou_8</td>\n",
       "      <td>0.031425</td>\n",
       "    </tr>\n",
       "    <tr>\n",
       "      <th>52</th>\n",
       "      <td>total_og_mou_7</td>\n",
       "      <td>0.025870</td>\n",
       "    </tr>\n",
       "    <tr>\n",
       "      <th>62</th>\n",
       "      <td>loc_ic_t2f_mou_8</td>\n",
       "      <td>0.025352</td>\n",
       "    </tr>\n",
       "  </tbody>\n",
       "</table>\n",
       "</div>"
      ],
      "text/plain": [
       "             Varname       Imp\n",
       "81    total_ic_mou_8  0.147824\n",
       "53    total_og_mou_8  0.084512\n",
       "2             arpu_8  0.054446\n",
       "99    max_rech_amt_8  0.050410\n",
       "96  total_rech_amt_8  0.047986\n",
       "80    total_ic_mou_7  0.033124\n",
       "59  loc_ic_t2m_mou_8  0.032341\n",
       "65      loc_ic_mou_8  0.031425\n",
       "52    total_og_mou_7  0.025870\n",
       "62  loc_ic_t2f_mou_8  0.025352"
      ]
     },
     "execution_count": 245,
     "metadata": {},
     "output_type": "execute_result"
    }
   ],
   "source": [
    "imp_df.sort_values(by=\"Imp\", ascending=False).head(10)"
   ]
  },
  {
   "cell_type": "markdown",
   "id": "784ea371-3ca6-4213-aef6-7a8c35eb253a",
   "metadata": {},
   "source": [
    "## Conclusion"
   ]
  },
  {
   "cell_type": "markdown",
   "id": "829c307d-a335-4e44-b290-552748e0b25c",
   "metadata": {},
   "source": [
    "**Performing EDA gave us following insights**\n",
    "- If customer is recharging less month on month he/she is likely to churn\n",
    "- If customer's revenue is decreasing month on month he/she is likely to churn\n",
    "- Customer consuming less internet data is likely to churn\n",
    "- If is a customer has not done recharge lately, he/she might end up churning\n",
    "- Customer who is using the network for long enough is not likely to churn\n",
    "- If total voice call usage is declining month over month customer will likely churn"
   ]
  },
  {
   "cell_type": "markdown",
   "id": "ea0d8097-e602-4f3e-99f4-46630bb49d11",
   "metadata": {},
   "source": [
    "**RandomForestClassifier** gives the best accuracy of **0.91364** with following hyperparameters\n",
    "- max_depth=30\n",
    "- min_samples_leaf=3\n",
    "- n_estimators=25"
   ]
  },
  {
   "cell_type": "markdown",
   "id": "a7189ba3-b3cb-41e6-a9a6-cf5093fb6ce7",
   "metadata": {},
   "source": [
    "Few **Important features** are as follows\n",
    "- Total incoming voice calls in the month of august\n",
    "- Total outgoing voice calls in the month of august\n",
    "- Average revenue per user in the month of august\n",
    "- Total amount of recharge done in the month of august\n",
    "- Maximum amount of recharge done in the month of august"
   ]
  },
  {
   "cell_type": "markdown",
   "id": "e983bb7f-ac3b-47a1-a310-fde450736cb4",
   "metadata": {},
   "source": [
    "## Testing with Kaggle test data"
   ]
  },
  {
   "cell_type": "code",
   "execution_count": 246,
   "id": "43a46cbe-1c35-41d0-ad21-837625530ee2",
   "metadata": {},
   "outputs": [],
   "source": [
    "df_test = pd.read_csv(\"test (1).csv\")"
   ]
  },
  {
   "cell_type": "markdown",
   "id": "a799f921-1df4-4f5d-b64d-73622c66f29d",
   "metadata": {},
   "source": [
    "#### Applying transformations"
   ]
  },
  {
   "cell_type": "code",
   "execution_count": 247,
   "id": "6f7574ac-65be-4b52-a0c9-d027de225f72",
   "metadata": {},
   "outputs": [],
   "source": [
    "df_test['date_of_last_rech_6'] = pd.to_datetime(df_test['date_of_last_rech_6'], infer_datetime_format=True).dt.day"
   ]
  },
  {
   "cell_type": "code",
   "execution_count": 248,
   "id": "366aa617-e443-4d1b-860e-37984fbb9ec9",
   "metadata": {},
   "outputs": [],
   "source": [
    "df_test['date_of_last_rech_7'] = pd.to_datetime(df_test['date_of_last_rech_7'], infer_datetime_format=True).dt.day"
   ]
  },
  {
   "cell_type": "code",
   "execution_count": 249,
   "id": "571e4a10-dec5-4544-b5b7-d1a9ae1d45c8",
   "metadata": {},
   "outputs": [],
   "source": [
    "df_test['date_of_last_rech_8'] = pd.to_datetime(df_test['date_of_last_rech_8'], infer_datetime_format=True).dt.day"
   ]
  },
  {
   "cell_type": "code",
   "execution_count": 250,
   "id": "50021cfa-c515-4c0f-807c-99af5d8a113c",
   "metadata": {},
   "outputs": [],
   "source": [
    "df_test[\"total_rech_amt\"] = df_test[\"total_rech_amt_6\"] + df_test[\"total_rech_amt_7\"] + df_test[\"total_rech_amt_8\"]"
   ]
  },
  {
   "cell_type": "code",
   "execution_count": 251,
   "id": "cba1c729-1358-4449-907d-b68922d29e77",
   "metadata": {},
   "outputs": [],
   "source": [
    "df_test[\"total_vol_2g_3g\"] = df_test[\"vol_2g_mb_6\"] + df_test[\"vol_2g_mb_7\"] + df_test[\"vol_2g_mb_8\"] + df_test[\"vol_3g_mb_6\"] + df_test[\"vol_3g_mb_7\"] + df_test[\"vol_3g_mb_8\"]"
   ]
  },
  {
   "cell_type": "code",
   "execution_count": 252,
   "id": "63a31666-8381-4494-92a2-6519178a8a69",
   "metadata": {},
   "outputs": [],
   "source": [
    "df_test[\"arpu\"] = (df_test[\"arpu_6\"] + df_test[\"arpu_7\"] + df_test[\"arpu_8\"] ) / 3"
   ]
  },
  {
   "cell_type": "code",
   "execution_count": 253,
   "id": "97eb956a-14a5-45e1-8902-2296d170250c",
   "metadata": {},
   "outputs": [],
   "source": [
    "df_test[\"total_mou\"] = df_test[\"onnet_mou_6\"] + df_test[\"onnet_mou_7\"] + df_test[\"onnet_mou_8\"] + df_test[\"offnet_mou_6\"] + df_test[\"offnet_mou_7\"] + df_test[\"offnet_mou_8\"]"
   ]
  },
  {
   "cell_type": "markdown",
   "id": "2acaa448-ca7a-4b2a-8bb5-e820189fdac1",
   "metadata": {},
   "source": [
    "#### Dropping columns and treating null values"
   ]
  },
  {
   "cell_type": "code",
   "execution_count": 254,
   "id": "a431bd79-7913-40b5-a36a-408d37a2d26b",
   "metadata": {},
   "outputs": [],
   "source": [
    "df_test = df_test[X.columns]"
   ]
  },
  {
   "cell_type": "code",
   "execution_count": 255,
   "id": "57a966d7-6191-4ee9-b372-bd9107582768",
   "metadata": {},
   "outputs": [],
   "source": [
    "df_test.fillna(df_test.median(), inplace=True)"
   ]
  },
  {
   "cell_type": "markdown",
   "id": "dd2970f9-8d40-4cc8-9f52-1be5085241bd",
   "metadata": {},
   "source": [
    "#### Preparing data"
   ]
  },
  {
   "cell_type": "code",
   "execution_count": 256,
   "id": "470011ba-df22-4d98-a20a-8c477894491b",
   "metadata": {},
   "outputs": [],
   "source": [
    "X_test = scaler.transform(df_test)"
   ]
  },
  {
   "cell_type": "code",
   "execution_count": 257,
   "id": "719fe6d3-9585-4855-a733-2de35ba0813a",
   "metadata": {},
   "outputs": [],
   "source": [
    "X_test_pca = pca.transform(X_test)"
   ]
  },
  {
   "cell_type": "markdown",
   "id": "d0240c2e-8ef4-44a8-b40e-f3dc6866dc50",
   "metadata": {},
   "source": [
    "#### Predicting"
   ]
  },
  {
   "cell_type": "code",
   "execution_count": 258,
   "id": "55af1bb7-0deb-42ff-9ad1-80c74b9864ae",
   "metadata": {
    "tags": []
   },
   "outputs": [],
   "source": [
    "pred_probs_test = rf_best.predict_proba(X_test_pca)\n",
    "pred_test = rf_best.predict(X_test_pca)"
   ]
  },
  {
   "cell_type": "markdown",
   "id": "510399e6-2305-4556-bf64-d2b8c30ab6ee",
   "metadata": {},
   "source": [
    "#### Preparing output file"
   ]
  },
  {
   "cell_type": "code",
   "execution_count": 259,
   "id": "c3280caa-fec3-45cc-96c8-b5ba3833d688",
   "metadata": {
    "tags": []
   },
   "outputs": [],
   "source": [
    "df_final = pd.read_csv(\"solution (1).csv\")"
   ]
  },
  {
   "cell_type": "code",
   "execution_count": 260,
   "id": "9086de9c-aecd-45e0-9114-15f4d8791392",
   "metadata": {},
   "outputs": [],
   "source": [
    "df_final.drop(\"churn_probability\", axis=1, inplace=True)"
   ]
  },
  {
   "cell_type": "code",
   "execution_count": 261,
   "id": "1d200b40-9aa3-47fc-ac6d-7f6b511b38d4",
   "metadata": {},
   "outputs": [],
   "source": [
    "df_final[\"churn_probability\"] = pred_test"
   ]
  },
  {
   "cell_type": "code",
   "execution_count": 262,
   "id": "b27a90b8-43c1-4742-b50d-92e495bbe9f6",
   "metadata": {},
   "outputs": [
    {
     "name": "stdout",
     "output_type": "stream",
     "text": [
      "<class 'pandas.core.frame.DataFrame'>\n",
      "RangeIndex: 30000 entries, 0 to 29999\n",
      "Data columns (total 2 columns):\n",
      " #   Column             Non-Null Count  Dtype\n",
      "---  ------             --------------  -----\n",
      " 0   id                 30000 non-null  int64\n",
      " 1   churn_probability  30000 non-null  int64\n",
      "dtypes: int64(2)\n",
      "memory usage: 468.9 KB\n"
     ]
    }
   ],
   "source": [
    "df_final.info()"
   ]
  },
  {
   "cell_type": "code",
   "execution_count": 263,
   "id": "2776b2a6-ecc8-4f4c-8757-29ed105c417c",
   "metadata": {},
   "outputs": [],
   "source": [
    "df_final.to_csv(\"solution.csv\", index=False)"
   ]
  },
  {
   "cell_type": "code",
   "execution_count": null,
   "id": "55bb4772-48bd-4237-8576-acffb0c1fd81",
   "metadata": {},
   "outputs": [],
   "source": []
  }
 ],
 "metadata": {
  "kernelspec": {
   "display_name": "Python 3 (ipykernel)",
   "language": "python",
   "name": "python3"
  },
  "language_info": {
   "codemirror_mode": {
    "name": "ipython",
    "version": 3
   },
   "file_extension": ".py",
   "mimetype": "text/x-python",
   "name": "python",
   "nbconvert_exporter": "python",
   "pygments_lexer": "ipython3",
   "version": "3.9.7"
  }
 },
 "nbformat": 4,
 "nbformat_minor": 5
}
